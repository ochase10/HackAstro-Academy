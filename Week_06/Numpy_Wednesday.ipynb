{
 "cells": [
  {
   "cell_type": "markdown",
   "metadata": {},
   "source": [
    "# Using Python Packages"
   ]
  },
  {
   "cell_type": "markdown",
   "metadata": {},
   "source": [
    "Now that we covered how to make functions can you imagine how tedious it would be for us to come up with functions for every little thing we want to do? Like making a function to add any two numbers, How to read in a file from your computer. It is a lot of work and can be quite daunting to undertake especially when you are just starting out. But fear not there is hope in the form of something called Python Packages. \n",
    "\n",
    "Python packages are essentially a collection of functions that you import from a certain library. So what does this mean? Well, for example, there is this python library called Numpy that deals with some math stuff and in this library there are tons of useful functions to do any math operation you want, it also incudes a features called arrays which we will cover later in the notebook which will make list operations soooo much smoother. \n",
    "\n",
    "The cool thing is that someone already coded up these functions and all you need to do is call the library into python and BAM you have all the functions from that library available for you to use. "
   ]
  },
  {
   "cell_type": "markdown",
   "metadata": {},
   "source": [
    "# Some Noteworthy Packages:\n",
    "\n",
    "1. Numpy: Mathematical analysis done easy\n",
    "2. Scipy: statistical functions as well as wave analysis\n",
    "3. matplotlib: Python's Plotting Package\n",
    "4. pandas: Data analysis and dataframe\n",
    "5. astropy: For dealing with astronomy related data"
   ]
  },
  {
   "cell_type": "markdown",
   "metadata": {},
   "source": [
    "## Import vs From Statements"
   ]
  },
  {
   "cell_type": "code",
   "execution_count": 1,
   "metadata": {},
   "outputs": [],
   "source": [
    "#example with Numpy\n",
    "import numpy as np"
   ]
  },
  {
   "cell_type": "code",
   "execution_count": 3,
   "metadata": {},
   "outputs": [
    {
     "data": {
      "text/plain": [
       "\u001b[0;31mCall signature:\u001b[0m  \u001b[0mnp\u001b[0m\u001b[0;34m.\u001b[0m\u001b[0mconcatenate\u001b[0m\u001b[0;34m(\u001b[0m\u001b[0;34m*\u001b[0m\u001b[0margs\u001b[0m\u001b[0;34m,\u001b[0m \u001b[0;34m**\u001b[0m\u001b[0mkwargs\u001b[0m\u001b[0;34m)\u001b[0m\u001b[0;34m\u001b[0m\u001b[0;34m\u001b[0m\u001b[0m\n",
       "\u001b[0;31mType:\u001b[0m            _ArrayFunctionDispatcher\n",
       "\u001b[0;31mString form:\u001b[0m     <built-in function concatenate>\n",
       "\u001b[0;31mDocstring:\u001b[0m      \n",
       "concatenate((a1, a2, ...), axis=0, out=None, dtype=None, casting=\"same_kind\")\n",
       "\n",
       "Join a sequence of arrays along an existing axis.\n",
       "\n",
       "Parameters\n",
       "----------\n",
       "a1, a2, ... : sequence of array_like\n",
       "    The arrays must have the same shape, except in the dimension\n",
       "    corresponding to `axis` (the first, by default).\n",
       "axis : int, optional\n",
       "    The axis along which the arrays will be joined.  If axis is None,\n",
       "    arrays are flattened before use.  Default is 0.\n",
       "out : ndarray, optional\n",
       "    If provided, the destination to place the result. The shape must be\n",
       "    correct, matching that of what concatenate would have returned if no\n",
       "    out argument were specified.\n",
       "dtype : str or dtype\n",
       "    If provided, the destination array will have this dtype. Cannot be\n",
       "    provided together with `out`.\n",
       "\n",
       "    .. versionadded:: 1.20.0\n",
       "\n",
       "casting : {'no', 'equiv', 'safe', 'same_kind', 'unsafe'}, optional\n",
       "    Controls what kind of data casting may occur. Defaults to 'same_kind'.\n",
       "\n",
       "    .. versionadded:: 1.20.0\n",
       "\n",
       "Returns\n",
       "-------\n",
       "res : ndarray\n",
       "    The concatenated array.\n",
       "\n",
       "See Also\n",
       "--------\n",
       "ma.concatenate : Concatenate function that preserves input masks.\n",
       "array_split : Split an array into multiple sub-arrays of equal or\n",
       "              near-equal size.\n",
       "split : Split array into a list of multiple sub-arrays of equal size.\n",
       "hsplit : Split array into multiple sub-arrays horizontally (column wise).\n",
       "vsplit : Split array into multiple sub-arrays vertically (row wise).\n",
       "dsplit : Split array into multiple sub-arrays along the 3rd axis (depth).\n",
       "stack : Stack a sequence of arrays along a new axis.\n",
       "block : Assemble arrays from blocks.\n",
       "hstack : Stack arrays in sequence horizontally (column wise).\n",
       "vstack : Stack arrays in sequence vertically (row wise).\n",
       "dstack : Stack arrays in sequence depth wise (along third dimension).\n",
       "column_stack : Stack 1-D arrays as columns into a 2-D array.\n",
       "\n",
       "Notes\n",
       "-----\n",
       "When one or more of the arrays to be concatenated is a MaskedArray,\n",
       "this function will return a MaskedArray object instead of an ndarray,\n",
       "but the input masks are *not* preserved. In cases where a MaskedArray\n",
       "is expected as input, use the ma.concatenate function from the masked\n",
       "array module instead.\n",
       "\n",
       "Examples\n",
       "--------\n",
       ">>> a = np.array([[1, 2], [3, 4]])\n",
       ">>> b = np.array([[5, 6]])\n",
       ">>> np.concatenate((a, b), axis=0)\n",
       "array([[1, 2],\n",
       "       [3, 4],\n",
       "       [5, 6]])\n",
       ">>> np.concatenate((a, b.T), axis=1)\n",
       "array([[1, 2, 5],\n",
       "       [3, 4, 6]])\n",
       ">>> np.concatenate((a, b), axis=None)\n",
       "array([1, 2, 3, 4, 5, 6])\n",
       "\n",
       "This function will not preserve masking of MaskedArray inputs.\n",
       "\n",
       ">>> a = np.ma.arange(3)\n",
       ">>> a[1] = np.ma.masked\n",
       ">>> b = np.arange(2, 5)\n",
       ">>> a\n",
       "masked_array(data=[0, --, 2],\n",
       "             mask=[False,  True, False],\n",
       "       fill_value=999999)\n",
       ">>> b\n",
       "array([2, 3, 4])\n",
       ">>> np.concatenate([a, b])\n",
       "masked_array(data=[0, 1, 2, 2, 3, 4],\n",
       "             mask=False,\n",
       "       fill_value=999999)\n",
       ">>> np.ma.concatenate([a, b])\n",
       "masked_array(data=[0, --, 2, 2, 3, 4],\n",
       "             mask=[False,  True, False, False, False, False],\n",
       "       fill_value=999999)\n",
       "\u001b[0;31mClass docstring:\u001b[0m\n",
       "Class to wrap functions with checks for __array_function__ overrides.\n",
       "\n",
       "All arguments are required, and can only be passed by position.\n",
       "\n",
       "Parameters\n",
       "----------\n",
       "dispatcher : function or None\n",
       "    The dispatcher function that returns a single sequence-like object\n",
       "    of all arguments relevant.  It must have the same signature (except\n",
       "    the default values) as the actual implementation.\n",
       "    If ``None``, this is a ``like=`` dispatcher and the\n",
       "    ``_ArrayFunctionDispatcher`` must be called with ``like`` as the\n",
       "    first (additional and positional) argument.\n",
       "implementation : function\n",
       "    Function that implements the operation on NumPy arrays without\n",
       "    overrides.  Arguments passed calling the ``_ArrayFunctionDispatcher``\n",
       "    will be forwarded to this (and the ``dispatcher``) as if using\n",
       "    ``*args, **kwargs``.\n",
       "\n",
       "Attributes\n",
       "----------\n",
       "_implementation : function\n",
       "    The original implementation passed in."
      ]
     },
     "metadata": {},
     "output_type": "display_data"
    }
   ],
   "source": [
    "#whenever we want to reference numpy we do not need to write out numpy but np\n",
    "\n",
    "#Example of using numpy to take the absolute value of a number\n",
    "np.concatenate"
   ]
  },
  {
   "cell_type": "markdown",
   "metadata": {},
   "source": [
    "This call selects a certain function within the library to import into your python program\n",
    "\n",
    "from 'Library' import 'Function' as 'Shorter name for function' #the as statement is optional"
   ]
  },
  {
   "cell_type": "code",
   "execution_count": 4,
   "metadata": {},
   "outputs": [],
   "source": [
    "#here we are only importing from numpy the greater_equal function and giving it the shorter name g_eq\n",
    "from numpy import greater_equal as g_eq"
   ]
  },
  {
   "cell_type": "code",
   "execution_count": 5,
   "metadata": {},
   "outputs": [
    {
     "data": {
      "text/plain": [
       "\u001b[0;31mCall signature:\u001b[0m  \u001b[0mg_eq\u001b[0m\u001b[0;34m(\u001b[0m\u001b[0;34m*\u001b[0m\u001b[0margs\u001b[0m\u001b[0;34m,\u001b[0m \u001b[0;34m**\u001b[0m\u001b[0mkwargs\u001b[0m\u001b[0;34m)\u001b[0m\u001b[0;34m\u001b[0m\u001b[0;34m\u001b[0m\u001b[0m\n",
       "\u001b[0;31mType:\u001b[0m            ufunc\n",
       "\u001b[0;31mString form:\u001b[0m     <ufunc 'greater_equal'>\n",
       "\u001b[0;31mFile:\u001b[0m            ~/anaconda3/envs/research/lib/python3.12/site-packages/numpy/__init__.py\n",
       "\u001b[0;31mDocstring:\u001b[0m      \n",
       "greater_equal(x1, x2, /, out=None, *, where=True, casting='same_kind', order='K', dtype=None, subok=True[, signature, extobj])\n",
       "\n",
       "Return the truth value of (x1 >= x2) element-wise.\n",
       "\n",
       "Parameters\n",
       "----------\n",
       "x1, x2 : array_like\n",
       "    Input arrays.\n",
       "    If ``x1.shape != x2.shape``, they must be broadcastable to a common\n",
       "    shape (which becomes the shape of the output).\n",
       "out : ndarray, None, or tuple of ndarray and None, optional\n",
       "    A location into which the result is stored. If provided, it must have\n",
       "    a shape that the inputs broadcast to. If not provided or None,\n",
       "    a freshly-allocated array is returned. A tuple (possible only as a\n",
       "    keyword argument) must have length equal to the number of outputs.\n",
       "where : array_like, optional\n",
       "    This condition is broadcast over the input. At locations where the\n",
       "    condition is True, the `out` array will be set to the ufunc result.\n",
       "    Elsewhere, the `out` array will retain its original value.\n",
       "    Note that if an uninitialized `out` array is created via the default\n",
       "    ``out=None``, locations within it where the condition is False will\n",
       "    remain uninitialized.\n",
       "**kwargs\n",
       "    For other keyword-only arguments, see the\n",
       "    :ref:`ufunc docs <ufuncs.kwargs>`.\n",
       "\n",
       "Returns\n",
       "-------\n",
       "out : bool or ndarray of bool\n",
       "    Output array, element-wise comparison of `x1` and `x2`.\n",
       "    Typically of type bool, unless ``dtype=object`` is passed.\n",
       "    This is a scalar if both `x1` and `x2` are scalars.\n",
       "\n",
       "See Also\n",
       "--------\n",
       "greater, less, less_equal, equal, not_equal\n",
       "\n",
       "Examples\n",
       "--------\n",
       ">>> np.greater_equal([4, 2, 1], [2, 2, 2])\n",
       "array([ True, True, False])\n",
       "\n",
       "The ``>=`` operator can be used as a shorthand for ``np.greater_equal``\n",
       "on ndarrays.\n",
       "\n",
       ">>> a = np.array([4, 2, 1])\n",
       ">>> b = np.array([2, 2, 2])\n",
       ">>> a >= b\n",
       "array([ True,  True, False])\n",
       "\u001b[0;31mClass docstring:\u001b[0m\n",
       "Functions that operate element by element on whole arrays.\n",
       "\n",
       "To see the documentation for a specific ufunc, use `info`.  For\n",
       "example, ``np.info(np.sin)``.  Because ufuncs are written in C\n",
       "(for speed) and linked into Python with NumPy's ufunc facility,\n",
       "Python's help() function finds this page whenever help() is called\n",
       "on a ufunc.\n",
       "\n",
       "A detailed explanation of ufuncs can be found in the docs for :ref:`ufuncs`.\n",
       "\n",
       "**Calling ufuncs:** ``op(*x[, out], where=True, **kwargs)``\n",
       "\n",
       "Apply `op` to the arguments `*x` elementwise, broadcasting the arguments.\n",
       "\n",
       "The broadcasting rules are:\n",
       "\n",
       "* Dimensions of length 1 may be prepended to either array.\n",
       "* Arrays may be repeated along dimensions of length 1.\n",
       "\n",
       "Parameters\n",
       "----------\n",
       "*x : array_like\n",
       "    Input arrays.\n",
       "out : ndarray, None, or tuple of ndarray and None, optional\n",
       "    Alternate array object(s) in which to put the result; if provided, it\n",
       "    must have a shape that the inputs broadcast to. A tuple of arrays\n",
       "    (possible only as a keyword argument) must have length equal to the\n",
       "    number of outputs; use None for uninitialized outputs to be\n",
       "    allocated by the ufunc.\n",
       "where : array_like, optional\n",
       "    This condition is broadcast over the input. At locations where the\n",
       "    condition is True, the `out` array will be set to the ufunc result.\n",
       "    Elsewhere, the `out` array will retain its original value.\n",
       "    Note that if an uninitialized `out` array is created via the default\n",
       "    ``out=None``, locations within it where the condition is False will\n",
       "    remain uninitialized.\n",
       "**kwargs\n",
       "    For other keyword-only arguments, see the :ref:`ufunc docs <ufuncs.kwargs>`.\n",
       "\n",
       "Returns\n",
       "-------\n",
       "r : ndarray or tuple of ndarray\n",
       "    `r` will have the shape that the arrays in `x` broadcast to; if `out` is\n",
       "    provided, it will be returned. If not, `r` will be allocated and\n",
       "    may contain uninitialized values. If the function has more than one\n",
       "    output, then the result will be a tuple of arrays."
      ]
     },
     "metadata": {},
     "output_type": "display_data"
    }
   ],
   "source": [
    "g_eq?"
   ]
  },
  {
   "cell_type": "markdown",
   "metadata": {},
   "source": [
    "## How to know what functions are available in the Python package!!\n",
    "\n",
    "### Method 1: Googling\n",
    "\n",
    "Sometimes you are working on a problem in your code or are wondering if someone has figured out the solution and you type it into google and most likely someone had the same problem and has a solution and through this you can learn about functions within a package."
   ]
  },
  {
   "cell_type": "markdown",
   "metadata": {},
   "source": [
    "### Method 2: Package Documentation\n",
    "\n",
    "This is a little daunting as the websites have a lot of functions to choose from but once you have googled a few function you get more familiar with it and the documentation is actually quite helpful. \n",
    "\n",
    "To know what functions we can use once we import the python package we need to go to their website and see the documentation for all the functions the package has to offer. \n",
    "\n",
    "For Numpy we would go to https://numpy.org/doc/1.26/user/index.html\n",
    "\n",
    "For Scipy we would go to https://docs.scipy.org/doc/scipy/reference/ "
   ]
  },
  {
   "cell_type": "markdown",
   "metadata": {},
   "source": [
    "If we look at the scipy website we can see that they have different classes within scipy such as scipy.optimize, scipy.stats, and scipy.interpolate for example. All of these are classes that focus on that specific aspect. So if we were to look at stuff in scipy.stats it would give us everything we need to do stats with, such as function to get mean, medians, summary table, statistical distributions and more. "
   ]
  },
  {
   "cell_type": "markdown",
   "metadata": {},
   "source": [
    "# 1. Numpy\n",
    "\n",
    "Numpy is by far the most important package we will use in astronomy. It is the package that allows us to perform mathematical operations on a large amount of data. The bulk of which is facilitated by a feature in numpy called Arrays. Arrays are akin to vectors in that you can you multiply them by a scalar and all the elements of an array will be multiplied by that scalar and similarly for all the other mathematical operations. You can even perform mathematical operation between two array given that both array are the same shape and size. We will cover these in detail in the next few cells."
   ]
  },
  {
   "cell_type": "code",
   "execution_count": 6,
   "metadata": {},
   "outputs": [],
   "source": [
    "#importing numpy\n",
    "import numpy as np"
   ]
  },
  {
   "cell_type": "code",
   "execution_count": 7,
   "metadata": {},
   "outputs": [],
   "source": [
    "#Array definition\n",
    "array = np.array([])\n",
    "\n",
    "#this makes an empty array"
   ]
  },
  {
   "cell_type": "code",
   "execution_count": 8,
   "metadata": {},
   "outputs": [
    {
     "data": {
      "text/plain": [
       "array([], dtype=float64)"
      ]
     },
     "execution_count": 8,
     "metadata": {},
     "output_type": "execute_result"
    }
   ],
   "source": [
    "array"
   ]
  },
  {
   "cell_type": "code",
   "execution_count": 9,
   "metadata": {},
   "outputs": [
    {
     "data": {
      "text/plain": [
       "numpy.ndarray"
      ]
     },
     "execution_count": 9,
     "metadata": {},
     "output_type": "execute_result"
    }
   ],
   "source": [
    "type(array)"
   ]
  },
  {
   "cell_type": "code",
   "execution_count": 10,
   "metadata": {},
   "outputs": [],
   "source": [
    "non_empty_arr = np.array([12, 34, 232, 54, 3, 4, 123, 34, 35345])"
   ]
  },
  {
   "cell_type": "code",
   "execution_count": 11,
   "metadata": {},
   "outputs": [
    {
     "data": {
      "text/plain": [
       "array([   12,    34,   232,    54,     3,     4,   123,    34, 35345])"
      ]
     },
     "execution_count": 11,
     "metadata": {},
     "output_type": "execute_result"
    }
   ],
   "source": [
    "non_empty_arr"
   ]
  },
  {
   "cell_type": "code",
   "execution_count": 12,
   "metadata": {},
   "outputs": [],
   "source": [
    "mix_match_arr = np.array(['What Up', 34, 232, False, 3, 4, True, 34, 35345])"
   ]
  },
  {
   "cell_type": "code",
   "execution_count": 13,
   "metadata": {},
   "outputs": [
    {
     "data": {
      "text/plain": [
       "array(['What Up', '34', '232', 'False', '3', '4', 'True', '34', '35345'],\n",
       "      dtype='<U21')"
      ]
     },
     "execution_count": 13,
     "metadata": {},
     "output_type": "execute_result"
    }
   ],
   "source": [
    "mix_match_arr"
   ]
  },
  {
   "cell_type": "code",
   "execution_count": 14,
   "metadata": {},
   "outputs": [
    {
     "data": {
      "text/plain": [
       "3.141592653589793"
      ]
     },
     "execution_count": 14,
     "metadata": {},
     "output_type": "execute_result"
    }
   ],
   "source": [
    "np.pi"
   ]
  },
  {
   "cell_type": "markdown",
   "metadata": {},
   "source": [
    "## Differences between Arrays and Containers\n",
    "\n",
    "Unlike lists where you can have different datatypes within the same list, with arrays they all have to be the same datatype. What will happen is if you insert a string anywhere in the array then numpy will automatically make the entire array strings. If you happen to put Boolean values into an array with numbers then those boolean values will get converted to a number using the convention True = 1 and False = 0. "
   ]
  },
  {
   "cell_type": "markdown",
   "metadata": {},
   "source": [
    "# Math with arrays vs other containers\n",
    "\n",
    "## Problem: Give me a list with every entry in the list multiplied by 2\n"
   ]
  },
  {
   "cell_type": "code",
   "execution_count": 15,
   "metadata": {},
   "outputs": [
    {
     "name": "stdout",
     "output_type": "stream",
     "text": [
      "[2, 8, 12, 20, 80, 200]\n"
     ]
    }
   ],
   "source": [
    "#Solution using Lists\n",
    "\n",
    "#when working with lists we would need to go through each and every element and multiply it by 2\n",
    "number_list = [1, 4, 6, 10, 40, 100]\n",
    "\n",
    "#for loop that goes through the index values of the number_list list\n",
    "for i in range(len(number_list)):\n",
    "    \n",
    "    #We replace the current value at index i with the value multiplied by 2\n",
    "    number_list[i] = number_list[i] * 2\n",
    "\n",
    "print(number_list)"
   ]
  },
  {
   "cell_type": "code",
   "execution_count": 17,
   "metadata": {},
   "outputs": [
    {
     "name": "stdout",
     "output_type": "stream",
     "text": [
      "[  5  11  15  23  83 203]\n"
     ]
    }
   ],
   "source": [
    "#With arrays it is as simple as multiplying the array by 2\n",
    "number_list = [1, 4, 6, 10, 40, 100]\n",
    "\n",
    "#To do this we simply convert the list to an array using np.array()\n",
    "num_arr = np.array(number_list)\n",
    "\n",
    "#then multiply the array by 2\n",
    "print(2*num_arr)\n",
    "\n",
    "#Wow!!! Super easy and no need for for-loops :D!!!"
   ]
  },
  {
   "cell_type": "markdown",
   "metadata": {},
   "source": [
    "This same ease can be acquired through all the other mathematical functions such as division, adding, subtracting, raising to a power"
   ]
  },
  {
   "cell_type": "code",
   "execution_count": 18,
   "metadata": {},
   "outputs": [
    {
     "data": {
      "text/plain": [
       "array([ 0.5,  2. ,  3. ,  5. , 20. , 50. ])"
      ]
     },
     "execution_count": 18,
     "metadata": {},
     "output_type": "execute_result"
    }
   ],
   "source": [
    "#division\n",
    "\n",
    "#with one line we can divide the ENTIRE array by 2\n",
    "num_arr/2"
   ]
  },
  {
   "cell_type": "code",
   "execution_count": 19,
   "metadata": {},
   "outputs": [
    {
     "data": {
      "text/plain": [
       "array([  3,   6,   8,  12,  42, 102])"
      ]
     },
     "execution_count": 19,
     "metadata": {},
     "output_type": "execute_result"
    }
   ],
   "source": [
    "#adding\n",
    "\n",
    "#with one line we can add the ENTIRE array by 2\n",
    "num_arr + 2"
   ]
  },
  {
   "cell_type": "code",
   "execution_count": 20,
   "metadata": {},
   "outputs": [
    {
     "data": {
      "text/plain": [
       "array([-1,  2,  4,  8, 38, 98])"
      ]
     },
     "execution_count": 20,
     "metadata": {},
     "output_type": "execute_result"
    }
   ],
   "source": [
    "#subtracting\n",
    "\n",
    "#with one line we can subtract the ENTIRE array by 2\n",
    "num_arr - 2"
   ]
  },
  {
   "cell_type": "code",
   "execution_count": 21,
   "metadata": {},
   "outputs": [
    {
     "data": {
      "text/plain": [
       "array([    1,    16,    36,   100,  1600, 10000])"
      ]
     },
     "execution_count": 21,
     "metadata": {},
     "output_type": "execute_result"
    }
   ],
   "source": [
    "\n",
    "#with one line we can square the ENTIRE array\n",
    "num_arr**2"
   ]
  },
  {
   "cell_type": "markdown",
   "metadata": {},
   "source": [
    "## Exercise\n",
    "\n",
    "Make your own numpy array and do the following: \n",
    "\n",
    "- a) multiply the array by 3\n",
    "- b) divide the array by 100\n",
    "- c) compute the line equation 3*x + 5 where x is your array"
   ]
  },
  {
   "cell_type": "code",
   "execution_count": 22,
   "metadata": {},
   "outputs": [
    {
     "name": "stdout",
     "output_type": "stream",
     "text": [
      "[    69    162    201    270   -306    702   -606   1068 -31182    972]\n",
      "[   0.23    0.54    0.67    0.9    -1.02    2.34   -2.02    3.56 -103.94\n",
      "    3.24]\n",
      "[    74    167    206    275   -301    707   -601   1073 -31177    977]\n"
     ]
    }
   ],
   "source": [
    "########## Code Here ###########\n",
    "\n",
    "#making an array\n",
    "arr = np.array([23, 54, 67, 90, -102, 234, -202, 356, -10394, 324])\n",
    "\n",
    "#a)\n",
    "print(arr*3)\n",
    "\n",
    "#b)\n",
    "print(arr/100)\n",
    "\n",
    "#c)\n",
    "print(3*arr+5)"
   ]
  },
  {
   "cell_type": "markdown",
   "metadata": {},
   "source": [
    "# Array math between multiple arrays\n",
    "\n",
    "The way that array math works between 2 or more arrays is by doing element wise arithmetic. The entries at the same location undergo the operation being performed. So if you have 2 arrays with 3 numbers in them say arr1 = np.array([1, 5, 10]) and arr2 = np.array([10, 20, 30]) when you do an operation say addition. This operation is applied to the same indexes so 1 will get added to 10, 5 will get added to 20 and 10 will get added to 30 making the resulting array be np.array([11, 25, 40]). This same methodology is applied if you add another array into the mix where similar indexes have the operation applied to them. See the example below of this in action.\n",
    "\n",
    "\n",
    "NOTE: The array $\\textbf{must}$ be the same shape and size for this to work. If you have an array that is shorter or longer then you will get an error."
   ]
  },
  {
   "cell_type": "code",
   "execution_count": 23,
   "metadata": {},
   "outputs": [],
   "source": [
    "arr1 = np.arange(1, 11, 1)\n",
    "arr2 = np.arange(21, 31, 1)\n",
    "arr3 = np.arange(101, 111, 1)"
   ]
  },
  {
   "cell_type": "code",
   "execution_count": 24,
   "metadata": {},
   "outputs": [
    {
     "name": "stdout",
     "output_type": "stream",
     "text": [
      "[ 1  2  3  4  5  6  7  8  9 10]\n",
      "[21 22 23 24 25 26 27 28 29 30]\n",
      "[101 102 103 104 105 106 107 108 109 110]\n"
     ]
    }
   ],
   "source": [
    "print(arr1)\n",
    "print(arr2)\n",
    "print(arr3)"
   ]
  },
  {
   "cell_type": "code",
   "execution_count": 25,
   "metadata": {},
   "outputs": [
    {
     "data": {
      "text/plain": [
       "array([22, 24, 26, 28, 30, 32, 34, 36, 38, 40])"
      ]
     },
     "execution_count": 25,
     "metadata": {},
     "output_type": "execute_result"
    }
   ],
   "source": [
    "arr1+arr2"
   ]
  },
  {
   "cell_type": "code",
   "execution_count": 26,
   "metadata": {},
   "outputs": [
    {
     "data": {
      "text/plain": [
       "array([123, 126, 129, 132, 135, 138, 141, 144, 147, 150])"
      ]
     },
     "execution_count": 26,
     "metadata": {},
     "output_type": "execute_result"
    }
   ],
   "source": [
    "arr1+arr2+arr3"
   ]
  },
  {
   "cell_type": "code",
   "execution_count": 27,
   "metadata": {},
   "outputs": [
    {
     "data": {
      "text/plain": [
       "array([ 21,  44,  69,  96, 125, 156, 189, 224, 261, 300])"
      ]
     },
     "execution_count": 27,
     "metadata": {},
     "output_type": "execute_result"
    }
   ],
   "source": [
    "arr1*arr2"
   ]
  },
  {
   "cell_type": "code",
   "execution_count": 28,
   "metadata": {},
   "outputs": [
    {
     "data": {
      "text/plain": [
       "array([ 2121,  4488,  7107,  9984, 13125, 16536, 20223, 24192, 28449,\n",
       "       33000])"
      ]
     },
     "execution_count": 28,
     "metadata": {},
     "output_type": "execute_result"
    }
   ],
   "source": [
    "arr1*arr2*arr3"
   ]
  },
  {
   "cell_type": "code",
   "execution_count": 29,
   "metadata": {},
   "outputs": [
    {
     "data": {
      "text/plain": [
       "array([0.04761905, 0.09090909, 0.13043478, 0.16666667, 0.2       ,\n",
       "       0.23076923, 0.25925926, 0.28571429, 0.31034483, 0.33333333])"
      ]
     },
     "execution_count": 29,
     "metadata": {},
     "output_type": "execute_result"
    }
   ],
   "source": [
    "arr1/arr2"
   ]
  },
  {
   "cell_type": "code",
   "execution_count": 30,
   "metadata": {},
   "outputs": [
    {
     "data": {
      "text/plain": [
       "array([0.00047148, 0.00089127, 0.00126636, 0.00160256, 0.00190476,\n",
       "       0.00217707, 0.00242298, 0.0026455 , 0.0028472 , 0.0030303 ])"
      ]
     },
     "execution_count": 30,
     "metadata": {},
     "output_type": "execute_result"
    }
   ],
   "source": [
    "arr1/arr2/arr3"
   ]
  },
  {
   "cell_type": "code",
   "execution_count": 31,
   "metadata": {},
   "outputs": [
    {
     "data": {
      "text/plain": [
       "array([-20, -20, -20, -20, -20, -20, -20, -20, -20, -20])"
      ]
     },
     "execution_count": 31,
     "metadata": {},
     "output_type": "execute_result"
    }
   ],
   "source": [
    "arr1-arr2"
   ]
  },
  {
   "cell_type": "code",
   "execution_count": 32,
   "metadata": {},
   "outputs": [
    {
     "data": {
      "text/plain": [
       "array([-121, -122, -123, -124, -125, -126, -127, -128, -129, -130])"
      ]
     },
     "execution_count": 32,
     "metadata": {},
     "output_type": "execute_result"
    }
   ],
   "source": [
    "arr1-arr2-arr3"
   ]
  },
  {
   "cell_type": "code",
   "execution_count": 33,
   "metadata": {},
   "outputs": [
    {
     "data": {
      "text/plain": [
       "array([21, 11,  7,  6,  5,  4,  3,  3,  3,  3])"
      ]
     },
     "execution_count": 33,
     "metadata": {},
     "output_type": "execute_result"
    }
   ],
   "source": [
    "arr2//arr1"
   ]
  },
  {
   "cell_type": "code",
   "execution_count": 34,
   "metadata": {},
   "outputs": [
    {
     "data": {
      "text/plain": [
       "array([0, 0, 2, 0, 0, 2, 6, 4, 2, 0])"
      ]
     },
     "execution_count": 34,
     "metadata": {},
     "output_type": "execute_result"
    }
   ],
   "source": [
    "arr2%arr1"
   ]
  },
  {
   "cell_type": "markdown",
   "metadata": {},
   "source": [
    "# Generating Arrays\n",
    "\n",
    "Numpy has many built in functions that allows you to quickly get a large array between a starting and ending number. Some of those functions are np.linspace(), np.arange(), np.logspace(). These functions are really great when we need to generate an array of X-values for our plots. We will cover all three of them in detail in the next few cells. \n",
    "\n",
    "In short np.linspace() produces an array that is equally spaced between a starting and ending number\n",
    "\n",
    "np.arange() has a step size argument so you can give np.arange() a starting and ending point and a step size and you will get an array of values separated by the step size you inputted. This is really good when you are doing histograms as you have full control over the bin size through the step_size argument in np.arange()\n",
    "\n",
    "\n",
    "np.logspace() is similar to np.linspace() but it generates a set of equally spaced values from starting number to ending number in log-space. "
   ]
  },
  {
   "cell_type": "code",
   "execution_count": 38,
   "metadata": {},
   "outputs": [
    {
     "name": "stdout",
     "output_type": "stream",
     "text": [
      "500\n"
     ]
    }
   ],
   "source": [
    "#quickly generating an array of 1000 equally spaced values between 1-100\n",
    "#Note how the ending number 100 is included\n",
    "x = np.linspace(-100, 100, 500)\n",
    "print(len(x))"
   ]
  },
  {
   "cell_type": "code",
   "execution_count": 39,
   "metadata": {},
   "outputs": [
    {
     "data": {
      "text/plain": [
       "array([  1.,  12.,  23.,  34.,  45.,  56.,  67.,  78.,  89., 100.])"
      ]
     },
     "execution_count": 39,
     "metadata": {},
     "output_type": "execute_result"
    }
   ],
   "source": [
    "#quickly generating an array of 10 equally spaced values between 1-100\n",
    "np.linspace(1, 100, 10)"
   ]
  },
  {
   "cell_type": "code",
   "execution_count": 45,
   "metadata": {},
   "outputs": [
    {
     "data": {
      "text/plain": [
       "array([ 1,  2,  3,  4,  5,  6,  7,  8,  9, 10, 11, 12, 13, 14, 15, 16, 17,\n",
       "       18, 19, 20, 21, 22, 23, 24, 25, 26, 27, 28, 29, 30, 31, 32, 33, 34,\n",
       "       35, 36, 37, 38, 39, 40, 41, 42, 43, 44, 45, 46, 47, 48, 49, 50, 51,\n",
       "       52, 53, 54, 55, 56, 57, 58, 59, 60, 61, 62, 63, 64, 65, 66, 67, 68,\n",
       "       69, 70, 71, 72, 73, 74, 75, 76, 77, 78, 79, 80, 81, 82, 83, 84, 85,\n",
       "       86, 87, 88, 89, 90, 91, 92, 93, 94, 95, 96, 97, 98, 99])"
      ]
     },
     "execution_count": 45,
     "metadata": {},
     "output_type": "execute_result"
    }
   ],
   "source": [
    "#let us try to create the same array as above but with np.arange\n",
    "np.arange(1, 100, 1)"
   ]
  },
  {
   "cell_type": "code",
   "execution_count": 41,
   "metadata": {},
   "outputs": [
    {
     "data": {
      "text/plain": [
       "array([  1,  12,  23,  34,  45,  56,  67,  78,  89, 100])"
      ]
     },
     "execution_count": 41,
     "metadata": {},
     "output_type": "execute_result"
    }
   ],
   "source": [
    "#np.arange is exclusive of the ending number so if we want it to end at 100 we need to increase the ending number\n",
    "np.arange(1, 101, 11)"
   ]
  },
  {
   "cell_type": "code",
   "execution_count": 49,
   "metadata": {},
   "outputs": [
    {
     "data": {
      "text/plain": [
       "array([  1.        ,   1.04761575,   1.09749877,   1.149757  ,\n",
       "         1.20450354,   1.26185688,   1.32194115,   1.38488637,\n",
       "         1.45082878,   1.51991108,   1.59228279,   1.66810054,\n",
       "         1.7475284 ,   1.83073828,   1.91791026,   2.009233  ,\n",
       "         2.10490414,   2.20513074,   2.3101297 ,   2.42012826,\n",
       "         2.53536449,   2.65608778,   2.7825594 ,   2.91505306,\n",
       "         3.05385551,   3.19926714,   3.35160265,   3.51119173,\n",
       "         3.67837977,   3.85352859,   4.03701726,   4.22924287,\n",
       "         4.43062146,   4.64158883,   4.86260158,   5.09413801,\n",
       "         5.33669923,   5.59081018,   5.85702082,   6.13590727,\n",
       "         6.42807312,   6.73415066,   7.05480231,   7.39072203,\n",
       "         7.74263683,   8.11130831,   8.49753436,   8.90215085,\n",
       "         9.32603347,   9.77009957,  10.23531022,  10.72267222,\n",
       "        11.23324033,  11.76811952,  12.32846739,  12.91549665,\n",
       "        13.53047775,  14.17474163,  14.84968262,  15.55676144,\n",
       "        16.29750835,  17.07352647,  17.88649529,  18.73817423,\n",
       "        19.6304065 ,  20.56512308,  21.5443469 ,  22.5701972 ,\n",
       "        23.64489413,  24.77076356,  25.95024211,  27.18588243,\n",
       "        28.48035868,  29.8364724 ,  31.2571585 ,  32.74549163,\n",
       "        34.30469286,  35.93813664,  37.64935807,  39.44206059,\n",
       "        41.320124  ,  43.28761281,  45.34878508,  47.50810162,\n",
       "        49.77023564,  52.14008288,  54.62277218,  57.22367659,\n",
       "        59.94842503,  62.80291442,  65.79332247,  68.92612104,\n",
       "        72.20809018,  75.64633276,  79.24828984,  83.02175681,\n",
       "        86.97490026,  91.11627561,  95.45484567, 100.        ])"
      ]
     },
     "execution_count": 49,
     "metadata": {},
     "output_type": "execute_result"
    }
   ],
   "source": [
    "#np.logspace works in logspace and the starting and ending values are the log of those numbers\n",
    "#so a value of -2 is the same as 10^-2, a value of 4 is 10^4, value of 0 is 10^0 = 1\n",
    "#this genereates an equal spacing array in log-space which is different than linear spacing\n",
    "np.logspace(0, 2, 100)"
   ]
  },
  {
   "cell_type": "markdown",
   "metadata": {},
   "source": [
    "# Exercise \n",
    "\n",
    "Using linspace, logspace or building your own arrays make 5 arrays of length 10 of:\n",
    "\n",
    "- Mass1 Array: An array of masses in units of kg, should be between $10^{29} - 10^{34}$ kgs\n",
    "- Mass2 Array: An array of masses in units of kg, should be between $10^{32} - 10^{34}$ kgs\n",
    "- Distance Array: An array of distances in meters of order $10^{10} - 10^{30}$ m\n",
    "- Radius1 Array: An array of raidus in meters of order $10^{7} - 10^{10}$ m\n",
    "- Radius2 Array: An array of raidus in meters of order $10^{7} - 10^{10}$ m\n",
    "\n",
    "\n",
    "Once you have created the arrays please do the following: \n",
    "\n",
    "1. Compute the gravitational attraction between the two Stars in Mass1 and Mass2 using:\n",
    "\n",
    "$F = \\frac{G m_1 m_2}{d^2}$\n",
    "\n",
    "2. Compute the escape velocity of each of the stars:\n",
    "\n",
    "$v_{esc} = \\sqrt{\\frac{2 G M}{R}}$\n",
    "\n",
    "\n",
    "3. Compute the average of the Mass, Radius and Distance\n",
    "\n"
   ]
  },
  {
   "cell_type": "code",
   "execution_count": 55,
   "metadata": {},
   "outputs": [],
   "source": [
    "########## Code Here ###########\n",
    "\n",
    "Mass1 = np.linspace(1e29, 1e34, 10)\n",
    "#Mass1 = np.logspace(29, 34, 10)\n",
    "\n",
    "Mass2 = np.linspace(1e32, 1e34, 10)\n",
    "#Mass2 = np.logspace(32, 34, 10)\n",
    "\n",
    "distance = np.linspace(1e10, 1e30, 10)\n",
    "#distance = np.logspace(10, 34, 10)\n",
    "\n",
    "Radius1 = np.linspace(1e7, 1e10, 10)\n",
    "Radius2 = np.linspace(1e7, 1e10, 10)\n",
    "\n",
    "G = 6.67e-11\n",
    "\n",
    "Force = (G*Mass1*Mass2)/distance**2\n",
    "vesc1 = (2*G*Mass1/Radius1)**(1/2)\n",
    "vesc2 = (2*G*Mass2/Radius2)**(1/2)\n",
    "\n",
    "#vesc1 = np.sqrt(2*G*Mass1/Radius1\n",
    "\n",
    "avg_Mass1 = np.sum(Mass1)/Mass1.shape"
   ]
  },
  {
   "cell_type": "code",
   "execution_count": 52,
   "metadata": {},
   "outputs": [
    {
     "data": {
      "text/plain": [
       "(10,)"
      ]
     },
     "execution_count": 52,
     "metadata": {},
     "output_type": "execute_result"
    }
   ],
   "source": [
    "Mass1.shape"
   ]
  },
  {
   "cell_type": "code",
   "execution_count": 54,
   "metadata": {},
   "outputs": [
    {
     "data": {
      "text/plain": [
       "5.00005e+33"
      ]
     },
     "execution_count": 54,
     "metadata": {},
     "output_type": "execute_result"
    }
   ],
   "source": [
    "avg_Mass1"
   ]
  },
  {
   "cell_type": "markdown",
   "metadata": {},
   "source": [
    "# Useful Numpy Functions"
   ]
  },
  {
   "cell_type": "code",
   "execution_count": 56,
   "metadata": {},
   "outputs": [],
   "source": [
    "example_array = np.array([-10, -9, -30, 1, 2, 3, 4, 5, 6, 7, 8, 9, 10, \n",
    "                           -134, 332, 324, -3312, 23213, -423321, 12321])"
   ]
  },
  {
   "cell_type": "code",
   "execution_count": 60,
   "metadata": {},
   "outputs": [],
   "source": [
    "positive_mask = example_array > 0"
   ]
  },
  {
   "cell_type": "code",
   "execution_count": 61,
   "metadata": {},
   "outputs": [
    {
     "data": {
      "text/plain": [
       "array([    1,     2,     3,     4,     5,     6,     7,     8,     9,\n",
       "          10,   332,   324, 23213, 12321])"
      ]
     },
     "execution_count": 61,
     "metadata": {},
     "output_type": "execute_result"
    }
   ],
   "source": [
    "example_array[positive_mask]"
   ]
  },
  {
   "cell_type": "code",
   "execution_count": 58,
   "metadata": {},
   "outputs": [],
   "source": [
    "idx = np.where(example_array > 0)"
   ]
  },
  {
   "cell_type": "code",
   "execution_count": 59,
   "metadata": {},
   "outputs": [
    {
     "data": {
      "text/plain": [
       "array([    1,     2,     3,     4,     5,     6,     7,     8,     9,\n",
       "          10,   332,   324, 23213, 12321])"
      ]
     },
     "execution_count": 59,
     "metadata": {},
     "output_type": "execute_result"
    }
   ],
   "source": [
    "example_array[idx]"
   ]
  },
  {
   "cell_type": "code",
   "execution_count": 62,
   "metadata": {},
   "outputs": [
    {
     "data": {
      "text/plain": [
       "array([1., 1., 1., 1., 1., 1., 1., 1., 1., 1.])"
      ]
     },
     "execution_count": 62,
     "metadata": {},
     "output_type": "execute_result"
    }
   ],
   "source": [
    "np.ones(10)"
   ]
  },
  {
   "cell_type": "code",
   "execution_count": 63,
   "metadata": {},
   "outputs": [
    {
     "data": {
      "text/plain": [
       "array([0., 0., 0., 0., 0., 0., 0., 0., 0., 0.])"
      ]
     },
     "execution_count": 63,
     "metadata": {},
     "output_type": "execute_result"
    }
   ],
   "source": [
    "np.zeros(10)"
   ]
  },
  {
   "cell_type": "code",
   "execution_count": null,
   "metadata": {},
   "outputs": [],
   "source": []
  },
  {
   "cell_type": "markdown",
   "metadata": {},
   "source": [
    "# Boolean Masking\n",
    "\n",
    "A very cool thing that arrays can do is that we can perform conditional expressions across an entire array. This will result in an array of True and False values which we can use to subselect the relevant values from a larger array. Let us see this in action below."
   ]
  },
  {
   "cell_type": "code",
   "execution_count": null,
   "metadata": {},
   "outputs": [],
   "source": [
    "random_numbers = np.random.normal(loc = 2, scale = 1, size = 100)\n",
    "\n",
    "print(random_numbers)\n",
    "print()\n",
    "print('Length: ', len(random_numbers))"
   ]
  },
  {
   "cell_type": "code",
   "execution_count": null,
   "metadata": {},
   "outputs": [],
   "source": [
    "#making a conditional to only select numbers between 2 and 4\n",
    "range_2_to_4 = ((random_numbers > 2) &\n",
    "                (random_numbers < 4))\n",
    "\n",
    "print(range_2_to_4)"
   ]
  },
  {
   "cell_type": "code",
   "execution_count": null,
   "metadata": {},
   "outputs": [],
   "source": [
    "#let us now apply this boolean mask to the random numbers to subselect the values within the range 2 to 4\n",
    "\n",
    "subsample = random_numbers[range_2_to_4]\n",
    "\n",
    "print(subsample)\n",
    "print()\n",
    "print('Length: ', len(subsample))"
   ]
  },
  {
   "cell_type": "markdown",
   "metadata": {},
   "source": [
    "# Note:\n",
    "\n",
    "Boolean masks are a great way to subselect data from an array with ease but it does come at a cost in that when you apply the mask onto an array it alters the size of the array, we started off with an array of length 100 and when we applied the mask it down selected reducing the size of the array. This has important implication if you are working with many different arrays and they need to be the same size for plotting. The way to fix this is that you would need to apply this mask to the other arrays as well to make sure they are the same size and match up for any subsequent analysis and plotting purposes."
   ]
  },
  {
   "cell_type": "markdown",
   "metadata": {},
   "source": [
    "# 2D Arrays\n",
    "\n",
    "In the next few notebooks, we will encounter a type of array called ND-Arrays these arrays are N-dimensional arrays but for the sake of introducing ND-arrays we will be working with 2D-arrays but the same concepts learned here can be extrapolated to higher dimensional arrays. 2D arrays are the typical data structure of images which will be the focus of the Photometry Module. So knowing how to manipulate 2D arrays and performing mathematical operations is crucial for that module. \n",
    "\n",
    "2D arrays are made by turning a list of list into an array. Take, for example. that we have the following list within list [[1, 2, 3, 4], [10, 11, 12, 13]], we can turn this into a 2D array using the np.array() function.\n",
    "\n",
    "    twoD_array = np.array([[1, 2, 3, 4], [10, 11, 12, 13]])\n",
    "    \n",
    "What numpy will do is that it will make the first list, [1, 2, 3, 4], be the first row in the 2D array and the second list, [10, 11, 12, 13], will be the second row. This will make a matrix with row and column values. With this example shown here it will make a 2x4 array with 2 rows and 4 columns. Let us apply this in python."
   ]
  },
  {
   "cell_type": "code",
   "execution_count": null,
   "metadata": {},
   "outputs": [],
   "source": [
    "#defining a 2D array with 2 rows and 4 columns\n",
    "twoD_array = np.array([[1, 2, 3, 4],[10, 11, 12, 13]])\n",
    "\n",
    "print(twoD_array)"
   ]
  },
  {
   "cell_type": "markdown",
   "metadata": {},
   "source": [
    "# Indexing 2D Arrays\n",
    "\n",
    "Indexing 2D-arrays builds on indexing 1D arrays as we have two locations to specify we need to specify. The index across the row and the index across the column to grab the value that we want. Let us say we want to get the value 12. By eye we can see that it is in the second row and in the third column. All the rules of indexing still apply as well as splicing, striding and negative indexing. In this simple example of getting 12 we would do the following:"
   ]
  },
  {
   "cell_type": "code",
   "execution_count": null,
   "metadata": {},
   "outputs": [],
   "source": [
    "#getting the value of 12, 2nd row is index 1 and 3rd column is at index 2\n",
    "twoD_array[1, 2]"
   ]
  },
  {
   "cell_type": "markdown",
   "metadata": {},
   "source": [
    "In general to get a single value from a 2D array requires us to use the syntax below:\n",
    "\n",
    "twoD_array[Row_index, Column_index]\n",
    "\n",
    "\n",
    "This can be generalized to include slicing:\n",
    "\n",
    "twoD_array[start_row_index:ending_row_index, start_col_index: ending_col_index]\n",
    "\n",
    "Note that the ',' is what tells python when the index is for row or for columns\n",
    "\n",
    "If you want all the rows of a column the syntax for that is as follows:\n",
    "\n",
    "twoD_array[:, col_index]\n",
    "\n",
    "If you want all the columns from a row you can use either of the two methods shown below:\n",
    "\n",
    "1. twoD_array[row_index]\n",
    "2. twoD_array[row_index, :]\n",
    "\n",
    "Both will give you the entire row corresponding to the row_index. \n",
    "\n",
    "Let's apply this to a larger 2D array to see this in action."
   ]
  },
  {
   "cell_type": "code",
   "execution_count": null,
   "metadata": {},
   "outputs": [],
   "source": [
    "big_2d_arr = np.random.normal(loc = 2, \n",
    "                              scale = 1, \n",
    "                              size = (10, 12), #this is how you tell numpy you want a 10x12 array of values\n",
    "                              )\n",
    "\n",
    "print(big_2d_arr)"
   ]
  },
  {
   "cell_type": "code",
   "execution_count": null,
   "metadata": {},
   "outputs": [],
   "source": [
    "#let's select the entire 5th row\n",
    "print(big_2d_arr[4])\n",
    "print('or')\n",
    "print(big_2d_arr[4, :])"
   ]
  },
  {
   "cell_type": "code",
   "execution_count": null,
   "metadata": {},
   "outputs": [],
   "source": [
    "#let's select the entire 5th column\n",
    "print(big_2d_arr[:, 4])"
   ]
  },
  {
   "cell_type": "code",
   "execution_count": null,
   "metadata": {},
   "outputs": [],
   "source": [
    "#let us select row 2 - 5 and columns 6 - 10\n",
    "\n",
    "    #row indexing , column indexing\n",
    "big_2d_arr[1:5    ,  5:10]"
   ]
  },
  {
   "cell_type": "markdown",
   "metadata": {},
   "source": [
    "# Math with 2D Arrays and Scalars\n",
    "\n",
    "Everything we covered with 1D arrays for scalar arithmetic stills applies with 2D array you can take any number and perform any math operator on a 2D-array and every single element will have that operation applied.\n"
   ]
  },
  {
   "cell_type": "code",
   "execution_count": null,
   "metadata": {},
   "outputs": [],
   "source": [
    "twod_arr = np.ones(shape = (4, 5))\n",
    "print(twod_arr)"
   ]
  },
  {
   "cell_type": "code",
   "execution_count": null,
   "metadata": {},
   "outputs": [],
   "source": [
    "twod_arr + 5"
   ]
  },
  {
   "cell_type": "code",
   "execution_count": null,
   "metadata": {},
   "outputs": [],
   "source": [
    "twod_arr - .5"
   ]
  },
  {
   "cell_type": "code",
   "execution_count": null,
   "metadata": {},
   "outputs": [],
   "source": [
    "twod_arr / 2"
   ]
  },
  {
   "cell_type": "code",
   "execution_count": null,
   "metadata": {},
   "outputs": [],
   "source": [
    "twod_arr * 5"
   ]
  },
  {
   "cell_type": "code",
   "execution_count": null,
   "metadata": {},
   "outputs": [],
   "source": [
    "(2*twod_arr)**2"
   ]
  },
  {
   "cell_type": "markdown",
   "metadata": {},
   "source": [
    "# Math between 2D Arrays and 1D Arrays\n",
    "\n",
    "You can also perform mathematical operators between 2D arrays and 1D arrays but there is a criteria that must be met, the 1D array $\\textbf{MUST}$ be the same size as the columns of the 2D array. So if you have a 10 x 12 array the 1D array needs to be length 12 to perform mathematical operations. \n",
    "\n",
    "The way math is carried out between these two is that every row gets the math operator applied making sure that the same elements are undergoing the operation. To explain this with an example let us take the following array: np.array([[1, 2, 3], [2, 4, 8], [3, 6, 9]]) and the 1D-array np.array([2, 2, 2]) and let's say I need to multiply these two arrays. \n",
    "\n",
    "What will happen is that numpy will take the first row of the 2D array and perform the multiplication [1, 2, 3] * [2, 2, 2] and since we have two 1D arrays of the same length we perform the operation element-wise. The output for this is going to be: [2, 4, 6] and this will be the new row1 in the output 2D array. The second row then does the same operation: [2, 4, 8] * [2, 2, 2] = [4, 8, 16] and this will be the second row and so on. so the resulting 2D array from this operation will be: np.array([[2, 4, 6], [4, 8, 16], [6, 12, 18]]). \n"
   ]
  },
  {
   "cell_type": "code",
   "execution_count": null,
   "metadata": {},
   "outputs": [],
   "source": [
    "ex_2darr = np.array([[1, 2, 3], [2, 4, 8], [3, 6, 9]])\n",
    "ex_1darr = np.array([2, 2, 2])"
   ]
  },
  {
   "cell_type": "code",
   "execution_count": null,
   "metadata": {},
   "outputs": [],
   "source": [
    "ex_2darr + ex_1darr"
   ]
  },
  {
   "cell_type": "code",
   "execution_count": null,
   "metadata": {},
   "outputs": [],
   "source": [
    "ex_2darr - ex_1darr"
   ]
  },
  {
   "cell_type": "code",
   "execution_count": null,
   "metadata": {},
   "outputs": [],
   "source": [
    "ex_2darr * ex_1darr"
   ]
  },
  {
   "cell_type": "code",
   "execution_count": null,
   "metadata": {},
   "outputs": [],
   "source": [
    "ex_2darr / ex_1darr"
   ]
  },
  {
   "cell_type": "markdown",
   "metadata": {},
   "source": [
    "# Math Between 2D Arrays and 2D Arrays\n",
    "\n",
    "You can also perform mathematical operations between many other 2D arrays. This also has a strict criteria that must be met and this is that the $\\textbf{shape}$ of the arrays $\\textbf{MUST}$ be the same. The number of rows and columns must match exactly for mathematical operations to be performed between any number of 2D arrays. The math performed here is done element wise so every item with a similar row and column index will have the operation applied to it. The first row and first column element of all the arrays will have the math operation performed, The first row and second column element of all the arrays will have the math operation performed, and so on. Let's see an example of this in use."
   ]
  },
  {
   "cell_type": "code",
   "execution_count": null,
   "metadata": {},
   "outputs": [],
   "source": [
    "twod_arr1 = np.random.randint(1, 100, size = (5, 7))\n",
    "twod_arr2 = np.random.random(size = (5, 7))"
   ]
  },
  {
   "cell_type": "code",
   "execution_count": null,
   "metadata": {},
   "outputs": [],
   "source": [
    "#you can check the shape of an array using the shape attribute\n",
    "twod_arr1.shape"
   ]
  },
  {
   "cell_type": "code",
   "execution_count": null,
   "metadata": {},
   "outputs": [],
   "source": [
    "#you can check the shape of an array using the shape attribute\n",
    "twod_arr2.shape"
   ]
  },
  {
   "cell_type": "code",
   "execution_count": null,
   "metadata": {},
   "outputs": [],
   "source": [
    "twod_arr1 + twod_arr2"
   ]
  },
  {
   "cell_type": "code",
   "execution_count": null,
   "metadata": {},
   "outputs": [],
   "source": [
    "twod_arr1 - twod_arr2"
   ]
  },
  {
   "cell_type": "code",
   "execution_count": null,
   "metadata": {},
   "outputs": [],
   "source": [
    "twod_arr1 * twod_arr2"
   ]
  },
  {
   "cell_type": "code",
   "execution_count": null,
   "metadata": {},
   "outputs": [],
   "source": [
    "twod_arr1 / twod_arr2"
   ]
  },
  {
   "cell_type": "markdown",
   "metadata": {},
   "source": [
    "# Boolean Masking for 2D Arrays\n",
    "\n",
    "Everything we covered about masking for 1D array is transferable to 2D arrays. We just have an added dimension to work with. The main thing to note about applying boolean masks to 2D arrays is that it changes both the row and column size based off of the mask being applied."
   ]
  },
  {
   "cell_type": "code",
   "execution_count": null,
   "metadata": {},
   "outputs": [],
   "source": [
    "ex_2d_arr = np.random.normal(loc = 2, scale = 1, size = (5, 7))\n",
    "\n",
    "ex_2d_arr > 3"
   ]
  },
  {
   "cell_type": "code",
   "execution_count": null,
   "metadata": {},
   "outputs": [],
   "source": [
    "bool_mask = ex_2d_arr > 3\n",
    "\n",
    "ex_2d_arr_masked = ex_2d_arr[bool_mask]\n",
    "\n",
    "print(ex_2d_arr_masked)"
   ]
  },
  {
   "cell_type": "code",
   "execution_count": null,
   "metadata": {},
   "outputs": [],
   "source": [
    "#you can apply a 1D boolean mask so long as it matches the row or column length you are trying to mask\n",
    "\n",
    "#this will mask out the 2nd and last row of the 2D array\n",
    "bool_mask1d = np.array([True, False, True, True, False])\n",
    "\n",
    "print(ex_2d_arr[bool_mask1d])\n",
    "print()\n",
    "print(ex_2d_arr[bool_mask1d].shape)"
   ]
  },
  {
   "cell_type": "code",
   "execution_count": null,
   "metadata": {},
   "outputs": [],
   "source": [
    "#you can apply a 1D boolean mask so long as it matches the row or column length you are trying to mask\n",
    "\n",
    "#this will mask out the 2nd and 5th columns of the 2D array\n",
    "bool_mask1d = np.array([True, False, True, True, False, True, True])\n",
    "\n",
    "print(ex_2d_arr[:, bool_mask1d])\n",
    "print()\n",
    "print(ex_2d_arr[:, bool_mask1d].shape)"
   ]
  }
 ],
 "metadata": {
  "kernelspec": {
   "display_name": "Python 3 (ipykernel)",
   "language": "python",
   "name": "python3"
  },
  "language_info": {
   "codemirror_mode": {
    "name": "ipython",
    "version": 3
   },
   "file_extension": ".py",
   "mimetype": "text/x-python",
   "name": "python",
   "nbconvert_exporter": "python",
   "pygments_lexer": "ipython3",
   "version": "3.12.2"
  }
 },
 "nbformat": 4,
 "nbformat_minor": 4
}
