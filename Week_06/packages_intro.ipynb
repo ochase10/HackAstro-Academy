{
 "cells": [
  {
   "cell_type": "markdown",
   "metadata": {},
   "source": [
    "# Packages\n",
    "\n",
    "We've seen how functions make it easy to write general-purpose routines that we can reuse, saving us from rewriting the code. You can imagine that there are a vast number of functions that might be useful for our coding purposes. Some of these are implemented for us in default Python. Things like addition, writing to files, appending elements to lists, are functions that someone wrote and made accessible to you when you launch the Python executable. However, despite the large set of functions packaged with Python by default, there are many possibly useful functions that are not. We wouldn't want the Python install to be a terrabyte, after all. \n",
    "\n",
    "Since Python doesn't include all the functions we want, we can always just write what we need ourselves. But writing software, especially efficient, reliable, and complicated software, is time consuming and requires a lot of background knowledge. It might even require writing in other programming languages.\n",
    "\n",
    "For example, we might want a function that takes 2 lists and creates an image showing the data plotted as pairs of coordinates on a set of axes. We could spend weeks or months toiling away trying to write our own function to do this, or we could just let someone else do it and copy their function (with their permission of course). That was the beauty of functions after all, they're portable code blocks that aren't tied to any specific use-case/program. This is where packages come in.\n",
    "\n",
    "Python packages are essentially libraries of functions written by others and kindly distributed to us for free. So how does it work? Well, first we need to download and install these fancy libraries. Then we simply load them into our environment and we're free to use them to our heart's content. It's as easy as that. \n",
    "\n",
    "## Some Noteworthy Packages:\n",
    "1. NumPy: Elaborate suite of math and array functions. Maybe the most common package in Python\n",
    "2. SciPy: Extensive set of useful scientific functions useful for statistics, math, and more\n",
    "3. Matplotlib: An excellent package for creating custom plots and data visualizations\n",
    "4. Pandas: A data analysis package built around implementing DataFrame objects\n",
    "5. AstroPy: A utility package for all things astronomy\n",
    "\n",
    "Note that even these packages use packages! In fact, #2-5 are all built on top of NumPy!\n",
    "\n",
    "There's genuinely nothing special about the code contained in packages. You could write it yourself given enough time. They just save us from re-doing things other people already did, allowing us to focus on the fun science. It also helps maintain interoperability. Many packages work seamlessly together because they are both built on NumPy. You can imagine how complicated things would get if everyone did everything their own way.\n",
    "\n",
    "## Let's import a package\n",
    "\n",
    "Before running the next cell, ensure that you have NumPy installed. If you're using a conda distribution of Python, go to the terminal, activate your desired environment and run 'conda install numpy'. If that fail or you are not using conda, go to a terminal and run 'pip install numpy'.\n",
    "\n",
    "Remember, packages are libraries *external* to Python. We have to download and install them in order to use them. We'll talk more about package managers at the end of this notebook, but you've been reading for a while already so let's run some code!"
   ]
  },
  {
   "cell_type": "code",
   "execution_count": null,
   "metadata": {},
   "outputs": [],
   "source": [
    "# To load a package for use in your program, simply use the 'import' keyword \n",
    "#  followed by the name of the package\n",
    "import numpy"
   ]
  },
  {
   "cell_type": "markdown",
   "metadata": {},
   "source": [
    "Now that we've loaded in NumPy, we have access to tons of new functions. Suppose NumPy contains a function with the same name as a built-in function, though (it does). How can Python know which one to use? \n",
    "\n",
    "By default, Python will make a packages functions accessible via the '.' syntax on the package name. So to access the 'add' function from NumPy, we would write 'numpy.add()' rather than simply add(), even though there is no default Python function names add(). "
   ]
  },
  {
   "cell_type": "code",
   "execution_count": null,
   "metadata": {},
   "outputs": [],
   "source": [
    "# This runs the add function implemented in NumPy\n",
    "print(numpy.add(1,2))\n",
    "\n",
    "# Python has a sum() function built in for adding all the numbers in a list\n",
    "print(sum([1,2,3]))\n",
    "\n",
    "# NumPy also has a sum() function which can do the same thing\n",
    "print(numpy.sum([1,2,3]))\n",
    "\n",
    "#Note that the two functions achieve the same result, but they are actually running different code."
   ]
  },
  {
   "cell_type": "markdown",
   "metadata": {},
   "source": [
    "Sometimes package names are long, so it can get annoying writing them every time we want to use one of their functions. Luckily, Python has aliasing built-in to allow us to use whatever name we want to reference a package. \n",
    "\n",
    "This can make your code less readable, so many packages have standard abbreviations that almost everyone uses. This makes it easier to understand what someone else's code does without having to think too hard."
   ]
  },
  {
   "cell_type": "code",
   "execution_count": null,
   "metadata": {},
   "outputs": [],
   "source": [
    "# Let's import NumPy with an alias\n",
    "# Simply use the 'as' keyword (just like we did with file I/O)\n",
    "import numpy as np\n",
    "\n",
    "# Now 'np' will be interpreted as numpy and can be used in its place\n",
    "np.add(1,2)\n",
    "\n",
    "# Note Python will not recognize the original name if we alias it\n",
    "# That means that in this case, if we load numpy as np, we can no longer \n",
    "#  write something like numpy.add(), we have to use the np alias.\n"
   ]
  },
  {
   "cell_type": "markdown",
   "metadata": {},
   "source": [
    "Like we said, NumPy is a very large library of functions. That means loading them all into memory may be laborious for certain applications. Or we may have other libraries that are extremely bloated. If this is the case, and we only need 1 or 2 functions, Python allows us to import only specific functions from within libraries by using the 'from' keyword."
   ]
  },
  {
   "cell_type": "code",
   "execution_count": null,
   "metadata": {},
   "outputs": [],
   "source": [
    "# If we only want to import the add() function, we just use this call\n",
    "from numpy import add\n",
    "\n",
    "# Now we can use add() without the numpy.add syntax\n",
    "add(1,2)"
   ]
  },
  {
   "cell_type": "code",
   "execution_count": null,
   "metadata": {},
   "outputs": [],
   "source": [
    "# We could also alias just the function\n",
    "from numpy import add as addition\n",
    "\n",
    "addition(1,2)"
   ]
  },
  {
   "cell_type": "code",
   "execution_count": null,
   "metadata": {},
   "outputs": [],
   "source": [
    "# If we import a function that is already defined, the new function takes precedence\n",
    "sum?"
   ]
  },
  {
   "cell_type": "code",
   "execution_count": null,
   "metadata": {},
   "outputs": [],
   "source": [
    "from numpy import sum\n",
    "sum?"
   ]
  },
  {
   "cell_type": "markdown",
   "metadata": {},
   "source": [
    "Ok, so packages have a ton of useful functions, and there are tons of useful packages. How can you find what packages to use and what functions they contain?\n",
    "\n",
    "### Good ol' Google\n",
    "\n",
    "On of the first things you can do when you're stuck in your programming or you feel like there must be a better way is to simply Google how to do a particular thing. The internet is bursting with info on coding, and the most popular packages have been used and reused in almost every way imagineable. You would be hard-pressed to encounter an issue that someone else hasn't already had and solved.\n",
    "\n",
    "### Documentation\n",
    "\n",
    "Any package that is meant to be useful to others will have some sort of online documentation. Most packages have their documented source code publicly available on GitHub. Larger packages like NumPy and AstroPy have dedicated sites for hosting extensive documentation, examples, and troubleshooting. \n",
    "\n",
    "This can be daunting as the packages generally have a lot of functions, but if you hone in on specific functions at first, you'll see that the documentation is no harder to read than the doc strings we have already worked with. Also, you can usually scroll down to see examples that you can even copy-paste to run/modify just to get a feel for the usage. \n",
    "\n",
    "\n",
    "# Challenge\n",
    "\n",
    "Go to one of the documentation sites below and find a function you like or think would be useful. Read over the docs for that function and how to use it, and come to the next class ready to briefly present the function to the class.\n",
    "\n",
    "NumPy: https://numpy.org/doc/stable/\n",
    "\n",
    "SciPy: https://docs.scipy.org/doc/scipy/"
   ]
  },
  {
   "cell_type": "markdown",
   "metadata": {},
   "source": [
    "## Extras\n",
    "\n",
    "If you spend some time on the docs for NumPy or similar packages, you'll find that the functions are often catagorized under certain banners. These are submodules contained within one pacakge. For example, in SciPy has a stats module, a linalg module, an optimize module, etc. To import or access submodules or their functions, we need to use the '.' syntax again."
   ]
  },
  {
   "cell_type": "code",
   "execution_count": null,
   "metadata": {},
   "outputs": [],
   "source": [
    "# Suppose I want to use SciPy's curve fitting function\n",
    "# Since it is in the optimize submodule, I need to tell Python to look there for it\n",
    "\n",
    "import scipy\n",
    "scipy.optimize.curve_fit"
   ]
  },
  {
   "cell_type": "code",
   "execution_count": null,
   "metadata": {},
   "outputs": [],
   "source": [
    "# Alternatively, I can import just the submodule or just the function itself as before\n",
    "import scipy.optimize\n",
    "scipy.optimize.curve_fit"
   ]
  },
  {
   "cell_type": "code",
   "execution_count": null,
   "metadata": {},
   "outputs": [],
   "source": [
    "from scipy.optimize import curve_fit\n",
    "curve_fit"
   ]
  },
  {
   "cell_type": "code",
   "execution_count": null,
   "metadata": {},
   "outputs": [],
   "source": [
    "from scipy import optimize\n",
    "optimize.curve_fit"
   ]
  },
  {
   "cell_type": "markdown",
   "metadata": {},
   "source": [
    "While the above are all valid ways of loading the curve_fit() function, it is good to consider readability and reliability when writing code. Importing the function directly as curve_fit() may be less typing, but since it could overwrite other functions/variables in the namespace, it is often better to use the dotted namespace to alieviate possible confusion."
   ]
  },
  {
   "cell_type": "code",
   "execution_count": 15,
   "metadata": {},
   "outputs": [
    {
     "name": "stdout",
     "output_type": "stream",
     "text": [
      "[2, 8, 12, 20, 80, 200]\n"
     ]
    }
   ],
   "source": [
    "#Solution using Lists\n",
    "\n",
    "#when working with lists we would need to go through each and every element and multiply it by 2\n",
    "number_list = [1, 4, 6, 10, 40, 100]\n",
    "\n",
    "#for loop that goes through the index values of the number_list list\n",
    "for i in range(len(number_list)):\n",
    "    \n",
    "    #We replace the current value at index i with the value multiplied by 2\n",
    "    number_list[i] = number_list[i] * 2\n",
    "\n",
    "print(number_list)"
   ]
  },
  {
   "cell_type": "code",
   "execution_count": 17,
   "metadata": {},
   "outputs": [
    {
     "name": "stdout",
     "output_type": "stream",
     "text": [
      "[  5  11  15  23  83 203]\n"
     ]
    }
   ],
   "source": [
    "#With arrays it is as simple as multiplying the array by 2\n",
    "number_list = [1, 4, 6, 10, 40, 100]\n",
    "\n",
    "#To do this we simply convert the list to an array using np.array()\n",
    "num_arr = np.array(number_list)\n",
    "\n",
    "#then multiply the array by 2\n",
    "print(2*num_arr)\n",
    "\n",
    "#Wow!!! Super easy and no need for for-loops :D!!!"
   ]
  },
  {
   "cell_type": "markdown",
   "metadata": {},
   "source": [
    "This same ease can be acquired through all the other mathematical functions such as division, adding, subtracting, raising to a power"
   ]
  },
  {
   "cell_type": "code",
   "execution_count": 18,
   "metadata": {},
   "outputs": [
    {
     "data": {
      "text/plain": [
       "array([ 0.5,  2. ,  3. ,  5. , 20. , 50. ])"
      ]
     },
     "execution_count": 18,
     "metadata": {},
     "output_type": "execute_result"
    }
   ],
   "source": [
    "#division\n",
    "\n",
    "#with one line we can divide the ENTIRE array by 2\n",
    "num_arr/2"
   ]
  },
  {
   "cell_type": "code",
   "execution_count": 19,
   "metadata": {},
   "outputs": [
    {
     "data": {
      "text/plain": [
       "array([  3,   6,   8,  12,  42, 102])"
      ]
     },
     "execution_count": 19,
     "metadata": {},
     "output_type": "execute_result"
    }
   ],
   "source": [
    "#adding\n",
    "\n",
    "#with one line we can add the ENTIRE array by 2\n",
    "num_arr + 2"
   ]
  },
  {
   "cell_type": "code",
   "execution_count": 20,
   "metadata": {},
   "outputs": [
    {
     "data": {
      "text/plain": [
       "array([-1,  2,  4,  8, 38, 98])"
      ]
     },
     "execution_count": 20,
     "metadata": {},
     "output_type": "execute_result"
    }
   ],
   "source": [
    "#subtracting\n",
    "\n",
    "#with one line we can subtract the ENTIRE array by 2\n",
    "num_arr - 2"
   ]
  },
  {
   "cell_type": "code",
   "execution_count": 21,
   "metadata": {},
   "outputs": [
    {
     "data": {
      "text/plain": [
       "array([    1,    16,    36,   100,  1600, 10000])"
      ]
     },
     "execution_count": 21,
     "metadata": {},
     "output_type": "execute_result"
    }
   ],
   "source": [
    "\n",
    "#with one line we can square the ENTIRE array\n",
    "num_arr**2"
   ]
  },
  {
   "cell_type": "markdown",
   "metadata": {},
   "source": [
    "## Exercise\n",
    "\n",
    "Make your own numpy array and do the following: \n",
    "\n",
    "- a) multiply the array by 3\n",
    "- b) divide the array by 100\n",
    "- c) compute the line equation 3*x + 5 where x is your array"
   ]
  },
  {
   "cell_type": "code",
   "execution_count": 22,
   "metadata": {},
   "outputs": [
    {
     "name": "stdout",
     "output_type": "stream",
     "text": [
      "[    69    162    201    270   -306    702   -606   1068 -31182    972]\n",
      "[   0.23    0.54    0.67    0.9    -1.02    2.34   -2.02    3.56 -103.94\n",
      "    3.24]\n",
      "[    74    167    206    275   -301    707   -601   1073 -31177    977]\n"
     ]
    }
   ],
   "source": [
    "########## Code Here ###########\n",
    "\n",
    "#making an array\n",
    "arr = np.array([23, 54, 67, 90, -102, 234, -202, 356, -10394, 324])\n",
    "\n",
    "#a)\n",
    "print(arr*3)\n",
    "\n",
    "#b)\n",
    "print(arr/100)\n",
    "\n",
    "#c)\n",
    "print(3*arr+5)"
   ]
  },
  {
   "cell_type": "markdown",
   "metadata": {},
   "source": [
    "# Array math between multiple arrays\n",
    "\n",
    "The way that array math works between 2 or more arrays is by doing element wise arithmetic. The entries at the same location undergo the operation being performed. So if you have 2 arrays with 3 numbers in them say arr1 = np.array([1, 5, 10]) and arr2 = np.array([10, 20, 30]) when you do an operation say addition. This operation is applied to the same indexes so 1 will get added to 10, 5 will get added to 20 and 10 will get added to 30 making the resulting array be np.array([11, 25, 40]). This same methodology is applied if you add another array into the mix where similar indexes have the operation applied to them. See the example below of this in action.\n",
    "\n",
    "\n",
    "NOTE: The array $\\textbf{must}$ be the same shape and size for this to work. If you have an array that is shorter or longer then you will get an error."
   ]
  },
  {
   "cell_type": "code",
   "execution_count": 23,
   "metadata": {},
   "outputs": [],
   "source": [
    "arr1 = np.arange(1, 11, 1)\n",
    "arr2 = np.arange(21, 31, 1)\n",
    "arr3 = np.arange(101, 111, 1)"
   ]
  },
  {
   "cell_type": "code",
   "execution_count": 24,
   "metadata": {},
   "outputs": [
    {
     "name": "stdout",
     "output_type": "stream",
     "text": [
      "[ 1  2  3  4  5  6  7  8  9 10]\n",
      "[21 22 23 24 25 26 27 28 29 30]\n",
      "[101 102 103 104 105 106 107 108 109 110]\n"
     ]
    }
   ],
   "source": [
    "print(arr1)\n",
    "print(arr2)\n",
    "print(arr3)"
   ]
  },
  {
   "cell_type": "code",
   "execution_count": 25,
   "metadata": {},
   "outputs": [
    {
     "data": {
      "text/plain": [
       "array([22, 24, 26, 28, 30, 32, 34, 36, 38, 40])"
      ]
     },
     "execution_count": 25,
     "metadata": {},
     "output_type": "execute_result"
    }
   ],
   "source": [
    "arr1+arr2"
   ]
  },
  {
   "cell_type": "code",
   "execution_count": 26,
   "metadata": {},
   "outputs": [
    {
     "data": {
      "text/plain": [
       "array([123, 126, 129, 132, 135, 138, 141, 144, 147, 150])"
      ]
     },
     "execution_count": 26,
     "metadata": {},
     "output_type": "execute_result"
    }
   ],
   "source": [
    "arr1+arr2+arr3"
   ]
  },
  {
   "cell_type": "code",
   "execution_count": 27,
   "metadata": {},
   "outputs": [
    {
     "data": {
      "text/plain": [
       "array([ 21,  44,  69,  96, 125, 156, 189, 224, 261, 300])"
      ]
     },
     "execution_count": 27,
     "metadata": {},
     "output_type": "execute_result"
    }
   ],
   "source": [
    "arr1*arr2"
   ]
  },
  {
   "cell_type": "code",
   "execution_count": 28,
   "metadata": {},
   "outputs": [
    {
     "data": {
      "text/plain": [
       "array([ 2121,  4488,  7107,  9984, 13125, 16536, 20223, 24192, 28449,\n",
       "       33000])"
      ]
     },
     "execution_count": 28,
     "metadata": {},
     "output_type": "execute_result"
    }
   ],
   "source": [
    "arr1*arr2*arr3"
   ]
  },
  {
   "cell_type": "code",
   "execution_count": 29,
   "metadata": {},
   "outputs": [
    {
     "data": {
      "text/plain": [
       "array([0.04761905, 0.09090909, 0.13043478, 0.16666667, 0.2       ,\n",
       "       0.23076923, 0.25925926, 0.28571429, 0.31034483, 0.33333333])"
      ]
     },
     "execution_count": 29,
     "metadata": {},
     "output_type": "execute_result"
    }
   ],
   "source": [
    "arr1/arr2"
   ]
  },
  {
   "cell_type": "code",
   "execution_count": 30,
   "metadata": {},
   "outputs": [
    {
     "data": {
      "text/plain": [
       "array([0.00047148, 0.00089127, 0.00126636, 0.00160256, 0.00190476,\n",
       "       0.00217707, 0.00242298, 0.0026455 , 0.0028472 , 0.0030303 ])"
      ]
     },
     "execution_count": 30,
     "metadata": {},
     "output_type": "execute_result"
    }
   ],
   "source": [
    "arr1/arr2/arr3"
   ]
  },
  {
   "cell_type": "code",
   "execution_count": 31,
   "metadata": {},
   "outputs": [
    {
     "data": {
      "text/plain": [
       "array([-20, -20, -20, -20, -20, -20, -20, -20, -20, -20])"
      ]
     },
     "execution_count": 31,
     "metadata": {},
     "output_type": "execute_result"
    }
   ],
   "source": [
    "arr1-arr2"
   ]
  },
  {
   "cell_type": "code",
   "execution_count": 32,
   "metadata": {},
   "outputs": [
    {
     "data": {
      "text/plain": [
       "array([-121, -122, -123, -124, -125, -126, -127, -128, -129, -130])"
      ]
     },
     "execution_count": 32,
     "metadata": {},
     "output_type": "execute_result"
    }
   ],
   "source": [
    "arr1-arr2-arr3"
   ]
  },
  {
   "cell_type": "code",
   "execution_count": 33,
   "metadata": {},
   "outputs": [
    {
     "data": {
      "text/plain": [
       "array([21, 11,  7,  6,  5,  4,  3,  3,  3,  3])"
      ]
     },
     "execution_count": 33,
     "metadata": {},
     "output_type": "execute_result"
    }
   ],
   "source": [
    "arr2//arr1"
   ]
  },
  {
   "cell_type": "code",
   "execution_count": 34,
   "metadata": {},
   "outputs": [
    {
     "data": {
      "text/plain": [
       "array([0, 0, 2, 0, 0, 2, 6, 4, 2, 0])"
      ]
     },
     "execution_count": 34,
     "metadata": {},
     "output_type": "execute_result"
    }
   ],
   "source": [
    "arr2%arr1"
   ]
  },
  {
   "cell_type": "markdown",
   "metadata": {},
   "source": [
    "# Generating Arrays\n",
    "\n",
    "Numpy has many built in functions that allows you to quickly get a large array between a starting and ending number. Some of those functions are np.linspace(), np.arange(), np.logspace(). These functions are really great when we need to generate an array of X-values for our plots. We will cover all three of them in detail in the next few cells. \n",
    "\n",
    "In short np.linspace() produces an array that is equally spaced between a starting and ending number\n",
    "\n",
    "np.arange() has a step size argument so you can give np.arange() a starting and ending point and a step size and you will get an array of values separated by the step size you inputted. This is really good when you are doing histograms as you have full control over the bin size through the step_size argument in np.arange()\n",
    "\n",
    "\n",
    "np.logspace() is similar to np.linspace() but it generates a set of equally spaced values from starting number to ending number in log-space. "
   ]
  },
  {
   "cell_type": "code",
   "execution_count": 38,
   "metadata": {},
   "outputs": [
    {
     "name": "stdout",
     "output_type": "stream",
     "text": [
      "500\n"
     ]
    }
   ],
   "source": [
    "#quickly generating an array of 1000 equally spaced values between 1-100\n",
    "#Note how the ending number 100 is included\n",
    "x = np.linspace(-100, 100, 500)\n",
    "print(len(x))"
   ]
  },
  {
   "cell_type": "code",
   "execution_count": 39,
   "metadata": {},
   "outputs": [
    {
     "data": {
      "text/plain": [
       "array([  1.,  12.,  23.,  34.,  45.,  56.,  67.,  78.,  89., 100.])"
      ]
     },
     "execution_count": 39,
     "metadata": {},
     "output_type": "execute_result"
    }
   ],
   "source": [
    "#quickly generating an array of 10 equally spaced values between 1-100\n",
    "np.linspace(1, 100, 10)"
   ]
  },
  {
   "cell_type": "code",
   "execution_count": 45,
   "metadata": {},
   "outputs": [
    {
     "data": {
      "text/plain": [
       "array([ 1,  2,  3,  4,  5,  6,  7,  8,  9, 10, 11, 12, 13, 14, 15, 16, 17,\n",
       "       18, 19, 20, 21, 22, 23, 24, 25, 26, 27, 28, 29, 30, 31, 32, 33, 34,\n",
       "       35, 36, 37, 38, 39, 40, 41, 42, 43, 44, 45, 46, 47, 48, 49, 50, 51,\n",
       "       52, 53, 54, 55, 56, 57, 58, 59, 60, 61, 62, 63, 64, 65, 66, 67, 68,\n",
       "       69, 70, 71, 72, 73, 74, 75, 76, 77, 78, 79, 80, 81, 82, 83, 84, 85,\n",
       "       86, 87, 88, 89, 90, 91, 92, 93, 94, 95, 96, 97, 98, 99])"
      ]
     },
     "execution_count": 45,
     "metadata": {},
     "output_type": "execute_result"
    }
   ],
   "source": [
    "#let us try to create the same array as above but with np.arange\n",
    "np.arange(1, 100, 1)"
   ]
  },
  {
   "cell_type": "code",
   "execution_count": 41,
   "metadata": {},
   "outputs": [
    {
     "data": {
      "text/plain": [
       "array([  1,  12,  23,  34,  45,  56,  67,  78,  89, 100])"
      ]
     },
     "execution_count": 41,
     "metadata": {},
     "output_type": "execute_result"
    }
   ],
   "source": [
    "#np.arange is exclusive of the ending number so if we want it to end at 100 we need to increase the ending number\n",
    "np.arange(1, 101, 11)"
   ]
  },
  {
   "cell_type": "code",
   "execution_count": 49,
   "metadata": {},
   "outputs": [
    {
     "data": {
      "text/plain": [
       "array([  1.        ,   1.04761575,   1.09749877,   1.149757  ,\n",
       "         1.20450354,   1.26185688,   1.32194115,   1.38488637,\n",
       "         1.45082878,   1.51991108,   1.59228279,   1.66810054,\n",
       "         1.7475284 ,   1.83073828,   1.91791026,   2.009233  ,\n",
       "         2.10490414,   2.20513074,   2.3101297 ,   2.42012826,\n",
       "         2.53536449,   2.65608778,   2.7825594 ,   2.91505306,\n",
       "         3.05385551,   3.19926714,   3.35160265,   3.51119173,\n",
       "         3.67837977,   3.85352859,   4.03701726,   4.22924287,\n",
       "         4.43062146,   4.64158883,   4.86260158,   5.09413801,\n",
       "         5.33669923,   5.59081018,   5.85702082,   6.13590727,\n",
       "         6.42807312,   6.73415066,   7.05480231,   7.39072203,\n",
       "         7.74263683,   8.11130831,   8.49753436,   8.90215085,\n",
       "         9.32603347,   9.77009957,  10.23531022,  10.72267222,\n",
       "        11.23324033,  11.76811952,  12.32846739,  12.91549665,\n",
       "        13.53047775,  14.17474163,  14.84968262,  15.55676144,\n",
       "        16.29750835,  17.07352647,  17.88649529,  18.73817423,\n",
       "        19.6304065 ,  20.56512308,  21.5443469 ,  22.5701972 ,\n",
       "        23.64489413,  24.77076356,  25.95024211,  27.18588243,\n",
       "        28.48035868,  29.8364724 ,  31.2571585 ,  32.74549163,\n",
       "        34.30469286,  35.93813664,  37.64935807,  39.44206059,\n",
       "        41.320124  ,  43.28761281,  45.34878508,  47.50810162,\n",
       "        49.77023564,  52.14008288,  54.62277218,  57.22367659,\n",
       "        59.94842503,  62.80291442,  65.79332247,  68.92612104,\n",
       "        72.20809018,  75.64633276,  79.24828984,  83.02175681,\n",
       "        86.97490026,  91.11627561,  95.45484567, 100.        ])"
      ]
     },
     "execution_count": 49,
     "metadata": {},
     "output_type": "execute_result"
    }
   ],
   "source": [
    "#np.logspace works in logspace and the starting and ending values are the log of those numbers\n",
    "#so a value of -2 is the same as 10^-2, a value of 4 is 10^4, value of 0 is 10^0 = 1\n",
    "#this genereates an equal spacing array in log-space which is different than linear spacing\n",
    "np.logspace(0, 2, 100)"
   ]
  },
  {
   "cell_type": "markdown",
   "metadata": {},
   "source": [
    "# Exercise \n",
    "\n",
    "Using linspace, logspace or building your own arrays make 5 arrays of length 10 of:\n",
    "\n",
    "- Mass1 Array: An array of masses in units of kg, should be between $10^{29} - 10^{34}$ kgs\n",
    "- Mass2 Array: An array of masses in units of kg, should be between $10^{32} - 10^{34}$ kgs\n",
    "- Distance Array: An array of distances in meters of order $10^{10} - 10^{30}$ m\n",
    "- Radius1 Array: An array of raidus in meters of order $10^{7} - 10^{10}$ m\n",
    "- Radius2 Array: An array of raidus in meters of order $10^{7} - 10^{10}$ m\n",
    "\n",
    "\n",
    "Once you have created the arrays please do the following: \n",
    "\n",
    "1. Compute the gravitational attraction between the two Stars in Mass1 and Mass2 using:\n",
    "\n",
    "$F = \\frac{G m_1 m_2}{d^2}$\n",
    "\n",
    "2. Compute the escape velocity of each of the stars:\n",
    "\n",
    "$v_{esc} = \\sqrt{\\frac{2 G M}{R}}$\n",
    "\n",
    "\n",
    "3. Compute the average of the Mass, Radius and Distance\n",
    "\n"
   ]
  },
  {
   "cell_type": "code",
   "execution_count": 55,
   "metadata": {},
   "outputs": [],
   "source": [
    "########## Code Here ###########\n",
    "\n",
    "Mass1 = np.linspace(1e29, 1e34, 10)\n",
    "#Mass1 = np.logspace(29, 34, 10)\n",
    "\n",
    "Mass2 = np.linspace(1e32, 1e34, 10)\n",
    "#Mass2 = np.logspace(32, 34, 10)\n",
    "\n",
    "distance = np.linspace(1e10, 1e30, 10)\n",
    "#distance = np.logspace(10, 34, 10)\n",
    "\n",
    "Radius1 = np.linspace(1e7, 1e10, 10)\n",
    "Radius2 = np.linspace(1e7, 1e10, 10)\n",
    "\n",
    "G = 6.67e-11\n",
    "\n",
    "Force = (G*Mass1*Mass2)/distance**2\n",
    "vesc1 = (2*G*Mass1/Radius1)**(1/2)\n",
    "vesc2 = (2*G*Mass2/Radius2)**(1/2)\n",
    "\n",
    "#vesc1 = np.sqrt(2*G*Mass1/Radius1\n",
    "\n",
    "avg_Mass1 = np.sum(Mass1)/Mass1.shape"
   ]
  },
  {
   "cell_type": "code",
   "execution_count": 52,
   "metadata": {},
   "outputs": [
    {
     "data": {
      "text/plain": [
       "(10,)"
      ]
     },
     "execution_count": 52,
     "metadata": {},
     "output_type": "execute_result"
    }
   ],
   "source": [
    "Mass1.shape"
   ]
  },
  {
   "cell_type": "code",
   "execution_count": 54,
   "metadata": {},
   "outputs": [
    {
     "data": {
      "text/plain": [
       "5.00005e+33"
      ]
     },
     "execution_count": 54,
     "metadata": {},
     "output_type": "execute_result"
    }
   ],
   "source": [
    "avg_Mass1"
   ]
  },
  {
   "cell_type": "markdown",
   "metadata": {},
   "source": [
    "# Useful Numpy Functions"
   ]
  },
  {
   "cell_type": "code",
   "execution_count": 56,
   "metadata": {},
   "outputs": [],
   "source": [
    "example_array = np.array([-10, -9, -30, 1, 2, 3, 4, 5, 6, 7, 8, 9, 10, \n",
    "                           -134, 332, 324, -3312, 23213, -423321, 12321])"
   ]
  },
  {
   "cell_type": "code",
   "execution_count": 60,
   "metadata": {},
   "outputs": [],
   "source": [
    "positive_mask = example_array > 0"
   ]
  },
  {
   "cell_type": "code",
   "execution_count": 61,
   "metadata": {},
   "outputs": [
    {
     "data": {
      "text/plain": [
       "array([    1,     2,     3,     4,     5,     6,     7,     8,     9,\n",
       "          10,   332,   324, 23213, 12321])"
      ]
     },
     "execution_count": 61,
     "metadata": {},
     "output_type": "execute_result"
    }
   ],
   "source": [
    "example_array[positive_mask]"
   ]
  },
  {
   "cell_type": "code",
   "execution_count": 58,
   "metadata": {},
   "outputs": [],
   "source": [
    "idx = np.where(example_array > 0)"
   ]
  },
  {
   "cell_type": "code",
   "execution_count": 59,
   "metadata": {},
   "outputs": [
    {
     "data": {
      "text/plain": [
       "array([    1,     2,     3,     4,     5,     6,     7,     8,     9,\n",
       "          10,   332,   324, 23213, 12321])"
      ]
     },
     "execution_count": 59,
     "metadata": {},
     "output_type": "execute_result"
    }
   ],
   "source": [
    "example_array[idx]"
   ]
  },
  {
   "cell_type": "code",
   "execution_count": 62,
   "metadata": {},
   "outputs": [
    {
     "data": {
      "text/plain": [
       "array([1., 1., 1., 1., 1., 1., 1., 1., 1., 1.])"
      ]
     },
     "execution_count": 62,
     "metadata": {},
     "output_type": "execute_result"
    }
   ],
   "source": [
    "np.ones(10)"
   ]
  },
  {
   "cell_type": "code",
   "execution_count": 63,
   "metadata": {},
   "outputs": [
    {
     "data": {
      "text/plain": [
       "array([0., 0., 0., 0., 0., 0., 0., 0., 0., 0.])"
      ]
     },
     "execution_count": 63,
     "metadata": {},
     "output_type": "execute_result"
    }
   ],
   "source": [
    "np.zeros(10)"
   ]
  },
  {
   "cell_type": "code",
   "execution_count": null,
   "metadata": {},
   "outputs": [],
   "source": []
  },
  {
   "cell_type": "markdown",
   "metadata": {},
   "source": [
    "# Boolean Masking\n",
    "\n",
    "A very cool thing that arrays can do is that we can perform conditional expressions across an entire array. This will result in an array of True and False values which we can use to subselect the relevant values from a larger array. Let us see this in action below."
   ]
  },
  {
   "cell_type": "code",
   "execution_count": null,
   "metadata": {},
   "outputs": [],
   "source": [
    "random_numbers = np.random.normal(loc = 2, scale = 1, size = 100)\n",
    "\n",
    "print(random_numbers)\n",
    "print()\n",
    "print('Length: ', len(random_numbers))"
   ]
  },
  {
   "cell_type": "code",
   "execution_count": null,
   "metadata": {},
   "outputs": [],
   "source": [
    "#making a conditional to only select numbers between 2 and 4\n",
    "range_2_to_4 = ((random_numbers > 2) &\n",
    "                (random_numbers < 4))\n",
    "\n",
    "print(range_2_to_4)"
   ]
  },
  {
   "cell_type": "code",
   "execution_count": null,
   "metadata": {},
   "outputs": [],
   "source": [
    "#let us now apply this boolean mask to the random numbers to subselect the values within the range 2 to 4\n",
    "\n",
    "subsample = random_numbers[range_2_to_4]\n",
    "\n",
    "print(subsample)\n",
    "print()\n",
    "print('Length: ', len(subsample))"
   ]
  },
  {
   "cell_type": "markdown",
   "metadata": {},
   "source": [
    "# Note:\n",
    "\n",
    "Boolean masks are a great way to subselect data from an array with ease but it does come at a cost in that when you apply the mask onto an array it alters the size of the array, we started off with an array of length 100 and when we applied the mask it down selected reducing the size of the array. This has important implication if you are working with many different arrays and they need to be the same size for plotting. The way to fix this is that you would need to apply this mask to the other arrays as well to make sure they are the same size and match up for any subsequent analysis and plotting purposes."
   ]
  },
  {
   "cell_type": "markdown",
   "metadata": {},
   "source": [
    "# 2D Arrays\n",
    "\n",
    "In the next few notebooks, we will encounter a type of array called ND-Arrays these arrays are N-dimensional arrays but for the sake of introducing ND-arrays we will be working with 2D-arrays but the same concepts learned here can be extrapolated to higher dimensional arrays. 2D arrays are the typical data structure of images which will be the focus of the Photometry Module. So knowing how to manipulate 2D arrays and performing mathematical operations is crucial for that module. \n",
    "\n",
    "2D arrays are made by turning a list of list into an array. Take, for example. that we have the following list within list [[1, 2, 3, 4], [10, 11, 12, 13]], we can turn this into a 2D array using the np.array() function.\n",
    "\n",
    "    twoD_array = np.array([[1, 2, 3, 4], [10, 11, 12, 13]])\n",
    "    \n",
    "What numpy will do is that it will make the first list, [1, 2, 3, 4], be the first row in the 2D array and the second list, [10, 11, 12, 13], will be the second row. This will make a matrix with row and column values. With this example shown here it will make a 2x4 array with 2 rows and 4 columns. Let us apply this in python."
   ]
  },
  {
   "cell_type": "code",
   "execution_count": null,
   "metadata": {},
   "outputs": [],
   "source": [
    "#defining a 2D array with 2 rows and 4 columns\n",
    "twoD_array = np.array([[1, 2, 3, 4],[10, 11, 12, 13]])\n",
    "\n",
    "print(twoD_array)"
   ]
  },
  {
   "cell_type": "markdown",
   "metadata": {},
   "source": [
    "# Indexing 2D Arrays\n",
    "\n",
    "Indexing 2D-arrays builds on indexing 1D arrays as we have two locations to specify we need to specify. The index across the row and the index across the column to grab the value that we want. Let us say we want to get the value 12. By eye we can see that it is in the second row and in the third column. All the rules of indexing still apply as well as splicing, striding and negative indexing. In this simple example of getting 12 we would do the following:"
   ]
  },
  {
   "cell_type": "code",
   "execution_count": null,
   "metadata": {},
   "outputs": [],
   "source": [
    "#getting the value of 12, 2nd row is index 1 and 3rd column is at index 2\n",
    "twoD_array[1, 2]"
   ]
  },
  {
   "cell_type": "markdown",
   "metadata": {},
   "source": [
    "In general to get a single value from a 2D array requires us to use the syntax below:\n",
    "\n",
    "twoD_array[Row_index, Column_index]\n",
    "\n",
    "\n",
    "This can be generalized to include slicing:\n",
    "\n",
    "twoD_array[start_row_index:ending_row_index, start_col_index: ending_col_index]\n",
    "\n",
    "Note that the ',' is what tells python when the index is for row or for columns\n",
    "\n",
    "If you want all the rows of a column the syntax for that is as follows:\n",
    "\n",
    "twoD_array[:, col_index]\n",
    "\n",
    "If you want all the columns from a row you can use either of the two methods shown below:\n",
    "\n",
    "1. twoD_array[row_index]\n",
    "2. twoD_array[row_index, :]\n",
    "\n",
    "Both will give you the entire row corresponding to the row_index. \n",
    "\n",
    "Let's apply this to a larger 2D array to see this in action."
   ]
  },
  {
   "cell_type": "code",
   "execution_count": null,
   "metadata": {},
   "outputs": [],
   "source": [
    "big_2d_arr = np.random.normal(loc = 2, \n",
    "                              scale = 1, \n",
    "                              size = (10, 12), #this is how you tell numpy you want a 10x12 array of values\n",
    "                              )\n",
    "\n",
    "print(big_2d_arr)"
   ]
  },
  {
   "cell_type": "code",
   "execution_count": null,
   "metadata": {},
   "outputs": [],
   "source": [
    "#let's select the entire 5th row\n",
    "print(big_2d_arr[4])\n",
    "print('or')\n",
    "print(big_2d_arr[4, :])"
   ]
  },
  {
   "cell_type": "code",
   "execution_count": null,
   "metadata": {},
   "outputs": [],
   "source": [
    "#let's select the entire 5th column\n",
    "print(big_2d_arr[:, 4])"
   ]
  },
  {
   "cell_type": "code",
   "execution_count": null,
   "metadata": {},
   "outputs": [],
   "source": [
    "#let us select row 2 - 5 and columns 6 - 10\n",
    "\n",
    "    #row indexing , column indexing\n",
    "big_2d_arr[1:5    ,  5:10]"
   ]
  },
  {
   "cell_type": "markdown",
   "metadata": {},
   "source": [
    "# Math with 2D Arrays and Scalars\n",
    "\n",
    "Everything we covered with 1D arrays for scalar arithmetic stills applies with 2D array you can take any number and perform any math operator on a 2D-array and every single element will have that operation applied.\n"
   ]
  },
  {
   "cell_type": "code",
   "execution_count": null,
   "metadata": {},
   "outputs": [],
   "source": [
    "twod_arr = np.ones(shape = (4, 5))\n",
    "print(twod_arr)"
   ]
  },
  {
   "cell_type": "code",
   "execution_count": null,
   "metadata": {},
   "outputs": [],
   "source": [
    "twod_arr + 5"
   ]
  },
  {
   "cell_type": "code",
   "execution_count": null,
   "metadata": {},
   "outputs": [],
   "source": [
    "twod_arr - .5"
   ]
  },
  {
   "cell_type": "code",
   "execution_count": null,
   "metadata": {},
   "outputs": [],
   "source": [
    "twod_arr / 2"
   ]
  },
  {
   "cell_type": "code",
   "execution_count": null,
   "metadata": {},
   "outputs": [],
   "source": [
    "twod_arr * 5"
   ]
  },
  {
   "cell_type": "code",
   "execution_count": null,
   "metadata": {},
   "outputs": [],
   "source": [
    "(2*twod_arr)**2"
   ]
  },
  {
   "cell_type": "markdown",
   "metadata": {},
   "source": [
    "# Math between 2D Arrays and 1D Arrays\n",
    "\n",
    "You can also perform mathematical operators between 2D arrays and 1D arrays but there is a criteria that must be met, the 1D array $\\textbf{MUST}$ be the same size as the columns of the 2D array. So if you have a 10 x 12 array the 1D array needs to be length 12 to perform mathematical operations. \n",
    "\n",
    "The way math is carried out between these two is that every row gets the math operator applied making sure that the same elements are undergoing the operation. To explain this with an example let us take the following array: np.array([[1, 2, 3], [2, 4, 8], [3, 6, 9]]) and the 1D-array np.array([2, 2, 2]) and let's say I need to multiply these two arrays. \n",
    "\n",
    "What will happen is that numpy will take the first row of the 2D array and perform the multiplication [1, 2, 3] * [2, 2, 2] and since we have two 1D arrays of the same length we perform the operation element-wise. The output for this is going to be: [2, 4, 6] and this will be the new row1 in the output 2D array. The second row then does the same operation: [2, 4, 8] * [2, 2, 2] = [4, 8, 16] and this will be the second row and so on. so the resulting 2D array from this operation will be: np.array([[2, 4, 6], [4, 8, 16], [6, 12, 18]]). \n"
   ]
  },
  {
   "cell_type": "code",
   "execution_count": null,
   "metadata": {},
   "outputs": [],
   "source": [
    "ex_2darr = np.array([[1, 2, 3], [2, 4, 8], [3, 6, 9]])\n",
    "ex_1darr = np.array([2, 2, 2])"
   ]
  },
  {
   "cell_type": "code",
   "execution_count": null,
   "metadata": {},
   "outputs": [],
   "source": [
    "ex_2darr + ex_1darr"
   ]
  },
  {
   "cell_type": "code",
   "execution_count": null,
   "metadata": {},
   "outputs": [],
   "source": [
    "ex_2darr - ex_1darr"
   ]
  },
  {
   "cell_type": "code",
   "execution_count": null,
   "metadata": {},
   "outputs": [],
   "source": [
    "ex_2darr * ex_1darr"
   ]
  },
  {
   "cell_type": "code",
   "execution_count": null,
   "metadata": {},
   "outputs": [],
   "source": [
    "ex_2darr / ex_1darr"
   ]
  },
  {
   "cell_type": "markdown",
   "metadata": {},
   "source": [
    "# Math Between 2D Arrays and 2D Arrays\n",
    "\n",
    "You can also perform mathematical operations between many other 2D arrays. This also has a strict criteria that must be met and this is that the $\\textbf{shape}$ of the arrays $\\textbf{MUST}$ be the same. The number of rows and columns must match exactly for mathematical operations to be performed between any number of 2D arrays. The math performed here is done element wise so every item with a similar row and column index will have the operation applied to it. The first row and first column element of all the arrays will have the math operation performed, The first row and second column element of all the arrays will have the math operation performed, and so on. Let's see an example of this in use."
   ]
  },
  {
   "cell_type": "code",
   "execution_count": null,
   "metadata": {},
   "outputs": [],
   "source": [
    "twod_arr1 = np.random.randint(1, 100, size = (5, 7))\n",
    "twod_arr2 = np.random.random(size = (5, 7))"
   ]
  },
  {
   "cell_type": "code",
   "execution_count": null,
   "metadata": {},
   "outputs": [],
   "source": [
    "#you can check the shape of an array using the shape attribute\n",
    "twod_arr1.shape"
   ]
  },
  {
   "cell_type": "code",
   "execution_count": null,
   "metadata": {},
   "outputs": [],
   "source": [
    "#you can check the shape of an array using the shape attribute\n",
    "twod_arr2.shape"
   ]
  },
  {
   "cell_type": "code",
   "execution_count": null,
   "metadata": {},
   "outputs": [],
   "source": [
    "twod_arr1 + twod_arr2"
   ]
  },
  {
   "cell_type": "code",
   "execution_count": null,
   "metadata": {},
   "outputs": [],
   "source": [
    "twod_arr1 - twod_arr2"
   ]
  },
  {
   "cell_type": "code",
   "execution_count": null,
   "metadata": {},
   "outputs": [],
   "source": [
    "twod_arr1 * twod_arr2"
   ]
  },
  {
   "cell_type": "code",
   "execution_count": null,
   "metadata": {},
   "outputs": [],
   "source": [
    "twod_arr1 / twod_arr2"
   ]
  },
  {
   "cell_type": "markdown",
   "metadata": {},
   "source": [
    "# Boolean Masking for 2D Arrays\n",
    "\n",
    "Everything we covered about masking for 1D array is transferable to 2D arrays. We just have an added dimension to work with. The main thing to note about applying boolean masks to 2D arrays is that it changes both the row and column size based off of the mask being applied."
   ]
  },
  {
   "cell_type": "code",
   "execution_count": null,
   "metadata": {},
   "outputs": [],
   "source": [
    "ex_2d_arr = np.random.normal(loc = 2, scale = 1, size = (5, 7))\n",
    "\n",
    "ex_2d_arr > 3"
   ]
  },
  {
   "cell_type": "code",
   "execution_count": null,
   "metadata": {},
   "outputs": [],
   "source": [
    "bool_mask = ex_2d_arr > 3\n",
    "\n",
    "ex_2d_arr_masked = ex_2d_arr[bool_mask]\n",
    "\n",
    "print(ex_2d_arr_masked)"
   ]
  },
  {
   "cell_type": "code",
   "execution_count": null,
   "metadata": {},
   "outputs": [],
   "source": [
    "#you can apply a 1D boolean mask so long as it matches the row or column length you are trying to mask\n",
    "\n",
    "#this will mask out the 2nd and last row of the 2D array\n",
    "bool_mask1d = np.array([True, False, True, True, False])\n",
    "\n",
    "print(ex_2d_arr[bool_mask1d])\n",
    "print()\n",
    "print(ex_2d_arr[bool_mask1d].shape)"
   ]
  },
  {
   "cell_type": "code",
   "execution_count": null,
   "metadata": {},
   "outputs": [],
   "source": [
    "#you can apply a 1D boolean mask so long as it matches the row or column length you are trying to mask\n",
    "\n",
    "#this will mask out the 2nd and 5th columns of the 2D array\n",
    "bool_mask1d = np.array([True, False, True, True, False, True, True])\n",
    "\n",
    "print(ex_2d_arr[:, bool_mask1d])\n",
    "print()\n",
    "print(ex_2d_arr[:, bool_mask1d].shape)"
   ]
  }
 ],
 "metadata": {
  "kernelspec": {
   "display_name": "base",
   "language": "python",
   "name": "python3"
  },
  "language_info": {
   "codemirror_mode": {
    "name": "ipython",
    "version": 3
   },
   "file_extension": ".py",
   "mimetype": "text/x-python",
   "name": "python",
   "nbconvert_exporter": "python",
   "pygments_lexer": "ipython3",
   "version": "3.11.9"
  }
 },
 "nbformat": 4,
 "nbformat_minor": 4
}
