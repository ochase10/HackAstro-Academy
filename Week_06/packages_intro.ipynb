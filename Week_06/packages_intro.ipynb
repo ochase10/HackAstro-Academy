{
 "cells": [
  {
   "cell_type": "markdown",
   "metadata": {},
   "source": [
    "# Packages\n",
    "\n",
    "We've seen how functions make it easy to write general-purpose routines that we can reuse, saving us from rewriting the code. You can imagine that there are a vast number of functions that might be useful for our coding purposes. Some of these are implemented for us in default Python. Things like addition, writing to files, appending elements to lists, are functions that someone wrote and made accessible to you when you launch the Python executable. However, despite the large set of functions packaged with Python by default, there are many possibly useful functions that are not. We wouldn't want the Python install to be a terrabyte, after all. \n",
    "\n",
    "Since Python doesn't include all the functions we want, we can always just write what we need ourselves. But writing software, especially efficient, reliable, and complicated software, is time consuming and requires a lot of background knowledge. It might even require writing in other programming languages.\n",
    "\n",
    "For example, we might want a function that takes 2 lists and creates an image showing the data plotted as pairs of coordinates on a set of axes. We could spend weeks or months toiling away trying to write our own function to do this, or we could just let someone else do it and copy their function (with their permission of course). That was the beauty of functions after all, they're portable code blocks that aren't tied to any specific use-case/program. This is where packages come in.\n",
    "\n",
    "Python packages are essentially libraries of functions written by others and kindly distributed to us for free. So how does it work? Well, first we need to download and install these fancy libraries. Then we simply load them into our environment and we're free to use them to our heart's content. It's as easy as that. \n",
    "\n",
    "## Some Noteworthy Packages:\n",
    "1. NumPy: Elaborate suite of math and array functions. Maybe the most common package in Python\n",
    "2. SciPy: Extensive set of useful scientific functions useful for statistics, math, and more\n",
    "3. Matplotlib: An excellent package for creating custom plots and data visualizations\n",
    "4. Pandas: A data analysis package built around implementing DataFrame objects\n",
    "5. AstroPy: A utility package for all things astronomy\n",
    "\n",
    "Note that even these packages use packages! In fact, #2-5 are all built on top of NumPy!\n",
    "\n",
    "There's genuinely nothing special about the code contained in packages. You could write it yourself given enough time. They just save us from re-doing things other people already did, allowing us to focus on the fun science. It also helps maintain interoperability. Many packages work seamlessly together because they are both built on NumPy. You can imagine how complicated things would get if everyone did everything their own way.\n",
    "\n",
    "## Let's import a package\n",
    "\n",
    "Before running the next cell, ensure that you have NumPy installed. If you're using a conda distribution of Python, go to the terminal, activate your desired environment and run 'conda install numpy'. If that fail or you are not using conda, go to a terminal and run 'pip install numpy'.\n",
    "\n",
    "Remember, packages are libraries *external* to Python. We have to download and install them in order to use them. We'll talk more about package managers at the end of this notebook, but you've been reading for a while already so let's run some code!"
   ]
  },
  {
   "cell_type": "code",
   "execution_count": null,
   "metadata": {},
   "outputs": [],
   "source": [
    "# To load a package for use in your program, simply use the 'import' keyword \n",
    "#  followed by the name of the package\n",
    "import numpy"
   ]
  },
  {
   "cell_type": "markdown",
   "metadata": {},
   "source": [
    "Now that we've loaded in NumPy, we have access to tons of new functions. Suppose NumPy contains a function with the same name as a built-in function, though (it does). How can Python know which one to use? \n",
    "\n",
    "By default, Python will make a packages functions accessible via the '.' syntax on the package name. So to access the 'add' function from NumPy, we would write 'numpy.add()' rather than simply add(), even though there is no default Python function names add(). "
   ]
  },
  {
   "cell_type": "code",
   "execution_count": null,
   "metadata": {},
   "outputs": [],
   "source": [
    "# This runs the add function implemented in NumPy\n",
    "print(numpy.add(1,2))\n",
    "\n",
    "# Python has a sum() function built in for adding all the numbers in a list\n",
    "print(sum([1,2,3]))\n",
    "\n",
    "# NumPy also has a sum() function which can do the same thing\n",
    "print(numpy.sum([1,2,3]))\n",
    "\n",
    "#Note that the two functions achieve the same result, but they are actually running different code."
   ]
  },
  {
   "cell_type": "markdown",
   "metadata": {},
   "source": [
    "Sometimes package names are long, so it can get annoying writing them every time we want to use one of their functions. Luckily, Python has aliasing built-in to allow us to use whatever name we want to reference a package. \n",
    "\n",
    "This can make your code less readable, so many packages have standard abbreviations that almost everyone uses. This makes it easier to understand what someone else's code does without having to think too hard."
   ]
  },
  {
   "cell_type": "code",
   "execution_count": null,
   "metadata": {},
   "outputs": [],
   "source": [
    "# Let's import NumPy with an alias\n",
    "# Simply use the 'as' keyword (just like we did with file I/O)\n",
    "import numpy as np\n",
    "\n",
    "# Now 'np' will be interpreted as numpy and can be used in its place\n",
    "np.add(1,2)\n",
    "\n",
    "# Note Python will not recognize the original name if we alias it\n",
    "# That means that in this case, if we load numpy as np, we can no longer \n",
    "#  write something like numpy.add(), we have to use the np alias.\n"
   ]
  },
  {
   "cell_type": "markdown",
   "metadata": {},
   "source": [
    "Like we said, NumPy is a very large library of functions. That means loading them all into memory may be laborious for certain applications. Or we may have other libraries that are extremely bloated. If this is the case, and we only need 1 or 2 functions, Python allows us to import only specific functions from within libraries by using the 'from' keyword."
   ]
  },
  {
   "cell_type": "code",
   "execution_count": null,
   "metadata": {},
   "outputs": [],
   "source": [
    "# If we only want to import the add() function, we just use this call\n",
    "from numpy import add\n",
    "\n",
    "# Now we can use add() without the numpy.add syntax\n",
    "add(1,2)"
   ]
  },
  {
   "cell_type": "code",
   "execution_count": null,
   "metadata": {},
   "outputs": [],
   "source": [
    "# We could also alias just the function\n",
    "from numpy import add as addition\n",
    "\n",
    "addition(1,2)"
   ]
  },
  {
   "cell_type": "code",
   "execution_count": null,
   "metadata": {},
   "outputs": [],
   "source": [
    "# If we import a function that is already defined, the new function takes precedence\n",
    "sum?"
   ]
  },
  {
   "cell_type": "code",
   "execution_count": null,
   "metadata": {},
   "outputs": [],
   "source": [
    "from numpy import sum\n",
    "sum?"
   ]
  },
  {
   "cell_type": "markdown",
   "metadata": {},
   "source": [
    "Ok, so packages have a ton of useful functions, and there are tons of useful packages. How can you find what packages to use and what functions they contain?\n",
    "\n",
    "### Good ol' Google\n",
    "\n",
    "On of the first things you can do when you're stuck in your programming or you feel like there must be a better way is to simply Google how to do a particular thing. The internet is bursting with info on coding, and the most popular packages have been used and reused in almost every way imagineable. You would be hard-pressed to encounter an issue that someone else hasn't already had and solved.\n",
    "\n",
    "### Documentation\n",
    "\n",
    "Any package that is meant to be useful to others will have some sort of online documentation. Most packages have their documented source code publicly available on GitHub. Larger packages like NumPy and AstroPy have dedicated sites for hosting extensive documentation, examples, and troubleshooting. \n",
    "\n",
    "This can be daunting as the packages generally have a lot of functions, but if you hone in on specific functions at first, you'll see that the documentation is no harder to read than the doc strings we have already worked with. Also, you can usually scroll down to see examples that you can even copy-paste to run/modify just to get a feel for the usage. \n",
    "\n",
    "\n",
    "# Challenge\n",
    "\n",
    "Go to one of the documentation sites below and find a function you like or think would be useful. Read over the docs for that function and how to use it, and come to the next class ready to briefly present the function to the class.\n",
    "\n",
    "NumPy: https://numpy.org/doc/stable/\n",
    "\n",
    "SciPy: https://docs.scipy.org/doc/scipy/"
   ]
  },
  {
   "cell_type": "markdown",
   "metadata": {},
   "source": [
    "## Extras\n",
    "\n",
    "If you spend some time on the docs for NumPy or similar packages, you'll find that the functions are often catagorized under certain banners. These are submodules contained within one pacakge. For example, in SciPy has a stats module, a linalg module, an optimize module, etc. To import or access submodules or their functions, we need to use the '.' syntax again."
   ]
  },
  {
   "cell_type": "code",
   "execution_count": null,
   "metadata": {},
   "outputs": [],
   "source": [
    "# Suppose I want to use SciPy's curve fitting function\n",
    "# Since it is in the optimize submodule, I need to tell Python to look there for it\n",
    "\n",
    "import scipy\n",
    "scipy.optimize.curve_fit"
   ]
  },
  {
   "cell_type": "code",
   "execution_count": null,
   "metadata": {},
   "outputs": [],
   "source": [
    "# Alternatively, I can import just the submodule or just the function itself as before\n",
    "import scipy.optimize\n",
    "scipy.optimize.curve_fit"
   ]
  },
  {
   "cell_type": "code",
   "execution_count": null,
   "metadata": {},
   "outputs": [],
   "source": [
    "from scipy.optimize import curve_fit\n",
    "curve_fit"
   ]
  },
  {
   "cell_type": "code",
   "execution_count": null,
   "metadata": {},
   "outputs": [],
   "source": [
    "from scipy import optimize\n",
    "optimize.curve_fit"
   ]
  },
  {
   "cell_type": "markdown",
   "metadata": {},
   "source": [
    "While the above are all valid ways of loading the curve_fit() function, it is good to consider readability and reliability when writing code. Importing the function directly as curve_fit() may be less typing, but since it could overwrite other functions/variables in the namespace, it is often better to use the dotted namespace to alieviate possible confusion."
   ]
  },
  {
   "cell_type": "code",
   "execution_count": 15,
   "metadata": {},
   "outputs": [
    {
     "name": "stdout",
     "output_type": "stream",
     "text": [
      "[2, 8, 12, 20, 80, 200]\n"
     ]
    }
   ],
   "source": [
    "#Solution using Lists\n",
    "\n",
    "#when working with lists we would need to go through each and every element and multiply it by 2\n",
    "number_list = [1, 4, 6, 10, 40, 100]\n",
    "\n",
    "#for loop that goes through the index values of the number_list list\n",
    "for i in range(len(number_list)):\n",
    "    \n",
    "    #We replace the current value at index i with the value multiplied by 2\n",
    "    number_list[i] = number_list[i] * 2\n",
    "\n",
    "print(number_list)"
   ]
  },
  {
   "cell_type": "markdown",
   "metadata": {},
   "source": [
    "### Be careful with aliases\n",
    "\n",
    "Note that Python will put virtually no limits on the alias you assign to a package. This means you can override an existing word in the namespace. This example should illustrate the danger."
   ]
  },
  {
   "cell_type": "code",
   "execution_count": null,
   "metadata": {},
   "outputs": [],
   "source": [
    "# We'll alias numpy using print which is a function in default Python\n",
    "import numpy as print"
   ]
  },
  {
   "cell_type": "code",
   "execution_count": null,
   "metadata": {},
   "outputs": [],
   "source": [
    "# Before running this cell, guess what you think the result will be\n",
    "print(\"hi\")"
   ]
  },
  {
   "cell_type": "code",
   "execution_count": null,
   "metadata": {},
   "outputs": [],
   "source": [
    "# Take a guess what will happen when you run this cell\n",
    "print.arange(10)"
   ]
  },
  {
   "cell_type": "markdown",
   "metadata": {},
   "source": [
    "## Making Our Own Packages\n",
    "\n",
    "There's nothing particularly special about the code in very popular packages like NumPy or Matplotlib. We are fully capable of writing our own packages, for either our own or others' use. Packaging your most used functions in separate files makes them easier to access, less likely to get corrupted, and keeps your programs cleaner. \n",
    "\n",
    "To write our own packages, the only requirement is that we use .py files rather than Jupyter notebooks. Once we have some functions written into a .py file, we can import it just like any other package using the file name (without the .py extension), assuming the file is in the working directory or a different recognized package directory. \n",
    "\n",
    "*explain examples in week 6 dir*"
   ]
  },
  {
   "cell_type": "code",
   "execution_count": null,
   "metadata": {},
   "outputs": [],
   "source": []
  },
  {
   "cell_type": "code",
   "execution_count": null,
   "metadata": {},
   "outputs": [],
   "source": []
  },
  {
   "cell_type": "code",
   "execution_count": null,
   "metadata": {},
   "outputs": [],
   "source": [
    "#median of two sorted arrays"
   ]
  },
  {
   "cell_type": "code",
   "execution_count": null,
   "metadata": {},
   "outputs": [],
   "source": []
  },
  {
   "cell_type": "code",
   "execution_count": null,
   "metadata": {},
   "outputs": [],
   "source": []
  },
  {
   "cell_type": "code",
   "execution_count": 23,
   "metadata": {},
   "outputs": [],
   "source": [
    "arr1 = np.arange(1, 11, 1)\n",
    "arr2 = np.arange(21, 31, 1)\n",
    "arr3 = np.arange(101, 111, 1)"
   ]
  },
  {
   "cell_type": "code",
   "execution_count": 24,
   "metadata": {},
   "outputs": [
    {
     "name": "stdout",
     "output_type": "stream",
     "text": [
      "[ 1  2  3  4  5  6  7  8  9 10]\n",
      "[21 22 23 24 25 26 27 28 29 30]\n",
      "[101 102 103 104 105 106 107 108 109 110]\n"
     ]
    }
   ],
   "source": [
    "print(arr1)\n",
    "print(arr2)\n",
    "print(arr3)"
   ]
  },
  {
   "cell_type": "markdown",
   "metadata": {},
   "source": [
    "# Exercise \n",
    "\n",
    "Using linspace, logspace or building your own arrays make 5 arrays of length 10 of:\n",
    "\n",
    "- Mass1 Array: An array of masses in units of kg, should be between $10^{29} - 10^{34}$ kgs\n",
    "- Mass2 Array: An array of masses in units of kg, should be between $10^{32} - 10^{34}$ kgs\n",
    "- Distance Array: An array of distances in meters of order $10^{10} - 10^{30}$ m\n",
    "- Radius1 Array: An array of raidus in meters of order $10^{7} - 10^{10}$ m\n",
    "- Radius2 Array: An array of raidus in meters of order $10^{7} - 10^{10}$ m\n",
    "\n",
    "\n",
    "Once you have created the arrays please do the following: \n",
    "\n",
    "1. Compute the gravitational attraction between the two Stars in Mass1 and Mass2 using:\n",
    "\n",
    "$F = \\frac{G m_1 m_2}{d^2}$\n",
    "\n",
    "2. Compute the escape velocity of each of the stars:\n",
    "\n",
    "$v_{esc} = \\sqrt{\\frac{2 G M}{R}}$\n",
    "\n",
    "\n",
    "3. Compute the average of the Mass, Radius and Distance\n",
    "\n"
   ]
  },
  {
   "cell_type": "code",
   "execution_count": 55,
   "metadata": {},
   "outputs": [],
   "source": [
    "########## Code Here ###########\n",
    "\n",
    "Mass1 = np.linspace(1e29, 1e34, 10)\n",
    "#Mass1 = np.logspace(29, 34, 10)\n",
    "\n",
    "Mass2 = np.linspace(1e32, 1e34, 10)\n",
    "#Mass2 = np.logspace(32, 34, 10)\n",
    "\n",
    "distance = np.linspace(1e10, 1e30, 10)\n",
    "#distance = np.logspace(10, 34, 10)\n",
    "\n",
    "Radius1 = np.linspace(1e7, 1e10, 10)\n",
    "Radius2 = np.linspace(1e7, 1e10, 10)\n",
    "\n",
    "G = 6.67e-11\n",
    "\n",
    "Force = (G*Mass1*Mass2)/distance**2\n",
    "vesc1 = (2*G*Mass1/Radius1)**(1/2)\n",
    "vesc2 = (2*G*Mass2/Radius2)**(1/2)\n",
    "\n",
    "#vesc1 = np.sqrt(2*G*Mass1/Radius1\n",
    "\n",
    "avg_Mass1 = np.sum(Mass1)/Mass1.shape"
   ]
  },
  {
   "cell_type": "code",
   "execution_count": 52,
   "metadata": {},
   "outputs": [
    {
     "data": {
      "text/plain": [
       "(10,)"
      ]
     },
     "execution_count": 52,
     "metadata": {},
     "output_type": "execute_result"
    }
   ],
   "source": [
    "Mass1.shape"
   ]
  },
  {
   "cell_type": "code",
   "execution_count": 54,
   "metadata": {},
   "outputs": [
    {
     "data": {
      "text/plain": [
       "5.00005e+33"
      ]
     },
     "execution_count": 54,
     "metadata": {},
     "output_type": "execute_result"
    }
   ],
   "source": [
    "avg_Mass1"
   ]
  },
  {
   "cell_type": "markdown",
   "metadata": {},
   "source": [
    "# Useful Numpy Functions"
   ]
  },
  {
   "cell_type": "code",
   "execution_count": 56,
   "metadata": {},
   "outputs": [],
   "source": [
    "example_array = np.array([-10, -9, -30, 1, 2, 3, 4, 5, 6, 7, 8, 9, 10, \n",
    "                           -134, 332, 324, -3312, 23213, -423321, 12321])"
   ]
  },
  {
   "cell_type": "code",
   "execution_count": 60,
   "metadata": {},
   "outputs": [],
   "source": [
    "positive_mask = example_array > 0"
   ]
  },
  {
   "cell_type": "code",
   "execution_count": 61,
   "metadata": {},
   "outputs": [
    {
     "data": {
      "text/plain": [
       "array([    1,     2,     3,     4,     5,     6,     7,     8,     9,\n",
       "          10,   332,   324, 23213, 12321])"
      ]
     },
     "execution_count": 61,
     "metadata": {},
     "output_type": "execute_result"
    }
   ],
   "source": [
    "example_array[positive_mask]"
   ]
  },
  {
   "cell_type": "code",
   "execution_count": 58,
   "metadata": {},
   "outputs": [],
   "source": [
    "idx = np.where(example_array > 0)"
   ]
  },
  {
   "cell_type": "code",
   "execution_count": 59,
   "metadata": {},
   "outputs": [
    {
     "data": {
      "text/plain": [
       "array([    1,     2,     3,     4,     5,     6,     7,     8,     9,\n",
       "          10,   332,   324, 23213, 12321])"
      ]
     },
     "execution_count": 59,
     "metadata": {},
     "output_type": "execute_result"
    }
   ],
   "source": [
    "example_array[idx]"
   ]
  },
  {
   "cell_type": "markdown",
   "metadata": {},
   "source": [
    "# Math between 2D Arrays and 1D Arrays\n",
    "\n",
    "You can also perform mathematical operators between 2D arrays and 1D arrays but there is a criteria that must be met, the 1D array $\\textbf{MUST}$ be the same size as the columns of the 2D array. So if you have a 10 x 12 array the 1D array needs to be length 12 to perform mathematical operations. \n",
    "\n",
    "The way math is carried out between these two is that every row gets the math operator applied making sure that the same elements are undergoing the operation. To explain this with an example let us take the following array: np.array([[1, 2, 3], [2, 4, 8], [3, 6, 9]]) and the 1D-array np.array([2, 2, 2]) and let's say I need to multiply these two arrays. \n",
    "\n",
    "What will happen is that numpy will take the first row of the 2D array and perform the multiplication [1, 2, 3] * [2, 2, 2] and since we have two 1D arrays of the same length we perform the operation element-wise. The output for this is going to be: [2, 4, 6] and this will be the new row1 in the output 2D array. The second row then does the same operation: [2, 4, 8] * [2, 2, 2] = [4, 8, 16] and this will be the second row and so on. so the resulting 2D array from this operation will be: np.array([[2, 4, 6], [4, 8, 16], [6, 12, 18]]). \n"
   ]
  },
  {
   "cell_type": "code",
   "execution_count": null,
   "metadata": {},
   "outputs": [],
   "source": [
    "ex_2darr = np.array([[1, 2, 3], [2, 4, 8], [3, 6, 9]])\n",
    "ex_1darr = np.array([2, 2, 2])"
   ]
  },
  {
   "cell_type": "code",
   "execution_count": null,
   "metadata": {},
   "outputs": [],
   "source": [
    "twod_arr1 / twod_arr2"
   ]
  }
 ],
 "metadata": {
  "kernelspec": {
   "display_name": "base",
   "language": "python",
   "name": "python3"
  },
  "language_info": {
   "codemirror_mode": {
    "name": "ipython",
    "version": 3
   },
   "file_extension": ".py",
   "mimetype": "text/x-python",
   "name": "python",
   "nbconvert_exporter": "python",
   "pygments_lexer": "ipython3",
   "version": "3.11.9"
  }
 },
 "nbformat": 4,
 "nbformat_minor": 4
}
