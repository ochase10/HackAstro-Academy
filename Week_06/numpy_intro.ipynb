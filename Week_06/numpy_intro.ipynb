{
 "cells": [
  {
   "cell_type": "markdown",
   "metadata": {},
   "source": [
    "# Introduction to Numpy\n",
    "\n",
    "NumPy is a fundamental package for scientific computing in Python. It provides support for arrays, matrices, and many mathematical functions to operate on these data structures efficiently. NumPy is essential for numerical computations and serves as the foundation for many other scientific libraries, including SciPy, Pandas, and scikit-learn. \n",
    "\n",
    "It would take years to cover all there is to know about NumPy, so here we'll focus on understanding the basics and buliding the tools to find and use the functions that we need as we need them. If you want your basics straight from the NumPy team, check out their [beginner's guide](https://numpy.org/doc/stable/user/absolute_beginners.html). \n",
    "\n",
    "To start, recall how we import a package. For this notebook, we'll use the traditional np alias."
   ]
  },
  {
   "cell_type": "code",
   "execution_count": null,
   "metadata": {
    "tags": []
   },
   "outputs": [],
   "source": [
    "import numpy as np\n",
    "\n",
    "?np"
   ]
  },
  {
   "cell_type": "markdown",
   "metadata": {},
   "source": [
    "The first thing we can get from NumPy are improved/new math functions/constants."
   ]
  },
  {
   "cell_type": "code",
   "execution_count": null,
   "metadata": {},
   "outputs": [],
   "source": [
    "print(np.sqrt(5))\n",
    "print(np.pi)\n",
    "print(np.average([1,2,3]))\n",
    "print(np.sum([1,2,3]))"
   ]
  },
  {
   "cell_type": "markdown",
   "metadata": {},
   "source": [
    "But that's not all that impressive. NumPy's biggest feature is the introduction of the ndarray class. Arrays are much like lists, but have far greater functionality. Unlike lists, arrays are meant to contain a single data type, usually something numeric. This is not enforced, but much or all of the added functionality of NumPy over lists is lost by assigning heterogenous data types. \n",
    "\n",
    "Let's create our first array by using NumPy's array() function, which attempts to convert its argument into an array. We'll use a list since these are almost always convertible to arrays."
   ]
  },
  {
   "cell_type": "code",
   "execution_count": null,
   "metadata": {},
   "outputs": [],
   "source": [
    "arr = np.array([1,2,3])\n",
    "\n",
    "print(type(arr))"
   ]
  },
  {
   "cell_type": "markdown",
   "metadata": {},
   "source": [
    "There are many other ways to initialize arrays using a variety of fuctions kindly offered by NumPy"
   ]
  },
  {
   "cell_type": "code",
   "execution_count": null,
   "metadata": {},
   "outputs": [],
   "source": [
    "zeros = np.zeros(10)\n",
    "ones = np.ones(6)\n",
    "empty = np.empty(8)\n",
    "\n",
    "counting = np.arange(4)\n",
    "intervals = np.linspace(10, 20, 5)\n",
    "\n",
    "imitate0 = np.zeros_like(counting)\n",
    "imitate1 = np.ones_like(intervals)\n",
    "imitate_empty = np.empty_like(zeros)\n",
    "\n",
    "print(zeros, '\\n',\n",
    "      ones, '\\n',\n",
    "      empty, '\\n',\n",
    "      counting, '\\n',\n",
    "      intervals, '\\n',\n",
    "      imitate0, '\\n',\n",
    "      imitate1, '\\n',\n",
    "      imitate_empty)"
   ]
  },
  {
   "cell_type": "markdown",
   "metadata": {},
   "source": [
    "ndarrays have a number of attributes we can access using the '.' syntax."
   ]
  },
  {
   "cell_type": "code",
   "execution_count": null,
   "metadata": {},
   "outputs": [],
   "source": [
    "a = np.arange(9)\n",
    "\n",
    "print(a.size)\n",
    "print(a.shape)\n",
    "print(a.dtype)\n",
    "\n",
    "# Arrays also behave well with the len() function\n",
    "print(len(a))"
   ]
  },
  {
   "cell_type": "markdown",
   "metadata": {},
   "source": [
    "That might seem well and good, but you still may be wondering why NumPy is the backbone of any numerical work in Python. Aside from the excellent additions to default Python that NumPy provides, NumPy performs much, *much* better than default Python. That is because in the background, NumPy is implemented in C, which allows it to far outpace the canonically slow Python interpreter. Let's take a look at an example to see what I mean. For the next couple lines, we'll be using the magic phrase %%timeit; don't worry about this. All it does is time the execution of the cell over several iterations.\n",
    "\n",
    "In this simple example, we'll create an array/list with 1 million numbers (0-999,999). Then we'll update the list by multiplying each number by 5. Note that neither implementation below is the most efficient way to achieve the final result using lists or arrays, but it is a fair comparsion because they do they same operations in the same order."
   ]
  },
  {
   "cell_type": "code",
   "execution_count": null,
   "metadata": {
    "tags": []
   },
   "outputs": [
    {
     "name": "stdout",
     "output_type": "stream",
     "text": [
      "35.1 ms ± 562 µs per loop (mean ± std. dev. of 7 runs, 10 loops each)\n"
     ]
    }
   ],
   "source": [
    "# To do this in default Python, we need to use loops.\n",
    "# Our first loop will create the list by sequentially appending each number.\n",
    "# Our second loop will access each element and multiply its value by 5.\n",
    "\n",
    "# At this point, you should be fairly comfortable with this code and \n",
    "#  could even write it yourself. In fact, think about how you might\n",
    "#  improve it!\n",
    "\n",
    "%%timeit\n",
    "\n",
    "x = []\n",
    "for i in range(int(1e6)):\n",
    "    x.append(i)\n",
    "    \n",
    "for i in range(len(x)):\n",
    "    x[i] *= 5"
   ]
  },
  {
   "cell_type": "code",
   "execution_count": null,
   "metadata": {
    "tags": []
   },
   "outputs": [
    {
     "name": "stdout",
     "output_type": "stream",
     "text": [
      "344 µs ± 6.92 µs per loop (mean ± std. dev. of 7 runs, 1,000 loops each)\n"
     ]
    }
   ],
   "source": [
    "# For the NumPy implementation, we don't need to create a loop explicitly\n",
    "#  (NumPy is doing it in the background in C). Intead, we'll use the \n",
    "#  arange() function to generate the list, and take advantage of the property \n",
    "#  of ndarrays whereby simple math operation are applied elementwise to the \n",
    "#  whole array.\n",
    "\n",
    "%%timeit\n",
    "\n",
    "y = numpy.arange(int(1e6))\n",
    "y *= 5"
   ]
  },
  {
   "cell_type": "markdown",
   "metadata": {},
   "source": [
    "Notice the time difference! This will be machine dependent, but you should something like a factor of 100 speed up. The advantage actually widens as the lengths get larger, so NumPy single-handedly makes large numerical operations in Python viable!\n",
    "\n",
    "## Challenge\n",
    "\n",
    "To drive home how much easier it is to create and manipulate data in NumPy, let's do one more example. Our goal will be to generate a 2-D list containing the numbers 1-100"
   ]
  },
  {
   "cell_type": "code",
   "execution_count": 17,
   "metadata": {
    "tags": []
   },
   "outputs": [
    {
     "name": "stdout",
     "output_type": "stream",
     "text": [
      "[0, 5, 10, 15, 20, 25, 30, 35, 40, 45] <class 'list'>\n",
      "[ 0  5 10 15 20 25 30 35 40 45] <class 'numpy.ndarray'>\n"
     ]
    }
   ],
   "source": [
    "x = []\n",
    "for i in range(int(1e6)):\n",
    "    x.append(i)\n",
    "    \n",
    "for i in range(len(x)):\n",
    "    x[i] *= 5\n",
    "    \n",
    "y = numpy.arange(int(1e6))\n",
    "y *= 5\n",
    "\n",
    "print(x[:10], type(x))\n",
    "print(y[:10], type(y))"
   ]
  },
  {
   "cell_type": "code",
   "execution_count": null,
   "metadata": {},
   "outputs": [],
   "source": []
  },
  {
   "cell_type": "markdown",
   "metadata": {},
   "source": [
    "numpy or np?"
   ]
  },
  {
   "cell_type": "code",
   "execution_count": null,
   "metadata": {
    "tags": []
   },
   "outputs": [],
   "source": [
    "import numpy as np\n",
    "\n",
    "print(np.sum([1,2,3]))\n",
    "print(numpy.sum([1,2,3]))"
   ]
  },
  {
   "cell_type": "markdown",
   "metadata": {},
   "source": [
    "https://numpy.org/doc/stable/reference/routines.html"
   ]
  },
  {
   "cell_type": "code",
   "execution_count": 19,
   "metadata": {
    "tags": []
   },
   "outputs": [],
   "source": [
    "import numpy as print"
   ]
  },
  {
   "cell_type": "code",
   "execution_count": null,
   "metadata": {
    "tags": []
   },
   "outputs": [],
   "source": [
    "print(\"hi\")"
   ]
  },
  {
   "cell_type": "code",
   "execution_count": null,
   "metadata": {},
   "outputs": [],
   "source": [
    "print.arange(10)"
   ]
  }
 ],
 "metadata": {
  "kernelspec": {
   "display_name": "Python 3 (ipykernel)",
   "language": "python",
   "name": "python3"
  },
  "language_info": {
   "codemirror_mode": {
    "name": "ipython",
    "version": 3
   },
   "file_extension": ".py",
   "mimetype": "text/x-python",
   "name": "python",
   "nbconvert_exporter": "python",
   "pygments_lexer": "ipython3",
   "version": "3.11.5"
  }
 },
 "nbformat": 4,
 "nbformat_minor": 4
}
