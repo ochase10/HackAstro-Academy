{
 "cells": [
  {
   "cell_type": "markdown",
   "metadata": {},
   "source": [
    "# Introduction to Numpy\n",
    "\n",
    "NumPy is a fundamental package for scientific computing in Python. It provides support for arrays, matrices, and many mathematical functions to operate on these data structures efficiently. NumPy is essential for numerical computations and serves as the foundation for many other scientific libraries, including SciPy, Pandas, and scikit-learn. \n",
    "\n",
    "It would take years to cover all there is to know about NumPy, so here we'll focus on understanding the basics and buliding the tools to find and use the functions that we need as we need them. If you want your basics straight from the NumPy team, check out their [beginner's guide](https://numpy.org/doc/stable/user/absolute_beginners.html). \n",
    "\n",
    "To start, recall how we import a package. For this notebook, we'll use the traditional np alias."
   ]
  },
  {
   "cell_type": "code",
   "execution_count": 1,
   "metadata": {
    "tags": []
   },
   "outputs": [
    {
     "name": "stdout",
     "output_type": "stream",
     "text": [
      "\u001b[0;31mType:\u001b[0m        module\n",
      "\u001b[0;31mString form:\u001b[0m <module 'numpy' from '/home/owen/anaconda3/lib/python3.11/site-packages/numpy/__init__.py'>\n",
      "\u001b[0;31mFile:\u001b[0m        ~/anaconda3/lib/python3.11/site-packages/numpy/__init__.py\n",
      "\u001b[0;31mDocstring:\u001b[0m  \n",
      "NumPy\n",
      "=====\n",
      "\n",
      "Provides\n",
      "  1. An array object of arbitrary homogeneous items\n",
      "  2. Fast mathematical operations over arrays\n",
      "  3. Linear Algebra, Fourier Transforms, Random Number Generation\n",
      "\n",
      "How to use the documentation\n",
      "----------------------------\n",
      "Documentation is available in two forms: docstrings provided\n",
      "with the code, and a loose standing reference guide, available from\n",
      "`the NumPy homepage <https://numpy.org>`_.\n",
      "\n",
      "We recommend exploring the docstrings using\n",
      "`IPython <https://ipython.org>`_, an advanced Python shell with\n",
      "TAB-completion and introspection capabilities.  See below for further\n",
      "instructions.\n",
      "\n",
      "The docstring examples assume that `numpy` has been imported as ``np``::\n",
      "\n",
      "  >>> import numpy as np\n",
      "\n",
      "Code snippets are indicated by three greater-than signs::\n",
      "\n",
      "  >>> x = 42\n",
      "  >>> x = x + 1\n",
      "\n",
      "Use the built-in ``help`` function to view a function's docstring::\n",
      "\n",
      "  >>> help(np.sort)\n",
      "  ... # doctest: +SKIP\n",
      "\n",
      "For some objects, ``np.info(obj)`` may provide additional help.  This is\n",
      "particularly true if you see the line \"Help on ufunc object:\" at the top\n",
      "of the help() page.  Ufuncs are implemented in C, not Python, for speed.\n",
      "The native Python help() does not know how to view their help, but our\n",
      "np.info() function does.\n",
      "\n",
      "To search for documents containing a keyword, do::\n",
      "\n",
      "  >>> np.lookfor('keyword')\n",
      "  ... # doctest: +SKIP\n",
      "\n",
      "General-purpose documents like a glossary and help on the basic concepts\n",
      "of numpy are available under the ``doc`` sub-module::\n",
      "\n",
      "  >>> from numpy import doc\n",
      "  >>> help(doc)\n",
      "  ... # doctest: +SKIP\n",
      "\n",
      "Available subpackages\n",
      "---------------------\n",
      "lib\n",
      "    Basic functions used by several sub-packages.\n",
      "random\n",
      "    Core Random Tools\n",
      "linalg\n",
      "    Core Linear Algebra Tools\n",
      "fft\n",
      "    Core FFT routines\n",
      "polynomial\n",
      "    Polynomial tools\n",
      "testing\n",
      "    NumPy testing tools\n",
      "distutils\n",
      "    Enhancements to distutils with support for\n",
      "    Fortran compilers support and more.\n",
      "\n",
      "Utilities\n",
      "---------\n",
      "test\n",
      "    Run numpy unittests\n",
      "show_config\n",
      "    Show numpy build configuration\n",
      "dual\n",
      "    Overwrite certain functions with high-performance SciPy tools.\n",
      "    Note: `numpy.dual` is deprecated.  Use the functions from NumPy or Scipy\n",
      "    directly instead of importing them from `numpy.dual`.\n",
      "matlib\n",
      "    Make everything matrices.\n",
      "__version__\n",
      "    NumPy version string\n",
      "\n",
      "Viewing documentation using IPython\n",
      "-----------------------------------\n",
      "\n",
      "Start IPython and import `numpy` usually under the alias ``np``: `import\n",
      "numpy as np`.  Then, directly past or use the ``%cpaste`` magic to paste\n",
      "examples into the shell.  To see which functions are available in `numpy`,\n",
      "type ``np.<TAB>`` (where ``<TAB>`` refers to the TAB key), or use\n",
      "``np.*cos*?<ENTER>`` (where ``<ENTER>`` refers to the ENTER key) to narrow\n",
      "down the list.  To view the docstring for a function, use\n",
      "``np.cos?<ENTER>`` (to view the docstring) and ``np.cos??<ENTER>`` (to view\n",
      "the source code).\n",
      "\n",
      "Copies vs. in-place operation\n",
      "-----------------------------\n",
      "Most of the functions in `numpy` return a copy of the array argument\n",
      "(e.g., `np.sort`).  In-place versions of these functions are often\n",
      "available as array methods, i.e. ``x = np.array([1,2,3]); x.sort()``.\n",
      "Exceptions to this rule are documented."
     ]
    }
   ],
   "source": [
    "import numpy as np\n",
    "\n",
    "?np"
   ]
  },
  {
   "cell_type": "markdown",
   "metadata": {},
   "source": [
    "The first thing we can get from NumPy are improved/new math functions/constants."
   ]
  },
  {
   "cell_type": "code",
   "execution_count": null,
   "metadata": {},
   "outputs": [],
   "source": [
    "print(np.sqrt(5))\n",
    "print(np.pi)\n",
    "print(np.average([1,2,3]))\n",
    "print(np.sum([1,2,3]))"
   ]
  },
  {
   "cell_type": "markdown",
   "metadata": {},
   "source": [
    "But that's not all that impressive. NumPy's biggest feature is the introduction of the ndarray class. Arrays are much like lists, but have far greater functionality. Unlike lists, arrays are meant to contain a single data type, usually something numeric. This is not enforced, but much or all of the added functionality of NumPy over lists is lost by assigning heterogenous data types. \n",
    "\n",
    "Let's create our first array by using NumPy's array() function, which attempts to convert its argument into an array. We'll use a list since these are almost always convertible to arrays."
   ]
  },
  {
   "cell_type": "code",
   "execution_count": null,
   "metadata": {},
   "outputs": [],
   "source": [
    "arr = np.array([1,2,3])\n",
    "\n",
    "print(type(arr))"
   ]
  },
  {
   "cell_type": "markdown",
   "metadata": {},
   "source": [
    "There are many other ways to initialize arrays using a variety of fuctions kindly offered by NumPy"
   ]
  },
  {
   "cell_type": "code",
   "execution_count": null,
   "metadata": {},
   "outputs": [],
   "source": [
    "zeros = np.zeros(10)\n",
    "ones = np.ones(6)\n",
    "empty = np.empty(8)\n",
    "\n",
    "counting = np.arange(4)\n",
    "intervals = np.linspace(10, 20, 5)\n",
    "\n",
    "imitate0 = np.zeros_like(counting)\n",
    "imitate1 = np.ones_like(intervals)\n",
    "imitate_empty = np.empty_like(zeros)\n",
    "\n",
    "print(zeros, '\\n',\n",
    "      ones, '\\n',\n",
    "      empty, '\\n',\n",
    "      counting, '\\n',\n",
    "      intervals, '\\n',\n",
    "      imitate0, '\\n',\n",
    "      imitate1, '\\n',\n",
    "      imitate_empty)"
   ]
  },
  {
   "cell_type": "markdown",
   "metadata": {},
   "source": [
    "ndarrays have a number of attributes we can access using the '.' syntax."
   ]
  },
  {
   "cell_type": "code",
   "execution_count": null,
   "metadata": {},
   "outputs": [],
   "source": [
    "a = np.arange(9)\n",
    "\n",
    "print(a.size)\n",
    "print(a.shape)\n",
    "print(a.dtype)\n",
    "\n",
    "# Arrays also behave well with the len() function\n",
    "print(len(a))"
   ]
  },
  {
   "cell_type": "markdown",
   "metadata": {},
   "source": [
    "That might seem well and good, but you still may be wondering why NumPy is the backbone of any numerical work in Python. Aside from the excellent additions to default Python that NumPy provides, NumPy performs much, *much* better than default Python. That is because in the background, NumPy is implemented in C, which allows it to far outpace the canonically slow Python interpreter. Let's take a look at an example to see what I mean. For the next couple lines, we'll be using the magic phrase %%timeit; don't worry about this. All it does is time the execution of the cell over several iterations.\n",
    "\n",
    "In this simple example, we'll create an array/list with 1 million numbers (0-999,999). Then we'll update the list by multiplying each number by 5. Note that neither implementation below is the most efficient way to achieve the final result using lists or arrays, but it is a fair comparsion because they do they same operations in the same order."
   ]
  },
  {
   "cell_type": "code",
   "execution_count": null,
   "metadata": {
    "tags": []
   },
   "outputs": [
    {
     "name": "stdout",
     "output_type": "stream",
     "text": [
      "35.1 ms ± 562 µs per loop (mean ± std. dev. of 7 runs, 10 loops each)\n"
     ]
    }
   ],
   "source": [
    "# To do this in default Python, we need to use loops.\n",
    "# Our first loop will create the list by sequentially appending each number.\n",
    "# Our second loop will access each element and multiply its value by 5.\n",
    "\n",
    "# At this point, you should be fairly comfortable with this code and \n",
    "#  could even write it yourself. In fact, think about how you might\n",
    "#  improve it!\n",
    "\n",
    "%%timeit\n",
    "\n",
    "x = []\n",
    "for i in range(int(1e6)):\n",
    "    x.append(i)\n",
    "    \n",
    "for i in range(len(x)):\n",
    "    x[i] *= 5"
   ]
  },
  {
   "cell_type": "code",
   "execution_count": null,
   "metadata": {
    "tags": []
   },
   "outputs": [
    {
     "name": "stdout",
     "output_type": "stream",
     "text": [
      "344 µs ± 6.92 µs per loop (mean ± std. dev. of 7 runs, 1,000 loops each)\n"
     ]
    }
   ],
   "source": [
    "# For the NumPy implementation, we don't need to create a loop explicitly\n",
    "#  (NumPy is running a loop in C). Intead, we'll use the \n",
    "#  arange() function to generate the list, and take advantage of the property \n",
    "#  of ndarrays whereby simple math operation are applied elementwise to the \n",
    "#  whole array.\n",
    "\n",
    "%%timeit\n",
    "\n",
    "y = numpy.arange(int(1e6))\n",
    "y *= 5"
   ]
  },
  {
   "cell_type": "markdown",
   "metadata": {},
   "source": [
    "Notice the time difference! This will be machine dependent, but you should something like a factor of 100 speed up. The advantage actually widens as the arrays get larger, so NumPy single-handedly makes large numerical operations in Python viable!\n",
    "\n",
    "If you've done the Week 6 checkpoint and want more sorting stuff to play with, test your sorting algorithm against NumPy's. NumPy uses quicksort by default, but you can choose between a few. This will make it clearer just how optimized these large numerical packages are. \n",
    "\n",
    "\n",
    "## Array Manipulation\n",
    "\n",
    "You may have noticed in the code above that we multiplied our NumPy array by the number 5. This isn't possible with lists and is one of the great quality-of-life improvements NumPy brings. This behavior is generalized into a much deeper concept in NumPy called *broadcasting* that we'll discuss later on. For now, just know that basic numerical operations applied to a NumPy array will happen element-wise (to each element individually).\n",
    "\n",
    "Take a second and play around with various numerical functions and see how they operate on arrays below."
   ]
  },
  {
   "cell_type": "code",
   "execution_count": null,
   "metadata": {},
   "outputs": [],
   "source": [
    "# Make an array and do stuff with it here #"
   ]
  },
  {
   "cell_type": "markdown",
   "metadata": {
    "tags": []
   },
   "source": [
    "Now, suppose we actually do want to deal with the individual elements of an array. We can do that just like we did with lists using [] to denote which element index we want to access. As before with lists, we can use a : to access a range of indicies--this is called *slicing*. The returned object will be a new array with the requested elements.\n",
    "\n",
    "Another neat slicing trick is to use a second :. The notation for slices is actually start:stop:step, but step defaults to 1. If you want every other, every 3rd, etc. element, you just have to give a different value for step.\n",
    "\n",
    "Things change a little when we have a multi-dimensional array. With lists we would chain [] together, successively accessing the nested lists. However, with NumPy, this is streamlined to allow you to use only one set of [] and dilineate between the dimensions using commas.\n",
    "\n",
    "Let's see some examples."
   ]
  },
  {
   "cell_type": "code",
   "execution_count": null,
   "metadata": {
    "tags": []
   },
   "outputs": [],
   "source": [
    "arr = np.arange(20)\n",
    "\n",
    "print(arr[5]) # Note we still have 0 indexing\n",
    "\n",
    "print(arr[10:20])\n",
    "\n",
    "print(arr[::2])\n",
    "\n",
    "print(arr[2:17:3])\n",
    "\n",
    "arr = arr.reshape((5,-1))\n",
    "\n",
    "print(arr[3,1]) # Now we use commas instead of multiple sets of []\n",
    "\n",
    "print(arr[0:2, 1:3]) # We can still get slices with multi-dimensional indexing"
   ]
  },
  {
   "cell_type": "markdown",
   "metadata": {},
   "source": [
    "Suppose we want a non-contigous group of array elements. This is perfectly easy. We simply pass the indicies we want as an array within the square brackets."
   ]
  },
  {
   "cell_type": "code",
   "execution_count": null,
   "metadata": {},
   "outputs": [],
   "source": [
    "arr = np.logspace(1, 3, 15)\n",
    "\n",
    "inds = [0, 4, 9, 12] # Note this can be an array or list, in this case, just a list\n",
    "\n",
    "print(arr[inds])"
   ]
  },
  {
   "cell_type": "markdown",
   "metadata": {},
   "source": [
    "Another, and probably more useful, way of accessing a subset of an array is via masking. With a mask, we simply pass a boolean array to the [] where each boolean value tells Python whether we want to keep that element of the target array.\n",
    "\n",
    "Though, we rarely want to type True and False for every element of our arrays. Luckily, our boolean operators operate element-wise on arrays, too! So we can use >, <, ==, etc. with an array to get a matching array of booleans with the comparison result for each element in the array.\n",
    "\n",
    "Perhaps it will make more sense to see it in action."
   ]
  },
  {
   "cell_type": "code",
   "execution_count": null,
   "metadata": {},
   "outputs": [],
   "source": [
    "arr = np.random.random(50) * 200 - 100\n",
    "\n",
    "positive = (arr > 0) # Note the parentheses are not necessary but they make it clearer what's going on\n",
    "\n",
    "print(arr.size, positive.size)\n",
    "\n",
    "print(arr[:5], positive[:5])"
   ]
  }
 ],
 "metadata": {
  "kernelspec": {
   "display_name": "base",
   "language": "python",
   "name": "python3"
  },
  "language_info": {
   "codemirror_mode": {
    "name": "ipython",
    "version": 3
   },
   "file_extension": ".py",
   "mimetype": "text/x-python",
   "name": "python",
   "nbconvert_exporter": "python",
   "pygments_lexer": "ipython3",
   "version": "3.11.5"
  }
 },
 "nbformat": 4,
 "nbformat_minor": 4
}
