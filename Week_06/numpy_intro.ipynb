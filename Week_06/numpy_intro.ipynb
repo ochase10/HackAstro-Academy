{
 "cells": [
  {
   "cell_type": "markdown",
   "metadata": {},
   "source": [
    "# Introduction to Numpy\n",
    "\n",
    "NumPy is a fundamental package for scientific computing in Python. It provides support for arrays, matrices, and many mathematical functions to operate on these data structures efficiently. NumPy is essential for numerical computations and serves as the foundation for many other scientific libraries, including SciPy, Pandas, and scikit-learn. \n",
    "\n",
    "It would take years to cover all there is to know about NumPy, so here we'll focus on understanding the basics and buliding the tools to find and use the functions that we need as we need them. If you want your basics straight from the NumPy team, check out their [beginner's guide](https://numpy.org/doc/stable/user/absolute_beginners.html). \n",
    "\n",
    "To start, recall how we import a package. For this notebook, we'll use the traditional np alias."
   ]
  },
  {
   "cell_type": "code",
   "execution_count": 1,
   "metadata": {
    "tags": []
   },
   "outputs": [
    {
     "name": "stdout",
     "output_type": "stream",
     "text": [
      "\u001b[0;31mType:\u001b[0m        module\n",
      "\u001b[0;31mString form:\u001b[0m <module 'numpy' from '/home/owen/anaconda3/lib/python3.11/site-packages/numpy/__init__.py'>\n",
      "\u001b[0;31mFile:\u001b[0m        ~/anaconda3/lib/python3.11/site-packages/numpy/__init__.py\n",
      "\u001b[0;31mDocstring:\u001b[0m  \n",
      "NumPy\n",
      "=====\n",
      "\n",
      "Provides\n",
      "  1. An array object of arbitrary homogeneous items\n",
      "  2. Fast mathematical operations over arrays\n",
      "  3. Linear Algebra, Fourier Transforms, Random Number Generation\n",
      "\n",
      "How to use the documentation\n",
      "----------------------------\n",
      "Documentation is available in two forms: docstrings provided\n",
      "with the code, and a loose standing reference guide, available from\n",
      "`the NumPy homepage <https://numpy.org>`_.\n",
      "\n",
      "We recommend exploring the docstrings using\n",
      "`IPython <https://ipython.org>`_, an advanced Python shell with\n",
      "TAB-completion and introspection capabilities.  See below for further\n",
      "instructions.\n",
      "\n",
      "The docstring examples assume that `numpy` has been imported as ``np``::\n",
      "\n",
      "  >>> import numpy as np\n",
      "\n",
      "Code snippets are indicated by three greater-than signs::\n",
      "\n",
      "  >>> x = 42\n",
      "  >>> x = x + 1\n",
      "\n",
      "Use the built-in ``help`` function to view a function's docstring::\n",
      "\n",
      "  >>> help(np.sort)\n",
      "  ... # doctest: +SKIP\n",
      "\n",
      "For some objects, ``np.info(obj)`` may provide additional help.  This is\n",
      "particularly true if you see the line \"Help on ufunc object:\" at the top\n",
      "of the help() page.  Ufuncs are implemented in C, not Python, for speed.\n",
      "The native Python help() does not know how to view their help, but our\n",
      "np.info() function does.\n",
      "\n",
      "To search for documents containing a keyword, do::\n",
      "\n",
      "  >>> np.lookfor('keyword')\n",
      "  ... # doctest: +SKIP\n",
      "\n",
      "General-purpose documents like a glossary and help on the basic concepts\n",
      "of numpy are available under the ``doc`` sub-module::\n",
      "\n",
      "  >>> from numpy import doc\n",
      "  >>> help(doc)\n",
      "  ... # doctest: +SKIP\n",
      "\n",
      "Available subpackages\n",
      "---------------------\n",
      "lib\n",
      "    Basic functions used by several sub-packages.\n",
      "random\n",
      "    Core Random Tools\n",
      "linalg\n",
      "    Core Linear Algebra Tools\n",
      "fft\n",
      "    Core FFT routines\n",
      "polynomial\n",
      "    Polynomial tools\n",
      "testing\n",
      "    NumPy testing tools\n",
      "distutils\n",
      "    Enhancements to distutils with support for\n",
      "    Fortran compilers support and more.\n",
      "\n",
      "Utilities\n",
      "---------\n",
      "test\n",
      "    Run numpy unittests\n",
      "show_config\n",
      "    Show numpy build configuration\n",
      "dual\n",
      "    Overwrite certain functions with high-performance SciPy tools.\n",
      "    Note: `numpy.dual` is deprecated.  Use the functions from NumPy or Scipy\n",
      "    directly instead of importing them from `numpy.dual`.\n",
      "matlib\n",
      "    Make everything matrices.\n",
      "__version__\n",
      "    NumPy version string\n",
      "\n",
      "Viewing documentation using IPython\n",
      "-----------------------------------\n",
      "\n",
      "Start IPython and import `numpy` usually under the alias ``np``: `import\n",
      "numpy as np`.  Then, directly past or use the ``%cpaste`` magic to paste\n",
      "examples into the shell.  To see which functions are available in `numpy`,\n",
      "type ``np.<TAB>`` (where ``<TAB>`` refers to the TAB key), or use\n",
      "``np.*cos*?<ENTER>`` (where ``<ENTER>`` refers to the ENTER key) to narrow\n",
      "down the list.  To view the docstring for a function, use\n",
      "``np.cos?<ENTER>`` (to view the docstring) and ``np.cos??<ENTER>`` (to view\n",
      "the source code).\n",
      "\n",
      "Copies vs. in-place operation\n",
      "-----------------------------\n",
      "Most of the functions in `numpy` return a copy of the array argument\n",
      "(e.g., `np.sort`).  In-place versions of these functions are often\n",
      "available as array methods, i.e. ``x = np.array([1,2,3]); x.sort()``.\n",
      "Exceptions to this rule are documented."
     ]
    }
   ],
   "source": [
    "import numpy as np\n",
    "\n",
    "?np"
   ]
  },
  {
   "cell_type": "markdown",
   "metadata": {},
   "source": [
    "The first thing we can get from NumPy are improved/new math functions/constants."
   ]
  },
  {
   "cell_type": "code",
   "execution_count": null,
   "metadata": {},
   "outputs": [],
   "source": [
    "print(np.sqrt(5))\n",
    "print(np.pi)\n",
    "print(np.average([1,2,3]))\n",
    "print(np.sum([1,2,3]))"
   ]
  },
  {
   "cell_type": "markdown",
   "metadata": {},
   "source": [
    "But that's not all that impressive. NumPy's biggest feature is the introduction of the ndarray class. Arrays are much like lists, but have far greater functionality. Unlike lists, arrays are meant to contain a single data type, usually something numeric. This is not enforced, but much or all of the added functionality of NumPy over lists is lost by assigning heterogenous data types. \n",
    "\n",
    "Let's create our first array by using NumPy's array() function, which attempts to convert its argument into an array. We'll use a list since these are almost always convertible to arrays."
   ]
  },
  {
   "cell_type": "code",
   "execution_count": null,
   "metadata": {},
   "outputs": [],
   "source": [
    "arr = np.array([1,2,3])\n",
    "\n",
    "print(type(arr))"
   ]
  },
  {
   "cell_type": "markdown",
   "metadata": {},
   "source": [
    "There are many other ways to initialize arrays using a variety of fuctions kindly offered by NumPy"
   ]
  },
  {
   "cell_type": "code",
   "execution_count": null,
   "metadata": {},
   "outputs": [],
   "source": [
    "zeros = np.zeros(10)\n",
    "ones = np.ones(6)\n",
    "empty = np.empty(8)\n",
    "\n",
    "counting = np.arange(4)\n",
    "intervals = np.linspace(10, 20, 5)\n",
    "\n",
    "imitate0 = np.zeros_like(counting)\n",
    "imitate1 = np.ones_like(intervals)\n",
    "imitate_empty = np.empty_like(zeros)\n",
    "\n",
    "print(zeros, '\\n',\n",
    "      ones, '\\n',\n",
    "      empty, '\\n',\n",
    "      counting, '\\n',\n",
    "      intervals, '\\n',\n",
    "      imitate0, '\\n',\n",
    "      imitate1, '\\n',\n",
    "      imitate_empty)"
   ]
  },
  {
   "cell_type": "markdown",
   "metadata": {},
   "source": [
    "ndarrays have a number of attributes we can access using the '.' syntax."
   ]
  },
  {
   "cell_type": "code",
   "execution_count": null,
   "metadata": {},
   "outputs": [],
   "source": [
    "a = np.arange(9)\n",
    "\n",
    "print(a.size)\n",
    "print(a.shape)\n",
    "print(a.dtype)\n",
    "\n",
    "# Arrays also behave well with the len() function\n",
    "print(len(a))"
   ]
  },
  {
   "cell_type": "markdown",
   "metadata": {},
   "source": [
    "That might seem well and good, but you still may be wondering why NumPy is the backbone of any numerical work in Python. Aside from the excellent additions to default Python that NumPy provides, NumPy performs much, *much* better than default Python. That is because in the background, NumPy is implemented in C, which allows it to far outpace the canonically slow Python interpreter. Let's take a look at an example to see what I mean. For the next couple lines, we'll be using the magic phrase %%timeit; don't worry about this. All it does is time the execution of the cell over several iterations.\n",
    "\n",
    "In this simple example, we'll create an array/list with 1 million numbers (0-999,999). Then we'll update the list by multiplying each number by 5. Note that neither implementation below is the most efficient way to achieve the final result using lists or arrays, but it is a fair comparsion because they do they same operations in the same order."
   ]
  },
  {
   "cell_type": "code",
   "execution_count": null,
   "metadata": {
    "tags": []
   },
   "outputs": [
    {
     "name": "stdout",
     "output_type": "stream",
     "text": [
      "35.1 ms ± 562 µs per loop (mean ± std. dev. of 7 runs, 10 loops each)\n"
     ]
    }
   ],
   "source": [
    "# To do this in default Python, we need to use loops.\n",
    "# Our first loop will create the list by sequentially appending each number.\n",
    "# Our second loop will access each element and multiply its value by 5.\n",
    "\n",
    "# At this point, you should be fairly comfortable with this code and \n",
    "#  could even write it yourself. In fact, think about how you might\n",
    "#  improve it!\n",
    "\n",
    "%%timeit\n",
    "\n",
    "x = []\n",
    "for i in range(int(1e6)):\n",
    "    x.append(i)\n",
    "    \n",
    "for i in range(len(x)):\n",
    "    x[i] *= 5"
   ]
  },
  {
   "cell_type": "code",
   "execution_count": null,
   "metadata": {
    "tags": []
   },
   "outputs": [
    {
     "name": "stdout",
     "output_type": "stream",
     "text": [
      "344 µs ± 6.92 µs per loop (mean ± std. dev. of 7 runs, 1,000 loops each)\n"
     ]
    }
   ],
   "source": [
    "# For the NumPy implementation, we don't need to create a loop explicitly\n",
    "#  (NumPy is doing it in the background in C). Intead, we'll use the \n",
    "#  arange() function to generate the list, and take advantage of the property \n",
    "#  of ndarrays whereby simple math operation are applied elementwise to the \n",
    "#  whole array.\n",
    "\n",
    "%%timeit\n",
    "\n",
    "y = numpy.arange(int(1e6))\n",
    "y *= 5"
   ]
  },
  {
   "cell_type": "markdown",
   "metadata": {},
   "source": [
    "Notice the time difference! This will be machine dependent, but you should something like a factor of 100 speed up. The advantage actually widens as the lengths get larger, so NumPy single-handedly makes large numerical operations in Python viable!\n",
    "\n",
    "## Challenge\n",
    "\n",
    "To drive home how much easier it is to create and manipulate data in NumPy, let's do one more example. Our goal will be to generate a 2-D list containing the numbers 1-1M. We'll then multiply the 7th column by 3. Then, we'll get the total sum of the 23rd, 507th, and 981st rows. Finally, we'll multiply all the rows by the major diagonal and print the sum of the average of each row.\n",
    "\n",
    "The NumPy implementation is already written for you. You write the same program using standard Python lists. Then you can run both cells and compare the timings."
   ]
  },
  {
   "cell_type": "code",
   "execution_count": 13,
   "metadata": {},
   "outputs": [
    {
     "name": "stdout",
     "output_type": "stream",
     "text": [
      "1.49 ms ± 4.85 µs per loop (mean ± std. dev. of 7 runs, 1,000 loops each)\n"
     ]
    }
   ],
   "source": [
    "%%timeit\n",
    "\n",
    "# NumPy implementation\n",
    "\n",
    "arr = (np.arange(1_000_000) + 1).reshape(1_000, -1)\n",
    "\n",
    "arr[:, 7] *= 3\n",
    "\n",
    "sums = np.sum(arr, axis=0)[[22,506,980]]\n",
    "\n",
    "arr *= np.diagonal(arr)[:,None]\n",
    "\n",
    "avg_sum = np.sum(np.average(arr, axis=0))"
   ]
  },
  {
   "cell_type": "code",
   "execution_count": 14,
   "metadata": {},
   "outputs": [
    {
     "name": "stdout",
     "output_type": "stream",
     "text": [
      "The row sums are [ 499501000  499502000  499503000  499504000  499505000  499506000\n",
      "  499507000 1498524000  499509000  499510000  499511000  499512000\n",
      "  499513000  499514000  499515000  499516000  499517000  499518000\n",
      "  499519000  499520000  499521000  499522000  499523000  499524000\n",
      "  499525000  499526000  499527000  499528000  499529000  499530000\n",
      "  499531000  499532000  499533000  499534000  499535000  499536000\n",
      "  499537000  499538000  499539000  499540000  499541000  499542000\n",
      "  499543000  499544000  499545000  499546000  499547000  499548000\n",
      "  499549000  499550000  499551000  499552000  499553000  499554000\n",
      "  499555000  499556000  499557000  499558000  499559000  499560000\n",
      "  499561000  499562000  499563000  499564000  499565000  499566000\n",
      "  499567000  499568000  499569000  499570000  499571000  499572000\n",
      "  499573000  499574000  499575000  499576000  499577000  499578000\n",
      "  499579000  499580000  499581000  499582000  499583000  499584000\n",
      "  499585000  499586000  499587000  499588000  499589000  499590000\n",
      "  499591000  499592000  499593000  499594000  499595000  499596000\n",
      "  499597000  499598000  499599000  499600000  499601000  499602000\n",
      "  499603000  499604000  499605000  499606000  499607000  499608000\n",
      "  499609000  499610000  499611000  499612000  499613000  499614000\n",
      "  499615000  499616000  499617000  499618000  499619000  499620000\n",
      "  499621000  499622000  499623000  499624000  499625000  499626000\n",
      "  499627000  499628000  499629000  499630000  499631000  499632000\n",
      "  499633000  499634000  499635000  499636000  499637000  499638000\n",
      "  499639000  499640000  499641000  499642000  499643000  499644000\n",
      "  499645000  499646000  499647000  499648000  499649000  499650000\n",
      "  499651000  499652000  499653000  499654000  499655000  499656000\n",
      "  499657000  499658000  499659000  499660000  499661000  499662000\n",
      "  499663000  499664000  499665000  499666000  499667000  499668000\n",
      "  499669000  499670000  499671000  499672000  499673000  499674000\n",
      "  499675000  499676000  499677000  499678000  499679000  499680000\n",
      "  499681000  499682000  499683000  499684000  499685000  499686000\n",
      "  499687000  499688000  499689000  499690000  499691000  499692000\n",
      "  499693000  499694000  499695000  499696000  499697000  499698000\n",
      "  499699000  499700000  499701000  499702000  499703000  499704000\n",
      "  499705000  499706000  499707000  499708000  499709000  499710000\n",
      "  499711000  499712000  499713000  499714000  499715000  499716000\n",
      "  499717000  499718000  499719000  499720000  499721000  499722000\n",
      "  499723000  499724000  499725000  499726000  499727000  499728000\n",
      "  499729000  499730000  499731000  499732000  499733000  499734000\n",
      "  499735000  499736000  499737000  499738000  499739000  499740000\n",
      "  499741000  499742000  499743000  499744000  499745000  499746000\n",
      "  499747000  499748000  499749000  499750000  499751000  499752000\n",
      "  499753000  499754000  499755000  499756000  499757000  499758000\n",
      "  499759000  499760000  499761000  499762000  499763000  499764000\n",
      "  499765000  499766000  499767000  499768000  499769000  499770000\n",
      "  499771000  499772000  499773000  499774000  499775000  499776000\n",
      "  499777000  499778000  499779000  499780000  499781000  499782000\n",
      "  499783000  499784000  499785000  499786000  499787000  499788000\n",
      "  499789000  499790000  499791000  499792000  499793000  499794000\n",
      "  499795000  499796000  499797000  499798000  499799000  499800000\n",
      "  499801000  499802000  499803000  499804000  499805000  499806000\n",
      "  499807000  499808000  499809000  499810000  499811000  499812000\n",
      "  499813000  499814000  499815000  499816000  499817000  499818000\n",
      "  499819000  499820000  499821000  499822000  499823000  499824000\n",
      "  499825000  499826000  499827000  499828000  499829000  499830000\n",
      "  499831000  499832000  499833000  499834000  499835000  499836000\n",
      "  499837000  499838000  499839000  499840000  499841000  499842000\n",
      "  499843000  499844000  499845000  499846000  499847000  499848000\n",
      "  499849000  499850000  499851000  499852000  499853000  499854000\n",
      "  499855000  499856000  499857000  499858000  499859000  499860000\n",
      "  499861000  499862000  499863000  499864000  499865000  499866000\n",
      "  499867000  499868000  499869000  499870000  499871000  499872000\n",
      "  499873000  499874000  499875000  499876000  499877000  499878000\n",
      "  499879000  499880000  499881000  499882000  499883000  499884000\n",
      "  499885000  499886000  499887000  499888000  499889000  499890000\n",
      "  499891000  499892000  499893000  499894000  499895000  499896000\n",
      "  499897000  499898000  499899000  499900000  499901000  499902000\n",
      "  499903000  499904000  499905000  499906000  499907000  499908000\n",
      "  499909000  499910000  499911000  499912000  499913000  499914000\n",
      "  499915000  499916000  499917000  499918000  499919000  499920000\n",
      "  499921000  499922000  499923000  499924000  499925000  499926000\n",
      "  499927000  499928000  499929000  499930000  499931000  499932000\n",
      "  499933000  499934000  499935000  499936000  499937000  499938000\n",
      "  499939000  499940000  499941000  499942000  499943000  499944000\n",
      "  499945000  499946000  499947000  499948000  499949000  499950000\n",
      "  499951000  499952000  499953000  499954000  499955000  499956000\n",
      "  499957000  499958000  499959000  499960000  499961000  499962000\n",
      "  499963000  499964000  499965000  499966000  499967000  499968000\n",
      "  499969000  499970000  499971000  499972000  499973000  499974000\n",
      "  499975000  499976000  499977000  499978000  499979000  499980000\n",
      "  499981000  499982000  499983000  499984000  499985000  499986000\n",
      "  499987000  499988000  499989000  499990000  499991000  499992000\n",
      "  499993000  499994000  499995000  499996000  499997000  499998000\n",
      "  499999000  500000000  500001000  500002000  500003000  500004000\n",
      "  500005000  500006000  500007000  500008000  500009000  500010000\n",
      "  500011000  500012000  500013000  500014000  500015000  500016000\n",
      "  500017000  500018000  500019000  500020000  500021000  500022000\n",
      "  500023000  500024000  500025000  500026000  500027000  500028000\n",
      "  500029000  500030000  500031000  500032000  500033000  500034000\n",
      "  500035000  500036000  500037000  500038000  500039000  500040000\n",
      "  500041000  500042000  500043000  500044000  500045000  500046000\n",
      "  500047000  500048000  500049000  500050000  500051000  500052000\n",
      "  500053000  500054000  500055000  500056000  500057000  500058000\n",
      "  500059000  500060000  500061000  500062000  500063000  500064000\n",
      "  500065000  500066000  500067000  500068000  500069000  500070000\n",
      "  500071000  500072000  500073000  500074000  500075000  500076000\n",
      "  500077000  500078000  500079000  500080000  500081000  500082000\n",
      "  500083000  500084000  500085000  500086000  500087000  500088000\n",
      "  500089000  500090000  500091000  500092000  500093000  500094000\n",
      "  500095000  500096000  500097000  500098000  500099000  500100000\n",
      "  500101000  500102000  500103000  500104000  500105000  500106000\n",
      "  500107000  500108000  500109000  500110000  500111000  500112000\n",
      "  500113000  500114000  500115000  500116000  500117000  500118000\n",
      "  500119000  500120000  500121000  500122000  500123000  500124000\n",
      "  500125000  500126000  500127000  500128000  500129000  500130000\n",
      "  500131000  500132000  500133000  500134000  500135000  500136000\n",
      "  500137000  500138000  500139000  500140000  500141000  500142000\n",
      "  500143000  500144000  500145000  500146000  500147000  500148000\n",
      "  500149000  500150000  500151000  500152000  500153000  500154000\n",
      "  500155000  500156000  500157000  500158000  500159000  500160000\n",
      "  500161000  500162000  500163000  500164000  500165000  500166000\n",
      "  500167000  500168000  500169000  500170000  500171000  500172000\n",
      "  500173000  500174000  500175000  500176000  500177000  500178000\n",
      "  500179000  500180000  500181000  500182000  500183000  500184000\n",
      "  500185000  500186000  500187000  500188000  500189000  500190000\n",
      "  500191000  500192000  500193000  500194000  500195000  500196000\n",
      "  500197000  500198000  500199000  500200000  500201000  500202000\n",
      "  500203000  500204000  500205000  500206000  500207000  500208000\n",
      "  500209000  500210000  500211000  500212000  500213000  500214000\n",
      "  500215000  500216000  500217000  500218000  500219000  500220000\n",
      "  500221000  500222000  500223000  500224000  500225000  500226000\n",
      "  500227000  500228000  500229000  500230000  500231000  500232000\n",
      "  500233000  500234000  500235000  500236000  500237000  500238000\n",
      "  500239000  500240000  500241000  500242000  500243000  500244000\n",
      "  500245000  500246000  500247000  500248000  500249000  500250000\n",
      "  500251000  500252000  500253000  500254000  500255000  500256000\n",
      "  500257000  500258000  500259000  500260000  500261000  500262000\n",
      "  500263000  500264000  500265000  500266000  500267000  500268000\n",
      "  500269000  500270000  500271000  500272000  500273000  500274000\n",
      "  500275000  500276000  500277000  500278000  500279000  500280000\n",
      "  500281000  500282000  500283000  500284000  500285000  500286000\n",
      "  500287000  500288000  500289000  500290000  500291000  500292000\n",
      "  500293000  500294000  500295000  500296000  500297000  500298000\n",
      "  500299000  500300000  500301000  500302000  500303000  500304000\n",
      "  500305000  500306000  500307000  500308000  500309000  500310000\n",
      "  500311000  500312000  500313000  500314000  500315000  500316000\n",
      "  500317000  500318000  500319000  500320000  500321000  500322000\n",
      "  500323000  500324000  500325000  500326000  500327000  500328000\n",
      "  500329000  500330000  500331000  500332000  500333000  500334000\n",
      "  500335000  500336000  500337000  500338000  500339000  500340000\n",
      "  500341000  500342000  500343000  500344000  500345000  500346000\n",
      "  500347000  500348000  500349000  500350000  500351000  500352000\n",
      "  500353000  500354000  500355000  500356000  500357000  500358000\n",
      "  500359000  500360000  500361000  500362000  500363000  500364000\n",
      "  500365000  500366000  500367000  500368000  500369000  500370000\n",
      "  500371000  500372000  500373000  500374000  500375000  500376000\n",
      "  500377000  500378000  500379000  500380000  500381000  500382000\n",
      "  500383000  500384000  500385000  500386000  500387000  500388000\n",
      "  500389000  500390000  500391000  500392000  500393000  500394000\n",
      "  500395000  500396000  500397000  500398000  500399000  500400000\n",
      "  500401000  500402000  500403000  500404000  500405000  500406000\n",
      "  500407000  500408000  500409000  500410000  500411000  500412000\n",
      "  500413000  500414000  500415000  500416000  500417000  500418000\n",
      "  500419000  500420000  500421000  500422000  500423000  500424000\n",
      "  500425000  500426000  500427000  500428000  500429000  500430000\n",
      "  500431000  500432000  500433000  500434000  500435000  500436000\n",
      "  500437000  500438000  500439000  500440000  500441000  500442000\n",
      "  500443000  500444000  500445000  500446000  500447000  500448000\n",
      "  500449000  500450000  500451000  500452000  500453000  500454000\n",
      "  500455000  500456000  500457000  500458000  500459000  500460000\n",
      "  500461000  500462000  500463000  500464000  500465000  500466000\n",
      "  500467000  500468000  500469000  500470000  500471000  500472000\n",
      "  500473000  500474000  500475000  500476000  500477000  500478000\n",
      "  500479000  500480000  500481000  500482000  500483000  500484000\n",
      "  500485000  500486000  500487000  500488000  500489000  500490000\n",
      "  500491000  500492000  500493000  500494000  500495000  500496000\n",
      "  500497000  500498000  500499000  500500000] for the 23rd, 507th, and 981st rows, respectively.\n"
     ]
    },
    {
     "ename": "NameError",
     "evalue": "name 'avg_sum' is not defined",
     "output_type": "error",
     "traceback": [
      "\u001b[0;31m---------------------------------------------------------------------------\u001b[0m",
      "\u001b[0;31mNameError\u001b[0m                                 Traceback (most recent call last)",
      "Cell \u001b[0;32mIn[14], line 2\u001b[0m\n\u001b[1;32m      1\u001b[0m \u001b[38;5;28mprint\u001b[39m(\u001b[38;5;124mf\u001b[39m\u001b[38;5;124m'\u001b[39m\u001b[38;5;124mThe row sums are \u001b[39m\u001b[38;5;132;01m{\u001b[39;00msums\u001b[38;5;132;01m}\u001b[39;00m\u001b[38;5;124m for the 23rd, 507th, and 981st rows, respectively.\u001b[39m\u001b[38;5;124m'\u001b[39m)\n\u001b[0;32m----> 2\u001b[0m \u001b[38;5;28mprint\u001b[39m(\u001b[38;5;124mf\u001b[39m\u001b[38;5;124m'\u001b[39m\u001b[38;5;124mThe sum of the average value for each final row is \u001b[39m\u001b[38;5;132;01m{\u001b[39;00mavg_sum\u001b[38;5;132;01m}\u001b[39;00m\u001b[38;5;124m'\u001b[39m)\n",
      "\u001b[0;31mNameError\u001b[0m: name 'avg_sum' is not defined"
     ]
    }
   ],
   "source": [
    "print(f'The row sums are {sums} for the 23rd, 507th, and 981st rows, respectively.')\n",
    "print(f'The sum of the average value for each final row is {avg_sum}')"
   ]
  },
  {
   "cell_type": "code",
   "execution_count": 11,
   "metadata": {},
   "outputs": [
    {
     "name": "stdout",
     "output_type": "stream",
     "text": [
      "[499502000 499505000 499509000]\n"
     ]
    }
   ],
   "source": [
    "print(sums[[1,4,8]])"
   ]
  },
  {
   "cell_type": "code",
   "execution_count": null,
   "metadata": {},
   "outputs": [],
   "source": [
    "%%timeit\n",
    "\n",
    "# Put your list implementation here #"
   ]
  },
  {
   "cell_type": "code",
   "execution_count": 17,
   "metadata": {
    "tags": []
   },
   "outputs": [
    {
     "name": "stdout",
     "output_type": "stream",
     "text": [
      "[0, 5, 10, 15, 20, 25, 30, 35, 40, 45] <class 'list'>\n",
      "[ 0  5 10 15 20 25 30 35 40 45] <class 'numpy.ndarray'>\n"
     ]
    }
   ],
   "source": [
    "x = []\n",
    "for i in range(int(1e6)):\n",
    "    x.append(i)\n",
    "    \n",
    "for i in range(len(x)):\n",
    "    x[i] *= 5\n",
    "    \n",
    "y = numpy.arange(int(1e6))\n",
    "y *= 5\n",
    "\n",
    "print(x[:10], type(x))\n",
    "print(y[:10], type(y))"
   ]
  },
  {
   "cell_type": "code",
   "execution_count": null,
   "metadata": {},
   "outputs": [],
   "source": []
  },
  {
   "cell_type": "code",
   "execution_count": null,
   "metadata": {
    "tags": []
   },
   "outputs": [],
   "source": []
  },
  {
   "cell_type": "code",
   "execution_count": null,
   "metadata": {
    "tags": []
   },
   "outputs": [],
   "source": []
  },
  {
   "cell_type": "code",
   "execution_count": null,
   "metadata": {},
   "outputs": [],
   "source": []
  }
 ],
 "metadata": {
  "kernelspec": {
   "display_name": "base",
   "language": "python",
   "name": "python3"
  },
  "language_info": {
   "codemirror_mode": {
    "name": "ipython",
    "version": 3
   },
   "file_extension": ".py",
   "mimetype": "text/x-python",
   "name": "python",
   "nbconvert_exporter": "python",
   "pygments_lexer": "ipython3",
   "version": "3.11.5"
  }
 },
 "nbformat": 4,
 "nbformat_minor": 4
}
