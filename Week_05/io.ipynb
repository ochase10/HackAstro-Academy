{
 "cells": [
  {
   "cell_type": "code",
   "execution_count": null,
   "id": "85e4296d",
   "metadata": {},
   "outputs": [],
   "source": [
    "in_file = open(\"wavelength.dat\")\n",
    "print(in_file.read())\n",
    "in_file.close()"
   ]
  },
  {
   "cell_type": "code",
   "execution_count": null,
   "id": "360a4561",
   "metadata": {},
   "outputs": [],
   "source": [
    "in_file = open(\"wavelength.dat\")\n",
    "x = in_file.read()\n",
    "print(type(x))\n",
    "in_file.close()"
   ]
  },
  {
   "cell_type": "code",
   "execution_count": null,
   "id": "7b3bcc40",
   "metadata": {},
   "outputs": [],
   "source": [
    "with open(\"wavelength.dat\") as in_file:\n",
    "    print(in_file.readline())"
   ]
  },
  {
   "cell_type": "code",
   "execution_count": null,
   "id": "68785fdb",
   "metadata": {},
   "outputs": [],
   "source": [
    "with open(\"output.dat\", 'w') as out_file:\n",
    "    out_file.write(\"Hello, file\")\n",
    "    out_file.write(\"A second line\\n\")\n",
    "    out_file.write(\"A third\")"
   ]
  },
  {
   "cell_type": "code",
   "execution_count": null,
   "id": "48975aa7",
   "metadata": {},
   "outputs": [],
   "source": [
    "with open(\"output.dat\", 'w') as out_file:\n",
    "    out_file.write(\"Goodbye, file\")\n",
    "    out_file.write(\"Next\\n\")\n",
    "    out_file.write(\"Last line\")"
   ]
  },
  {
   "cell_type": "markdown",
   "id": "81b8d782",
   "metadata": {},
   "source": [
    "Read in the data from wavelength.dat and compute the redshifts of the sources if the rest line is $1216\\AA$. Write a new file that has a new data column for redshift."
   ]
  }
 ],
 "metadata": {
  "language_info": {
   "name": "python"
  }
 },
 "nbformat": 4,
 "nbformat_minor": 5
}
