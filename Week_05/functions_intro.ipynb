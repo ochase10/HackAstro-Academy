{
 "cells": [
  {
   "cell_type": "markdown",
   "metadata": {},
   "source": [
    "# Functions in Python"
   ]
  },
  {
   "cell_type": "markdown",
   "metadata": {},
   "source": [
    "We have covered much of the major scaffolding of computer science: data types, conditionals, containers, and loops/control flow. Now we move on to functions. Functions will have very little effect on your literal code; however, they are a vital efficiency and organizational tool in software development. \n",
    "\n",
    "### What is a function?\n",
    "A function is literally just an isolated block of code that can be called upon at any time. Think about a function in the context of math. It's something that takes some inputs, $x$, and yields something in return, $f(x)$.\n",
    "\n",
    "They save us from having to rewrite/copy-paste our code over and over to run it in different situations or on different data. Instead, we can write an algorithm to handle a general case, and then feed it our specific inputs as they come.\n",
    "\n",
    "Functions make code more modular by separating independent routines. That allows for easier debugging, better readability, and better portability.\n",
    "\n",
    "Let's see how we define functions in Python."
   ]
  },
  {
   "cell_type": "code",
   "execution_count": null,
   "metadata": {},
   "outputs": [],
   "source": [
    "'''\n",
    "Here we'll introduce function syntax\n",
    "'''\n",
    "\n",
    "# Use the 'def' keyword to tell Python you want to create a function\n",
    "# Give the function a valid name (follows the same rules as variable names)\n",
    "# Tell Python how many input objects you expect and what you want their local name to be\n",
    "def FunctionName(input):\n",
    "    \n",
    "    # Do something, probably using the input\n",
    "    print(input)\n",
    "    \n",
    "    # You can optionally yield some output\n",
    "    # Here, let's just return the input\n",
    "    return input"
   ]
  },
  {
   "cell_type": "markdown",
   "metadata": {},
   "source": [
    "You'll notice that running the above cell doesn't do anything. That's because we haven't told Python to execute the code in the function. Rather, we have told Python to store that group of code under the name we gave it so that when we use that name later, it knows to run our code. That might sound confusing but imagine I just told you how to make a PB&J. That doesn't mean I now have one, it just means that if I ask for one, you know what to do.\n",
    "\n",
    "Let's see how to tell Python to use our function, a.k.a. *call* it."
   ]
  },
  {
   "cell_type": "code",
   "execution_count": null,
   "metadata": {},
   "outputs": [],
   "source": [
    "FunctionName(10)"
   ]
  },
  {
   "cell_type": "markdown",
   "metadata": {},
   "source": [
    "If you ran the previous cell, you probably saw 10 printed twice. Why is that?\n",
    "\n",
    "Let's try capturing the return value of the function in a variable."
   ]
  },
  {
   "cell_type": "code",
   "execution_count": null,
   "metadata": {},
   "outputs": [],
   "source": [
    "y = FunctionName(10)"
   ]
  },
  {
   "cell_type": "markdown",
   "metadata": {},
   "source": [
    "Now if we print y, what do you think we'll get?"
   ]
  },
  {
   "cell_type": "code",
   "execution_count": null,
   "metadata": {},
   "outputs": [],
   "source": [
    "print(y)"
   ]
  },
  {
   "cell_type": "markdown",
   "metadata": {},
   "source": [
    "So when we call a function in our code, it gets resolved to its return value. You've already been doing this, perhaps without knowing it. For example, print() is a function which takes some input and prints them to the screen. Even our arethmetic functions like +, -, *, and / are exactly what their name says: *functions*! So when you tell Python a = 2 + 2, it looks at the right hand side and sees the + function with 2 inputs. It then resolves that function to its return value and stores that value in the variable.\n",
    "\n",
    "### Your Turn\n",
    "\n",
    "In the code blocks below, define your own function and then call it. It can be anything you want. If you're short on ideas here are some starters: \n",
    "- Simple y=mx+b line\n",
    "- Add 2 numbers\n",
    "- Say whether a number is even or odd\n",
    "\n",
    "Note: Remember that our function declaration tells Python what the function name means. If we don't execute our function definition before trying to call it, Python doesn't know what we want it to do. Imagine someone said \"could you go do that for me\" without telling you what it was!"
   ]
  },
  {
   "cell_type": "code",
   "execution_count": null,
   "metadata": {},
   "outputs": [],
   "source": [
    "# Write a funciton here #"
   ]
  },
  {
   "cell_type": "code",
   "execution_count": null,
   "metadata": {},
   "outputs": [],
   "source": [
    "# Use your function here #\n",
    "# Make sure you ran the cell with the function definition first! #"
   ]
  },
  {
   "cell_type": "markdown",
   "metadata": {},
   "source": [
    "## Adding complexity\n",
    "\n",
    "Now that we're familiar with functions, like see what they can do. Remember a function takes *any* input and returns *any* output. That means we can give the function 0, 1, 2, 3, or any number of inputs. And we can return 0, 1, 2, 3, or any number of outputs. We can ignore some or all of the inputs. We can have a function that takes no inputs and has no output! All we need to do is tell Python how many inputs to expect and make sure that we save the right number of outputs (or none at all).\n",
    "\n",
    "Let's see that in action.\n",
    "\n",
    "Let's write a function to check if 1 number is divisible by another."
   ]
  },
  {
   "cell_type": "code",
   "execution_count": null,
   "metadata": {},
   "outputs": [],
   "source": [
    "# Notice I gave my function a descriptive name\n",
    "# The function accepts exactly 2 input values\n",
    "# When I use those values in the function I will use the variable names denom and div\n",
    "# The inputs are assigned in order so it's up to you to process them correctly!\n",
    "def is_divisor(val, div):\n",
    "    \n",
    "    divisible = val % div == 0\n",
    "\n",
    "    # I could have written this many other ways\n",
    "    # Ex:\n",
    "    # dividend = denom / div\n",
    "    # divisible = dividend == int(dividend)\n",
    "    \n",
    "    return divisible\n",
    "    # Note I don't have to use a temporary variable if I don't want to\n",
    "    # I could have done:\n",
    "    # return denom % div == 0\n",
    "    # Python would resolve the right side before returning the value"
   ]
  },
  {
   "cell_type": "code",
   "execution_count": null,
   "metadata": {},
   "outputs": [],
   "source": [
    "# When I call a function I can either give the inputs without frills\n",
    "a = is_divisor(10, 5)\n",
    "print(a)\n",
    "# but I have to make sure I entered them in the correct order\n",
    "\n",
    "# I can also use the variable names in the function definition so order won't matter\n",
    "a = is_divisor(div=5, val=10)\n",
    "print(a)"
   ]
  },
  {
   "cell_type": "code",
   "execution_count": null,
   "metadata": {},
   "outputs": [],
   "source": [
    "# Notice that I must give the correct number of inputs or I'll get an error\n",
    "is_divisor(1, 2, 3) #BAD"
   ]
  },
  {
   "cell_type": "markdown",
   "metadata": {},
   "source": [
    "Now let's look at multiple outputs.\n",
    "\n",
    "Let's write a function that takes a test score and returns a letter grade as well as a pass/fail indicator."
   ]
  },
  {
   "cell_type": "code",
   "execution_count": null,
   "metadata": {},
   "outputs": [
    {
     "data": {
      "text/plain": [
       "'I could buy it, YAY :D!!!'"
      ]
     },
     "execution_count": 10,
     "metadata": {},
     "output_type": "execute_result"
    }
   ],
   "source": [
    "def grade_result(score):\n",
    "\n",
    "    if score >= 90:\n",
    "        letter = 'A'\n",
    "        passed = True\n",
    "    elif score >= 80:\n",
    "        letter = 'B'\n",
    "        passed = True\n",
    "    elif score >= 70:\n",
    "        letter = 'C'\n",
    "        passed = True\n",
    "    elif score >= 60:\n",
    "        letter = 'D'\n",
    "        passed = False\n",
    "    else:\n",
    "        letter = 'F'\n",
    "        passed = False\n",
    "\n",
    "    return letter, passed"
   ]
  },
  {
   "cell_type": "code",
   "execution_count": null,
   "metadata": {},
   "outputs": [],
   "source": [
    "grade_result(79)"
   ]
  },
  {
   "cell_type": "markdown",
   "metadata": {},
   "source": [
    "Note how the output is shown wrapped in parentheses. That's because Python does multi-value return as a tuple. \n",
    "We can either store the tuple in 1 variable, or unpack it into exactly 2 variables (in this case)."
   ]
  },
  {
   "cell_type": "code",
   "execution_count": null,
   "metadata": {},
   "outputs": [],
   "source": [
    "a = grade_result(84)\n",
    "print(a)\n",
    "\n",
    "a, b = grade_result(90)\n",
    "print(a)\n",
    "print(b)"
   ]
  },
  {
   "cell_type": "code",
   "execution_count": null,
   "metadata": {},
   "outputs": [],
   "source": [
    "# Notice that the code will fail if I try to write the 2 value tuple into 3 variables\n",
    "a, b, c = grade_result(51) #BAD"
   ]
  },
  {
   "cell_type": "markdown",
   "metadata": {},
   "source": [
    "### Default Values\n",
    "\n",
    "Sometimes, we want to save ourselves from typing the same input values over and over if they're usually the same. We could hard-code them, but that makes our code less flexible and less clear. Luckily, Python allows us to define our functions with default values for some or all inputs. When we later call the function, we don't have to write them in!\n",
    "\n",
    "Let's write a function that represents a line: $f(x) = mx + b$. Our function can represent any line if we allow m and b to be inputs, but let's say we usually want to give them some default values."
   ]
  },
  {
   "cell_type": "code",
   "execution_count": null,
   "metadata": {},
   "outputs": [],
   "source": [
    "# To set default values, I simply set them in the function definition\n",
    "def line(x, m=1, b=0):\n",
    "    return m * x + b"
   ]
  },
  {
   "cell_type": "code",
   "execution_count": null,
   "metadata": {},
   "outputs": [],
   "source": [
    "# Now I can call the function many different ways\n",
    "\n",
    "a = line(5)\n",
    "print(a)\n",
    "\n",
    "a = line(5, 2, 4)\n",
    "print(a)\n",
    "\n",
    "a = line(9, m=-2, b=20)\n",
    "print(a)\n",
    "\n",
    "a = line(-4, 7, b=8)\n",
    "print(a)"
   ]
  },
  {
   "cell_type": "code",
   "execution_count": null,
   "metadata": {},
   "outputs": [],
   "source": [
    "# I must always put all positional arguments before any named arguments\n",
    "line(3, m=-7, 6) #BAD"
   ]
  },
  {
   "cell_type": "markdown",
   "metadata": {},
   "source": [
    "## Scope\n",
    "\n",
    "The scope of a variable is the context Python recognizes it in. Imagine I said 'get down'. In one context, you would react by ducking. In another, you might start dancing. Similarly, Python might interpret one thing two different ways, depending on the context.\n",
    "\n",
    "The result is that when we use a variable name in a function, it can be the same as a variable name outside the function. Python will always look in the most local scope first before broadening its search when trying to resolve a variable name. \n",
    "\n",
    "Think about it like an inside joke. If we both find the word giraffe funny, when we encounter that word in each other's vicinity, we might laugh. When we encounter it in other contexts, we would default to thinking about the animal.\n",
    "\n",
    "Let's make it clearer with an example."
   ]
  },
  {
   "cell_type": "code",
   "execution_count": null,
   "metadata": {},
   "outputs": [],
   "source": [
    "x = 5\n",
    "\n",
    "def display(x):\n",
    "    local = x # define a local variable\n",
    "    print(x)\n",
    "# Notice no return statment required!"
   ]
  },
  {
   "cell_type": "code",
   "execution_count": null,
   "metadata": {},
   "outputs": [],
   "source": [
    "print(x)\n",
    "\n",
    "display(10)"
   ]
  },
  {
   "cell_type": "markdown",
   "metadata": {},
   "source": [
    "The outputs are different! That's because 'x' in the function scope is different than 'x' in the global scope. Notice, too, that the local variable 'local' that we made is not accessible outside the function scope."
   ]
  },
  {
   "cell_type": "code",
   "execution_count": null,
   "metadata": {},
   "outputs": [],
   "source": [
    "display(9)\n",
    "print(local) # Fails because local isn't defined in any available scope"
   ]
  },
  {
   "cell_type": "markdown",
   "metadata": {},
   "source": [
    "We can't access the variable that was defined in the local function scope. That's because Python only looks at scopes of increasing size. That allows a sometimes dangerous functionality."
   ]
  },
  {
   "cell_type": "code",
   "execution_count": null,
   "metadata": {},
   "outputs": [],
   "source": [
    "a = 10\n",
    "\n",
    "def use_global_vars(x):\n",
    "    result = a * x\n",
    "    return result"
   ]
  },
  {
   "cell_type": "code",
   "execution_count": null,
   "metadata": {},
   "outputs": [],
   "source": [
    "use_global_vars(10)"
   ]
  },
  {
   "cell_type": "markdown",
   "metadata": {},
   "source": [
    "This code works! Since the scope of the 'a' variable is wider than the function scope and there is no 'a' defined in the function, Python finds the variable in the global scope. This can be useful sometimes as a different way of setting default values, for example, constants. However, it is an easy way to create bugs if you lose track of 'a', modify it somewhere else, forgot to define a local 'a' or simply misspelled the local variable name. Generally, containing you variables in local scopes is the safest and most readable path. This is another key reason why functions are so useful!"
   ]
  },
  {
   "cell_type": "code",
   "execution_count": null,
   "metadata": {},
   "outputs": [],
   "source": [
    "# Special bonus functionality\n",
    "# Note that this is allowed\n",
    "\n",
    "m = 6\n",
    "b = -3\n",
    "line(2, m=m, b=b)\n",
    "\n",
    "# We're assigning the local variable to the value of the global variable"
   ]
  },
  {
   "cell_type": "markdown",
   "metadata": {},
   "source": [
    "## Doc Strings\n",
    "\n",
    "Often we're writing function that others or our future selves need to be able to use. Commenting is one great way to make our function clear, but Python has another way for documenting functions specifically.\n",
    "\n",
    "Doc strings allow us to give a brief synopsis of our function (what it does, what inputs it takes, what output it gives) that is visible in the source code, but also accessible to the user. The user can access them with a '?' at the end of the function name. That will display to the user the full doc string, so that they (or future you) can quickly determine what the function does and how to use it without having to open the source code.\n",
    "\n",
    "These can be tedious to write and seemingly trivial for basic functions, but they are very important when writing public, complicated, collaborative, or otherwise accessible code. Even though they seem silly for the little function we'll write, getting in the habit of documenting your code will make you a happier and better programmer."
   ]
  },
  {
   "cell_type": "code",
   "execution_count": null,
   "metadata": {},
   "outputs": [],
   "source": [
    "# Doc strings go right after the function header and are set off with triple quotes '''\n",
    "# There's no required formatting but convention is to give a description of the \n",
    "#  function, what inputs it takes (including expected data types, units, etc.), \n",
    "#  and what the output will look like (number, data type, untis, etc.)\n",
    "# Sometimes it will also include a usage example that shows a correct function call.\n",
    "\n",
    "def FunctionName(input):\n",
    "    '''\n",
    "    Beginning of the Documentation String:\n",
    "    \n",
    "    Include basic operation of the funciton, basically what does this do\n",
    "    \n",
    "    Parameters (Input(s))\n",
    "    --------------\n",
    "    Here you will put the Inputs and the data type that they belong to and a brief summary\n",
    "    \n",
    "    \n",
    "    Return (Outputs)\n",
    "    --------------\n",
    "    What the function returns, if applicable, and the data type that it returns it. (i.e. string, list, int, float)\n",
    "    '''\n",
    "    \n",
    "    #some code\n",
    "    \n",
    "    return"
   ]
  },
  {
   "cell_type": "code",
   "execution_count": null,
   "metadata": {},
   "outputs": [],
   "source": [
    "FunctionName?"
   ]
  },
  {
   "cell_type": "markdown",
   "metadata": {},
   "source": [
    "## Cumulative Example\n",
    "\n",
    "Let's take a look at an example function that uses many of the concepts we have introduced so far."
   ]
  },
  {
   "cell_type": "code",
   "execution_count": null,
   "metadata": {},
   "outputs": [],
   "source": [
    "def Dividing_Function(a, b, Floor = False, Remainder = False):\n",
    "    \n",
    "    '''\n",
    "    This Function has the capacity to return any kind of pythonic division by specifying \n",
    "    the keyword and setting it to True. Default functionality is to do regular division.\n",
    "    \n",
    "    With a being divided by b\n",
    "    \n",
    "    Parameters\n",
    "    -------------\n",
    "    a: number in the numerator \n",
    "    b: number in the denominator\n",
    "    Floor: (bool) if True, it will return the floor division of a and b\n",
    "    Remainder: (bool) if True, it will return the remainder of a and b\n",
    "\n",
    "    *note: if both Floor and Remainder are set to True, it will return the floor division\n",
    "            so be careful with setting both of those to True\n",
    "    \n",
    "    Returns\n",
    "    -------------\n",
    "    Depending on the Conditions\n",
    "    \n",
    "    number resulting from the specified divisions\n",
    "    '''\n",
    "    \n",
    "    if Floor:\n",
    "        \n",
    "        return a//b\n",
    "    \n",
    "    elif Remainder:\n",
    "        return a % b\n",
    "        \n",
    "    else:\n",
    "        return a/b\n",
    "    \n",
    "# Note that we're allowed to have multiple return statements in the same funciton. Whenever a return is reached\n",
    "#  the function execution stops. In this case, that means that the elif and else could be swapped for if and nothing\n",
    "#  and the functionality would be the same.\n",
    "        "
   ]
  },
  {
   "cell_type": "code",
   "execution_count": null,
   "metadata": {},
   "outputs": [],
   "source": [
    "reg_div = Dividing_Function(100, 51)\n",
    "floor_div = Dividing_Function(100, 51, Floor = True)\n",
    "remainder_div = Dividing_Function(100, 45, Remainder = True)\n",
    "\n",
    "print(f'The regular division of 100 by 45 is {reg_div}')\n",
    "print(f'The floor division of 100 by 45 is {floor_div}')\n",
    "print(f'The remainder of 100 by 45 is {remainder_div}')"
   ]
  },
  {
   "cell_type": "markdown",
   "metadata": {},
   "source": [
    "# Extra Goodies\n",
    "\n",
    "\n",
    "## Functions as arguments\n",
    "One useful note is that the inputs to functions can be any sort of object, including functions. Keep in mind, though, that when you use a function as input, it's up to you to make sure you use it right, Python won't make sure that you give it the correct arguments, etc."
   ]
  },
  {
   "cell_type": "code",
   "execution_count": 52,
   "metadata": {},
   "outputs": [
    {
     "name": "stdout",
     "output_type": "stream",
     "text": [
      "HELLO, OSCAR\n"
     ]
    }
   ],
   "source": [
    "def shout(text):\n",
    "    return text.upper()\n",
    "\n",
    "def whisper(text):\n",
    "    return text.lower()\n",
    "\n",
    "def greet(func, name):\n",
    "    return func(f\"Hello, {name}\")\n",
    "\n",
    "print(greet(shout, \"Oscar\"))  # Output: HELLO, OSCAR\n"
   ]
  },
  {
   "cell_type": "markdown",
   "metadata": {},
   "source": [
    "## Recursion\n",
    "\n",
    "Functions are allowed to call themselves! This is good for situations where we can imagine the function working in a self-referential way. \n",
    "When using recursion it is very important to define a base case which will end the chain of self-calls. Otherwise you'll get an infinite loop. Also, keep in mind that recursion is rarely the most efficient solution since it can be relatively memory intensive and sometimes does not scale well. \n",
    "\n",
    "To make it more concrete, here is a practical example with the factorial (!) operation.\n",
    "\n",
    "Since factorial is defined as $n! = n * (n-1)!$, we can define factorial using factorial until the base case where we know $1! = 1$. "
   ]
  },
  {
   "cell_type": "code",
   "execution_count": null,
   "metadata": {},
   "outputs": [],
   "source": [
    "def factorial(n):\n",
    "    \n",
    "    if n == 1: \n",
    "        return 1\n",
    "    \n",
    "    return n * factorial(n - 1)\n",
    "\n",
    "print(factorial(5)) "
   ]
  },
  {
   "cell_type": "markdown",
   "metadata": {},
   "source": [
    "## Type Hints\n",
    "\n",
    "One seldom-used way to make your code more readable and reliable is to indicate what datatypes your function needs as input and will return as output. This is done in the doc-string, but can also be done in the code itself. This will not enforce those data types, however, many IDEs will be able to use your labels to detect potential problems in your code. Let's try it out using our simple line function from before."
   ]
  },
  {
   "cell_type": "code",
   "execution_count": null,
   "metadata": {},
   "outputs": [],
   "source": [
    "# Notice how it is now clear what each argument's data type should be and what the return type will be.\n",
    "def line_hints(x:float, m:float=1, b:float=0) -> float:\n",
    "    return m * x + b"
   ]
  },
  {
   "cell_type": "code",
   "execution_count": null,
   "metadata": {},
   "outputs": [],
   "source": [
    "# Works the same as before\n",
    "print(line_hints(5))\n",
    "print(line_hints(2, 7, -10))\n",
    "\n",
    "# Note that I'm passing ints instead of floats. Python doesn't enforce my type hint and \n",
    "# my editor knows that ints will always be compatible in place of floats"
   ]
  },
  {
   "cell_type": "markdown",
   "metadata": {},
   "source": [
    "# Testing your Functions\n",
    "\n",
    "When you write a function, it is important to test it to ensure the output makes sense for the input. Test your function with known input-output combinations. Even if you don't know what the exact output should be, you can get a sense of whether yours is feasible (e.g. standard deviation should be positive). This testing ensures that if you and others can trust your fuction in the future, even without reviewing every line of the source code.\n",
    "\n",
    "Testing becomes more important with increased complexity. You may be able to quickly verify an addition function but a function to extract gravitational wave signals from LIGO data would require much more testing. One thing that increases with complexity is the number of boundary cases. Boundary cases are inputs that are likely to break your function, often because they are outside the inteded scope. Imagine inputting 0 into a division function. If you don't handle that properly, it could cause bugs in downstream programs that rely on your function. Always try to imagine what a user might do which might break your function and handle it properly. This is called *defensive programming* and will make your code much more stable, resilient, and reliable.\n",
    "\n",
    "Let's test a couple functions."
   ]
  },
  {
   "cell_type": "code",
   "execution_count": 55,
   "metadata": {},
   "outputs": [],
   "source": [
    "def compute_redshift(lambda_obs, lambda_rest):\n",
    "\n",
    "    '''\n",
    "    This is a function to compute the redshift of a source based off of the observed wavelength and the reference emission line center.\n",
    "\n",
    "    Inputs:\n",
    "    \n",
    "    lambda_obs: the observed wavelength of the emission line\n",
    "    lambda_rest: the rest-frame wavelength of the emission line \n",
    "    *Note that the units must be the same here for both lambda_obs and lambda_rest\n",
    "\n",
    "    Returns:\n",
    "    z: the redshift of the sources\n",
    "    \n",
    "    '''\n",
    "\n",
    "    z = (lambda_obs - lambda_rest)/lambda_rest\n",
    "\n",
    "    return z\n",
    "\n"
   ]
  },
  {
   "cell_type": "code",
   "execution_count": 56,
   "metadata": {},
   "outputs": [
    {
     "name": "stdout",
     "output_type": "stream",
     "text": [
      "Redshift of the source is 0.06635885452448811\n"
     ]
    }
   ],
   "source": [
    "halpha_restframe = 6564.61\n",
    "halpha_observed = 7000.23\n",
    "z = compute_redshift(halpha_observed,halpha_restframe)\n",
    "print(f'Redshift of the source is {z}')"
   ]
  },
  {
   "cell_type": "code",
   "execution_count": 57,
   "metadata": {},
   "outputs": [],
   "source": [
    "def compute_average(values):\n",
    "\n",
    "    '''\n",
    "    This function will compute the average of a list of values\n",
    "\n",
    "    Inputs:\n",
    "    values: a list of numbers\n",
    "\n",
    "    Returns:\n",
    "    avg: the average of the list\n",
    "    '''\n",
    "\n",
    "    summation = 0\n",
    "\n",
    "    for val in values:\n",
    "\n",
    "        summation += val\n",
    "    \n",
    "    avg = summation/len(values)\n",
    "\n",
    "    return avg"
   ]
  },
  {
   "cell_type": "code",
   "execution_count": 58,
   "metadata": {},
   "outputs": [
    {
     "name": "stdout",
     "output_type": "stream",
     "text": [
      "The average of the list is 5.0\n"
     ]
    }
   ],
   "source": [
    "num_list = [0, 1, 2, 3, 4, 5, 6, 7, 8, 9, 10]\n",
    "avg_list = compute_average(num_list)\n",
    "print(f'The average of the list is {avg_list}')"
   ]
  },
  {
   "cell_type": "markdown",
   "metadata": {},
   "source": [
    "Try to imagine some boundary cases for the above functions.\n",
    "\n",
    "How might a user misuse them? How would you want the function to respond? Feel free to edit/rewrite the functions to accomodate these changes."
   ]
  }
 ],
 "metadata": {
  "kernelspec": {
   "display_name": "Python 3 (ipykernel)",
   "language": "python",
   "name": "python3"
  },
  "language_info": {
   "codemirror_mode": {
    "name": "ipython",
    "version": 3
   },
   "file_extension": ".py",
   "mimetype": "text/x-python",
   "name": "python",
   "nbconvert_exporter": "python",
   "pygments_lexer": "ipython3",
   "version": "3.11.9"
  }
 },
 "nbformat": 4,
 "nbformat_minor": 4
}
