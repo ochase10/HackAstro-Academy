{
 "cells": [
  {
   "cell_type": "markdown",
   "metadata": {},
   "source": [
    "# Notebook 5: Making Functions in Python"
   ]
  },
  {
   "cell_type": "markdown",
   "metadata": {},
   "source": [
    "Alright so far we have covered four really big topics in python: Data Types, Conditional Statements, Containers, and Loops. This notebook will cover how to make functions that use the previous four topics and generalizes them to include any input and values. Functions are at the crux of everything we do and is why knowing how functions are made, how they work and return values is so important. All programs run on functions!!"
   ]
  },
  {
   "cell_type": "code",
   "execution_count": 13,
   "metadata": {},
   "outputs": [],
   "source": [
    "#this will store the data for an example star catalog\n",
    "\n",
    "data = { 'Radius':[  1.  ,  1.13,  1.18,  1.94,  1.78,  1.38,  0.96,  0.36,  0.9 ,\n",
    "                    0.56,  9.3 ,  1.24,  0.83,  6.3 ,  4.4 ,  2.22,  2.5 ,  1.1 ,\n",
    "                    1.62,  2.12,  1.84,  1.21,  5.6 ,  1.19,  8.03, 65.8 ,  9.85,\n",
    "                    39.  , 25.11,  1.49,  0.84,  4.6 ,  1.18,  1.09,  0.85,  4.3 ,\n",
    "                    1.35,  1.3 ,  1.07,  3.4 ,  0.82,  1.23,  0.99,  5.2 ,  0.99,\n",
    "                    1.14,  0.57,  1.21,  3.22,  4.5 ],\n",
    "        'Mass': [0.91, 1.03, 1.03, 1.09, 1.44, 1.25, 1.01, 0.36, 0.9 , 0.58, 2.4 ,\n",
    "                1.01, 0.93, 1.95, 1.68, 1.28, 1.32, 1.11, 0.97, 1.32, 0.99, 1.22,\n",
    "                1.85, 1.21, 1.94, 1.4 , 1.15, 1.8 , 1.49, 1.47, 0.85, 1.58, 1.1 ,\n",
    "                1.15, 0.65, 1.61, 1.03, 1.23, 0.91, 1.33, 0.86, 1.02, 1.03, 1.69,\n",
    "                0.95, 1.12, 0.58, 1.22, 1.45, 1.61], \n",
    "        'Flux': [   6.99502627e-08, 8.95083810e-08, 1.83047461e-07, 2.82034284e-07,\n",
    "                    2.13639178e-09, 1.43497994e-07, 1.19379289e-08, 1.73661769e-08,\n",
    "                    6.85827894e-08, 1.61540851e-08, 7.30285047e-08, 2.93175259e-08,\n",
    "                    1.72259257e-08, 1.32957760e-08, 2.49531391e-08, 6.34077129e-08,\n",
    "                    2.07291545e-08, 1.50030161e-07, 3.38664068e-08, 2.14853470e-08,\n",
    "                    8.74717011e-08, 4.24341667e-08, 1.97903135e-08, 5.53208657e-09,\n",
    "                    9.35379336e-08, 4.17111835e-06, 1.38673087e-07, 8.68472168e-08,\n",
    "                    6.88094394e-07, 1.34601587e-08, 3.06216884e-08, 2.37970281e-08,\n",
    "                    3.66084312e-08, 7.24891370e-09, 1.68251341e-08, 1.80263443e-08,\n",
    "                    1.16198616e-08, 6.84544186e-09, 6.41371795e-09, 1.96921943e-08,\n",
    "                    8.98446795e-09, 2.23651833e-08, 3.02379245e-08, 4.56516315e-08,\n",
    "                    5.51435966e-09, 1.74398252e-08, 2.20846111e-08, 1.74320963e-08,\n",
    "                    3.78681949e-08, 1.01673640e-08],  \n",
    "        'Distance': [5.53332961e+17, 6.52302984e+17, 4.77088954e+17, 5.52370230e+17,\n",
    "                    4.25638366e+18, 7.81552761e+17, 1.35961743e+18, 1.72198397e+17,\n",
    "                    5.41718471e+17, 3.42562668e+17, 4.23287079e+18, 1.22128650e+18,\n",
    "                    9.05294603e+17, 6.69922203e+18, 3.76113240e+18, 1.71320831e+18,\n",
    "                    2.89461243e+18, 5.34923808e+17, 1.05195377e+18, 3.17914276e+18,\n",
    "                    1.02199184e+18, 1.20094571e+18, 5.08340696e+18, 3.24292371e+18,\n",
    "                    3.52279467e+18, 1.91538005e+18, 3.12165658e+18, 9.97707561e+18,\n",
    "                    3.58969216e+18, 2.94344636e+18, 6.49930098e+17, 3.80294334e+18,\n",
    "                    1.16571036e+18, 2.25550997e+18, 8.07052800e+17, 4.06843503e+18,\n",
    "                    2.18414133e+18, 3.24474426e+18, 2.27943014e+18, 3.24514540e+18,\n",
    "                    1.24920880e+18, 1.46249700e+18, 1.02944993e+18, 3.00021974e+18,\n",
    "                    2.11413965e+18, 1.65047957e+18, 3.32151592e+17, 1.76281366e+18,\n",
    "                    2.20162787e+18, 5.89219391e+18]}\n"
   ]
  },
  {
   "cell_type": "markdown",
   "metadata": {},
   "source": [
    "## What is a Function?"
   ]
  },
  {
   "cell_type": "markdown",
   "metadata": {},
   "source": [
    "In layman's terms a function is something that requires an input(or many inputs) then does something to the input(s) and then returns something back to you. \n",
    "\n",
    "The simplest example I can think of is a line. The line is of the form y = mx + b and if we say that m = 2 and b = 3 we get the following equation: \n",
    "\n",
    "y = 2x + 3 \n",
    "\n",
    "So what does this do? Basically it says give me any x value you can think of and I will give you what y value that corresponds to. So it takes an input x and then it does some math, namely multiplies x by 2 and then adds 3, and then gives you back what the y value is.\n",
    "\n",
    "Lets code this up to get familiar with functions in python. "
   ]
  },
  {
   "cell_type": "code",
   "execution_count": null,
   "metadata": {},
   "outputs": [],
   "source": [
    "#Syntax for declaring a function:\n",
    "\n",
    "#   You can call your function any name\n",
    "def FunctionName('Input(s)'):\n",
    "    \n",
    "    #Runs some code here to get output\n",
    "    \n",
    "    #You need this to return the value back to the user\n",
    "    return Output"
   ]
  },
  {
   "cell_type": "markdown",
   "metadata": {},
   "source": [
    "Let's make a function called Line, that takes an input x, performs the operation 2x + 5 and then returns what that value is"
   ]
  },
  {
   "cell_type": "code",
   "execution_count": null,
   "metadata": {},
   "outputs": [],
   "source": [
    "#declaring my function name\n",
    "def Line(x):\n",
    "    \n",
    "    #performing operation\n",
    "    y = 2*x + 3\n",
    "    \n",
    "    #returning the value \n",
    "    return y"
   ]
  },
  {
   "cell_type": "markdown",
   "metadata": {},
   "source": [
    "Congratulations we just wrote a python function :D!!\n",
    "\n",
    "Now how do we use it? \n",
    "\n",
    "Simple, we call the function name, give it an input and see what it returns. Let's input into our Line function the number 5"
   ]
  },
  {
   "cell_type": "code",
   "execution_count": null,
   "metadata": {},
   "outputs": [],
   "source": [
    "Line(5)"
   ]
  },
  {
   "cell_type": "markdown",
   "metadata": {},
   "source": [
    "We got 13 and so this is the y-value that corresponds to x = 5!! Try it out with different numbers and see what you get?"
   ]
  },
  {
   "cell_type": "code",
   "execution_count": null,
   "metadata": {},
   "outputs": [],
   "source": [
    "print(Line())\n",
    "\n",
    "print(Line())\n",
    "\n",
    "print(Line())"
   ]
  },
  {
   "cell_type": "code",
   "execution_count": null,
   "metadata": {},
   "outputs": [],
   "source": [
    "#we can also assign the output of a function into a variable\n",
    "#pretty cool right!!\n",
    "y_13 = Line(13)"
   ]
  },
  {
   "cell_type": "markdown",
   "metadata": {},
   "source": [
    "## Multiple Input Functions"
   ]
  },
  {
   "cell_type": "markdown",
   "metadata": {},
   "source": [
    "The example above was how to make a function in python with one input what if we have more than 1 say 2, 3 or more how would we do that? \n",
    "\n",
    "Well let's take another practical example. If you recall we did if, else statement with money we had on hand and the price of an object we wanted to potentially buy. Lets make this into a function so that for any price and money we can see if we should buy it or wait until the next paycheck."
   ]
  },
  {
   "cell_type": "code",
   "execution_count": null,
   "metadata": {},
   "outputs": [],
   "source": [
    "def Buy_or_Pass(MoneyAvailable, Price):\n",
    "    \n",
    "    if Price > MoneyAvailable:\n",
    "        return \"Cannot buy, gotta wait until next paycheck :'(\"\n",
    "    \n",
    "    else: \n",
    "        return \"I could buy it, YAY :D!!!\""
   ]
  },
  {
   "cell_type": "markdown",
   "metadata": {},
   "source": [
    "Let's do a check to see if our function worked: \n",
    "\n",
    "1. Price = 90 and MoneyAvailable = 100\n",
    "2. Price = 190 and MoneyAvailable = 100\n",
    "3. Price = 190 and MoneyAvailable = 200"
   ]
  },
  {
   "cell_type": "code",
   "execution_count": null,
   "metadata": {},
   "outputs": [],
   "source": [
    "#check Numero 1: Check the order of the inputs\n",
    "Buy_or_Pass(100, 90)"
   ]
  },
  {
   "cell_type": "code",
   "execution_count": null,
   "metadata": {},
   "outputs": [],
   "source": [
    "#What happens when we flip the order\n",
    "Buy_or_Pass(90, 100)"
   ]
  },
  {
   "cell_type": "markdown",
   "metadata": {},
   "source": [
    "Remember what I said about being super explicit when programming, we may know that the 90 is the Price and the 100 is the MoneyAvailable but the computer does not know that. It only knows what you tell it and we defined the function Buy_or_Pass with the inputs in the order MoneyAvailable, Price. So that is how the program will interpret the inputs because we told it to. \n",
    "\n",
    "Now you can change the order but you need to be explicit about the variable you want to assign:"
   ]
  },
  {
   "cell_type": "code",
   "execution_count": null,
   "metadata": {},
   "outputs": [],
   "source": [
    "#change order but making it explicit what each number is\n",
    "Buy_or_Pass(Price = 90, MoneyAvailable=100)"
   ]
  },
  {
   "cell_type": "code",
   "execution_count": null,
   "metadata": {},
   "outputs": [],
   "source": [
    "#check Numero 2: Price = 190 and MoneyAvailable = 100\n",
    "Buy_or_Pass()"
   ]
  },
  {
   "cell_type": "code",
   "execution_count": null,
   "metadata": {},
   "outputs": [],
   "source": [
    "#check Numero 3: Price = 190 and MoneyAvailable = 200\n",
    "Buy_or_Pass()"
   ]
  },
  {
   "cell_type": "markdown",
   "metadata": {},
   "source": [
    "## Documentation Strings"
   ]
  },
  {
   "cell_type": "code",
   "execution_count": null,
   "metadata": {},
   "outputs": [],
   "source": [
    "def FunctionName('Input(s)'):\n",
    "    '''\n",
    "    Beginning of the Documentation String:\n",
    "    \n",
    "    Include basic operation of the funciton, basically what does this do\n",
    "    \n",
    "    Parameters (Input(s))\n",
    "    --------------\n",
    "    Here you will put the Inputs and the data type that they belong to and a brief summary\n",
    "    \n",
    "    \n",
    "    Return (Outputs)\n",
    "    --------------\n",
    "    What the function returns, if applicable, and the data type that it returns it. (i.e. string, list, int, float)\n",
    "    '''\n",
    "    \n",
    "    #some code\n",
    "    \n",
    "    return Output"
   ]
  },
  {
   "cell_type": "code",
   "execution_count": null,
   "metadata": {},
   "outputs": [],
   "source": [
    "def Line(x):\n",
    "    \n",
    "    '''\n",
    "    This function gives you the y value of a line for a given x using y = 2x+3\n",
    "    \n",
    "    Parameter\n",
    "    ----------\n",
    "    x (float or int): the value to calculate the y-value for\n",
    "    \n",
    "    Returns\n",
    "    ----------\n",
    "    y (float or int): the y-value for the corresponding x-input\n",
    "    '''\n",
    "    #performing operation\n",
    "    y = 2*x + 3\n",
    "    \n",
    "    #returning the value \n",
    "    return y"
   ]
  },
  {
   "cell_type": "markdown",
   "metadata": {},
   "source": [
    "## Other Niche Function Features\n",
    "\n",
    "### Predefining Inputs"
   ]
  },
  {
   "cell_type": "code",
   "execution_count": 6,
   "metadata": {},
   "outputs": [],
   "source": [
    "def Display_for_Game(Welcome = True):\n",
    "    \n",
    "    if Welcome:\n",
    "        \n",
    "        print('Welcome to the Guessing Game!!')\n",
    "        print('To play the game input Y for yes, to not play input N for no.')\n",
    "        \n",
    "    else:\n",
    "        print('Thanks for playing the guessing game would you like to play again?')\n",
    "        \n",
    "        "
   ]
  },
  {
   "cell_type": "code",
   "execution_count": null,
   "metadata": {},
   "outputs": [],
   "source": [
    "Display_for_Game()"
   ]
  },
  {
   "cell_type": "code",
   "execution_count": null,
   "metadata": {},
   "outputs": [],
   "source": [
    "test = Display_for_Game()"
   ]
  },
  {
   "cell_type": "code",
   "execution_count": 23,
   "metadata": {},
   "outputs": [],
   "source": [
    "def Dividing_Function(a, b, Floor = False, Remainder = False):\n",
    "    \n",
    "    '''\n",
    "    This Function has the capacity to return any kind of pythonic division by specifying \n",
    "    the keyword and setting it to True. Default functionality is to do regular division.\n",
    "    \n",
    "    With a being divided by b\n",
    "    \n",
    "    Parameters\n",
    "    -------------\n",
    "    a: number in the numerator \n",
    "    b: number in the denominator\n",
    "    Floor: (bool) if True, it will return the floor division of a and b\n",
    "    Remainder: (bool) if True, it will return the remainder of a and b\n",
    "\n",
    "    *note: if both Floor and Remainder are set to True, it will return the floor division\n",
    "            so be careful with setting both of those to True\n",
    "    \n",
    "    Returns\n",
    "    -------------\n",
    "    Depending on the Conditions\n",
    "    \n",
    "    number resulting from the specified divisions\n",
    "    '''\n",
    "    \n",
    "    if Floor:\n",
    "        \n",
    "        return a//b\n",
    "    \n",
    "    elif Remainder:\n",
    "        return a % b\n",
    "        \n",
    "    else:\n",
    "        return a/b\n",
    "        "
   ]
  },
  {
   "cell_type": "code",
   "execution_count": null,
   "metadata": {},
   "outputs": [],
   "source": [
    "reg_div = Dividing_Function(100, 45)\n",
    "floor_div = Dividing_Function(100, 45, Floor = True)\n",
    "remainder_div = Dividing_Function(100, 45, Remainder = True)"
   ]
  },
  {
   "cell_type": "code",
   "execution_count": null,
   "metadata": {},
   "outputs": [],
   "source": [
    "print(f'The regular division of 100 by 45 is {reg_div}')\n",
    "print(f'The floor division of 100 by 45 is {floor_div}')\n",
    "print(f'The remainder of 100 by 45 is {remainder_div}')"
   ]
  },
  {
   "cell_type": "markdown",
   "metadata": {},
   "source": [
    "### Function Scope\n",
    "\n",
    "The scope of the function is an important thing to remember when working with functions as this is how the functions knows what variables to use when the function gets called. There are 2 scopes to keep in the back of your mind the first is the **global** scope which all the functions have access to whether they are in the function or not. The second is **local** scope and these are variables only seen within the function and nowhere else in the program.\n",
    "\n",
    "Let's see some examples of this in action"
   ]
  },
  {
   "cell_type": "code",
   "execution_count": null,
   "metadata": {},
   "outputs": [],
   "source": [
    "test = 87\n",
    "\n",
    "def compute_score(test):\n",
    "\n",
    "    '''\n",
    "    This function will compute the letter grade for a given test score\n",
    "\n",
    "    Parameters\n",
    "\n",
    "    test (float/int): the test score to be converted to a letter grade\n",
    "\n",
    "    Returns\n",
    "\n",
    "    letter grade (str): the letter grade corresponding to the test score\n",
    "\n",
    "    '''\n",
    "\n",
    "    if test >= 90:\n",
    "        return 'A'\n",
    "    elif test >= 80:\n",
    "        return 'B'\n",
    "    elif test >= 70:\n",
    "        return 'C'\n",
    "    elif test >= 60:\n",
    "        return 'D'\n",
    "    else:\n",
    "        return 'F'\n",
    "    \n",
    "\n",
    "print(f'Grade is: {compute_score(test)}')\n",
    "print(f'Grade is: {compute_score(98)}')"
   ]
  },
  {
   "cell_type": "markdown",
   "metadata": {},
   "source": [
    "### Passing Functions as Arguments"
   ]
  },
  {
   "cell_type": "code",
   "execution_count": null,
   "metadata": {},
   "outputs": [],
   "source": [
    "def shout(text):\n",
    "    return text.upper()\n",
    "\n",
    "def whisper(text):\n",
    "    return text.lower()\n",
    "\n",
    "def greet(func, name):\n",
    "    return func(f\"Hello, {name}\")\n",
    "\n",
    "print(greet(shout, \"Oscar\"))  # Output: HELLO, ALICE\n"
   ]
  },
  {
   "cell_type": "markdown",
   "metadata": {},
   "source": [
    "### Recursion\n",
    "\n",
    "We can have a function call itself, this is very useful when we are dealing with things like factorials, for example. where we multiply preceeding entries together."
   ]
  },
  {
   "cell_type": "code",
   "execution_count": null,
   "metadata": {},
   "outputs": [],
   "source": [
    "def factorial(n):\n",
    "    \n",
    "    if n == 0: \n",
    "        return 1\n",
    "    else: \n",
    "        return n * factorial(n - 1)\n",
    "\n",
    "\n",
    "print(factorial(5)) \n"
   ]
  },
  {
   "cell_type": "markdown",
   "metadata": {},
   "source": [
    "# Testing your Functions\n",
    "\n",
    "When you make a function it is important to test it out and see if the output you get back makes sense for the input you provided it. One way can be test it out on a precomputed value and see if you get that back. Other times you may know what to expect and so you can check your output to that value. \n",
    "\n",
    "Let see an example of this in practice."
   ]
  },
  {
   "cell_type": "code",
   "execution_count": 7,
   "metadata": {},
   "outputs": [],
   "source": [
    "def compute_redshift(lambda_obs, lambda_rest):\n",
    "\n",
    "    '''\n",
    "    This is a function to compute the redshift of a source based off of the observed wavelength and the reference emission line center.\n",
    "\n",
    "    Inputs:\n",
    "    \n",
    "    lambda_obs: the observed wavelength of the emission line\n",
    "    lambda_rest: the rest-frame wavelength of the emission line \n",
    "    *Note that the units must be the same here for both lambda_obs and lambda_rest\n",
    "\n",
    "    Returns:\n",
    "    z: the redshift of the sources\n",
    "    \n",
    "    '''\n",
    "\n",
    "    z = lambda_obs - lambda_rest/lambda_rest\n",
    "\n",
    "    return z\n",
    "\n"
   ]
  },
  {
   "cell_type": "code",
   "execution_count": null,
   "metadata": {},
   "outputs": [],
   "source": [
    "halpha_restframe = 6564.61\n",
    "halpha_observed = 7000.23\n",
    "z = compute_redshift(halpha_observed,halpha_restframe)\n",
    "print(f'Redshift of the source is {z}')"
   ]
  },
  {
   "cell_type": "code",
   "execution_count": 9,
   "metadata": {},
   "outputs": [],
   "source": [
    "def compute_average(values):\n",
    "\n",
    "    '''\n",
    "    This function will compute the average of a list of values\n",
    "\n",
    "    Inputs:\n",
    "    values: a list of numbers\n",
    "\n",
    "    Returns:\n",
    "    avg: the average of the list\n",
    "    '''\n",
    "\n",
    "    summation = 0\n",
    "\n",
    "    for val in values:\n",
    "\n",
    "        summation += val\n",
    "    \n",
    "    avg = summation/len(values)\n",
    "\n",
    "    return avg"
   ]
  },
  {
   "cell_type": "code",
   "execution_count": null,
   "metadata": {},
   "outputs": [],
   "source": [
    "num_list = [0, 1, 2, 3, 4, 5, 6, 7, 8, 9, 10]\n",
    "avg_list = compute_average(num_list)\n",
    "print(f'The average of the list is {avg_list}')"
   ]
  },
  {
   "cell_type": "code",
   "execution_count": null,
   "metadata": {},
   "outputs": [],
   "source": [
    "avg_radius = compute_average(data['Radius'])\n",
    "avg_mass = compute_average(data['Mass'])\n",
    "avg_flux = compute_average(data['Flux'])\n",
    "avg_distance = compute_average(data['Distance'])"
   ]
  },
  {
   "cell_type": "code",
   "execution_count": null,
   "metadata": {},
   "outputs": [],
   "source": [
    "print(f'The average radius is {avg_radius: .2f}')\n",
    "print(f'The average mass is {avg_mass:.2f}')\n",
    "print(f'The average flux is {avg_flux:.2e}')\n",
    "print(f'The average distance is {avg_distance:.2e}')"
   ]
  }
 ],
 "metadata": {
  "kernelspec": {
   "display_name": "research",
   "language": "python",
   "name": "python3"
  },
  "language_info": {
   "codemirror_mode": {
    "name": "ipython",
    "version": 3
   },
   "file_extension": ".py",
   "mimetype": "text/x-python",
   "name": "python",
   "nbconvert_exporter": "python",
   "pygments_lexer": "ipython3",
   "version": "3.12.2"
  }
 },
 "nbformat": 4,
 "nbformat_minor": 4
}
