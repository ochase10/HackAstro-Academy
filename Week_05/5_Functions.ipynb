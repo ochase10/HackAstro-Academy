{
 "cells": [
  {
   "cell_type": "markdown",
   "metadata": {},
   "source": [
    "# Notebook 5: Making Functions in Python"
   ]
  },
  {
   "cell_type": "markdown",
   "metadata": {},
   "source": [
    "Alright so far we have covered four really big topics in python: Data Types, Conditional Statements, Containers, and Loops. This notebook will cover how to make functions that use the previous four topics and generalizes them to include any input and values. Functions are at the crux of everything we do and is why knowing how functions are made, how they work and return values is so important. All programs run on functions!!"
   ]
  },
  {
   "cell_type": "markdown",
   "metadata": {},
   "source": [
    "## What is a Function?"
   ]
  },
  {
   "cell_type": "markdown",
   "metadata": {},
   "source": [
    "In layman's terms a function is something that requires an input(or many inputs) then does something to the input(s) and then returns something back to you. \n",
    "\n",
    "The simplest example I can think of is a line. The line is of the form y = mx + b and if we say that m = 2 and b = 3 we get the following equation: \n",
    "\n",
    "y = 2x + 3 \n",
    "\n",
    "So what does this do? Basically it says give me any x value you can think of and I will give you what y value that corresponds to. So it takes an input x and then it does some math, namely multiplies x by 2 and then adds 3, and then gives you back what the y value is.\n",
    "\n",
    "Lets code this up to get familiar with functions in python. "
   ]
  },
  {
   "cell_type": "code",
   "execution_count": null,
   "metadata": {},
   "outputs": [],
   "source": [
    "#Syntax for declaring a function:\n",
    "\n",
    "#   You can call your function any name\n",
    "def FunctionName('Input(s)'):\n",
    "    \n",
    "    #Runs some code here to get output\n",
    "    \n",
    "    #You need this to return the value back to the user\n",
    "    return Output"
   ]
  },
  {
   "cell_type": "markdown",
   "metadata": {},
   "source": [
    "Let's make a function called Line, that takes an input x, performs the operation 2x + 5 and then returns what that value is"
   ]
  },
  {
   "cell_type": "code",
   "execution_count": null,
   "metadata": {},
   "outputs": [],
   "source": [
    "#declaring my function name\n",
    "def Line(x):\n",
    "    \n",
    "    #performing operation\n",
    "    y = 2*x + 3\n",
    "    \n",
    "    #returning the value \n",
    "    return y"
   ]
  },
  {
   "cell_type": "markdown",
   "metadata": {},
   "source": [
    "Congratulations we just wrote a python function :D!!\n",
    "\n",
    "Now how do we use it? \n",
    "\n",
    "Simple, we call the function name, give it an input and see what it returns. Let's input into our Line function the number 5"
   ]
  },
  {
   "cell_type": "code",
   "execution_count": null,
   "metadata": {},
   "outputs": [],
   "source": [
    "Line(5)"
   ]
  },
  {
   "cell_type": "markdown",
   "metadata": {},
   "source": [
    "We got 13 and so this is the y-value that corresponds to x = 5!! Try it out with different numbers and see what you get?"
   ]
  },
  {
   "cell_type": "code",
   "execution_count": null,
   "metadata": {},
   "outputs": [],
   "source": [
    "print(Line())\n",
    "\n",
    "print(Line())\n",
    "\n",
    "print(Line())"
   ]
  },
  {
   "cell_type": "code",
   "execution_count": null,
   "metadata": {},
   "outputs": [],
   "source": [
    "#we can also assign the output of a function into a variable\n",
    "#pretty cool right!!\n",
    "y_13 = Line(13)"
   ]
  },
  {
   "cell_type": "markdown",
   "metadata": {},
   "source": [
    "## Multiple Input Functions"
   ]
  },
  {
   "cell_type": "markdown",
   "metadata": {},
   "source": [
    "The example above was how to make a function in python with one input what if we have more than 1 say 2, 3 or more how would we do that? \n",
    "\n",
    "Well let's take another practical example. If you recall we did if, else statement with money we had on hand and the price of an object we wanted to potentially buy. Lets make this into a function so that for any price and money we can see if we should buy it or wait until the next paycheck."
   ]
  },
  {
   "cell_type": "code",
   "execution_count": null,
   "metadata": {},
   "outputs": [],
   "source": [
    "def Buy_or_Pass(MoneyAvailable, Price):\n",
    "    \n",
    "    if Price > MoneyAvailable:\n",
    "        return \"Cannot buy, gotta wait until next paycheck :'(\"\n",
    "    \n",
    "    else: \n",
    "        return \"I could buy it, YAY :D!!!\""
   ]
  },
  {
   "cell_type": "markdown",
   "metadata": {},
   "source": [
    "Let's do a check to see if our function worked: \n",
    "\n",
    "1. Price = 90 and MoneyAvailable = 100\n",
    "2. Price = 190 and MoneyAvailable = 100\n",
    "3. Price = 190 and MoneyAvailable = 200"
   ]
  },
  {
   "cell_type": "code",
   "execution_count": null,
   "metadata": {},
   "outputs": [],
   "source": [
    "#check Numero 1: Check the order of the inputs\n",
    "Buy_or_Pass(100, 90)"
   ]
  },
  {
   "cell_type": "code",
   "execution_count": null,
   "metadata": {},
   "outputs": [],
   "source": [
    "#What happens when we flip the order\n",
    "Buy_or_Pass(90, 100)"
   ]
  },
  {
   "cell_type": "markdown",
   "metadata": {},
   "source": [
    "Remember what I said about being super explicit when programming, we may know that the 90 is the Price and the 100 is the MoneyAvailable but the computer does not know that. It only knows what you tell it and we defined the function Buy_or_Pass with the inputs in the order MoneyAvailable, Price. So that is how the program will interpret the inputs because we told it to. \n",
    "\n",
    "Now you can change the order but you need to be explicit about the variable you want to assign:"
   ]
  },
  {
   "cell_type": "code",
   "execution_count": null,
   "metadata": {},
   "outputs": [],
   "source": [
    "#change order but making it explicit what each number is\n",
    "Buy_or_Pass(Price = 90, MoneyAvailable=100)"
   ]
  },
  {
   "cell_type": "code",
   "execution_count": null,
   "metadata": {},
   "outputs": [],
   "source": [
    "#check Numero 2: Price = 190 and MoneyAvailable = 100\n",
    "Buy_or_Pass()"
   ]
  },
  {
   "cell_type": "code",
   "execution_count": null,
   "metadata": {},
   "outputs": [],
   "source": [
    "#check Numero 3: Price = 190 and MoneyAvailable = 200\n",
    "Buy_or_Pass()"
   ]
  },
  {
   "cell_type": "markdown",
   "metadata": {},
   "source": [
    "## Documentation Strings"
   ]
  },
  {
   "cell_type": "code",
   "execution_count": null,
   "metadata": {},
   "outputs": [],
   "source": [
    "def FunctionName('Input(s)'):\n",
    "    '''\n",
    "    Beginning of the Documentation String:\n",
    "    \n",
    "    Include basic operation of the funciton, basically what does this do\n",
    "    \n",
    "    Parameters (Input(s))\n",
    "    --------------\n",
    "    Here you will put the Inputs and the data type that they belong to and a brief summary\n",
    "    \n",
    "    \n",
    "    Return (Outputs)\n",
    "    --------------\n",
    "    What the function returns, if applicable, and the data type that it returns it. (i.e. string, list, int, float)\n",
    "    '''\n",
    "    \n",
    "    #some code\n",
    "    \n",
    "    return Output"
   ]
  },
  {
   "cell_type": "code",
   "execution_count": null,
   "metadata": {},
   "outputs": [],
   "source": [
    "def Line(x):\n",
    "    \n",
    "    '''\n",
    "    This function gives you the y value of a line for a given x using y = 2x+3\n",
    "    \n",
    "    Parameter\n",
    "    ----------\n",
    "    x (float or int): the value to calculate the y-value for\n",
    "    \n",
    "    Returns\n",
    "    ----------\n",
    "    y (float or int): the y-value for the corresponding x-input\n",
    "    '''\n",
    "    #performing operation\n",
    "    y = 2*x + 3\n",
    "    \n",
    "    #returning the value \n",
    "    return y"
   ]
  },
  {
   "cell_type": "markdown",
   "metadata": {},
   "source": [
    "## Other Niche Function Features\n",
    "\n",
    "### 1. Predefining Inputs"
   ]
  },
  {
   "cell_type": "code",
   "execution_count": 6,
   "metadata": {},
   "outputs": [],
   "source": [
    "def Display_for_Game(Welcome = True):\n",
    "    \n",
    "    if Welcome:\n",
    "        \n",
    "        print('Welcome to the Guessing Game!!')\n",
    "        print('To play the game input Y for yes, to not play input N for no.')\n",
    "        \n",
    "    else:\n",
    "        print('Thanks for playing the guessing game would you like to play again?')\n",
    "        \n",
    "        "
   ]
  },
  {
   "cell_type": "code",
   "execution_count": 7,
   "metadata": {},
   "outputs": [],
   "source": [
    "def Dividing_Function(a, b, Floor = False, Remainder = False):\n",
    "    \n",
    "    '''\n",
    "    This Function has the capacity to return any kind of pythonic division by specifying \n",
    "    the keyword and setting it to True. Default functionality is to do regular division.\n",
    "    \n",
    "    With a being divided by b\n",
    "    \n",
    "    Parameters\n",
    "    -------------\n",
    "    a: number in the numerator \n",
    "    b: number in the denominator\n",
    "    \n",
    "    Returns\n",
    "    -------------\n",
    "    Depending on the Conditions\n",
    "    \n",
    "    number resulting from the specified divisions\n",
    "    '''\n",
    "    \n",
    "    if Floor:\n",
    "        \n",
    "        return a//b\n",
    "    \n",
    "    elif Remainder:\n",
    "        return a % b\n",
    "        \n",
    "    else:\n",
    "        return a/b\n",
    "        "
   ]
  },
  {
   "cell_type": "code",
   "execution_count": null,
   "metadata": {},
   "outputs": [],
   "source": []
  },
  {
   "cell_type": "code",
   "execution_count": null,
   "metadata": {},
   "outputs": [],
   "source": []
  }
 ],
 "metadata": {
  "kernelspec": {
   "display_name": "Python 3",
   "language": "python",
   "name": "python3"
  },
  "language_info": {
   "codemirror_mode": {
    "name": "ipython",
    "version": 3
   },
   "file_extension": ".py",
   "mimetype": "text/x-python",
   "name": "python",
   "nbconvert_exporter": "python",
   "pygments_lexer": "ipython3",
   "version": "3.8.3"
  }
 },
 "nbformat": 4,
 "nbformat_minor": 2
}
