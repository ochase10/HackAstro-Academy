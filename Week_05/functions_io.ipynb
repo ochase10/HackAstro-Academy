{
 "cells": [
  {
   "cell_type": "markdown",
   "id": "2cc3e816-3ed3-4136-8880-3f7665e81e53",
   "metadata": {},
   "source": [
    "# Functions"
   ]
  },
  {
   "cell_type": "markdown",
   "id": "1bcde841-2d07-4719-aceb-5d82a0953114",
   "metadata": {},
   "source": []
  },
  {
   "cell_type": "code",
   "execution_count": null,
   "id": "f5eb5c12-e7c2-48f7-9570-e2f9c7523f31",
   "metadata": {},
   "outputs": [],
   "source": [
    "def function(arguments):\n",
    "    #code block\n",
    "    return #output"
   ]
  },
  {
   "cell_type": "markdown",
   "id": "4d4a8cf1-caf2-48c6-8392-ca0b8aa652e6",
   "metadata": {
    "tags": []
   },
   "source": [
    "### Ex 1"
   ]
  },
  {
   "cell_type": "code",
   "execution_count": null,
   "id": "b95f3b1e-9d76-4cc9-a876-7dcc0279745b",
   "metadata": {},
   "outputs": [],
   "source": [
    "def add(a, b):\n",
    "    return a+b"
   ]
  },
  {
   "cell_type": "code",
   "execution_count": null,
   "id": "d6b35666-3fa5-436e-8f2a-49424156393c",
   "metadata": {},
   "outputs": [],
   "source": [
    "add(1,2)"
   ]
  },
  {
   "cell_type": "markdown",
   "id": "f48df01c-768b-4390-90d6-2b6305e9c5a3",
   "metadata": {},
   "source": [
    "Assign your output to a variable"
   ]
  },
  {
   "cell_type": "code",
   "execution_count": null,
   "id": "766fea12-e845-4d96-b65d-da12de472311",
   "metadata": {},
   "outputs": [],
   "source": [
    "summ = add(4,5)\n",
    "print(summ)"
   ]
  },
  {
   "cell_type": "markdown",
   "id": "9b2ac573-194f-4342-8aa6-79c560122ff6",
   "metadata": {},
   "source": [
    "### Ex 2"
   ]
  },
  {
   "cell_type": "markdown",
   "id": "2b8a943f-c420-4e2c-9280-0ddf6e70eb84",
   "metadata": {},
   "source": [
    "You can use your functions inside other functions!"
   ]
  },
  {
   "cell_type": "code",
   "execution_count": null,
   "id": "a66f5aa4-8e0d-4a4d-80b6-fb34633488dc",
   "metadata": {},
   "outputs": [],
   "source": [
    "def multiply_ints(a, b):\n",
    "    tot = 0\n",
    "    for i in range(a):\n",
    "        tot = add(tot, b)\n",
    "    return tot"
   ]
  },
  {
   "cell_type": "code",
   "execution_count": null,
   "id": "a041446a-2278-41b8-bdfc-1c9313c95415",
   "metadata": {},
   "outputs": [],
   "source": [
    "multiply_ints(4, 5)"
   ]
  },
  {
   "cell_type": "markdown",
   "id": "85b673a8-a384-49dd-a22c-b7abf6a98353",
   "metadata": {},
   "source": [
    "### Ex 3"
   ]
  },
  {
   "cell_type": "markdown",
   "id": "1613a683-6047-4a53-b6cc-7729e1abfcaf",
   "metadata": {},
   "source": [
    "Be careful that your functions are defined"
   ]
  },
  {
   "cell_type": "code",
   "execution_count": null,
   "id": "5fe95af8-c9a3-43a0-96f9-b0976c113c55",
   "metadata": {},
   "outputs": [],
   "source": [
    "def add1(a):\n",
    "    return a+1"
   ]
  },
  {
   "cell_type": "code",
   "execution_count": null,
   "id": "4649006b-138f-4b6a-b081-cb6c74ed3a45",
   "metadata": {},
   "outputs": [],
   "source": [
    "add1(7)"
   ]
  },
  {
   "cell_type": "markdown",
   "id": "b6c287d7-d875-4bfb-84b6-d733585eb32a",
   "metadata": {},
   "source": [
    "### Ex 4 - Scope"
   ]
  },
  {
   "cell_type": "markdown",
   "id": "8b6295f0-dc22-4efd-8452-d5ce07206774",
   "metadata": {},
   "source": [
    "$(\\lambda - \\lambda_0) / \\lambda$"
   ]
  },
  {
   "cell_type": "code",
   "execution_count": null,
   "id": "a77f8a1e-0028-4176-8745-1b3d5d7db8ca",
   "metadata": {},
   "outputs": [],
   "source": [
    "def calculate_redshift(lam, lam0):\n",
    "    return (lam - lam0)/lam\n",
    "\n",
    "print(lam)"
   ]
  },
  {
   "cell_type": "code",
   "execution_count": null,
   "id": "e4e7837c-b50f-4981-9995-17c37d47d4dc",
   "metadata": {},
   "outputs": [],
   "source": [
    "#Will this run?\n",
    "calculate_redshift(3000, 1216)"
   ]
  },
  {
   "cell_type": "code",
   "execution_count": null,
   "id": "f864aa0a-fe5c-4b89-951a-35709a9f09bf",
   "metadata": {},
   "outputs": [],
   "source": [
    "calculate_redshift(5090, 5007)\n",
    "print(lam)"
   ]
  },
  {
   "cell_type": "markdown",
   "id": "6a785faa-a480-4374-8ab1-9a9d728f6fc0",
   "metadata": {},
   "source": [
    "# Reading / Writing Files"
   ]
  },
  {
   "cell_type": "code",
   "execution_count": null,
   "id": "37982928-1cb2-41f0-9179-65e76d540883",
   "metadata": {
    "tags": []
   },
   "outputs": [],
   "source": [
    "in_file = open(\"wavelength.dat\")\n",
    "print(in_file.read())\n",
    "in_file.close()"
   ]
  },
  {
   "cell_type": "code",
   "execution_count": null,
   "id": "43d624b2-aaf9-4008-8453-0df6c8d4fb5b",
   "metadata": {},
   "outputs": [],
   "source": [
    "in_file = open(\"wavelength.dat\")\n",
    "x = in_file.read()\n",
    "print(type(x))\n",
    "in_file.close()"
   ]
  },
  {
   "cell_type": "code",
   "execution_count": null,
   "id": "6fb7c128-0543-4a29-b22d-068e0cb5fa69",
   "metadata": {},
   "outputs": [],
   "source": []
  },
  {
   "cell_type": "code",
   "execution_count": null,
   "id": "66dcb39a-202f-4495-aea1-78d7c96ce695",
   "metadata": {
    "tags": []
   },
   "outputs": [],
   "source": [
    "with open(\"wavelength.dat\") as in_file:\n",
    "    print(in_file.readline())"
   ]
  },
  {
   "cell_type": "code",
   "execution_count": null,
   "id": "574a4dd5-34b4-49ad-9686-b69b1d60f538",
   "metadata": {},
   "outputs": [],
   "source": [
    "with open(\"output.dat\", 'w') as out_file:\n",
    "    out_file.write(\"Hello, file\")\n",
    "    out_file.write(\"A second line\\n\")\n",
    "    out_file.write(\"A third\")"
   ]
  },
  {
   "cell_type": "code",
   "execution_count": null,
   "id": "d35448c4-2a10-4d0b-aa08-f1c1c4ceada7",
   "metadata": {},
   "outputs": [],
   "source": [
    "with open(\"output.dat\", 'w') as out_file:\n",
    "    out_file.write(\"Goodbye, file\")\n",
    "    out_file.write(\"Next\\n\")\n",
    "    out_file.write(\"Last line\")"
   ]
  },
  {
   "cell_type": "markdown",
   "id": "aa1ba326-3a79-4eea-a557-2df6e60fc64f",
   "metadata": {},
   "source": [
    "# Example"
   ]
  },
  {
   "cell_type": "markdown",
   "id": "4f7797d4-d993-4383-a521-536521636a83",
   "metadata": {},
   "source": [
    "Read in the data from wavelength.dat and compute the redshifts of the sources if the rest line is $1216\\AA$. Write a new file that has a new data column for redshift."
   ]
  },
  {
   "cell_type": "code",
   "execution_count": null,
   "id": "2e41a1c4-9d5e-40af-9dae-425798d329a1",
   "metadata": {},
   "outputs": [],
   "source": []
  }
 ],
 "metadata": {
  "kernelspec": {
   "display_name": "Python 3 (ipykernel)",
   "language": "python",
   "name": "python3"
  },
  "language_info": {
   "codemirror_mode": {
    "name": "ipython",
    "version": 3
   },
   "file_extension": ".py",
   "mimetype": "text/x-python",
   "name": "python",
   "nbconvert_exporter": "python",
   "pygments_lexer": "ipython3",
   "version": "3.11.9"
  }
 },
 "nbformat": 4,
 "nbformat_minor": 5
}
