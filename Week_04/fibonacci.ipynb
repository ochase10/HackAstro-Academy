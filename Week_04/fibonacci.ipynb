{
 "cells": [
  {
   "cell_type": "code",
   "execution_count": null,
   "id": "2cce8956-4487-4a4b-adfe-a7a1cd28c400",
   "metadata": {},
   "outputs": [],
   "source": [
    "0 1 1 2 3 5 8 13"
   ]
  },
  {
   "cell_type": "markdown",
   "id": "48c2be5d-0319-4f09-af7d-b687ad2c7b94",
   "metadata": {},
   "source": [
    "1) Input a number, n\n",
    "2) Initialize a sum which will be our result\n",
    "3) Add progressively to sum to get the result\n",
    "4) do this n times\n",
    "\n",
    "1) "
   ]
  },
  {
   "cell_type": "code",
   "execution_count": 5,
   "id": "66d309d2-fce8-466a-b0cb-1f8052e1e57a",
   "metadata": {},
   "outputs": [
    {
     "name": "stdin",
     "output_type": "stream",
     "text": [
      "How many terms do you want? 5\n"
     ]
    },
    {
     "name": "stdout",
     "output_type": "stream",
     "text": [
      "[1, 2, 3, 5, 8]\n"
     ]
    }
   ],
   "source": [
    "n = int(input(\"How many terms do you want?\"))\n",
    "back = 1\n",
    "back2 = 0\n",
    "seq = []\n",
    "new = 0\n",
    "\n",
    "for i in range(n):\n",
    "    new = back + back2\n",
    "    seq.append(new)\n",
    "    back2 = back\n",
    "    back = new\n",
    "\n",
    "print(seq)"
   ]
  },
  {
   "cell_type": "markdown",
   "id": "99b30295-d74e-45e5-9523-3249c492a106",
   "metadata": {},
   "source": [
    "Add up all the numbers 1 - N\n",
    "\n",
    "Ex:\n",
    "5 -> 15\n",
    "1+2+3+4+5\n",
    "f(x) = 2x + 1\n",
    "2*2+1\n",
    "2*3+1"
   ]
  },
  {
   "cell_type": "code",
   "execution_count": null,
   "id": "b669c190-5b07-4ed1-bbec-ada9a5523ff9",
   "metadata": {},
   "outputs": [],
   "source": [
    "1*2*3*4*...\n",
    "\n",
    "i=1 -"
   ]
  },
  {
   "cell_type": "code",
   "execution_count": 36,
   "id": "de410e90-875d-4946-927c-c25ef9c6ad4e",
   "metadata": {},
   "outputs": [],
   "source": [
    "#n = int(input(\"How many numbers should I add?\"))\n",
    "def factorial(n):\n",
    "    total = 1\n",
    "    i = 1\n",
    "    current = 1\n",
    "    while (i < n+1):\n",
    "        #code\n",
    "        total = total * i\n",
    "        i += 1\n",
    "        \n",
    "    return total\n",
    "\n",
    "numpy\n",
    "matplotlib"
   ]
  },
  {
   "cell_type": "code",
   "execution_count": 9,
   "id": "0b61ce93-3651-4c4f-84e2-a49d11c3b7ac",
   "metadata": {},
   "outputs": [
    {
     "name": "stdout",
     "output_type": "stream",
     "text": [
      "0\n",
      "1\n",
      "2\n",
      "3\n",
      "4\n",
      "I'm outside the loop 5\n"
     ]
    }
   ],
   "source": [
    "i = 0\n",
    "while i < 5:\n",
    "    print(i)\n",
    "    i+=1\n",
    "\n",
    "print(\"I'm outside the loop\", i)"
   ]
  },
  {
   "cell_type": "code",
   "execution_count": 23,
   "id": "b59c6545-fee1-4009-8d07-d213f133e59d",
   "metadata": {},
   "outputs": [
    {
     "name": "stdout",
     "output_type": "stream",
     "text": [
      "hi\n",
      "2\n"
     ]
    }
   ],
   "source": [
    "a = input()\n",
    "print(a)\n",
    "a = 2\n",
    "print(a)"
   ]
  },
  {
   "cell_type": "code",
   "execution_count": 39,
   "id": "09d3c16e-da1a-4ebc-bf60-8736affe546a",
   "metadata": {},
   "outputs": [
    {
     "name": "stdout",
     "output_type": "stream",
     "text": [
      "hi\n"
     ]
    }
   ],
   "source": [
    "a = factorial(7)\n",
    "print('hi')"
   ]
  },
  {
   "cell_type": "code",
   "execution_count": 40,
   "id": "51f02b7e-3d78-4162-bf60-992fff8db447",
   "metadata": {},
   "outputs": [
    {
     "data": {
      "text/plain": [
       "5040"
      ]
     },
     "execution_count": 40,
     "metadata": {},
     "output_type": "execute_result"
    }
   ],
   "source": [
    "a"
   ]
  },
  {
   "cell_type": "code",
   "execution_count": null,
   "id": "0e930afa-1ee3-4757-837c-0656aefba75a",
   "metadata": {},
   "outputs": [],
   "source": []
  }
 ],
 "metadata": {
  "kernelspec": {
   "display_name": "Python 3 (ipykernel)",
   "language": "python",
   "name": "python3"
  },
  "language_info": {
   "codemirror_mode": {
    "name": "ipython",
    "version": 3
   },
   "file_extension": ".py",
   "mimetype": "text/x-python",
   "name": "python",
   "nbconvert_exporter": "python",
   "pygments_lexer": "ipython3",
   "version": "3.11.9"
  }
 },
 "nbformat": 4,
 "nbformat_minor": 5
}
