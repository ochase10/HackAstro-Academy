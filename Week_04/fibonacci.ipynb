{
 "cells": [
  {
   "cell_type": "markdown",
   "id": "d30ee4cc",
   "metadata": {},
   "source": [
    "# Introduction\n",
    "\n",
    "The Fibonacci sequence is a well-known list of numbers generated via very simple rules with very deep connections to various fields of math. The first number is 0 and the second number is 1. All further numbers, $n_i$, are equal to the sum of the previous 2 numbers, $n_{i-2} + n_{i-1}$. \n",
    "\n",
    "The first several numbers are: 0, 1, 1, 2, 3, 5, 8, 13, ..."
   ]
  },
  {
   "cell_type": "markdown",
   "id": "b6c04e4b",
   "metadata": {},
   "source": [
    "## Challenge\n",
    "\n",
    "Write a program which asks the user for a number $n$ and outputs the $n^{th}$ number in the Fibonacci sequence.\n",
    "\n",
    "To add further complexity, try these additions:\n",
    "- Check user input for validity. The input should be strictly positive integers.\n",
    "- Output the first $n$ terms rather than just the $n^{th}$.\n",
    "- Tell the user whether their input is in the Fibonacci sequence."
   ]
  },
  {
   "cell_type": "code",
   "execution_count": null,
   "id": "0e930afa-1ee3-4757-837c-0656aefba75a",
   "metadata": {},
   "outputs": [],
   "source": [
    "#Your Code Here#"
   ]
  },
  {
   "cell_type": "markdown",
   "id": "4f924b9a",
   "metadata": {},
   "source": [
    "# Factorial\n",
    "\n",
    "Now that you've got the Fibonacci sequence, modify your code to create a factorial calculator (or write it fresh). Recall that $n!$ is defined as the product of all positive integers less than or equal to $n$. That is:\n",
    "$$ n! = n \\times n-1 \\times n-2 \\times ... \\times 1 $$\n",
    "\n",
    "See if you can come up with several algorithms to do this."
   ]
  },
  {
   "cell_type": "code",
   "execution_count": null,
   "id": "c9bb6d62",
   "metadata": {},
   "outputs": [],
   "source": [
    "#Your Code Here#"
   ]
  }
 ],
 "metadata": {
  "kernelspec": {
   "display_name": "Python 3 (ipykernel)",
   "language": "python",
   "name": "python3"
  },
  "language_info": {
   "codemirror_mode": {
    "name": "ipython",
    "version": 3
   },
   "file_extension": ".py",
   "mimetype": "text/x-python",
   "name": "python",
   "nbconvert_exporter": "python",
   "pygments_lexer": "ipython3",
   "version": "3.11.9"
  }
 },
 "nbformat": 4,
 "nbformat_minor": 5
}
