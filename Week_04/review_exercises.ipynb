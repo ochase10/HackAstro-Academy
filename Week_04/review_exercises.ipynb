{
 "cells": [
  {
   "cell_type": "markdown",
   "metadata": {},
   "source": [
    "# Hack-Astro Academy Week 4: Review of Material \n",
    "\n",
    "In this notebook we will cover exercises that will incorporate everything that we have covered in the class so far with Python. These topics include:\n",
    "\n",
    "- if-else statements\n",
    "- for/while loops\n",
    "- manipulating containers such as lists and dictionaries\n",
    "- generating pseudocode and breaking down a program into manageable pieces"
   ]
  },
  {
   "cell_type": "markdown",
   "metadata": {},
   "source": [
    "# Exercise 1\n",
    "\n",
    "Goal:\n",
    "Write a program that takes a sentence as input and counts the occurrences of each word in the sentence. \n",
    "Ignore capitalization and punctuation."
   ]
  },
  {
   "cell_type": "code",
   "execution_count": null,
   "metadata": {},
   "outputs": [],
   "source": [
    "input_string = \"The cat sat on the mat and the dog sat on the mat\""
   ]
  },
  {
   "cell_type": "code",
   "execution_count": null,
   "metadata": {},
   "outputs": [],
   "source": [
    "### Write your code here\n"
   ]
  },
  {
   "cell_type": "code",
   "execution_count": 8,
   "metadata": {},
   "outputs": [],
   "source": [
    "## Try out your code on this longer sentences:\n",
    "\n",
    "text = \"Astronomy is the scientific study of celestial objects space and the universe as a whole It includes the observation and analysis of stars planets comets galaxies and cosmic phenomena Throughout history astronomers have used telescopes and mathematical models to understand the mysteries of the cosmos Modern astronomy relies on advanced technology including space telescopes radio waves and spectroscopic analysis to detect exoplanets and black holes The vastness of space continues to inspire curiosity and scientific discovery\""
   ]
  },
  {
   "cell_type": "markdown",
   "metadata": {},
   "source": [
    "# Exercise 2\n",
    "\n",
    "Goal:\n",
    "\n",
    "Write a program that categorizes student scores into letter grades. \n",
    "\n",
    "Specs:\n",
    "\n",
    "Given a dictionary of student names and scores, update it with their letter grade.\n",
    "\n",
    "\n",
    "Example:\n",
    "\n",
    "Input:\n",
    "students = {\n",
    "    \"Alice\": 85,\n",
    "    \"Bob\": 92,\n",
    "    \"Charlie\": 76,\n",
    "    \"David\": 59\n",
    "}\n",
    "\n",
    "Output:\n",
    "grades = {\n",
    "    \"Alice\": \"B\",\n",
    "    \"Bob\": \"A\",\n",
    "    \"Charlie\": \"C\",\n",
    "    \"David\": \"F\"\n",
    "}\n"
   ]
  },
  {
   "cell_type": "code",
   "execution_count": null,
   "metadata": {},
   "outputs": [],
   "source": [
    "students_score = {  \"Alice\": 85,\n",
    "                    \"Jacob\": 92,\n",
    "                    \"John\": 76,\n",
    "                    \"Erica\": 59,\n",
    "                    \"Laurel\": 88,\n",
    "                    \"Steven\": 47,\n",
    "                    \"Juan\": 90,\n",
    "                    \"Carlos\": 73,\n",
    "                    \"Drake\": 65,\n",
    "                    \"Josh\": 100,\n",
    "                    \"Miley\": 42,\n",
    "                    \"Emily\": 79,\n",
    "                    \"Trevor\": 96,\n",
    "                    \"William\": 52,\n",
    "                    \"Adam\": 34,\n",
    "                    \"Stella\": 89,\n",
    "                    \"Maria\": 61,\n",
    "                    \"Leslie\": 77,\n",
    "                    \"Howard\": 99,\n",
    "                    \"Sheldon\": 83}\n"
   ]
  },
  {
   "cell_type": "code",
   "execution_count": null,
   "metadata": {},
   "outputs": [],
   "source": [
    "### Write your code here\n"
   ]
  },
  {
   "cell_type": "markdown",
   "metadata": {},
   "source": [
    "For an added challenge, write code that will take the grades on the new assignments and update the student's cumulative grade, either as a letter or numerical grade."
   ]
  },
  {
   "cell_type": "markdown",
   "metadata": {},
   "source": [
    "# Exercise 3\n",
    "\n",
    "Goal:\n",
    "\n",
    "Write a program to compute quantities relevant to gravitational bodies.\n",
    "\n",
    "Specs:\n",
    "\n",
    "Use the dictionary called astronomy_data to compute the following:\n",
    "\n",
    "1. The escape velocity for each object. Recall,\n",
    "\n",
    "$v_{esc} = \\sqrt\\frac{2GM}{R}$\n",
    "\n",
    "Where G is the gravitational constant 6.67 $\\times 10^{-11} N m^2 kg^{-2}$, M is the mass of the object, and R is the radius\n",
    "\n",
    "2. The average mass, velocity, and radius across all objects.\n",
    "3. Find the most massive, fastest, and largest object and print out their IDs."
   ]
  },
  {
   "cell_type": "code",
   "execution_count": 1,
   "metadata": {},
   "outputs": [],
   "source": [
    "#Units of the data:\n",
    "#Mass is in units of Solar Masses where 1 solar mass = 1.989 x 10^30 kg\n",
    "#Velocity is in units of km/s\n",
    "#Radius is in units of Solar Radii where 1 solar radius = 6.963 x 10^8 m\n",
    "#ID is a unique integer identifier for each astronomical object\n",
    "\n",
    "astronomy_data = {'Mass': [ 5.96164803, 67.09088142,  2.81753162, 85.17153011, 96.45526104,\n",
    "                                28.8685703 , 71.9261461 , 86.8231001 , 61.35329422, 35.07995868,\n",
    "                                12.11018454, 75.30271069, 65.76416042, 33.46484127, 23.17278828,\n",
    "                                55.38002444,  3.77376841, 85.52613494,  1.01593657,  7.97818269,\n",
    "                                99.58258376, 76.87964369, 61.00351335, 71.01591231, 28.10080458,\n",
    "                                30.86654291, 71.68986113, 25.22658586, 35.51976435, 47.58297473,\n",
    "                                15.59896087, 35.58527697, 90.8862514 ,  8.68520707, 97.27687388,\n",
    "                                38.91795496,  5.15393016, 71.11563064, 66.81247735, 18.95942379,\n",
    "                                60.82287889, 45.35374516, 48.99266131, 75.79411081, 63.93298698,\n",
    "                                13.94743866, 64.32567529, 55.06265538, 42.69569088, 35.17062503], \n",
    "                        'Velocity': [205.09069985, 633.44883974,  12.52885268, 370.87313455,\n",
    "                                    527.51735205,  98.35507094, 888.38858097, 999.9687655 ,\n",
    "                                    486.05389203, 856.69009231,  21.8927082 , 195.32739607,\n",
    "                                    909.39341958, 619.98509418, 357.63558766, 409.94768599,\n",
    "                                    896.54157437,  79.81704551, 765.58431981, 880.81204788,\n",
    "                                    294.31263039, 356.98067009, 159.68734871, 983.85352813,\n",
    "                                    199.60843472, 226.71330766, 594.65893173, 792.01290147,\n",
    "                                    498.35296682, 346.69819034, 557.79845116, 300.76221915,\n",
    "                                    854.28732949, 318.63874427, 844.10293685,  99.99449508,\n",
    "                                    199.05422245, 476.85463656, 329.49873955, 368.40987239,\n",
    "                                    764.00182541, 376.89381524, 201.11528192,  95.8430632 ,\n",
    "                                    956.6087856 , 830.61845587, 334.61135793, 193.2884444 ,\n",
    "                                    143.41717959, 196.97492994], \n",
    "                        'Radius': [31.42312766, 96.90209002, 17.2361779 , 94.73660294, 46.70433579,\n",
    "                                   9.48764502, 77.77837304, 29.85134501, 67.78151687,  6.25047787,\n",
    "                                   69.80606396, 36.21623738, 67.63232865, 20.20777879, 43.71202873,\n",
    "                                   23.35324741,  6.81159285, 28.08383367, 52.15685214,  4.10607089,\n",
    "                                   50.38918804, 50.5598191 , 54.26673137, 93.70897346, 62.06155198,\n",
    "                                   29.30906003, 62.2432649 , 34.57855359, 31.69960678, 16.58323628,\n",
    "                                   61.91157772,  8.75657443, 59.11136791, 74.84493934, 24.02726932,\n",
    "                                   93.73639681, 37.03442779, 55.40875313, 44.99089992, 52.13145679,\n",
    "                                   99.76970177, 94.86203023, 47.57361939, 19.14356134, 45.4677095 ,\n",
    "                                   58.4771727 ,  8.19397686, 30.85624973, 58.00245749, 71.07380561], \n",
    "                        'ID': [7322, 8306, 2792,  278, 8774, 7979, 2912, 8757, 1841, 5958, 5963,\n",
    "                                2701, 2441, 9659, 8805, 9975, 6733, 1252, 2570, 7812, 8773, 3751,\n",
    "                                9361, 8299, 4415, 9719, 5182, 4042, 9124, 5126, 7337, 3494, 1788,\n",
    "                                5357, 9900, 2604, 8805, 2115, 2272, 5510, 9269, 5444, 2452,  407,\n",
    "                                7270, 8183,  319,  310, 5819, 8519]}"
   ]
  },
  {
   "cell_type": "code",
   "execution_count": null,
   "metadata": {},
   "outputs": [],
   "source": [
    "### Write your code here\n"
   ]
  },
  {
   "cell_type": "markdown",
   "metadata": {},
   "source": [
    "For an added challenge, take the mass and radius lists to be in lunar units (i.e. in terms of the mass and radius of the moon) and assume these are planetary data. Further assume that all these planets orbit a Sun-like star in circular orbits.\n",
    "\n",
    "What are the orbital radii of the planets? What about their densities? Can you generate a list of IDs for the planets you think are most likely hospitable to Earth-like life? "
   ]
  }
 ],
 "metadata": {
  "kernelspec": {
   "display_name": "research",
   "language": "python",
   "name": "python3"
  },
  "language_info": {
   "codemirror_mode": {
    "name": "ipython",
    "version": 3
   },
   "file_extension": ".py",
   "mimetype": "text/x-python",
   "name": "python",
   "nbconvert_exporter": "python",
   "pygments_lexer": "ipython3",
   "version": "3.12.2"
  }
 },
 "nbformat": 4,
 "nbformat_minor": 2
}
