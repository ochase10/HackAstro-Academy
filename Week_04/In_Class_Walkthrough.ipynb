{
 "cells": [
  {
   "cell_type": "markdown",
   "metadata": {},
   "source": [
    "# In Class Review of Python Concepts\n",
    "\n",
    "In this notebook we will go through an example of using an astronomical dataset to go over the Python concepts that we have covered so far in the Hack-Astro Academy class so far. This will be an applied case of:\n",
    "\n",
    "- List Manipulation\n",
    "- Dictionary access and Manipulation \n",
    "- Changing strings\n",
    "- Applications of loops\n",
    "- Applications of if-else statements"
   ]
  },
  {
   "cell_type": "markdown",
   "metadata": {},
   "source": [
    "# Data Description:\n",
    "\n",
    "The next cell covers the data that we are going to use in the review and how we can manipulate the data using loops and nifty built in python functions. The dictionary below has 6 columns and each of the column elements has 50 sources. The columns are the following:\n",
    "\n",
    "- Radius: The radius of the star in units of solar radius\n",
    "- Mass: The mass of the star in units of solar masses\n",
    "- Flux: This is the flux we measure of the star in units of erg/s/cm^2\n",
    "- Distance: The distance to the star measured in meters [m]\n",
    "- Filename: The filename where this data is held\n",
    "- ID: The ID of the star\n"
   ]
  },
  {
   "cell_type": "markdown",
   "metadata": {},
   "source": [
    "# Background\n",
    "\n",
    "Part of the things we do with astronomy is that we need to compute calculations on a lot of sources. \n",
    "\n",
    "One of the first things we will be doing is to measure the Luminosity of each of the stars in our dataset. The formula for luminosity is:\n",
    "\n",
    "$L = 4 \\pi d^2 F$\n",
    "\n",
    "Where d is the distance to the star and F is the flux we measure from the star here on Earth.\n",
    "\n",
    "# Exercise 1\n",
    "\n",
    "Our goal is to take the radius and flux columns in the data dictionary and compute the luminosity for every star in units of solar luminosity.\n",
    "\n",
    "Hint:\n",
    "\n",
    "$1 L_{\\odot}= 3.8278 \\times 10^{33} \\frac{erg}{s}$\n",
    "\n",
    "$1 R_{\\odot}= 6.957 \\times 10^{8} m$"
   ]
  },
  {
   "cell_type": "code",
   "execution_count": 31,
   "metadata": {},
   "outputs": [],
   "source": [
    "#########\n",
    "#write your code here\n",
    "#########\n",
    "\n",
    "'''\n",
    "Step 1: Ingest Data\n",
    "Step 2: grab the distance data [units of m]\n",
    "Step 3: Convert distance to cm\n",
    "Step 4: Grab Flux data [erg/s/cm^2]\n",
    "Step 5: compute Luminosity using 4 pi R**2 F [erg/s]\n",
    "step 6: convert erg/s to Lsun\n",
    "'''\n",
    "\n",
    "distance = data['Distance']\n",
    "flux = data['Flux']\n",
    "\n",
    "m_to_cm = 100\n",
    "\n",
    "Lsun = 3.8278e33 #3.8278 * 10**33\n",
    "\n",
    "prefactor = 4 * 3.14159\n",
    "\n",
    "store_lum = []\n",
    "\n",
    "for idx in range(len(flux)):\n",
    "    \n",
    "    d = distance[idx] #grabbing the radius at entry idx\n",
    "\n",
    "    d_correct_units = d * m_to_cm #converting radius from solar radius to cm\n",
    "    \n",
    "    f = flux[idx] #grabbing the flux at entry idx\n",
    "\n",
    "    L = prefactor * d_correct_units**2 * f #conputing luminosity erg/s\n",
    "\n",
    "    L_correct_units = L/Lsun\n",
    "\n",
    "    store_lum.append(L_correct_units) #stores the luminosity of every star to a list\n",
    "    "
   ]
  },
  {
   "cell_type": "code",
   "execution_count": 33,
   "metadata": {},
   "outputs": [],
   "source": [
    "data['Luminosity'] = store_lum"
   ]
  },
  {
   "cell_type": "code",
   "execution_count": null,
   "metadata": {},
   "outputs": [],
   "source": []
  },
  {
   "cell_type": "markdown",
   "metadata": {},
   "source": [
    "# Background\n",
    "\n",
    "Now that we have computed the luminosity one of the things we can try to compute is to estimate the temperature of the star using the Steffan-Boltzmann Law. The Steffan-Boltzmann law is:\n",
    "\n",
    "$L = 4 \\pi R^2 \\sigma T^4$\n",
    "\n",
    "$\\sigma$ is the Steffan-Boltzmann constant which is equal to: \n",
    "\n",
    "$\\sigma = 5.67 \\times 10^{−8} W/(m^2·K^4) = 5.67 \\times 10^{−5} erg/s/cm^2/K^4$\n",
    "\n",
    "R is the radius of the star\n",
    "L is the luminosity of the star\n",
    "T is the temperature of the star in units of Kelvin\n",
    "\n",
    "# Exercise 2\n",
    "\n",
    "Compute the temperature of the star based off of the Luminosity you computed in exercise 1 and then store the luminosities of every star in the astronomy data dictionary."
   ]
  },
  {
   "cell_type": "code",
   "execution_count": null,
   "metadata": {},
   "outputs": [],
   "source": [
    "#############\n",
    "#write your code here\n",
    "#############\n",
    "\n",
    "#t = (L/(4pir^2*sigma))**(1/4)\n",
    "\n",
    "'''\n",
    "Step: Solve equation for T\n",
    "Step: storing sigma to a variable\n",
    "Step: Make L variable \n",
    "Step: convert L to erg/s\n",
    "Step: Make R variable \n",
    "Step: Convert R to cm\n",
    "Step: Looping over the contents of L, and R\n",
    "'''\n",
    "Rsun_to_m  = 6.957*10**8\n",
    "Rsun_to_cm = Rsun_to_m * 100\n",
    "Lsun_to_erg_s = 3.8278e33 #3.8278 * 10**33\n",
    "sigma = 5.67e-5\n",
    "\n",
    "L = data['Luminosity']\n",
    "R = data['Radius']\n",
    "\n",
    "store_temp = []\n",
    "\n",
    "for idx in range(len(L)):\n",
    "    \n",
    "    r = R[idx]\n",
    "    r_correct_units = r * Rsun_to_cm\n",
    "    l = L[idx]\n",
    "    l_correct_units = l * Lsun_to_erg_s\n",
    "    \n",
    "    "
   ]
  },
  {
   "cell_type": "code",
   "execution_count": null,
   "metadata": {},
   "outputs": [],
   "source": []
  },
  {
   "cell_type": "markdown",
   "metadata": {},
   "source": [
    "# Background\n",
    "\n",
    "Another thing we can compute with our data set is to compute the escape velocity of the star. The escape velocity of the star is given by the following equation:\n",
    "\n",
    "$v_{esc} = \\sqrt{\\frac{2GM}{R}}$\n",
    "\n",
    "- G is the gravitational constant\n",
    "- M is the mass of the star\n",
    "- R is the radius of the star.\n",
    "\n",
    "# Exercise 3\n",
    "Compute the escape velocity of the star and add the escape velocity to the astronomy data dictionary."
   ]
  },
  {
   "cell_type": "code",
   "execution_count": null,
   "metadata": {},
   "outputs": [],
   "source": [
    "#############\n",
    "#write your code here\n",
    "#############"
   ]
  },
  {
   "cell_type": "code",
   "execution_count": null,
   "metadata": {},
   "outputs": [],
   "source": []
  },
  {
   "cell_type": "markdown",
   "metadata": {},
   "source": [
    "# Background\n",
    "\n",
    "Uh-oh the files that are stored in the dictionary seems to have been stored by the index instead of the ID of the source. Let us change the filename such that the file has the ID in the filename instead of the index.\n",
    "\n",
    "# Exercise 4\n",
    "\n",
    "Change the index that is in the filename and replace it with the ID."
   ]
  },
  {
   "cell_type": "code",
   "execution_count": null,
   "metadata": {},
   "outputs": [],
   "source": [
    "#############\n",
    "#write your code here\n",
    "#############\n",
    "\n"
   ]
  },
  {
   "cell_type": "code",
   "execution_count": null,
   "metadata": {},
   "outputs": [],
   "source": []
  },
  {
   "cell_type": "markdown",
   "metadata": {},
   "source": [
    "# Background\n",
    "\n",
    "Often times stars are classified into different categories and one way to do this is by using the temperature. The way we classify stars is the following, based off of temperature:\n",
    "\n",
    "- O: Blue, hottest, exceeding 30,000 Kelvin\n",
    "- B: Blue-white, 10,000 - 30,000 Kelvin\n",
    "- A: White, 7,500 - 10,000 Kelvin\n",
    "- F: Yellow-white, 6,000 - 7,500 Kelvin\n",
    "- G: Yellow, 5,200 - 6,000 Kelvin\n",
    "- K: Orange, 3,700 - 5,200 Kelvin\n",
    "- M: Red, 2,400 - 3,700 Kelvin \n",
    "\n",
    "# Exercise 5:\n",
    "\n",
    "Using the temperature you computed in Exercise 2 to classify the stars into the correct stellar classification based off of the listing above. Store the classification and store the output into the data dictionary."
   ]
  },
  {
   "cell_type": "code",
   "execution_count": null,
   "metadata": {},
   "outputs": [],
   "source": [
    "#############\n",
    "#write your code here\n",
    "#############\n"
   ]
  },
  {
   "cell_type": "code",
   "execution_count": null,
   "metadata": {},
   "outputs": [],
   "source": []
  },
  {
   "cell_type": "markdown",
   "metadata": {},
   "source": [
    "# Exercise 6\n",
    "\n",
    "With all of these calculations we just did it is useful to know some summary statistics of these. Please compute the average for:\n",
    "\n",
    "- Mass\n",
    "- Escape Velocity\n",
    "- Temperature\n",
    "- Luminosity\n",
    "\n",
    "Make sure to print out the average to the screen and display the value to 2 decimal places."
   ]
  },
  {
   "cell_type": "markdown",
   "metadata": {},
   "source": []
  }
 ],
 "metadata": {
  "kernelspec": {
   "display_name": "Python 3 (ipykernel)",
   "language": "python",
   "name": "python3"
  },
  "language_info": {
   "codemirror_mode": {
    "name": "ipython",
    "version": 3
   },
   "file_extension": ".py",
   "mimetype": "text/x-python",
   "name": "python",
   "nbconvert_exporter": "python",
   "pygments_lexer": "ipython3",
   "version": "3.12.2"
  }
 },
 "nbformat": 4,
 "nbformat_minor": 4
}
