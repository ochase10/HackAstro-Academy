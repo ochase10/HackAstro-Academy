{
 "cells": [
  {
   "cell_type": "markdown",
   "metadata": {},
   "source": [
    "# In Class Review of Python Concepts\n",
    "\n",
    "In this notebook we will go through an example of using an astronomical dataset to go over the Python concepts that we have covered so far in the Hack-Astro Academy class so far. This will be an applied case of:\n",
    "\n",
    "- List Manipulation\n",
    "- Dictionary access and Manipulation \n",
    "- Changing strings\n",
    "- Applications of loops\n",
    "- Applications of if-else statements"
   ]
  },
  {
   "cell_type": "markdown",
   "metadata": {},
   "source": [
    "# Data Description:\n",
    "\n",
    "The next cell covers the data that we are going to use in the review and how we can manipulate the data using loops and nifty built in python functions. The dictionary below has 6 columns and each of the column elements has 50 sources. The columns are the following:\n",
    "\n",
    "- Radius: The radius of the star in units of solar radius\n",
    "- Mass: The mass of the star in units of solar masses\n",
    "- Flux: This is the flux we measure of the star in units of erg/s/cm^2\n",
    "- Filename: The filename where this data is held\n",
    "- ID: The ID of the star\n"
   ]
  },
  {
   "cell_type": "code",
   "execution_count": null,
   "metadata": {},
   "outputs": [],
   "source": [
    "#this will store the data for an example star catalog\n",
    "\n",
    "data = { 'Radius':[  82.56014923, 49.03275149, 30.91048367, 85.5831607 , 87.53845917,\n",
    "                    52.11918446,  9.36892325, 39.0967006 , 89.21016568, 66.67038731,\n",
    "                    38.68331985, 63.559178  ,  3.88543161, 67.86154847, 29.80834416,\n",
    "                    41.89058446, 46.15886345, 79.48860271, 62.44982254, 87.64438449,\n",
    "                    35.12938691,  3.49169137, 28.6449926 , 76.91375897, 45.47594352,\n",
    "                    88.30861236, 78.68560667, 97.9718203 , 55.4552512 ,  1.45297903,\n",
    "                    96.01113065, 13.42599282, 11.50167934, 54.27417127, 69.82050731,\n",
    "                    73.92075967,  4.02656803, 79.83560692, 30.65229665, 14.13996214,\n",
    "                    45.69186147, 73.65661085, 83.81624692, 60.98659442, 11.44237303,\n",
    "                    92.80662007, 55.42912248, 55.78193044, 29.2880333 , 72.2455105 ],\n",
    "        'Mass': [59.76791451, 53.65594188, 67.37698183, 28.02715299, 70.51360227,\n",
    "                 16.35915059, 69.92109719, 13.96459526, 76.8448225 , 48.17176813,\n",
    "                 26.10430678, 80.3582161 , 13.02857138, 10.88294919, 14.09640029,\n",
    "                 60.43542426,  2.4706606 , 92.9081045 , 20.5635914 , 88.95950337,\n",
    "                 16.48005116, 26.84200524, 10.56607141, 51.15335426, 45.12040352,\n",
    "                 35.73760608,  9.1875613 , 98.56032894,  7.48889888, 85.64400852,\n",
    "                 74.66027237, 75.66280033, 49.15584015, 22.71387385, 21.05680986,\n",
    "                 54.06524598, 39.01406787, 63.12382856, 78.75586859, 57.99922633,\n",
    "                 77.76169369, 19.07229253, 34.04758608, 96.35511167, 95.98082031,\n",
    "                 87.50665215, 61.51957817,  5.8443423 , 22.03242791,  5.61267007], \n",
    "        'Flux': [   3.19853049e+46, 1.07078670e+38, 2.54824173e+35, 3.61706102e+44,\n",
    "                    3.26325765e+45, 1.56573937e+40, 1.35710441e+51, 7.02076826e+44,\n",
    "                    8.86124511e+31, 5.27074721e+39, 1.61517960e+47, 9.28104246e+48,\n",
    "                    2.01479295e+47, 5.40347650e+43, 2.40125368e+41, 2.69676488e+49,\n",
    "                    4.66408951e+52, 9.04056597e+38, 1.78659125e+37, 4.16161525e+45,\n",
    "                    1.71998062e+32, 1.78659125e+45, 4.00645506e+32, 3.72097769e+31,\n",
    "                    1.64445352e+29, 5.01498949e+31, 3.74936219e+32, 5.90713828e+46,\n",
    "                    2.53945472e+44, 1.14105277e+42, 2.71358453e+52, 7.47114798e+34,\n",
    "                    6.96761761e+43, 1.26826592e+37, 1.09170126e+42, 1.04954750e+31,\n",
    "                    2.39793819e+51, 1.74391034e+36, 4.28709608e+30, 1.73070808e+51,\n",
    "                    5.80198174e+48, 6.52501416e+46, 4.51508017e+47, 3.23855320e+36,\n",
    "                    1.90514481e+44, 8.00553460e+38, 2.99535047e+33, 1.12384151e+32,\n",
    "                    1.44117219e+32, 9.00316977e+52],    \n",
    "        'Filename': ['User/Desktop/Research/data/object_0.fits',\n",
    "                    'User/Desktop/Research/data/object_1.fits',\n",
    "                    'User/Desktop/Research/data/object_2.fits',\n",
    "                    'User/Desktop/Research/data/object_3.fits',\n",
    "                    'User/Desktop/Research/data/object_4.fits',\n",
    "                    'User/Desktop/Research/data/object_5.fits',\n",
    "                    'User/Desktop/Research/data/object_6.fits',\n",
    "                    'User/Desktop/Research/data/object_7.fits',\n",
    "                    'User/Desktop/Research/data/object_8.fits',\n",
    "                    'User/Desktop/Research/data/object_9.fits',\n",
    "                    'User/Desktop/Research/data/object_10.fits',\n",
    "                    'User/Desktop/Research/data/object_11.fits',\n",
    "                    'User/Desktop/Research/data/object_12.fits',\n",
    "                    'User/Desktop/Research/data/object_13.fits',\n",
    "                    'User/Desktop/Research/data/object_14.fits',\n",
    "                    'User/Desktop/Research/data/object_15.fits',\n",
    "                    'User/Desktop/Research/data/object_16.fits',\n",
    "                    'User/Desktop/Research/data/object_17.fits',\n",
    "                    'User/Desktop/Research/data/object_18.fits',\n",
    "                    'User/Desktop/Research/data/object_19.fits',\n",
    "                    'User/Desktop/Research/data/object_20.fits',\n",
    "                    'User/Desktop/Research/data/object_21.fits',\n",
    "                    'User/Desktop/Research/data/object_22.fits',\n",
    "                    'User/Desktop/Research/data/object_23.fits',\n",
    "                    'User/Desktop/Research/data/object_24.fits',\n",
    "                    'User/Desktop/Research/data/object_25.fits',\n",
    "                    'User/Desktop/Research/data/object_26.fits',\n",
    "                    'User/Desktop/Research/data/object_27.fits',\n",
    "                    'User/Desktop/Research/data/object_28.fits',\n",
    "                    'User/Desktop/Research/data/object_29.fits',\n",
    "                    'User/Desktop/Research/data/object_30.fits',\n",
    "                    'User/Desktop/Research/data/object_31.fits',\n",
    "                    'User/Desktop/Research/data/object_32.fits',\n",
    "                    'User/Desktop/Research/data/object_33.fits',\n",
    "                    'User/Desktop/Research/data/object_34.fits',\n",
    "                    'User/Desktop/Research/data/object_35.fits',\n",
    "                    'User/Desktop/Research/data/object_36.fits',\n",
    "                    'User/Desktop/Research/data/object_37.fits',\n",
    "                    'User/Desktop/Research/data/object_38.fits',\n",
    "                    'User/Desktop/Research/data/object_39.fits',\n",
    "                    'User/Desktop/Research/data/object_40.fits',\n",
    "                    'User/Desktop/Research/data/object_41.fits',\n",
    "                    'User/Desktop/Research/data/object_42.fits',\n",
    "                    'User/Desktop/Research/data/object_43.fits',\n",
    "                    'User/Desktop/Research/data/object_44.fits',\n",
    "                    'User/Desktop/Research/data/object_45.fits',\n",
    "                    'User/Desktop/Research/data/object_46.fits',\n",
    "                    'User/Desktop/Research/data/object_47.fits',\n",
    "                    'User/Desktop/Research/data/object_48.fits',\n",
    "                    'User/Desktop/Research/data/object_49.fits'], \n",
    "        'ID': [ 670,  137, 1651, 5055, 8499,  853, 3537, 6045,  225, 8842, 3888,\n",
    "                6521, 2694, 5257, 6752,   15, 7280, 8290, 2762, 7291, 4708, 3003,\n",
    "                7763, 7957, 9426, 9274, 7617, 5629, 2286, 3749, 1321, 7915, 6231,\n",
    "                661, 7484, 5201, 2453, 8083, 7313, 9022, 5184, 4539, 2450, 6474,\n",
    "                5907, 1354, 1486, 1508, 1292,  160]}\n"
   ]
  },
  {
   "cell_type": "markdown",
   "metadata": {},
   "source": [
    "# Background\n",
    "\n",
    "Part of the things we do with astronomy is that we need to compute calculations on a lot of sources. \n",
    "\n",
    "One of the first things we will be doing is to measure the Luminosity of each of the stars in our dataset. The formula for luminosity is:\n",
    "\n",
    "$L = 4 \\pi R^2 F$\n",
    "\n",
    "Where R is the radius of the star and F is the flux of the star.\n",
    "\n",
    "# Exercise 1\n",
    "\n",
    "Our goal is to take the radius and flux columns in the data dictionary and compute the luminosity for every star in units of solar luminosity.\n",
    "\n",
    "Hint:\n",
    "\n",
    "$1 L_{\\odot}= 3.8278 \\times 10^{33} \\frac{erg}{s}$\n",
    "\n",
    "$1 R_{\\odot}= 6.957 \\times 10^{8} m$"
   ]
  },
  {
   "cell_type": "code",
   "execution_count": null,
   "metadata": {},
   "outputs": [],
   "source": [
    "#########\n",
    "#write your code here\n",
    "#########\n",
    "\n",
    "\n",
    "\n"
   ]
  },
  {
   "cell_type": "markdown",
   "metadata": {},
   "source": []
  },
  {
   "cell_type": "markdown",
   "metadata": {},
   "source": [
    "# Background\n",
    "\n",
    "Now that we have computed the luminosity one of the things we can try to compute is to estimate the temperature of the star using the Steffan-Boltzmann Law. The Steffan-Boltzmann law is:\n",
    "\n",
    "$L = 4 \\pi R^2 \\sigma T^4$\n",
    "\n",
    "$\\sigma$ is the Steffan-Boltzmann constant which is equal to: \n",
    "\n",
    "$\\sigma = 5.67 \\times 10^{−8} W/(m^2·K^4) = 5.67 \\times 10^{−5} erg/s/cm^2/K^4$\n",
    "\n",
    "R is the radius of the star\n",
    "L is the luminosity of the star\n",
    "T is the temperature of the star in units of Kelvin\n",
    "\n",
    "# Exercise 2\n",
    "\n",
    "Compute the temperature of the star based off of the Luminosity you computed in exercise 1 and then store the luminosities of every star in the astronomy data dictionary."
   ]
  },
  {
   "cell_type": "code",
   "execution_count": null,
   "metadata": {},
   "outputs": [],
   "source": [
    "#############\n",
    "#write your code here\n",
    "#############\n",
    "\n"
   ]
  },
  {
   "cell_type": "code",
   "execution_count": null,
   "metadata": {},
   "outputs": [],
   "source": []
  },
  {
   "cell_type": "markdown",
   "metadata": {},
   "source": [
    "# Background\n",
    "\n",
    "Another thing we can compute with our data set is to compute the escape velocity of the star. The escape velocity of the star is given by the following equation:\n",
    "\n",
    "$v_{esc} = \\sqrt{\\frac{2GM}{R}}$\n",
    "\n",
    "- G is the gravitational constant\n",
    "- M is the mass of the star\n",
    "- R is the radius of the star.\n",
    "\n",
    "# Exercise 3\n",
    "Compute the escape velocity of the star and add the escape velocity to the astronomy data dictionary."
   ]
  },
  {
   "cell_type": "code",
   "execution_count": null,
   "metadata": {},
   "outputs": [],
   "source": [
    "#############\n",
    "#write your code here\n",
    "#############"
   ]
  },
  {
   "cell_type": "code",
   "execution_count": null,
   "metadata": {},
   "outputs": [],
   "source": []
  },
  {
   "cell_type": "markdown",
   "metadata": {},
   "source": [
    "# Background\n",
    "\n",
    "Uh-oh the files that are stored in the dictionary seems to have been stored by the index instead of the ID of the source. Let us change the filename such that the file has the ID in the filename instead of the index.\n",
    "\n",
    "# Exercise 4\n",
    "\n",
    "Change the index that is in the filename and replace it with the ID."
   ]
  },
  {
   "cell_type": "code",
   "execution_count": null,
   "metadata": {},
   "outputs": [],
   "source": [
    "#############\n",
    "#write your code here\n",
    "#############\n",
    "\n"
   ]
  },
  {
   "cell_type": "code",
   "execution_count": null,
   "metadata": {},
   "outputs": [],
   "source": []
  },
  {
   "cell_type": "markdown",
   "metadata": {},
   "source": [
    "# Background\n",
    "\n",
    "Often times stars are classified into different categories and one way to do this is by using the temperature. The way we classify stars is the following, based off of temperature:\n",
    "\n",
    "- O: Blue, hottest, exceeding 30,000 Kelvin\n",
    "- B: Blue-white, 10,000 - 30,000 Kelvin\n",
    "- A: White, 7,500 - 10,000 Kelvin\n",
    "- F: Yellow-white, 6,000 - 7,500 Kelvin\n",
    "- G: Yellow, 5,200 - 6,000 Kelvin\n",
    "- K: Orange, 3,700 - 5,200 Kelvin\n",
    "- M: Red, 2,400 - 3,700 Kelvin \n",
    "\n",
    "# Exercise 5:\n",
    "\n",
    "Using the temperature you computed in Exercise 2 classify the stars into the correct stellar classification based off of the listing above. Store the classification and store the output into the data dictionary."
   ]
  },
  {
   "cell_type": "code",
   "execution_count": null,
   "metadata": {},
   "outputs": [],
   "source": [
    "#############\n",
    "#write your code here\n",
    "#############\n"
   ]
  },
  {
   "cell_type": "code",
   "execution_count": null,
   "metadata": {},
   "outputs": [],
   "source": []
  },
  {
   "cell_type": "markdown",
   "metadata": {},
   "source": [
    "# Exercise 6\n",
    "\n",
    "With all of these calculations we just did it is useful to know some summary statistics of these. Please compute the average for:\n",
    "\n",
    "- Mass\n",
    "- Escape Velocity\n",
    "- Temperature\n",
    "- Luminosity\n",
    "\n",
    "Make sure to print out the average to the screen and display the value to 2 decimal places."
   ]
  },
  {
   "cell_type": "markdown",
   "metadata": {},
   "source": []
  }
 ],
 "metadata": {
  "kernelspec": {
   "display_name": "research",
   "language": "python",
   "name": "python3"
  },
  "language_info": {
   "codemirror_mode": {
    "name": "ipython",
    "version": 3
   },
   "file_extension": ".py",
   "mimetype": "text/x-python",
   "name": "python",
   "nbconvert_exporter": "python",
   "pygments_lexer": "ipython3",
   "version": "3.12.2"
  }
 },
 "nbformat": 4,
 "nbformat_minor": 2
}
