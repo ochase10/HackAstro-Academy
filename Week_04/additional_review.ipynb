{
 "cells": [
  {
   "cell_type": "markdown",
   "metadata": {},
   "source": [
    "# In Class Review of Python Concepts\n",
    "\n",
    "In this notebook we will use the Python concepts that we have covered so far to analyze astronomical data. \n",
    "\n",
    "Applied concepts include:\n",
    "\n",
    "- List Manipulation\n",
    "- Dictionary access and Manipulation \n",
    "- Changing strings\n",
    "- Applications of loops\n",
    "- Applications of if-else statements"
   ]
  },
  {
   "cell_type": "markdown",
   "metadata": {},
   "source": [
    "# Data Description:\n",
    "\n",
    "The next cell contains the data we will work with throughout the rest of this notebook. The data is stored in a dictionary with 5 variables for each of 50 sources. \n",
    "\n",
    "The available data for each source are (take note of units):\n",
    "\n",
    "- ID: Catalog ID of the star\n",
    "- Radius: The radius of the star in units of solar radius\n",
    "- Mass: The mass of the star in units of solar masses\n",
    "- Flux: The bolometric flux we measure of the star in units of erg/s/cm^2\n",
    "- Distance: The distance to the star measured in meters\n"
   ]
  },
  {
   "cell_type": "code",
   "execution_count": null,
   "metadata": {},
   "outputs": [],
   "source": [
    "#this will store the data for an example star catalog\n",
    "\n",
    "data = {'ID': [ 670,  137, 1651, 5055, 8499,  853, 3537, 6045,  225, 8842, 3888,\n",
    "                6521, 2694, 5257, 6752,   15, 7280, 8290, 2762, 7291, 4708, 3003,\n",
    "                7763, 7957, 9426, 9274, 7617, 5629, 2286, 3749, 1321, 7915, 6231,\n",
    "                661, 7484, 5201, 2453, 8083, 7313, 9022, 5184, 4539, 2450, 6474,\n",
    "                5907, 1354, 1486, 1508, 1292,  160],\n",
    "        'Radius':[  1.  ,  1.13,  1.18,  1.94,  1.78,  1.38,  0.96,  0.36,  0.9 ,\n",
    "                    0.56,  9.3 ,  1.24,  0.83,  6.3 ,  4.4 ,  2.22,  2.5 ,  1.1 ,\n",
    "                    1.62,  2.12,  1.84,  1.21,  5.6 ,  1.19,  8.03, 65.8 ,  9.85,\n",
    "                    39.  , 25.11,  1.49,  0.84,  4.6 ,  1.18,  1.09,  0.85,  4.3 ,\n",
    "                    1.35,  1.3 ,  1.07,  3.4 ,  0.82,  1.23,  0.99,  5.2 ,  0.99,\n",
    "                    1.14,  0.57,  1.21,  3.22,  4.5 ],\n",
    "        'Mass': [0.91, 1.03, 1.03, 1.09, 1.44, 1.25, 1.01, 0.36, 0.9 , 0.58, 2.4 ,\n",
    "                1.01, 0.93, 1.95, 1.68, 1.28, 1.32, 1.11, 0.97, 1.32, 0.99, 1.22,\n",
    "                1.85, 1.21, 1.94, 1.4 , 1.15, 1.8 , 1.49, 1.47, 0.85, 1.58, 1.1 ,\n",
    "                1.15, 0.65, 1.61, 1.03, 1.23, 0.91, 1.33, 0.86, 1.02, 1.03, 1.69,\n",
    "                0.95, 1.12, 0.58, 1.22, 1.45, 1.61], \n",
    "        'Flux': [   6.99502627e-08, 8.95083810e-08, 1.83047461e-07, 2.82034284e-07,\n",
    "                    2.13639178e-09, 1.43497994e-07, 1.19379289e-08, 1.73661769e-08,\n",
    "                    6.85827894e-08, 1.61540851e-08, 7.30285047e-08, 2.93175259e-08,\n",
    "                    1.72259257e-08, 1.32957760e-08, 2.49531391e-08, 6.34077129e-08,\n",
    "                    2.07291545e-08, 1.50030161e-07, 3.38664068e-08, 2.14853470e-08,\n",
    "                    8.74717011e-08, 4.24341667e-08, 1.97903135e-08, 5.53208657e-09,\n",
    "                    9.35379336e-08, 4.17111835e-06, 1.38673087e-07, 8.68472168e-08,\n",
    "                    6.88094394e-07, 1.34601587e-08, 3.06216884e-08, 2.37970281e-08,\n",
    "                    3.66084312e-08, 7.24891370e-09, 1.68251341e-08, 1.80263443e-08,\n",
    "                    1.16198616e-08, 6.84544186e-09, 6.41371795e-09, 1.96921943e-08,\n",
    "                    8.98446795e-09, 2.23651833e-08, 3.02379245e-08, 4.56516315e-08,\n",
    "                    5.51435966e-09, 1.74398252e-08, 2.20846111e-08, 1.74320963e-08,\n",
    "                    3.78681949e-08, 1.01673640e-08],  \n",
    "        'Distance': [5.53332961e+17, 6.52302984e+17, 4.77088954e+17, 5.52370230e+17,\n",
    "                    4.25638366e+18, 7.81552761e+17, 1.35961743e+18, 1.72198397e+17,\n",
    "                    5.41718471e+17, 3.42562668e+17, 4.23287079e+18, 1.22128650e+18,\n",
    "                    9.05294603e+17, 6.69922203e+18, 3.76113240e+18, 1.71320831e+18,\n",
    "                    2.89461243e+18, 5.34923808e+17, 1.05195377e+18, 3.17914276e+18,\n",
    "                    1.02199184e+18, 1.20094571e+18, 5.08340696e+18, 3.24292371e+18,\n",
    "                    3.52279467e+18, 1.91538005e+18, 3.12165658e+18, 9.97707561e+18,\n",
    "                    3.58969216e+18, 2.94344636e+18, 6.49930098e+17, 3.80294334e+18,\n",
    "                    1.16571036e+18, 2.25550997e+18, 8.07052800e+17, 4.06843503e+18,\n",
    "                    2.18414133e+18, 3.24474426e+18, 2.27943014e+18, 3.24514540e+18,\n",
    "                    1.24920880e+18, 1.46249700e+18, 1.02944993e+18, 3.00021974e+18,\n",
    "                    2.11413965e+18, 1.65047957e+18, 3.32151592e+17, 1.76281366e+18,\n",
    "                    2.20162787e+18, 5.89219391e+18] \n",
    "        }\n"
   ]
  },
  {
   "cell_type": "markdown",
   "metadata": {},
   "source": [
    "# Exercise 1\n",
    "\n",
    "Let's start by computing the luminosity (total energy output rate) of each of the stars in our dataset. Recall the formula for luminosity:\n",
    "\n",
    "$L = 4 \\pi d^2 F$\n",
    "\n",
    "Where d is the distance to the star and F is the flux we measure from the star here on Earth.\n",
    "\n",
    "### Goal:\n",
    "\n",
    "Compute the luminosity of all the stars and add it as another entry in the data dictionary.\n",
    "\n",
    "\n",
    "Relvant Quantities:\n",
    "\n",
    "$1 L_{\\odot}= 3.8278 \\times 10^{33} \\frac{erg}{s}$\n",
    "\n",
    "$1 R_{\\odot}= 6.957 \\times 10^{8} m$"
   ]
  },
  {
   "cell_type": "markdown",
   "metadata": {},
   "source": [
    "Solution steps:\n",
    "- step 1"
   ]
  },
  {
   "cell_type": "code",
   "execution_count": null,
   "metadata": {},
   "outputs": [],
   "source": [
    "#########\n",
    "#write your code here\n",
    "#########"
   ]
  },
  {
   "cell_type": "markdown",
   "metadata": {},
   "source": [
    "# Exercise 2\n",
    "\n",
    "The luminosity allows us to estimate the temperature of the star using the Steffan-Boltzmann Law:\n",
    "\n",
    "$L = 4 \\pi R^2 \\sigma T^4$\n",
    "\n",
    "where\n",
    "\n",
    "$\\sigma$ is the Steffan-Boltzmann constant equal to $5.67 \\times 10^{−8} W/(m^2·K^4) = 5.67 \\times 10^{−5} erg/s/cm^2/K^4$\n",
    "\n",
    "R is the radius of the star\n",
    "L is the luminosity of the star\n",
    "T is the temperature of the star in units of Kelvin\n",
    "\n",
    "### Goal:\n",
    "\n",
    "Compute the temperature each star and add the data to the dictinoary."
   ]
  },
  {
   "cell_type": "markdown",
   "metadata": {},
   "source": [
    "Solution steps:\n",
    "- Step 1"
   ]
  },
  {
   "cell_type": "code",
   "execution_count": null,
   "metadata": {},
   "outputs": [],
   "source": [
    "#############\n",
    "#write your code here\n",
    "#############"
   ]
  },
  {
   "cell_type": "markdown",
   "metadata": {},
   "source": [
    "# Exercise 3\n",
    "\n",
    "Stars are often classified into types based on their temperature. The following scale is often used:\n",
    "\n",
    "- O: Blue, hottest, exceeding 30,000 Kelvin\n",
    "- B: Blue-white, 10,000 - 30,000 Kelvin\n",
    "- A: White, 7,500 - 10,000 Kelvin\n",
    "- F: Yellow-white, 6,000 - 7,500 Kelvin\n",
    "- G: Yellow, 5,200 - 6,000 Kelvin\n",
    "- K: Orange, 3,700 - 5,200 Kelvin\n",
    "- M: Red, 2,400 - 3,700 Kelvin \n",
    "\n",
    "### Goal:\n",
    "\n",
    "Find the stellar classifications of the stars. Store the classifications in the data dictionary."
   ]
  },
  {
   "cell_type": "markdown",
   "metadata": {},
   "source": [
    "Solution steps:\n",
    "- Step 1"
   ]
  },
  {
   "cell_type": "code",
   "execution_count": null,
   "metadata": {},
   "outputs": [],
   "source": [
    "#############\n",
    "#write your code here\n",
    "#############"
   ]
  },
  {
   "cell_type": "markdown",
   "metadata": {},
   "source": [
    "# Exercise 4\n",
    "\n",
    "Now, let's compute the escape velocity of the stars. Recall that escape velocity is given by:\n",
    "\n",
    "$v_{esc} = \\sqrt{\\frac{2GM}{R}}$\n",
    "\n",
    "where \n",
    "- G is the gravitational constant\n",
    "- M is the mass of the star\n",
    "- R is the radius of the star.\n",
    "\n",
    "### Goal\n",
    "Compute the escape velocity of the star and add the escape velocity to the astronomy data dictionary.\n",
    "\n",
    "Useful Quantities:\n",
    "G = 6.67 $\\times 10^{-11} N m^2 kg^{-2}$\n"
   ]
  },
  {
   "cell_type": "code",
   "execution_count": null,
   "metadata": {},
   "outputs": [],
   "source": [
    "#############\n",
    "#write your code here\n",
    "#############"
   ]
  },
  {
   "cell_type": "markdown",
   "metadata": {},
   "source": [
    "# Exercise 5\n",
    "\n",
    "Now let's get an idea of the population of stars as a whole. \n",
    "\n",
    "\n",
    "### Goal:\n",
    "\n",
    "Compute the average\n",
    "\n",
    "- Mass\n",
    "- Escape Velocity\n",
    "- Temperature\n",
    "- Luminosity\n",
    "\n",
    "Print the averages to the screen to 2 decimal places. Make sure each value is labeled so we know which quantity it represents. For an added challenge, format large numbers using scientific notation."
   ]
  },
  {
   "cell_type": "code",
   "execution_count": null,
   "metadata": {},
   "outputs": [],
   "source": []
  }
 ],
 "metadata": {
  "kernelspec": {
   "display_name": "Python 3 (ipykernel)",
   "language": "python",
   "name": "python3"
  },
  "language_info": {
   "codemirror_mode": {
    "name": "ipython",
    "version": 3
   },
   "file_extension": ".py",
   "mimetype": "text/x-python",
   "name": "python",
   "nbconvert_exporter": "python",
   "pygments_lexer": "ipython3",
   "version": "3.11.5"
  }
 },
 "nbformat": 4,
 "nbformat_minor": 4
}
