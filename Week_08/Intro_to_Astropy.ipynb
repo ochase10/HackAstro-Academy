{
 "cells": [
  {
   "cell_type": "markdown",
   "metadata": {},
   "source": [
    "# Introduction to Astropy:\n",
    "\n",
    "Astropy is a Python library for astronomy that provides tools and data structures for working with astronomical data. It includes modules for handling units, coordinates, time, and more. In this class, we will introduce some of the key components of Astropy: units, constants and SkyCoord objects.\n",
    "\n",
    "We will also show you how to use them in a real scenario and ask you to compute some astrophysical phenomenon. "
   ]
  },
  {
   "cell_type": "code",
   "execution_count": null,
   "metadata": {},
   "outputs": [],
   "source": [
    "import numpy as np"
   ]
  },
  {
   "cell_type": "markdown",
   "metadata": {},
   "source": [
    "# Excercise: \n",
    "\n",
    "Come up with as many units as you can come up with in one minute. For the ones that you have found how many can be converted from one to another (ex: m to km, or seconds to days)?"
   ]
  },
  {
   "cell_type": "markdown",
   "metadata": {},
   "source": [
    "# Write your Responses Below"
   ]
  },
  {
   "cell_type": "code",
   "execution_count": null,
   "metadata": {},
   "outputs": [],
   "source": []
  },
  {
   "cell_type": "markdown",
   "metadata": {},
   "source": [
    "# Introduction to Astropy Units\n",
    "\n",
    "The astropy.units module provides a framework for attaching physical units to numerical values, ensuring that calculations remain physically meaningful. It is especially useful in astronomy programming because it automatically handles unit conversions, prevents unit mismatches, and makes code more readable and less error-prone."
   ]
  },
  {
   "cell_type": "code",
   "execution_count": null,
   "metadata": {},
   "outputs": [],
   "source": [
    "from astropy import units as u"
   ]
  },
  {
   "cell_type": "code",
   "execution_count": null,
   "metadata": {},
   "outputs": [],
   "source": [
    "R_sun_km = 695700 * u.km\n",
    "R_earth_km = 6371 * u.km"
   ]
  },
  {
   "cell_type": "code",
   "execution_count": null,
   "metadata": {},
   "outputs": [],
   "source": [
    "c = 2.998e8 * u.m / u.s\n",
    "h = 6.626e-34 * u.J * u.s\n",
    "\n",
    "\n",
    "print(f'Speed of light is: {c}')\n",
    "print(f'Planck constant is: {h}')"
   ]
  },
  {
   "cell_type": "markdown",
   "metadata": {},
   "source": [
    "Astropy Units also allow for higher order units via the use of the exponentiation method used in python. So if we want to take a unit and say square it we would use the following methods:\n",
    "\n",
    "$s^2$ = u.s**2\n",
    "\n",
    "$cm^3$ = u.cm**3\n",
    "\n",
    "$cm^{-3}$ = u.cm**-3\n",
    "\n",
    "$K^4$ = u.K**4\n",
    "\n",
    "Let's see this in practice with some examples below:\n",
    "\n",
    "Please write out the acceleration as:\n",
    "\n",
    "acceleration = $4 [\\frac{m}{s^2}$]\n",
    "\n",
    "$\\sigma_B$ = 1.380649 $\\times$ $10^{-23}$ [$\\frac{m^2 kg}{s^2 K}$]"
   ]
  },
  {
   "cell_type": "code",
   "execution_count": null,
   "metadata": {},
   "outputs": [],
   "source": [
    "acceleration =\n",
    "sigma_b = "
   ]
  },
  {
   "cell_type": "code",
   "execution_count": null,
   "metadata": {},
   "outputs": [],
   "source": [
    "print(f'Acceleration is: {acceleration}')\n",
    "print(f'Stefan-Boltzmann constant is: {sigma_b}')"
   ]
  },
  {
   "cell_type": "markdown",
   "metadata": {},
   "source": [
    "Thought Experiment:\n",
    "\n",
    "What do you think will happen below?"
   ]
  },
  {
   "cell_type": "code",
   "execution_count": null,
   "metadata": {},
   "outputs": [],
   "source": [
    "Mass1 = 5.5 *u.M_sun\n",
    "Mass2 = 7.5*10**29 * u.kg\n",
    "\n",
    "Mass1*Mass2"
   ]
  },
  {
   "cell_type": "code",
   "execution_count": null,
   "metadata": {},
   "outputs": [],
   "source": [
    "speed1 = 4.5 * u.km/u.s\n",
    "speed2 = 0.1 * u.km/u.s\n",
    "\n",
    "speed1/speed2"
   ]
  },
  {
   "cell_type": "code",
   "execution_count": null,
   "metadata": {},
   "outputs": [],
   "source": [
    "type(speed1/speed2)"
   ]
  },
  {
   "cell_type": "markdown",
   "metadata": {},
   "source": [
    "# Unit Conversion:\n",
    "\n",
    "You can easily convert from one unit to another using the **.to()** method in the astorpy units Quantity objects. You just need to make sure that the unit you are trying to convert to is a compatible unit (ie: you cannot convert a unit of distance to a unit of time (meters to second))"
   ]
  },
  {
   "cell_type": "code",
   "execution_count": null,
   "metadata": {},
   "outputs": [],
   "source": [
    "#Nearest Star\n",
    "distance = 4.24 * u.lyr # Proxima Centauri\n",
    "print(distance.to(u.m))  # Convert light years to meters\n",
    "print(distance.to(u.AU))  # Convert light years to meters"
   ]
  },
  {
   "cell_type": "markdown",
   "metadata": {},
   "source": [
    "# Example:\n",
    "\n",
    "Compute the orbital radius of the ISS in units of parsecs."
   ]
  },
  {
   "cell_type": "code",
   "execution_count": null,
   "metadata": {},
   "outputs": [],
   "source": [
    "orbital_velocity = 7.7 * u.km/u.s\n",
    "orbital_period = 90 * u.min\n",
    "\n",
    "# Calculate the orbital radius of the ISS\n",
    "# v = 2 * pi * r / T\n",
    "# r = v * T / 2 * pi"
   ]
  },
  {
   "cell_type": "markdown",
   "metadata": {},
   "source": [
    "# Applying Units to Numpy Arrays\n",
    "\n",
    "So far we have talked about using astropy units on a singular value but you can actually apply astropy units to an entire Numpy array. The syntax is exactly the same as you would for a single value with some slight tweaks. Let us check on some of those examples below:"
   ]
  },
  {
   "cell_type": "code",
   "execution_count": null,
   "metadata": {},
   "outputs": [],
   "source": [
    "stellar_mass = np.logspace(5, 12, 500)\n",
    "\n",
    "mass = stellar_mass * u.M_sun\n",
    "\n",
    "print(mass)"
   ]
  },
  {
   "cell_type": "markdown",
   "metadata": {},
   "source": [
    "Let's convert the mass to Kilograms"
   ]
  },
  {
   "cell_type": "code",
   "execution_count": null,
   "metadata": {},
   "outputs": [],
   "source": [
    "mass.to(u.kg)"
   ]
  },
  {
   "cell_type": "code",
   "execution_count": null,
   "metadata": {},
   "outputs": [],
   "source": [
    "random_mass = np.random.uniform(1e6, 1e10, 1000)\n",
    "\n",
    "random_mass_units = random_mass * u.M_sun\n",
    "\n",
    "print(random_mass_units)"
   ]
  },
  {
   "cell_type": "code",
   "execution_count": null,
   "metadata": {},
   "outputs": [],
   "source": [
    "# Calculate the Schwarzschild radius    \n",
    "schwarzschild_radius = 2 * const.G * mass / const.c**2"
   ]
  },
  {
   "cell_type": "code",
   "execution_count": null,
   "metadata": {},
   "outputs": [],
   "source": [
    "schwarzschild_radius.to(u.R_sun)"
   ]
  },
  {
   "cell_type": "markdown",
   "metadata": {},
   "source": [
    "# Decomposing the Units to SI units\n",
    "\n",
    "Often times in astronomical equations the units are not always strictly SI with units of Solar Mass or solar Radii used in some of the equations. If you ever want to know what the base units of a Quantity object is Astropy Units have a nifty method called **.si** which will take the Units Quantity and return back the SI units of that quantity."
   ]
  },
  {
   "cell_type": "code",
   "execution_count": null,
   "metadata": {},
   "outputs": [],
   "source": [
    "crazy_unit = 5 * u.M_sun/u.kg/u.s/u.J"
   ]
  },
  {
   "cell_type": "code",
   "execution_count": null,
   "metadata": {},
   "outputs": [],
   "source": [
    "crazy_unit.si"
   ]
  },
  {
   "cell_type": "markdown",
   "metadata": {},
   "source": [
    "# Introducing Astropy Constants\n",
    "\n",
    "The astropy.constants module provides a collection of fundamental physical and astronomical constants with units attached. These constants are based on the latest CODATA and IAU recommendations, ensuring accuracy and consistency in calculations. This comes in handy when you are dealing with some equations that are using very specific units. The reason for this is that these Constants are Astropy unit Quantity objects and so they follow the same rules that we covered in astropy units. The only difference is that these values are fixed but you can easily change between units with ease."
   ]
  },
  {
   "cell_type": "code",
   "execution_count": null,
   "metadata": {},
   "outputs": [],
   "source": [
    "from astropy import constants as const"
   ]
  },
  {
   "cell_type": "code",
   "execution_count": null,
   "metadata": {},
   "outputs": [],
   "source": [
    "#Let us take the speed of light as an example\n",
    "c_light = const.c"
   ]
  },
  {
   "cell_type": "code",
   "execution_count": null,
   "metadata": {},
   "outputs": [],
   "source": [
    "c_light"
   ]
  },
  {
   "cell_type": "code",
   "execution_count": null,
   "metadata": {},
   "outputs": [],
   "source": [
    "c_light_A_s = c_light.to(u.AA/u.s)"
   ]
  },
  {
   "cell_type": "code",
   "execution_count": null,
   "metadata": {},
   "outputs": [],
   "source": [
    "c_light_A_s"
   ]
  },
  {
   "cell_type": "code",
   "execution_count": null,
   "metadata": {},
   "outputs": [],
   "source": [
    "c_const = const.c \n",
    "G_const = const.G\n",
    "h_const = const.h\n",
    "hbar_const = const.hbar\n",
    "m_p = const.m_p\n",
    "m_e = const.m_e\n",
    "m_n = const.m_n\n",
    "R_sun = const.R_sun\n",
    "R_earth = const.R_earth\n",
    "M_sun = const.M_sun\n",
    "M_earth = const.M_earth"
   ]
  },
  {
   "cell_type": "code",
   "execution_count": null,
   "metadata": {},
   "outputs": [],
   "source": [
    "print(f'Speed of light is: {c_const}')\n",
    "print(f'Gravitational constant is: {G_const}')\n",
    "print(f'Planck constant is: {h_const}')\n",
    "print(f'Reduced Planck constant is: {hbar_const}')\n",
    "print(f'Proton mass is: {m_p}')\n",
    "print(f'Electron mass is: {m_e}')\n",
    "print(f'Neutron mass is: {m_n}')\n",
    "print(f'Sun radius is: {R_sun}')\n",
    "print(f'Earth radius is: {R_earth}')\n",
    "print(f'Sun mass is: {M_sun}')\n",
    "print(f'Earth mass is: {M_earth}')"
   ]
  },
  {
   "cell_type": "markdown",
   "metadata": {},
   "source": [
    "# Exercise\n",
    "\n",
    "Compute the orbital velocity of a satellite that is 15,000 meters above the earth's surface using astropy units and constants and make sure the unit of the velocity is in m/s and km/s\n",
    "\n",
    "Recall equation is:\n",
    "\n",
    "$V_{orbit} = \\sqrt{\\frac{2GM}{R}}$"
   ]
  },
  {
   "cell_type": "code",
   "execution_count": null,
   "metadata": {},
   "outputs": [],
   "source": []
  },
  {
   "cell_type": "markdown",
   "metadata": {},
   "source": [
    "# Astropy Coordinates \n",
    "\n",
    "If you are working in Astornomy you will be working with astronomical coordinates systems, the main thing that you need to know is that there is a two coordinate position on the sky that can tell astornomers where in the sky to look at. This is important for observing a source with a telescope, if you want to cross match from one catalog to another. Having a good of coordinates and specifically astropy coordinates can be very helpful in your astronomy career. \n",
    "\n",
    "The astropy.coordinates module provides a powerful framework for representing, manipulating, and transforming celestial coordinates. It allows astronomers to work with different coordinate systems, perform transformations, and calculate angular separations with ease."
   ]
  },
  {
   "cell_type": "code",
   "execution_count": null,
   "metadata": {},
   "outputs": [],
   "source": [
    "from astropy.coordinates import SkyCoord"
   ]
  },
  {
   "cell_type": "markdown",
   "metadata": {},
   "source": [
    "# Different Coordinate Systems\n",
    "\n",
    "Equatorial Coordinates (RA, Dec): The most widely used system, based on Earth’s equator. Right Ascension (RA) is measured in hours, minutes, and seconds (like longitude in the sky), and Declination (Dec) in degrees (like latitude). Example: RA = 10h 00m 00s, Dec = +20° 00′ 00″.\n",
    "\n",
    "Galactic Coordinates (l, b): Aligned with the plane of the Milky Way. Longitude (l) is measured along the Galactic plane, and latitude (b) is measured perpendicular to it. Example: l = 180°, b = 0°.\n",
    "\n",
    "Ecliptic Coordinates (λ, β): Based on Earth’s orbital plane around the Sun. Longitude (λ) is measured along the ecliptic, and latitude (β) above or below it. Example: λ = 90°, β = +10°.\n",
    "\n",
    "Horizontal Coordinates (Alt, Az): Used for observations from Earth at a specific location and time. Altitude (Alt) measures how high an object is above the horizon, and Azimuth (Az) is its direction along the horizon. Example: Alt = 45°, Az = 120° (southeast sky).\n",
    "\n",
    "The Hour Angle (HA) system is another way to specify an object's position in the sky relative to a specific observing location and time:\n",
    "\n",
    "Hour Angle (HA): The angular distance (in time units, hours/minutes/seconds) between the observer’s local meridian and the object’s Right Ascension. It increases as the Earth rotates, so it changes with time.\n",
    "\n",
    "Declination (Dec): Same as in equatorial coordinates, measuring north or south of the celestial equator.\n"
   ]
  },
  {
   "cell_type": "markdown",
   "metadata": {},
   "source": [
    "# Walkthrough\n",
    "\n",
    "Let us convert the following HA coordinate into a Sky Coordinate Object in Python.\n",
    "\n",
    "RA: 18:00:00, DEC: +45:34:43"
   ]
  },
  {
   "cell_type": "code",
   "execution_count": null,
   "metadata": {},
   "outputs": [],
   "source": [
    "SkyCoord(ra = '18:00:00', dec = '+45:34:43', unit = (u.hourangle, u.deg))"
   ]
  },
  {
   "cell_type": "code",
   "execution_count": null,
   "metadata": {},
   "outputs": [],
   "source": [
    "coord = SkyCoord(ra=10.684*u.deg, dec=41.269*u.deg, frame='icrs')\n",
    "print(coord)  # Right Ascension & Declination in ICRS\n",
    "\n",
    "#coord = SkyCoord(ra=10.684, dec=41.269, unit = 'degree')\n",
    "#coord = SkyCoord(ra=10.684, dec=41.269, unit = (u.deg, u.deg))"
   ]
  },
  {
   "cell_type": "markdown",
   "metadata": {},
   "source": [
    "# Changing between coordinate Systems\n",
    "\n",
    "Much like in astropy units, with astropy coordinates you can change from one set of coordinates to another one using built in methods in the Astropy SkyCoord objects."
   ]
  },
  {
   "cell_type": "code",
   "execution_count": null,
   "metadata": {},
   "outputs": [],
   "source": [
    "gal_var = coord.galactic"
   ]
  },
  {
   "cell_type": "markdown",
   "metadata": {},
   "source": [
    "# Finding Separations\n",
    "\n",
    "One of the most common tasks that you will be doing in astronomy research is to find close matches from one catalog to another and this requires you to find the closest point based off of the coordinate of the sources and the catalogs. Thankfully Astropy SkyCoords have a separation method that can be used to easily find the separation between a coodinate and another coordinate or between a coordinate and a set of coordinates. \n",
    "\n",
    "Let us see this in action in the following cells."
   ]
  },
  {
   "cell_type": "code",
   "execution_count": null,
   "metadata": {},
   "outputs": [],
   "source": [
    "#separation to Catalog\n",
    "\n",
    "np.random.seed(12938423)\n",
    "\n",
    "ra, dec = 234.345421 * u.deg, -23.123943 * u.deg\n",
    "coords1 = SkyCoord(ra, dec)\n",
    "\n",
    "coordinates = SkyCoord(ra = np.random.uniform(234.345400, 234.34600, size = 1000)* u.deg,\n",
    "                      dec = np.random.uniform(-23.123000, -23.124000, size = 1000)* u.deg)\n",
    "\n",
    "\n",
    "sep = coords1.separation(coordinates)"
   ]
  },
  {
   "cell_type": "code",
   "execution_count": null,
   "metadata": {},
   "outputs": [],
   "source": [
    "sep"
   ]
  },
  {
   "cell_type": "markdown",
   "metadata": {},
   "source": [
    "# Thought Experiment:\n",
    "\n",
    "How can I use the separation to find close matches?"
   ]
  },
  {
   "cell_type": "code",
   "execution_count": null,
   "metadata": {},
   "outputs": [],
   "source": []
  },
  {
   "cell_type": "code",
   "execution_count": null,
   "metadata": {},
   "outputs": [],
   "source": []
  },
  {
   "cell_type": "markdown",
   "metadata": {},
   "source": [
    "# Cross Matching Catalogs\n",
    "\n",
    "We can take the separation a step further and try to cross match between two sets of coordinates. This is most often done when you want to take one catalog and match it to sources in another catalog. Luckily for us astropy has a nifty function called *match_to_catalog_sky* that does the hard work for us. But we do need to know what it provides and takes to make it useful for our cross matching."
   ]
  },
  {
   "cell_type": "code",
   "execution_count": null,
   "metadata": {},
   "outputs": [],
   "source": [
    "#Generating Random Data\n",
    "np.random.seed(193423)\n",
    "\n",
    "RA1 = np.random.uniform(0, 1, 1000)\n",
    "DEC1 = np.random.uniform(-10, 10, 1000)\n",
    "\n",
    "RA2 = np.random.uniform(.25, .5, 543)\n",
    "DEC2 = np.random.uniform(-5, 5, 543)"
   ]
  },
  {
   "cell_type": "code",
   "execution_count": null,
   "metadata": {},
   "outputs": [],
   "source": [
    "#Making two SkyCoord objects\n",
    "skycoord1 = SkyCoord(ra=RA1*u.deg, dec=DEC1*u.deg)\n",
    "skycoord2 = SkyCoord(ra=RA2*u.deg, dec=DEC2*u.deg)"
   ]
  },
  {
   "cell_type": "markdown",
   "metadata": {},
   "source": [
    "# Order Matters for Cross Matching\n",
    "\n",
    "## Order 1"
   ]
  },
  {
   "cell_type": "code",
   "execution_count": null,
   "metadata": {},
   "outputs": [],
   "source": [
    "idx, sep2d, sep3d = skycoord2.match_to_catalog_sky(skycoord1)"
   ]
  },
  {
   "cell_type": "code",
   "execution_count": null,
   "metadata": {},
   "outputs": [],
   "source": [
    "len(idx)"
   ]
  },
  {
   "cell_type": "code",
   "execution_count": null,
   "metadata": {},
   "outputs": [],
   "source": [
    "coords_matched_from_cat1_to_cat2 = skycoord1[idx]\n",
    "sep_arc = sep2d.arcsec\n",
    "\n",
    "close_matches = sep_arc < 20\n",
    "\n",
    "close_matches_cat1_to_cat2 = coords_matched_from_cat1_to_cat2[close_matches]\n",
    "close_matches_cat2 = skycoord2[close_matches]\n",
    "close_matches_sep = sep_arc[close_matches]\n",
    "\n",
    "print('Closest matches from catalog 1 to catalog 2')\n",
    "print(close_matches_cat1_to_cat2)\n",
    "print()\n",
    "print('Closest matches from catalog 2')\n",
    "print(close_matches_cat2)\n",
    "print()\n",
    "print('Closest Separation in arcsec is: ')\n",
    "print(close_matches_sep)"
   ]
  },
  {
   "cell_type": "markdown",
   "metadata": {},
   "source": [
    "## Order 2"
   ]
  },
  {
   "cell_type": "code",
   "execution_count": null,
   "metadata": {},
   "outputs": [],
   "source": [
    "idx, sep2d, sep3d = skycoord1.match_to_catalog_sky(skycoord)"
   ]
  },
  {
   "cell_type": "code",
   "execution_count": null,
   "metadata": {},
   "outputs": [],
   "source": [
    "len(idx)"
   ]
  },
  {
   "cell_type": "code",
   "execution_count": null,
   "metadata": {},
   "outputs": [],
   "source": [
    "sep2d.arcsec"
   ]
  },
  {
   "cell_type": "code",
   "execution_count": null,
   "metadata": {},
   "outputs": [],
   "source": [
    "coords_matched_from_cat2_to_cat1 = skycoord1[idx]\n",
    "sep_arc = sep2d.arcsec\n",
    "\n",
    "close_matches = sep_arc < 20\n",
    "\n",
    "close_matches_cat2_to_cat1 = coords_matched_from_cat2_to_cat1[close_matches]\n",
    "close_matches_cat1 = skycoord1[close_matches]\n",
    "close_matches_sep1 = sep_arc[close_matches]"
   ]
  },
  {
   "cell_type": "code",
   "execution_count": null,
   "metadata": {},
   "outputs": [],
   "source": [
    "print('Closest matches from catalog 1 to catalog 2')\n",
    "print(close_matches_cat2_to_cat1)\n",
    "print()\n",
    "print('Closest matches from catalog 2')\n",
    "print(close_matches_cat1)\n",
    "print()\n",
    "print('Closest Separation in arcsec is: ')\n",
    "print(close_matches_sep1)"
   ]
  },
  {
   "cell_type": "markdown",
   "metadata": {},
   "source": [
    "# Searching Around Coordinates\n",
    "\n",
    "The search_around_sky function in Astropy is a powerful tool for efficiently finding nearby sources within a given angular separation in the sky. It is part of the astropy.coordinates module and is particularly useful for cross-matching astronomical catalogs.\n",
    "\n",
    "How It Works\n",
    "\n",
    "- It takes two SkyCoord objects: one for the primary set of positions and another for comparison (e.g., a catalog).\n",
    "\n",
    "- It searches for all sources in the second set that lie within a specified angular separation of the first set.\n",
    "\n",
    "- Returns indices of matching sources, along with angular separations."
   ]
  },
  {
   "cell_type": "code",
   "execution_count": null,
   "metadata": {},
   "outputs": [],
   "source": [
    "idx_skycoord2, idx_skycoord1, sep2d, sep3d = skycoord1.search_around_sky(skycoord2, 20*u.arcsec)"
   ]
  },
  {
   "cell_type": "code",
   "execution_count": null,
   "metadata": {},
   "outputs": [],
   "source": [
    "print('Sources in catalog 1 that are within 20 arcsec')\n",
    "print(skycoord1[idx_skycoord1])\n",
    "print()\n",
    "print('Sources in catalog 1 that are within 20 arcsec of catalog 2')\n",
    "print(skycoord2[idx_skycoord2])\n",
    "print()\n",
    "print('The Separation in arcsec is: ')\n",
    "print(sep2d.arcsec)"
   ]
  },
  {
   "cell_type": "markdown",
   "metadata": {},
   "source": [
    "# Opening FITS Files"
   ]
  },
  {
   "cell_type": "markdown",
   "metadata": {},
   "source": [
    "One of the most common files you will encounter when working in astronomy is the FITS file format.\n",
    "\n",
    "The Flexible Image Transport System (FITS) is the standard file format in astronomy for storing and sharing scientific data. FITS files are versatile: they can hold not only images (such as CCD exposures) but also multi-dimensional data arrays, tables of catalog information, and detailed metadata in their headers. Because of this, FITS has become the universal format for astronomical observations, simulations, and data archives.\n",
    "\n",
    "In Python, the astropy.io.fits module provides powerful tools to work with FITS files. It allows astronomers to read, write, and manipulate both the data (images, spectra, tables) and the header information (observation details, instrument settings, units). With astropy.io.fits, users can inspect large datasets, modify metadata, extract specific extensions, and easily integrate FITS data into scientific analyses. This makes it an essential library for anyone working with astronomical data."
   ]
  },
  {
   "cell_type": "code",
   "execution_count": null,
   "metadata": {},
   "outputs": [],
   "source": [
    "from astropy.io import fits\n",
    "from astropy.table import Table\n",
    "import matplotlib.pyplot as plt\n",
    "from astropy.visualization import ZScaleInterval"
   ]
  },
  {
   "cell_type": "markdown",
   "metadata": {},
   "source": [
    "# .info()\n",
    "\n",
    "\n",
    "The .info() method in astropy.io.fits provides a quick summary of the contents of a FITS file. It lists all the Header/Data Units (HDUs) in the file, showing their index, name, type (e.g., PrimaryHDU, ImageHDU, BinTableHDU), number of dimensions, shape of the data, and data type. This makes it an easy way to explore the structure of a FITS file before deciding which extension to work with."
   ]
  },
  {
   "cell_type": "code",
   "execution_count": null,
   "metadata": {},
   "outputs": [],
   "source": [
    "hdu = fits.open('blue.fits')\n",
    "hdu.info()"
   ]
  },
  {
   "cell_type": "code",
   "execution_count": null,
   "metadata": {},
   "outputs": [],
   "source": [
    "data = hdu[0].data\n",
    "header = hdu[0].header\n",
    "\n",
    "#data = hdu['PRIMARY'].data\n",
    "#header = hdu['PRIMARY'].header"
   ]
  },
  {
   "cell_type": "code",
   "execution_count": null,
   "metadata": {},
   "outputs": [],
   "source": [
    "header"
   ]
  },
  {
   "cell_type": "code",
   "execution_count": null,
   "metadata": {},
   "outputs": [],
   "source": [
    "plt.figure(figsize = (10, 10))\n",
    "\n",
    "scale = ZScaleInterval()\n",
    "\n",
    "vmin, vmax = scale.get_limits(data)\n",
    "\n",
    "plt.imshow(data, cmap='gray', vmin = vmin, vmax = vmax)\n",
    "plt.colorbar()\n",
    "plt.show()"
   ]
  },
  {
   "cell_type": "markdown",
   "metadata": {},
   "source": [
    "# Working with Binary Tables\n",
    "\n",
    "A BinTableHDU in astropy.io.fits represents a binary table extension within a FITS file. Unlike images, which store pixel data, binary tables store structured tabular data such as catalogs of objects, time series, or spectra. Each column can have its own data type (e.g., integers, floats, strings, arrays), making them highly flexible for astronomical datasets. The BinTableHDU is widely used for survey catalogs and instrument outputs, and with Astropy you can easily read, manipulate, and write these tables as if they were NumPy arrays or Astropy Tables."
   ]
  },
  {
   "cell_type": "code",
   "execution_count": null,
   "metadata": {},
   "outputs": [],
   "source": [
    "hdu = fits.open('spectra.fits')\n",
    "hdu.info()"
   ]
  },
  {
   "cell_type": "code",
   "execution_count": null,
   "metadata": {},
   "outputs": [],
   "source": [
    "hdu[1].data"
   ]
  },
  {
   "cell_type": "code",
   "execution_count": null,
   "metadata": {},
   "outputs": [],
   "source": [
    "Table(hdu[1].data)"
   ]
  },
  {
   "cell_type": "code",
   "execution_count": null,
   "metadata": {},
   "outputs": [],
   "source": [
    "spectra_table = Table(hdu[1].data)\n",
    "\n",
    "#spectra_table = Table(hdu['EXTRACT1D'].data)"
   ]
  },
  {
   "cell_type": "code",
   "execution_count": null,
   "metadata": {},
   "outputs": [],
   "source": [
    "plt.figure(figsize = (12, 6))\n",
    "plt.step(spectra_table['WAVELENGTH'], spectra_table['FLUX'], where='mid')\n",
    "plt.xlabel('Wavelength')\n",
    "plt.ylabel('Flux')\n",
    "plt.show()"
   ]
  },
  {
   "cell_type": "markdown",
   "metadata": {},
   "source": [
    "# Exercise\n",
    "\n",
    "Open up the test_image.fits file and explore the contents of the fits file and plot up the image. \n",
    "\n",
    "Try to also read in the test_spectra.fits file and see if you can plot that spectrum up. \n",
    "\n",
    "Note the units of the columns: \n",
    "\n",
    "wavelength is actually $log_{10}(\\lambda)$ so you would need to undo the log to get it into linear space and the error is the inverse variance or $1/ \\sigma^2$ and so you would need to solve this for $\\sigma$ to get your error"
   ]
  },
  {
   "cell_type": "code",
   "execution_count": null,
   "metadata": {},
   "outputs": [],
   "source": [
    "#Your Code Here\n"
   ]
  },
  {
   "cell_type": "code",
   "execution_count": null,
   "metadata": {},
   "outputs": [],
   "source": []
  },
  {
   "cell_type": "code",
   "execution_count": null,
   "metadata": {},
   "outputs": [],
   "source": []
  },
  {
   "cell_type": "code",
   "execution_count": null,
   "metadata": {},
   "outputs": [],
   "source": []
  }
 ],
 "metadata": {
  "kernelspec": {
   "display_name": "research",
   "language": "python",
   "name": "python3"
  },
  "language_info": {
   "codemirror_mode": {
    "name": "ipython",
    "version": 3
   },
   "file_extension": ".py",
   "mimetype": "text/x-python",
   "name": "python",
   "nbconvert_exporter": "python",
   "pygments_lexer": "ipython3",
   "version": "3.12.2"
  }
 },
 "nbformat": 4,
 "nbformat_minor": 4
}
