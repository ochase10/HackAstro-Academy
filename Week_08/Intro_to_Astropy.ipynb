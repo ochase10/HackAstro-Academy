{
 "cells": [
  {
   "cell_type": "markdown",
   "metadata": {},
   "source": [
    "# Introduction to Astropy:\n",
    "\n",
    "Astropy is a Python library for astronomy that provides tools and data structures for working with astronomical data. It includes modules for handling units, coordinates, time, and more. In this bootcamp, we will introduce some of the key components of Astropy: units, constants and SkyCoord objects.\n",
    "\n"
   ]
  },
  {
   "cell_type": "code",
   "execution_count": null,
   "metadata": {},
   "outputs": [],
   "source": [
    "from astropy import units as u\n",
    "from astropy import constants as const\n",
    "from astropy.units import imperial\n",
    "from astropy.coordinates import SkyCoord\n",
    "\n",
    "import numpy as np"
   ]
  },
  {
   "cell_type": "markdown",
   "metadata": {},
   "source": [
    "# Introduction to Astropy Units\n",
    "\n",
    "The astropy.units module provides a robust framework for handling physical units in astronomical calculations. It ensures consistency by attaching units to numerical values, preventing errors from incorrect conversions (e.g., mixing meters and light-years)."
   ]
  },
  {
   "cell_type": "code",
   "execution_count": null,
   "metadata": {},
   "outputs": [],
   "source": [
    "R_sun_km = 695700 * u.km\n",
    "R_earth_km = 6371 * u.km"
   ]
  },
  {
   "cell_type": "code",
   "execution_count": null,
   "metadata": {},
   "outputs": [],
   "source": []
  },
  {
   "cell_type": "code",
   "execution_count": null,
   "metadata": {},
   "outputs": [],
   "source": [
    "c = 2.998e8 * u.m / u.s\n",
    "acceleration = 4 * u.m / u.s**2\n",
    "h = 6.626e-34 * u.J * u.s\n",
    "hbar = h / (2 * np.pi)\n",
    "\n",
    "print(f'Speed of light is: {c}')\n",
    "print(f'Planck constant is: {h}')\n",
    "print(f'Reduced Planck constant is: {hbar}')"
   ]
  },
  {
   "cell_type": "code",
   "execution_count": null,
   "metadata": {},
   "outputs": [],
   "source": [
    "acceleration"
   ]
  },
  {
   "cell_type": "code",
   "execution_count": null,
   "metadata": {},
   "outputs": [],
   "source": [
    "#Nearest Star\n",
    "distance = 4.24 * u.lyr # Proxima Centauri\n",
    "print(distance.to(u.m))  # Convert light years to meters\n",
    "print(distance.to(u.AU))  # Convert light years to meters"
   ]
  },
  {
   "cell_type": "code",
   "execution_count": null,
   "metadata": {},
   "outputs": [],
   "source": []
  },
  {
   "cell_type": "code",
   "execution_count": null,
   "metadata": {},
   "outputs": [],
   "source": [
    "orbital_velocity = 17000 * imperial.mile/u.hr\n",
    "orbital_period = 90 * u.min\n",
    "\n",
    "# Calculate the orbital radius of the ISS\n",
    "# v = 2 * pi * r / T\n",
    "# r = v * T / 2 * pi\n",
    "orbital_radius = (orbital_velocity * orbital_period / (2 * np.pi))#.to(u.km)\n",
    "print(f'Orbital radius of the ISS: {orbital_radius}')\n",
    "\n",
    "\n",
    "# Calculate the orbital radius of the ISS\n",
    "print(f\"Orbital radius of the ISS: {orbital_radius.to(u.km)}\")"
   ]
  },
  {
   "cell_type": "code",
   "execution_count": null,
   "metadata": {},
   "outputs": [],
   "source": [
    "stellar_mass = np.logspace(0, 12, 1000)\n",
    "\n",
    "mass = stellar_mass * u.M_sun\n",
    "\n",
    "print(mass)"
   ]
  },
  {
   "cell_type": "code",
   "execution_count": null,
   "metadata": {},
   "outputs": [],
   "source": [
    "mass.to(u.kg)"
   ]
  },
  {
   "cell_type": "code",
   "execution_count": null,
   "metadata": {},
   "outputs": [],
   "source": [
    "random_mass = np.random.uniform(1e6, 1e10, 1000)\n",
    "\n",
    "random_mass_units = random_mass * u.M_sun\n",
    "\n",
    "print(random_mass_units)"
   ]
  },
  {
   "cell_type": "code",
   "execution_count": null,
   "metadata": {},
   "outputs": [],
   "source": [
    "# Calculate the Schwarzschild radius    \n",
    "schwarzschild_radius = 2 * const.G * mass / const.c**2"
   ]
  },
  {
   "cell_type": "code",
   "execution_count": null,
   "metadata": {},
   "outputs": [],
   "source": [
    "crazy_unit = 5 * u.M_sun/u.kg/u.s/u.J"
   ]
  },
  {
   "cell_type": "code",
   "execution_count": null,
   "metadata": {},
   "outputs": [],
   "source": [
    "crazy_unit.si"
   ]
  },
  {
   "cell_type": "code",
   "execution_count": null,
   "metadata": {},
   "outputs": [],
   "source": [
    "schwarzschild_radius.to(u.R_sun)"
   ]
  },
  {
   "cell_type": "markdown",
   "metadata": {},
   "source": [
    "# Introducing Astropy Constants\n",
    "\n",
    "The astropy.constants module provides a collection of fundamental physical and astronomical constants with units attached. These constants are based on the latest CODATA and IAU recommendations, ensuring accuracy and consistency in calculations."
   ]
  },
  {
   "cell_type": "code",
   "execution_count": null,
   "metadata": {},
   "outputs": [],
   "source": [
    "const.c.to(u.AA/u.s)"
   ]
  },
  {
   "cell_type": "code",
   "execution_count": null,
   "metadata": {},
   "outputs": [],
   "source": [
    "c_const = const.c \n",
    "G_const = const.G\n",
    "h_const = const.h\n",
    "hbar_const = const.hbar\n",
    "m_p = const.m_p\n",
    "m_e = const.m_e\n",
    "m_n = const.m_n\n",
    "R_sun = const.R_sun\n",
    "R_earth = const.R_earth\n",
    "M_sun = const.M_sun\n",
    "M_earth = const.M_earth"
   ]
  },
  {
   "cell_type": "code",
   "execution_count": null,
   "metadata": {},
   "outputs": [],
   "source": [
    "print(f'Speed of light is: {c_const}')\n",
    "print(f'Gravitational constant is: {G_const}')\n",
    "print(f'Planck constant is: {h_const}')\n",
    "print(f'Reduced Planck constant is: {hbar_const}')\n",
    "print(f'Proton mass is: {m_p}')\n",
    "print(f'Electron mass is: {m_e}')\n",
    "print(f'Neutron mass is: {m_n}')\n",
    "print(f'Sun radius is: {R_sun}')\n",
    "print(f'Earth radius is: {R_earth}')\n",
    "print(f'Sun mass is: {M_sun}')\n",
    "print(f'Earth mass is: {M_earth}')"
   ]
  },
  {
   "cell_type": "code",
   "execution_count": null,
   "metadata": {},
   "outputs": [],
   "source": [
    "area = 5 * u.m**2\n",
    "area.to(u.km**2)"
   ]
  },
  {
   "cell_type": "markdown",
   "metadata": {},
   "source": [
    "# Exercise\n",
    "\n",
    "Compute the orbital velocity of a satellite that is 15000 meters above the earth's surface using astropy units and constants and make sure the unit of the velocity is in m/s and km/s\n",
    "\n",
    "Recall equation is:\n",
    "\n",
    "$V_{orbit} = \\sqrt{\\frac{2GM}{R}}$"
   ]
  },
  {
   "cell_type": "code",
   "execution_count": null,
   "metadata": {},
   "outputs": [],
   "source": [
    "v_orbit = np.sqrt((2* const.G * const.M_earth)/(const.R_earth + 15000*u.m))"
   ]
  },
  {
   "cell_type": "code",
   "execution_count": null,
   "metadata": {},
   "outputs": [],
   "source": [
    "v_orbit"
   ]
  },
  {
   "cell_type": "code",
   "execution_count": null,
   "metadata": {},
   "outputs": [],
   "source": [
    "v_orbit.to(u.km/u.s)"
   ]
  },
  {
   "cell_type": "code",
   "execution_count": null,
   "metadata": {},
   "outputs": [],
   "source": []
  },
  {
   "cell_type": "markdown",
   "metadata": {},
   "source": [
    "# Astropy Coordinates \n",
    "\n",
    "The astropy.coordinates module provides a powerful framework for representing, manipulating, and transforming celestial coordinates. It allows astronomers to work with different coordinate systems, perform transformations, and calculate angular separations with ease."
   ]
  },
  {
   "cell_type": "code",
   "execution_count": null,
   "metadata": {},
   "outputs": [],
   "source": [
    "18:00:00, +45:34:43"
   ]
  },
  {
   "cell_type": "code",
   "execution_count": null,
   "metadata": {},
   "outputs": [],
   "source": [
    "SkyCoord(ra = '18:00:00', dec = '+45:34:43', unit = (u.hourangle, u.deg))"
   ]
  },
  {
   "cell_type": "code",
   "execution_count": null,
   "metadata": {},
   "outputs": [],
   "source": [
    "coord = SkyCoord(ra=10.684*u.deg, dec=41.269*u.deg, frame='icrs')\n",
    "print(coord)  # Right Ascension & Declination in ICRS\n",
    "\n",
    "#coord = SkyCoord(ra=10.684, dec=41.269, unit = 'degree')\n",
    "#coord = SkyCoord(ra=10.684, dec=41.269, unit = (u.deg, u.deg))"
   ]
  },
  {
   "cell_type": "code",
   "execution_count": null,
   "metadata": {},
   "outputs": [],
   "source": [
    "gal_var = coord.galactic"
   ]
  },
  {
   "cell_type": "markdown",
   "metadata": {},
   "source": [
    "# Finding Separations"
   ]
  },
  {
   "cell_type": "code",
   "execution_count": null,
   "metadata": {},
   "outputs": [],
   "source": [
    "#separation to Catalog\n",
    "\n",
    "np.random.seed(12938423)\n",
    "\n",
    "ra, dec = 234.345421 * u.deg, -23.123943 * u.deg\n",
    "coords1 = SkyCoord(ra, dec)\n",
    "\n",
    "coordinates = SkyCoord(ra = np.random.uniform(234.345400, 234.34600, size = 1000)* u.deg,\n",
    "                      dec = np.random.uniform(-23.123000, -23.124000, size = 1000)* u.deg)\n",
    "\n",
    "\n",
    "sep = coords1.separation(coordinates)"
   ]
  },
  {
   "cell_type": "code",
   "execution_count": null,
   "metadata": {},
   "outputs": [],
   "source": []
  },
  {
   "cell_type": "code",
   "execution_count": null,
   "metadata": {},
   "outputs": [],
   "source": [
    "close_matches = sep.arcsec < .1"
   ]
  },
  {
   "cell_type": "code",
   "execution_count": null,
   "metadata": {},
   "outputs": [],
   "source": [
    "coordinates[close_matches]"
   ]
  },
  {
   "cell_type": "markdown",
   "metadata": {},
   "source": [
    "# Cross Matching Catalogs"
   ]
  },
  {
   "cell_type": "code",
   "execution_count": null,
   "metadata": {},
   "outputs": [],
   "source": [
    "np.random.seed(193423)\n",
    "\n",
    "RA1 = np.random.uniform(0, 1, 1000)\n",
    "DEC1 = np.random.uniform(-10, 10, 1000)\n",
    "\n",
    "RA2 = np.random.uniform(.25, .5, 543)\n",
    "DEC2 = np.random.uniform(-5, 5, 543)"
   ]
  },
  {
   "cell_type": "code",
   "execution_count": null,
   "metadata": {},
   "outputs": [],
   "source": [
    "skycoord1 = SkyCoord(ra=RA1*u.deg, dec=DEC1*u.deg)\n",
    "skycoord2 = SkyCoord(ra=RA2*u.deg, dec=DEC2*u.deg)"
   ]
  },
  {
   "cell_type": "markdown",
   "metadata": {},
   "source": [
    "# Order Matters for Cross Matching"
   ]
  },
  {
   "cell_type": "code",
   "execution_count": null,
   "metadata": {},
   "outputs": [],
   "source": [
    "idx, sep2d, sep3d = skycoord2.match_to_catalog_sky(skycoord1)"
   ]
  },
  {
   "cell_type": "code",
   "execution_count": null,
   "metadata": {},
   "outputs": [],
   "source": [
    "len(idx)"
   ]
  },
  {
   "cell_type": "code",
   "execution_count": null,
   "metadata": {},
   "outputs": [],
   "source": [
    "coords_matched_from_cat1_to_cat2 = skycoord1[idx]\n",
    "sep_arc = sep2d.arcsec\n",
    "\n",
    "close_matches = sep_arc < 20\n",
    "\n",
    "close_matches_cat1_to_cat2 = coords_matched_from_cat1_to_cat2[close_matches]\n",
    "close_matches_cat2 = skycoord2[close_matches]\n",
    "close_matches_sep = sep_arc[close_matches]\n",
    "\n",
    "print('Closest matches from catalog 1 to catalog 2')\n",
    "print(close_matches_cat1_to_cat2)\n",
    "print()\n",
    "print('Closest matches from catalog 2')\n",
    "print(close_matches_cat2)\n",
    "print()\n",
    "print('Closest Separation in arcsec is: ')\n",
    "print(close_matches_sep)"
   ]
  },
  {
   "cell_type": "code",
   "execution_count": null,
   "metadata": {},
   "outputs": [],
   "source": [
    "idx, sep2d, sep3d = skycoord1.match_to_catalog_sky(skycoord)"
   ]
  },
  {
   "cell_type": "code",
   "execution_count": null,
   "metadata": {},
   "outputs": [],
   "source": [
    "len(idx)"
   ]
  },
  {
   "cell_type": "code",
   "execution_count": null,
   "metadata": {},
   "outputs": [],
   "source": [
    "sep2d.arcsec"
   ]
  },
  {
   "cell_type": "code",
   "execution_count": null,
   "metadata": {},
   "outputs": [],
   "source": [
    "coords_matched_from_cat2_to_cat1 = skycoord1[idx]\n",
    "sep_arc = sep2d.arcsec\n",
    "\n",
    "close_matches = sep_arc < 20\n",
    "\n",
    "close_matches_cat2_to_cat1 = coords_matched_from_cat2_to_cat1[close_matches]\n",
    "close_matches_cat1 = skycoord1[close_matches]\n",
    "close_matches_sep1 = sep_arc[close_matches]"
   ]
  },
  {
   "cell_type": "code",
   "execution_count": null,
   "metadata": {},
   "outputs": [],
   "source": [
    "print('Closest matches from catalog 1 to catalog 2')\n",
    "print(close_matches_cat2_to_cat1)\n",
    "print()\n",
    "print('Closest matches from catalog 2')\n",
    "print(close_matches_cat1)\n",
    "print()\n",
    "print('Closest Separation in arcsec is: ')\n",
    "print(close_matches_sep1)"
   ]
  },
  {
   "cell_type": "markdown",
   "metadata": {},
   "source": [
    "# Searching Around Coordinates\n",
    "\n",
    "The search_around_sky function in Astropy is a powerful tool for efficiently finding nearby sources within a given angular separation in the sky. It is part of the astropy.coordinates module and is particularly useful for cross-matching astronomical catalogs.\n",
    "\n",
    "How It Works\n",
    "\n",
    "- It takes two SkyCoord objects: one for the primary set of positions and another for comparison (e.g., a catalog).\n",
    "\n",
    "- It searches for all sources in the second set that lie within a specified angular separation of the first set.\n",
    "\n",
    "- Returns indices of matching sources, along with angular separations."
   ]
  },
  {
   "cell_type": "code",
   "execution_count": null,
   "metadata": {},
   "outputs": [],
   "source": [
    "idx_skycoord2, idx_skycoord1, sep2d, sep3d = skycoord1.search_around_sky(skycoord2, 20*u.arcsec)"
   ]
  },
  {
   "cell_type": "code",
   "execution_count": null,
   "metadata": {},
   "outputs": [],
   "source": [
    "print('Sources in catalog 1 that are within 20 arcsec')\n",
    "print(skycoord1[idx_skycoord1])\n",
    "print()\n",
    "print('Sources in catalog 1 that are within 20 arcsec of catalog 2')\n",
    "print(skycoord2[idx_skycoord2])\n",
    "print()\n",
    "print('The Separation in arcsec is: ')\n",
    "print(sep2d.arcsec)"
   ]
  },
  {
   "cell_type": "markdown",
   "metadata": {},
   "source": [
    "# Opening FITS Files"
   ]
  },
  {
   "cell_type": "code",
   "execution_count": null,
   "metadata": {},
   "outputs": [],
   "source": [
    "from astropy.io import fits\n",
    "from astropy.table import Table\n",
    "import matplotlib.pyplot as plt\n",
    "from astropy.visualization import ZScaleInterval"
   ]
  },
  {
   "cell_type": "code",
   "execution_count": null,
   "metadata": {},
   "outputs": [],
   "source": [
    "hdu = fits.open('blue.fits')\n",
    "hdu.info()"
   ]
  },
  {
   "cell_type": "code",
   "execution_count": null,
   "metadata": {},
   "outputs": [],
   "source": [
    "data = hdu[0].data\n",
    "header = hdu[0].header"
   ]
  },
  {
   "cell_type": "code",
   "execution_count": null,
   "metadata": {},
   "outputs": [],
   "source": [
    "header"
   ]
  },
  {
   "cell_type": "code",
   "execution_count": null,
   "metadata": {},
   "outputs": [],
   "source": [
    "plt.figure(figsize = (10, 10))\n",
    "vmin, vmax = np.min(data), np.max(data)\n",
    "\n",
    "plt.imshow(data, cmap='gray', vmin = vmin, vmax = vmax, norm='log')\n",
    "plt.colorbar()\n",
    "plt.show()"
   ]
  },
  {
   "cell_type": "code",
   "execution_count": null,
   "metadata": {},
   "outputs": [],
   "source": [
    "plt.figure(figsize = (10, 10))\n",
    "\n",
    "scale = ZScaleInterval()\n",
    "\n",
    "vmin, vmax = scale.get_limits(data)\n",
    "\n",
    "plt.imshow(data, cmap='gray', vmin = vmin, vmax = vmax)\n",
    "plt.colorbar()\n",
    "plt.show()"
   ]
  },
  {
   "cell_type": "code",
   "execution_count": null,
   "metadata": {},
   "outputs": [],
   "source": [
    "hdu = fits.open('spectra.fits')\n",
    "hdu.info()"
   ]
  },
  {
   "cell_type": "code",
   "execution_count": null,
   "metadata": {},
   "outputs": [],
   "source": [
    "hdu[1].data"
   ]
  },
  {
   "cell_type": "code",
   "execution_count": null,
   "metadata": {},
   "outputs": [],
   "source": [
    "Table(hdu[1].data)"
   ]
  },
  {
   "cell_type": "code",
   "execution_count": null,
   "metadata": {},
   "outputs": [],
   "source": [
    "spectra_table = Table(hdu[1].data)"
   ]
  },
  {
   "cell_type": "code",
   "execution_count": null,
   "metadata": {},
   "outputs": [],
   "source": [
    "plt.figure(figsize = (12, 6))\n",
    "plt.step(spectra_table['WAVELENGTH'], spectra_table['FLUX'], where='mid')\n",
    "plt.xlabel('Wavelength')\n",
    "plt.ylabel('Flux')\n",
    "plt.show()"
   ]
  },
  {
   "cell_type": "markdown",
   "metadata": {},
   "source": [
    "# Exercise\n",
    "\n",
    "Open up the test_image.fits file and explore the contents of the fits file and plot up the image. \n",
    "\n",
    "Try to also read in the test_spectra.fits file and see if you can plot that spectrum up. \n",
    "\n",
    "Note the units of the columns: \n",
    "\n",
    "wavelength is actually $log_{10}(\\lambda)$ so you would need to undo the log to get it into linear space and the error is the inverse variance or $1/ \\sigma^2$ and so you would need to solve this for $\\sigma$ to get your error"
   ]
  },
  {
   "cell_type": "code",
   "execution_count": null,
   "metadata": {},
   "outputs": [],
   "source": [
    "#Your Code Here\n"
   ]
  },
  {
   "cell_type": "code",
   "execution_count": null,
   "metadata": {},
   "outputs": [],
   "source": []
  },
  {
   "cell_type": "code",
   "execution_count": null,
   "metadata": {},
   "outputs": [],
   "source": []
  },
  {
   "cell_type": "code",
   "execution_count": null,
   "metadata": {},
   "outputs": [],
   "source": []
  }
 ],
 "metadata": {
  "kernelspec": {
   "display_name": "base",
   "language": "python",
   "name": "python3"
  },
  "language_info": {
   "codemirror_mode": {
    "name": "ipython",
    "version": 3
   },
   "file_extension": ".py",
   "mimetype": "text/x-python",
   "name": "python",
   "nbconvert_exporter": "python",
   "pygments_lexer": "ipython3",
   "version": "3.11.9"
  }
 },
 "nbformat": 4,
 "nbformat_minor": 4
}
