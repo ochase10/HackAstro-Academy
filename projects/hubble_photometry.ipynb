{
 "cells": [
  {
   "cell_type": "markdown",
   "id": "1ccbf250-e461-4f4e-b588-015aaa55ca9e",
   "metadata": {},
   "source": [
    "For this project, it is your job to determine the PSF and fluxes for the brightest stars in the images from HST stored in 'hubble_image.fits'.\n",
    "\n",
    "You should also try exploring whatever else you might want to as you work.\n",
    "\n",
    "Let's start by importing the modules we'll need. We're going to be working with a FITS file, interacting with arrays, and doing some plotting at the very least."
   ]
  },
  {
   "cell_type": "code",
   "execution_count": null,
   "id": "e2166c91-9525-462b-8830-b6dbb6b98d7a",
   "metadata": {},
   "outputs": [],
   "source": [
    "#import your modules here"
   ]
  },
  {
   "cell_type": "markdown",
   "id": "64059f8f-554b-489e-8309-a6b61d0e041c",
   "metadata": {},
   "source": [
    "Now that we have the tools, let's get a sense of what we're working with. Use the next cell to open the file and show the image. Don't forget that you can change the color scale using vmin and vmax to make the image more informative."
   ]
  },
  {
   "cell_type": "code",
   "execution_count": null,
   "id": "0f5a610f-16c1-4b66-b2ba-aab7c7bc5b97",
   "metadata": {},
   "outputs": [],
   "source": []
  },
  {
   "cell_type": "markdown",
   "id": "32ddf3d3-af2c-4549-952b-fa1ba1ec7cef",
   "metadata": {},
   "source": [
    "You should see that the image contains a number of bright stars. We want to get their brightnesses. Let's start by just looking at 1 star. Pick a star and change the xlim and ylim to zoom in on just it."
   ]
  },
  {
   "cell_type": "code",
   "execution_count": null,
   "id": "2a58cd5f-baf5-4dae-9812-f79a972d5607",
   "metadata": {},
   "outputs": [],
   "source": []
  },
  {
   "cell_type": "markdown",
   "id": "2fe32c8f-aa35-4d6d-a5c0-732949e607d9",
   "metadata": {},
   "source": [
    "Now that we know about where it is, let's isolate that data. The whole image is stored as a Numpy array. Make a new Numpy array that contains just the data in a square surrounding the star. Give the star some space, too; we want to make sure we capture all of it's light. Try showing your new array to make sure that you got what you wanted."
   ]
  },
  {
   "cell_type": "code",
   "execution_count": null,
   "id": "cad08f84-0da1-4b5c-81b6-619e0cf1de57",
   "metadata": {},
   "outputs": [],
   "source": []
  },
  {
   "cell_type": "markdown",
   "id": "278dbafb-cecc-456a-a6d9-7fc73615be42",
   "metadata": {},
   "source": [
    "We want to get the total flux of the star. The most naeve way to do so would be to add up all the flux in our square containing the star. Go ahead and do that to get a flux (let's ignore the units for now). Save this flux to a variable so we can compare with it later."
   ]
  },
  {
   "cell_type": "code",
   "execution_count": null,
   "id": "9cbb03f6-1d91-459b-a504-61728979f3ad",
   "metadata": {},
   "outputs": [],
   "source": []
  },
  {
   "cell_type": "markdown",
   "id": "c234d0db-a7a0-4bda-a172-7a3bf559302f",
   "metadata": {},
   "source": [
    "You might be thinking that a square is hardly a good aperture shape to measure a star's flux in. You'd be right. A circle is a much more natural choice. Show the image of the star again and choose a radius that you think is reasonable to collect all the star's light. Then, try to find a way to add up the values of the array that fall in that circle. There are many ways to do this, and don't worry about being efficient right now. Also, try to come up with a way to check which pixels you're adding in so you know you're doing what you intend."
   ]
  },
  {
   "cell_type": "code",
   "execution_count": null,
   "id": "eb20b575-1d00-40e5-8555-843df6b5aaf9",
   "metadata": {},
   "outputs": [],
   "source": []
  }
 ],
 "metadata": {
  "kernelspec": {
   "display_name": "Python 3 (ipykernel)",
   "language": "python",
   "name": "python3"
  },
  "language_info": {
   "codemirror_mode": {
    "name": "ipython",
    "version": 3
   },
   "file_extension": ".py",
   "mimetype": "text/x-python",
   "name": "python",
   "nbconvert_exporter": "python",
   "pygments_lexer": "ipython3",
   "version": "3.11.5"
  }
 },
 "nbformat": 4,
 "nbformat_minor": 5
}
