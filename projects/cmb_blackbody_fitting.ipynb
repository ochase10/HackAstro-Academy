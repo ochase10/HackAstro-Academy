{
 "cells": [
  {
   "cell_type": "markdown",
   "id": "f200bf36-8f86-485f-96a1-0ff4a52d3344",
   "metadata": {},
   "source": [
    "For this project, your job is to determine the temperature of the Cosmic Microwave Background (CMB). In the same folder as this notebook, you should see a file called 'firas_monopole_spec_v1.txt'. This is data from the COBE satellite taken from this paper: https://ui.adsabs.harvard.edu/abs/1996ApJ...473..576F/abstract. You are going to fit this data with a blackbody spectrum to determine the temperature of the CMB.\n",
    "\n",
    "You should also try exploring whatever else you might want to as you work.\n",
    "\n",
    "Let's start by importing the modules we'll need. We're going to be working with data from a text file, doing numerical calulcations on arrays, and plotting at the very least."
   ]
  },
  {
   "cell_type": "code",
   "execution_count": null,
   "id": "a5016425-3148-48fd-902b-54f6784f18ad",
   "metadata": {},
   "outputs": [],
   "source": [
    "#Import the necessary modules here"
   ]
  },
  {
   "cell_type": "markdown",
   "id": "0b1fa5a1-e885-4d71-bcf9-7aa27eb1fb96",
   "metadata": {},
   "source": [
    "Let's start by trying to understand the data. The first several lines in the text file explain the columns and units. Open the file in a text editor and read through it. Take note of the data types needed to store the data.\n",
    "\n",
    "Now that you have feeling for what you're working with, let's read the data in to Python. I'd recommend reading into a Numpy array or a Data Frame/Data Table. Make sure that your data object has the shape and dtype you expect. The numpy.loadtxt() or pandas.read_csv() functions could be useful here. Also make sure that you handled the header correctly when reading in the data."
   ]
  },
  {
   "cell_type": "code",
   "execution_count": null,
   "id": "fed0b200-4c44-4702-9d0f-0abd4a0c4fb3",
   "metadata": {},
   "outputs": [],
   "source": []
  },
  {
   "cell_type": "markdown",
   "id": "c00dca11-e5a1-4db7-a58e-7706633bb458",
   "metadata": {},
   "source": [
    "So now we have the data, but what do we do with it? Well, let's get a better sense for it by plotting it. Make 1 or more plots that help you understand what the data looks like more or what the columns mean. You could make a scatter plot or error bar plot here, for example."
   ]
  },
  {
   "cell_type": "code",
   "execution_count": null,
   "id": "052964d8-72f7-4585-862d-90398481e7e3",
   "metadata": {},
   "outputs": [],
   "source": []
  },
  {
   "cell_type": "markdown",
   "id": "6d34de97-c76e-44f3-978d-001e4e168537",
   "metadata": {},
   "source": [
    "Now comes the work. Theory tells us that the CMB should be a near-perfect blackbody. Does the shape you saw in your plots seem to fit with that?\n",
    "\n",
    "The blackbody spectrum is given by the following formula: $$B_{\\nu}(T) = \\frac{2 h\\nu^3}{c^2} \\frac{1}{e^{\\frac{h\\nu}{kT}} - 1}$$\n",
    "\n",
    "The units of $B_{\\nu}$ are Power/Solid Angle/Physical Area/Frequency, i.e. something like erg/s/cm2/sr/Hz\n",
    "\n",
    "If you didn't before, you might want to import a package that can help you manage all these units! \n",
    "\n",
    "Unfortunately, the data we have uses wavenumber instead of frequency. Wavenumber is simply $n = 1/\\lambda = \\nu/c$. We'll need to rewrite the blackbody equation in terms of wavenumber. "
   ]
  },
  {
   "cell_type": "code",
   "execution_count": null,
   "id": "2e20e08e-59c2-40bd-9e82-e25e4cdb2ac0",
   "metadata": {},
   "outputs": [],
   "source": []
  }
 ],
 "metadata": {
  "kernelspec": {
   "display_name": "Python 3 (ipykernel)",
   "language": "python",
   "name": "python3"
  },
  "language_info": {
   "codemirror_mode": {
    "name": "ipython",
    "version": 3
   },
   "file_extension": ".py",
   "mimetype": "text/x-python",
   "name": "python",
   "nbconvert_exporter": "python",
   "pygments_lexer": "ipython3",
   "version": "3.11.5"
  }
 },
 "nbformat": 4,
 "nbformat_minor": 5
}
