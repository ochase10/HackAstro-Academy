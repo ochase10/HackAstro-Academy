{
 "cells": [
  {
   "cell_type": "markdown",
   "id": "df428b52-fa28-4340-8580-c72fb284f0ce",
   "metadata": {},
   "source": [
    "# Fitting Emission Lines\n",
    "\n",
    "The key to working with spectra is being able to measure the line flux of an emission line. This is done by fitting a Gaussian model to the emission line. This process can be a bit more complicated if the lines are blended, meaning that what looks to be one line in the spectra is actually made up of a variety of other emission lines. In the next section we go over how to fit an emission line and slowly increase the complexity of the model and fitting routines."
   ]
  },
  {
   "cell_type": "markdown",
   "id": "043bb6d2-3e93-4ed2-9f80-d54496e218fa",
   "metadata": {},
   "source": [
    "# Using Curve Fit\n",
    "\n",
    "Curve fit is a very powerful tool to fit any model to any kind of data. The power of curve_fit comes from the ability to have a custom model that the user can create. The one condition for this function that the user defines is just that it has to be in the format that curve_fit expects it in. The format for this function is f(x, param1, param2, ...) where x is the first argument in the function and then the rest are the parameters you are trying to fit in any order you like. \n",
    "\n",
    "For the purpose of fitting an emission line we will be fitting a Gaussian to this and so our model will have the form:\n",
    "\n",
    "$G(x) = Ae^{\\frac{(x - \\mu)^2}{2\\sigma^2}}$\n",
    "\n",
    "Here A represents the amplitude of the Gaussian and controls the height of the Gaussian. $\\mu$ controls where the Gaussian is centered and this should correspond to the wavelength of the emission line. $\\sigma$ controls how wide the emission line is, a larger value of $\\sigma$ means a broader line. x in this example corresponds to your wavelength array. \n",
    "\n",
    "Note that the units of A, $\\mu$ and $\\sigma$ are solely determined by the data you provide curve_fit. So if the spectra is in units of Jy then the Amplitude will have units of Jy, if the wavelength inputted is in microns then $\\mu$ and $\\sigma$ will be in microns. \n",
    "\n",
    "The function curve_fit takes in some parameters and then you can customize it further with other key-word arguments. The basic input to get curve_fit to start fitting is it needs the model that you are trying to fit in the format specified above, the x and y data, and an intitial guess to start the process to finding the best fit parameters.\n",
    "\n",
    "    Inputs:\n",
    "    Model Function\n",
    "    x-data\n",
    "    y-data\n",
    "    Initial Guesses\n",
    "\n",
    "The output of curve fit will be two things, the first thing you will get back is the best fit parameter values and the second is a covariance matrix that holds the uncertainties and correlations of each of the parameters. The thing we are really after is the best fit parameters so we will not cover the covariance matrix in too much detail as we will be using more sophisticated ways of getting the error on our parameters in the upcoming notebooks.\n",
    "\n",
    "    Outputs:\n",
    "    Best Fit Parameters\n",
    "    Covariance Matrix\n",
    "\n",
    "The best fit parameters will be stored in one variable as a list and they will be in the same order as your user-defined model, so to access a certain parameter you will need to use python indexing for that. \n",
    "\n",
    "Let us code this model up in Python and use it to fit an emission line."
   ]
  },
  {
   "cell_type": "code",
   "execution_count": null,
   "id": "032e5c09-3656-4d69-88b7-79fd7197bbe6",
   "metadata": {},
   "outputs": [],
   "source": [
    "from scipy.optimize import curve_fit\n",
    "import numpy as np\n",
    "import matplotlib.pyplot as plt"
   ]
  },
  {
   "cell_type": "code",
   "execution_count": null,
   "id": "78858543-4c25-4a4e-a53c-7bfef5604ba3",
   "metadata": {},
   "outputs": [],
   "source": [
    "#defining the model for the emission line as a Gaussian\n",
    "def continuum(x, m, b, line_center):\n",
    "    return m*(x - line_cener) + b\n",
    "\n",
    "def line_model(x, A, mu, sigma, m, b):\n",
    "    \n",
    "    '''\n",
    "    This is the model for the emission line. Only to be used on a continuum subtracted spectrum.\n",
    "    \n",
    "    Gauss = Ae^(-(x-mu)^2/2 sigma^2)\n",
    "    \n",
    "    '''\n",
    "    \n",
    "    return A*np.exp(-(x - mu)**2/(2*sigma**2)) + continuum(x, m, b)\n",
    "\n",
    "    "
   ]
  },
  {
   "cell_type": "markdown",
   "id": "23b216fd-0a38-47ba-bdea-34aed8acde63",
   "metadata": {},
   "source": [
    "# Zooming in on the emission line\n",
    "\n",
    "If you provide curve fit with the entire x and y data of the spectrum it will use all that info in the estimation of the parameters. This is a bit much for our purposes as we are only focused on one line so we will only provide curve fit with the data around the emission line. \n",
    "\n",
    "Let us do this by looking around a window near the emission line and using only this data into curve_fit.\n",
    "\n",
    "Let us look at Halpha to start with, since you know the redshift for this source you can figure out where it is in the observed frame using H$\\alpha_{obs}$ = H$\\alpha_{rest}$ (1+z)\n",
    "\n",
    "Come up with a good window to zoom into H$\\alpha$, you can use plt.xlim here to zoom in to find the bounds."
   ]
  },
  {
   "cell_type": "code",
   "execution_count": 1,
   "id": "736b3d8e-478c-42f5-80e9-3b3f37be6307",
   "metadata": {},
   "outputs": [],
   "source": [
    "##\n",
    "#Your code Here\n",
    "##\n",
    "\n"
   ]
  },
  {
   "cell_type": "markdown",
   "id": "b244a9c6-1fd1-44fa-82aa-106e7207f848",
   "metadata": {},
   "source": [
    "Once you have a good bounds for the line you can make a boolean mask to subselect the data only within this range"
   ]
  },
  {
   "cell_type": "code",
   "execution_count": null,
   "id": "b9ad042f-5011-4ccb-95de-0703e94835bb",
   "metadata": {},
   "outputs": [],
   "source": [
    "mask = \n",
    "\n",
    "curve_fit_xdata = \n",
    "curve_fit_ydata = "
   ]
  },
  {
   "cell_type": "markdown",
   "id": "a7c2c707-2948-442e-9c50-260618c2b42a",
   "metadata": {},
   "source": [
    "# Initial Guesses\n",
    "\n",
    "For curve fit to work you need to provide the function with a good initial guess. Try to come up with good guesses for A, $\\mu$, $\\sigma$, m and b.\n",
    "\n",
    "Recall here that A is the amplitude of the emission line,  $\\mu$ is the line center, $\\sigma$ is the width of the gaussian, m and b are the slope and y-intercept respectrively"
   ]
  },
  {
   "cell_type": "code",
   "execution_count": null,
   "id": "f2a47d66-ddda-4ec9-bc5c-150f70f32405",
   "metadata": {},
   "outputs": [],
   "source": [
    "p0 = []\n",
    "\n",
    "popt, cov = curve_fit( , #function to fit\n",
    "                      , #xdata\n",
    "                      , #ydata\n",
    "                      p0 = p0)"
   ]
  },
  {
   "cell_type": "markdown",
   "id": "9f0d4eae-15cc-4092-851d-3218234fadeb",
   "metadata": {},
   "source": [
    "# Calculating Flux\n",
    "\n",
    "When we are fitting a Gaussian to an emission line our end goal is to compute the flux of that emission line. When we use a Gaussian as our fitting function we can exploit the fact that the integral of a Gaussian from $-\\inf$ to $+\\inf$ has a nice functional form: $A\\sigma\\sqrt{2\\pi}$. Here A is the amplitude of the Gaussian, $\\sigma$ is the standard deviation of the Gaussian. \n",
    "\n",
    "# Note on Units:\n",
    "\n",
    "Flux has units of energy/s/Area, when we work with spectra they are either in $F_{\\nu}$ or $F_{\\lambda}$ or some units that relates to these two like the Jansky. When you are trying to compute fluxes you need to ensure that the units of your amplitude and the $\\sigma$ work in such a way that you get back the units of flux which in general terms are energy/s/Area. \n",
    "\n",
    "Let look at an example where Amplitude is in $F_{\\nu}$ in Jy and the sigma is in microns. Similar to some JWST spectra you may be working with. We need to first convert Jy to $erg/s/cm^2/Hz$ and if we have sigma in microns we have the following:\n",
    "\n",
    "$F[units] = \\frac{erg}{s cm^2 Hz} * \\mu m$\n",
    "\n",
    "\n",
    "The above units **DO NOT** give back the units of flux we need as the Hz and $\\mu$ m do not cancel out. Thus, you need to make sure that you convert the flux to $F_{\\lambda}$ which has units of erg/s/cm^2/Angstroms and then convert your wavelength to Angstroms. If you do this then you get the following:\n",
    "\n",
    "$F[units] = \\frac{erg}{s cm^2 \\AA} * \\AA =  \\frac{erg}{s cm^2}$\n",
    "\n",
    "The Angstroms cancels out between the two and then you are left with something in units of energy/s/Area which is erg/s/$cm^2$. \n",
    "\n",
    "Let us see how we can get flux from this spectra after performing the fitting by analyzing the best fit parameters and their units. "
   ]
  },
  {
   "cell_type": "code",
   "execution_count": null,
   "id": "c86207c8-0541-4d38-8858-8ffc3ec7b2a9",
   "metadata": {},
   "outputs": [],
   "source": [
    "A = \n",
    "sigma = \n",
    "flux = A * sigma * np.sqrt(2*np.pi)"
   ]
  },
  {
   "cell_type": "code",
   "execution_count": null,
   "id": "d275e7d9-a113-49f2-9911-aebcc087394c",
   "metadata": {},
   "outputs": [],
   "source": []
  },
  {
   "cell_type": "code",
   "execution_count": null,
   "id": "0b33af48-74e7-478a-8f76-8607440a7775",
   "metadata": {},
   "outputs": [],
   "source": []
  }
 ],
 "metadata": {
  "kernelspec": {
   "display_name": "Python 3 (ipykernel)",
   "language": "python",
   "name": "python3"
  },
  "language_info": {
   "codemirror_mode": {
    "name": "ipython",
    "version": 3
   },
   "file_extension": ".py",
   "mimetype": "text/x-python",
   "name": "python",
   "nbconvert_exporter": "python",
   "pygments_lexer": "ipython3",
   "version": "3.12.2"
  }
 },
 "nbformat": 4,
 "nbformat_minor": 5
}
