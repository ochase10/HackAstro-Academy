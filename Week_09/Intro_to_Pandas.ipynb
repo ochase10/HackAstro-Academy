{
 "cells": [
  {
   "cell_type": "markdown",
   "metadata": {},
   "source": [
    "# Introducing Pandas\n",
    "\n",
    "- Sections\n",
    "\n",
    "- Introduction to Pandas\n",
    "\n",
    "- Creating and Loading Data\n",
    "\n",
    "- Exploring DataFrames\n",
    "\n",
    "- Data Cleaning\n",
    "\n",
    "- Visualization with Pandas\n",
    "\n",
    "- Data Analysis"
   ]
  },
  {
   "cell_type": "code",
   "execution_count": 1,
   "metadata": {},
   "outputs": [],
   "source": [
    "import pandas as pd\n",
    "import numpy as np\n",
    "import matplotlib.pyplot as plt\n",
    "import seaborn as sb"
   ]
  },
  {
   "cell_type": "markdown",
   "metadata": {},
   "source": [
    "# 1. Creating a DataFrame from a Dictionary"
   ]
  },
  {
   "cell_type": "code",
   "execution_count": null,
   "metadata": {},
   "outputs": [],
   "source": [
    "data = {\n",
    "    'Name': ['Alice', 'Bob', 'Charlie', 'David', 'Eve'],\n",
    "    'Age': [24, 27, 22, 32, 29],\n",
    "    'City': ['New York', 'Los Angeles', 'Chicago', 'Houston', 'Phoenix'],\n",
    "    'Salary': [70000, 80000, 50000, 120000, 75000]\n",
    "}\n",
    "data_df = pd.DataFrame(data)\n",
    "print(\"\\n--- DataFrame ---\\n\\n\")\n",
    "data_df"
   ]
  },
  {
   "cell_type": "markdown",
   "metadata": {},
   "source": [
    "# 2. Loading Data from a CSV file (example)"
   ]
  },
  {
   "cell_type": "code",
   "execution_count": 3,
   "metadata": {},
   "outputs": [],
   "source": [
    "df = pd.read_csv('Boston.csv')"
   ]
  },
  {
   "cell_type": "code",
   "execution_count": null,
   "metadata": {},
   "outputs": [],
   "source": [
    "df.head()"
   ]
  },
  {
   "cell_type": "code",
   "execution_count": 5,
   "metadata": {},
   "outputs": [],
   "source": [
    "df = pd.read_csv('Boston.csv', index_col=0)"
   ]
  },
  {
   "cell_type": "markdown",
   "metadata": {},
   "source": [
    "## 2.1 Loading in .txt files"
   ]
  },
  {
   "cell_type": "code",
   "execution_count": 6,
   "metadata": {},
   "outputs": [],
   "source": [
    "df_txt = pd.read_csv('Masses_V2_Table.txt', sep = ' ', index_col = 0)"
   ]
  },
  {
   "cell_type": "code",
   "execution_count": null,
   "metadata": {},
   "outputs": [],
   "source": [
    "df_txt.head()"
   ]
  },
  {
   "cell_type": "markdown",
   "metadata": {},
   "source": [
    "# Adding in a row with some NaNs in the DataFrame for later analysis"
   ]
  },
  {
   "cell_type": "code",
   "execution_count": 8,
   "metadata": {},
   "outputs": [],
   "source": [
    "new_row = pd.DataFrame(np.array([0.004, 12, 0, .432, \n",
    "              4.56, 54.1, 5.42, 4, \n",
    "              3, 210, np.nan, np.nan, np.nan]).reshape(1, -1), columns = df.columns.values, index = [3456453])\n",
    "\n",
    "merge_df = pd.concat([df, new_row])"
   ]
  },
  {
   "cell_type": "code",
   "execution_count": null,
   "metadata": {},
   "outputs": [],
   "source": [
    "merge_df.tail()"
   ]
  },
  {
   "cell_type": "markdown",
   "metadata": {},
   "source": [
    "# 3. Exploring the DataFrame"
   ]
  },
  {
   "cell_type": "code",
   "execution_count": null,
   "metadata": {},
   "outputs": [],
   "source": [
    "print(\"\\nData Types:\\n\", df.dtypes)"
   ]
  },
  {
   "cell_type": "code",
   "execution_count": null,
   "metadata": {},
   "outputs": [],
   "source": [
    "print(\"\\nSummary Statistics:\\n\")\n",
    "df.describe()"
   ]
  },
  {
   "cell_type": "code",
   "execution_count": null,
   "metadata": {},
   "outputs": [],
   "source": [
    "print(\"\\nFirst 3 Rows:\\n\")\n",
    "df.head(3)"
   ]
  },
  {
   "cell_type": "markdown",
   "metadata": {},
   "source": [
    "# 4. Data Cleaning (Handling Missing Values)"
   ]
  },
  {
   "cell_type": "code",
   "execution_count": null,
   "metadata": {},
   "outputs": [],
   "source": [
    "#code to determine if there are NaNs in the columns and how many are there\n",
    "df.isna().sum()"
   ]
  },
  {
   "cell_type": "code",
   "execution_count": null,
   "metadata": {},
   "outputs": [],
   "source": [
    "merge_df.isna().sum()"
   ]
  },
  {
   "cell_type": "code",
   "execution_count": null,
   "metadata": {},
   "outputs": [],
   "source": [
    "#Ways to handle NaNs\n",
    "#1. Drop the rows with NaNs\n",
    "df_no_missing = merge_df.dropna()\n",
    "df_no_missing.isna().sum()"
   ]
  },
  {
   "cell_type": "code",
   "execution_count": null,
   "metadata": {},
   "outputs": [],
   "source": [
    "#2. Fill NaNs with a specific value\n",
    "df_fill = merge_df.fillna(0)\n",
    "df_fill.isna().sum()"
   ]
  },
  {
   "cell_type": "code",
   "execution_count": null,
   "metadata": {},
   "outputs": [],
   "source": [
    "#3. Fill NaNs with the mean of the column\n",
    "df_mean = merge_df.fillna(df.mean())\n",
    "df_mean.isna().sum()"
   ]
  },
  {
   "cell_type": "code",
   "execution_count": null,
   "metadata": {},
   "outputs": [],
   "source": [
    "#4. Fill NaNs with the median of the column\n",
    "df_median = merge_df.fillna(df.median())\n",
    "df_median.isna().sum()"
   ]
  },
  {
   "cell_type": "code",
   "execution_count": null,
   "metadata": {},
   "outputs": [],
   "source": [
    "#5. Fill NaNs with the mode of the column\n",
    "df_mode = merge_df.fillna(df.mode().iloc[0])\n",
    "df_mode.isna().sum()"
   ]
  },
  {
   "cell_type": "markdown",
   "metadata": {},
   "source": [
    "# 5. Filtering and Sorting"
   ]
  },
  {
   "cell_type": "code",
   "execution_count": null,
   "metadata": {},
   "outputs": [],
   "source": [
    "#Boolaen Masking to Filter the DataFrame\n",
    "df_filtered = df[df['dis'] < 2]\n",
    "print(\"\\nFiltered Data (dis < 1):\\n\")\n",
    "df_filtered"
   ]
  },
  {
   "cell_type": "code",
   "execution_count": null,
   "metadata": {},
   "outputs": [],
   "source": [
    "#Sorting the data by the column dis and it is in reverse order where the largest value is at the top\n",
    "df.sort_values(by = 'dis', ascending = False)"
   ]
  },
  {
   "cell_type": "code",
   "execution_count": null,
   "metadata": {},
   "outputs": [],
   "source": [
    "#Sorting the data by the column dis and it is in ascending order where the smallest value is at the top\n",
    "df.sort_values(by = 'dis', ascending = True)"
   ]
  },
  {
   "cell_type": "markdown",
   "metadata": {},
   "source": [
    "# 6. Visualization with Pandas"
   ]
  },
  {
   "cell_type": "code",
   "execution_count": null,
   "metadata": {},
   "outputs": [],
   "source": [
    "df.plot(x='indus', y='crim', kind='scatter', title='Crime vs Industry')\n",
    "plt.show()"
   ]
  },
  {
   "cell_type": "code",
   "execution_count": null,
   "metadata": {},
   "outputs": [],
   "source": [
    "df.plot(x='indus', y='crim', kind='scatter', title='Crime vs Industry')\n",
    "plt.xlabel('Industry')\n",
    "plt.ylabel('Crime')\n",
    "plt.show()"
   ]
  },
  {
   "cell_type": "code",
   "execution_count": 25,
   "metadata": {},
   "outputs": [],
   "source": [
    "features_df = pd.read_csv('Features_with_Continuum.txt', sep = ' ', index_col = 0)\n",
    "predictors = pd.read_csv('Predictions_with_Continuum.txt', sep = ' ', index_col = 0)"
   ]
  },
  {
   "cell_type": "code",
   "execution_count": null,
   "metadata": {},
   "outputs": [],
   "source": [
    "features_df.head()"
   ]
  },
  {
   "cell_type": "code",
   "execution_count": null,
   "metadata": {},
   "outputs": [],
   "source": [
    "predictors.head()"
   ]
  },
  {
   "cell_type": "code",
   "execution_count": 28,
   "metadata": {},
   "outputs": [],
   "source": [
    "good_fits_mask = features_df.chisq_phot < 50\n",
    "\n",
    "\n",
    "EW_r_mask = predictors.EW_r.values < 500\n",
    "\n",
    "total_mask = good_fits_mask & EW_r_mask\n",
    "\n",
    "good_fits_data = features_df[total_mask]\n",
    "y_pred = predictors[total_mask].EW_r\n",
    "\n"
   ]
  },
  {
   "cell_type": "code",
   "execution_count": null,
   "metadata": {},
   "outputs": [],
   "source": [
    "fig, axes = plt.subplots(2, 2, figsize = (10, 10))\n",
    "\n",
    "ax = axes.flatten()\n",
    "\n",
    "cols= ['burst', 'dust:Av', 'stellar_mass', 'sfr']\n",
    "\n",
    "for column, a in zip(cols, ax):\n",
    "    sb.boxplot(good_fits_data[column], ax = a)\n",
    "\n",
    "plt.show()"
   ]
  },
  {
   "cell_type": "markdown",
   "metadata": {},
   "source": [
    "# 7. Data Analysis\n",
    "\n",
    "Part of our bread and butter is that we can take in a data set and learn things from it. This is the essence of data analysis where we use the data to uncover trends hidden within the data and we usually use plots and summary statistics to understand what the data is trying to tell us. We will cover some of the data analysis plots and techniques in the next few cells to familiarize yourself with what it means to analyze a data set."
   ]
  },
  {
   "cell_type": "code",
   "execution_count": null,
   "metadata": {},
   "outputs": [],
   "source": [
    "fig, axes = plt.subplots(2, 2, figsize = (10, 10))\n",
    "\n",
    "ax = axes.flatten()\n",
    "\n",
    "cols= ['burst', 'dust:Av', 'stellar_mass', 'sfr']\n",
    "\n",
    "for column, a in zip(cols, ax):\n",
    "    a.hist(good_fits_data[column], bins = 30, color = 'purple')\n",
    "    a.set_xlabel(column)\n",
    "\n",
    "ax[0].set_ylabel('Counts')\n",
    "ax[-2].set_ylabel('Counts')\n",
    "\n",
    "plt.show()"
   ]
  },
  {
   "cell_type": "code",
   "execution_count": null,
   "metadata": {},
   "outputs": [],
   "source": [
    "fig, axes = plt.subplots(2, 2, figsize = (10, 10))\n",
    "\n",
    "ax = axes.flatten()\n",
    "\n",
    "cols= ['burst', 'dust:Av', 'stellar_mass', 'sfr']\n",
    "\n",
    "for column, a in zip(cols, ax):\n",
    "    a.scatter(good_fits_data[column], y_pred, color = 'purple', alpha = 0.5, s = 10)\n",
    "    a.set_xlabel(column)\n",
    "\n",
    "ax[0].set_ylabel('EW_r')\n",
    "ax[-2].set_ylabel('EW_r')\n",
    "\n",
    "\n",
    "plt.show()"
   ]
  },
  {
   "cell_type": "code",
   "execution_count": null,
   "metadata": {},
   "outputs": [],
   "source": [
    "good_fits_data[['burst', 'dust:Av', 'stellar_mass', 'sfr']].plot(kind = 'box', \n",
    "                                                                 subplots = True, \n",
    "                                                                 layout = (2, 2), \n",
    "                                                                 figsize = (10, 10))\n",
    "plt.show()"
   ]
  },
  {
   "cell_type": "code",
   "execution_count": null,
   "metadata": {},
   "outputs": [],
   "source": [
    "plt.figure(figsize = (10, 10))\n",
    "sb.pairplot(good_fits_data[['burst', 'dust:Av', 'stellar_mass', 'sfr']], corner = True)\n",
    "plt.show()"
   ]
  },
  {
   "cell_type": "code",
   "execution_count": 34,
   "metadata": {},
   "outputs": [],
   "source": [
    "\n",
    "corr_matrix = good_fits_data[['burst', 'dust:Av', 'stellar_mass', 'sfr']].corr()"
   ]
  },
  {
   "cell_type": "code",
   "execution_count": null,
   "metadata": {},
   "outputs": [],
   "source": [
    "plt.figure(figsize = (10, 5))\n",
    "sb.heatmap(corr_matrix, annot = True)\n",
    "plt.show()"
   ]
  }
 ],
 "metadata": {
  "kernelspec": {
   "display_name": "research",
   "language": "python",
   "name": "python3"
  },
  "language_info": {
   "codemirror_mode": {
    "name": "ipython",
    "version": 3
   },
   "file_extension": ".py",
   "mimetype": "text/x-python",
   "name": "python",
   "nbconvert_exporter": "python",
   "pygments_lexer": "ipython3",
   "version": "3.12.2"
  }
 },
 "nbformat": 4,
 "nbformat_minor": 2
}
