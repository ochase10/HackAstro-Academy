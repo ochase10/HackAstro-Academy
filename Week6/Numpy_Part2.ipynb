{
 "cells": [
  {
   "cell_type": "markdown",
   "metadata": {},
   "source": [
    "# Introduction to 2D and ND Arrays in NumPy\n",
    "\n",
    "NumPy is a powerful library for numerical computing in Python. It provides support for large, multi-dimensional arrays and matrices, along with a collection of mathematical functions to operate on these arrays.\n",
    "\n",
    "### 2D Arrays\n",
    "A 2D array is a matrix with rows and columns. It is essentially an array of arrays. In NumPy, you can create a 2D array using the `numpy.array()` function.\n",
    "\n",
    "### ND Arrays\n",
    "An ND array (N-dimensional array) is a generalization of 2D arrays to any number of dimensions. NumPy can handle arrays of arbitrary dimensions.\n",
    "\n",
    "NumPy provides a wide range of functions to manipulate and operate on these arrays, making it a fundamental tool for scientific computing in Python."
   ]
  },
  {
   "cell_type": "code",
   "execution_count": null,
   "metadata": {},
   "outputs": [],
   "source": [
    "import numpy as np"
   ]
  },
  {
   "cell_type": "code",
   "execution_count": null,
   "metadata": {},
   "outputs": [],
   "source": [
    "# Creating a 2D array\n",
    "array_2d = np.array([[1, 2, 3], [4, 5, 6]])\n",
    "print(array_2d)\n",
    "\n",
    "\n",
    "# Creating a 3D array (an array of 2D arrays)\n",
    "array_3d = np.array([[[1, 2], [3, 4]], [[5, 6], [7, 8]]])\n",
    "print(array_3d)\n"
   ]
  }
 ],
 "metadata": {
  "language_info": {
   "name": "python"
  }
 },
 "nbformat": 4,
 "nbformat_minor": 2
}
