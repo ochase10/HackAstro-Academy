{
 "cells": [
  {
   "cell_type": "markdown",
   "id": "ff209e66-45b4-443d-991a-027dcbb88c47",
   "metadata": {
    "jp-MarkdownHeadingCollapsed": true,
    "tags": []
   },
   "source": [
    "# If Statements"
   ]
  },
  {
   "cell_type": "code",
   "execution_count": null,
   "id": "c89c3ac6-09ab-4a13-aeb7-b5b68548dfdf",
   "metadata": {},
   "outputs": [],
   "source": [
    "score = 87"
   ]
  },
  {
   "cell_type": "code",
   "execution_count": null,
   "id": "6aac9425-2f5b-4024-be2e-f1b999c8f1b2",
   "metadata": {},
   "outputs": [],
   "source": [
    "if score > 90:\n",
    "    print(\"A\")\n",
    "elif score > 80:\n",
    "    print(\"B\")\n",
    "elif score > 70:\n",
    "    print(\"C\")\n",
    "elif score > 60:\n",
    "    print(\"D\")\n",
    "else:\n",
    "    print(\"F\")"
   ]
  },
  {
   "cell_type": "markdown",
   "id": "eb6b415e-f136-47d3-bc02-9f8b3700eda7",
   "metadata": {
    "jp-MarkdownHeadingCollapsed": true,
    "tags": []
   },
   "source": [
    "### Ex 2"
   ]
  },
  {
   "cell_type": "code",
   "execution_count": null,
   "id": "47fe0226-fcb5-43c1-bbf1-76841aa44301",
   "metadata": {},
   "outputs": [],
   "source": [
    "if score > 90:\n",
    "    print(\"A\")\n",
    "if score > 80:\n",
    "    print(\"B\")\n",
    "if score > 70:\n",
    "    print(\"C\")\n",
    "if score > 60:\n",
    "    print(\"D\")\n",
    "else:\n",
    "    print(\"F\")"
   ]
  },
  {
   "cell_type": "markdown",
   "id": "d534eb83-e7a3-4979-bd1c-52b80c5d70c6",
   "metadata": {
    "jp-MarkdownHeadingCollapsed": true,
    "tags": []
   },
   "source": [
    "### Ex 3"
   ]
  },
  {
   "cell_type": "code",
   "execution_count": null,
   "id": "850874ce-a1db-4f24-b519-c670a5940113",
   "metadata": {},
   "outputs": [],
   "source": [
    "if score > 60:\n",
    "    print(\"Pass\")"
   ]
  },
  {
   "cell_type": "markdown",
   "id": "a558261c-807f-408e-9b85-6749fac3884d",
   "metadata": {
    "jp-MarkdownHeadingCollapsed": true,
    "tags": []
   },
   "source": [
    "### Ex 4"
   ]
  },
  {
   "cell_type": "code",
   "execution_count": null,
   "id": "15d182b8-f7c2-47cc-8875-bcf47eca0e41",
   "metadata": {},
   "outputs": [],
   "source": [
    "if score > 60:\n",
    "    print(\"Pass\")\n",
    "elif score > 50:\n",
    "    print(\"Retake\")"
   ]
  },
  {
   "cell_type": "markdown",
   "id": "4a53eddb-c8c8-45c1-9819-bf539f1a7eb7",
   "metadata": {
    "jp-MarkdownHeadingCollapsed": true,
    "tags": []
   },
   "source": [
    "# For Loops"
   ]
  },
  {
   "cell_type": "code",
   "execution_count": null,
   "id": "777379af-b9ad-4372-99c4-a32df0dd8cf1",
   "metadata": {
    "tags": []
   },
   "outputs": [],
   "source": [
    "scores = [90, 93, 71, 48, 82, 87, 21, 74, 91, 62, 47, 85]"
   ]
  },
  {
   "cell_type": "code",
   "execution_count": null,
   "id": "5154fad9-5ec7-41ff-94ed-741e36247946",
   "metadata": {},
   "outputs": [],
   "source": [
    "for s in scores:\n",
    "    print(s)"
   ]
  },
  {
   "cell_type": "markdown",
   "id": "f849c79c-4c95-48dc-830b-eaa6f106669d",
   "metadata": {
    "jp-MarkdownHeadingCollapsed": true,
    "tags": []
   },
   "source": [
    "### Ex 2"
   ]
  },
  {
   "cell_type": "code",
   "execution_count": null,
   "id": "7aabd154-59dc-4a65-a5fe-9d07d33be7fc",
   "metadata": {},
   "outputs": [],
   "source": [
    "for s in scores:\n",
    "    if s > 60:\n",
    "        print(\"Pass\")\n",
    "    else:\n",
    "        print(\"Fail\")"
   ]
  },
  {
   "cell_type": "markdown",
   "id": "929ee8b7-5839-4dbb-894c-a4ba4d2bb844",
   "metadata": {
    "jp-MarkdownHeadingCollapsed": true,
    "tags": []
   },
   "source": [
    "### Ex 3"
   ]
  },
  {
   "cell_type": "code",
   "execution_count": null,
   "id": "e57f79ae-0971-45b2-9725-053511064dac",
   "metadata": {},
   "outputs": [],
   "source": [
    "for s in scores:\n",
    "    if s > 60:\n",
    "        print(\"Pass\")\n",
    "    else:\n",
    "        print(\"Fail\")\n",
    "\n",
    "print(s)"
   ]
  },
  {
   "cell_type": "markdown",
   "id": "d0fa7758-c3ce-44ed-8312-021edb38da05",
   "metadata": {
    "jp-MarkdownHeadingCollapsed": true,
    "tags": []
   },
   "source": [
    "### Ex 4"
   ]
  },
  {
   "cell_type": "code",
   "execution_count": null,
   "id": "c23a2081-d337-46bd-adf0-6cef60d50db6",
   "metadata": {},
   "outputs": [],
   "source": [
    "for i in len(scores):\n",
    "    if scores[i] > 60:\n",
    "        print(\"Pass\")\n",
    "    else:\n",
    "        print(\"Fail\")"
   ]
  },
  {
   "cell_type": "markdown",
   "id": "730d4f3c-241b-44f9-aaa7-ac3aad217f88",
   "metadata": {
    "jp-MarkdownHeadingCollapsed": true,
    "tags": []
   },
   "source": [
    "### Ex 5"
   ]
  },
  {
   "cell_type": "code",
   "execution_count": null,
   "id": "cd44ebdf-c001-4358-951c-2f09edad3593",
   "metadata": {
    "tags": []
   },
   "outputs": [],
   "source": [
    "for i in range(len(scores)):\n",
    "    print(i, end=\" \")\n",
    "    if scores[i] > 60:\n",
    "        print(\"Pass\")\n",
    "    else:\n",
    "        print(\"Fail\")"
   ]
  },
  {
   "cell_type": "markdown",
   "id": "085e4b33-af54-4a2e-9259-22c9abd127bf",
   "metadata": {
    "jp-MarkdownHeadingCollapsed": true,
    "tags": []
   },
   "source": [
    "# While Loops"
   ]
  },
  {
   "cell_type": "code",
   "execution_count": null,
   "id": "067fbaa2-0dba-404a-8ffd-498093fd4579",
   "metadata": {},
   "outputs": [],
   "source": [
    "i = 0\n",
    "while i < len(scores):\n",
    "    if (scores[i] > 60):\n",
    "        print(\"Pass\")\n",
    "    else:\n",
    "        print(\"Fail\")\n",
    "    i+=1"
   ]
  },
  {
   "cell_type": "markdown",
   "id": "ca3731e2-184d-4959-8f61-eee5ae38b7a3",
   "metadata": {
    "jp-MarkdownHeadingCollapsed": true,
    "tags": []
   },
   "source": [
    "### Ex 2"
   ]
  },
  {
   "cell_type": "code",
   "execution_count": null,
   "id": "a2062f7e-cdaa-450b-b173-7b4ceb2dae0a",
   "metadata": {},
   "outputs": [],
   "source": [
    "i = 0\n",
    "while i <= len(scores):\n",
    "    if (scores[i] > 60):\n",
    "        print(\"Pass\")\n",
    "    else:\n",
    "        print(\"Fail\")\n",
    "    i+=1"
   ]
  },
  {
   "cell_type": "markdown",
   "id": "adc1e88f-f4d9-481c-a6f4-1dfea1290291",
   "metadata": {
    "jp-MarkdownHeadingCollapsed": true,
    "tags": []
   },
   "source": [
    "### Ex 3"
   ]
  },
  {
   "cell_type": "code",
   "execution_count": null,
   "id": "0049b91a-a306-4d6f-a951-d668ac0323cd",
   "metadata": {},
   "outputs": [],
   "source": [
    "i = 0\n",
    "while i <= len(scores)-1:\n",
    "    if (scores[i] > 60):\n",
    "        print(\"Pass\")\n",
    "    else:\n",
    "        print(\"Fail\")\n",
    "    i+=1"
   ]
  },
  {
   "cell_type": "markdown",
   "id": "758eb011-0cce-46e9-9382-df5cebda3f9a",
   "metadata": {
    "jp-MarkdownHeadingCollapsed": true,
    "tags": []
   },
   "source": [
    "### Ex 4"
   ]
  },
  {
   "cell_type": "code",
   "execution_count": null,
   "id": "e7a98ba4-7aed-4b9c-96fb-0b293498b8ac",
   "metadata": {
    "tags": []
   },
   "outputs": [],
   "source": [
    "import time"
   ]
  },
  {
   "cell_type": "code",
   "execution_count": null,
   "id": "a08d7daa-5d83-4e71-afb2-ff76d5d80565",
   "metadata": {},
   "outputs": [],
   "source": [
    "while 1:\n",
    "    print(\".\", end=\"\")\n",
    "    time.sleep(0.5)\n",
    "    \n",
    "print(\"Other code\")"
   ]
  },
  {
   "cell_type": "code",
   "execution_count": null,
   "id": "e7fe6876-1419-40fa-9f65-f99c52e96ac0",
   "metadata": {
    "tags": []
   },
   "outputs": [],
   "source": [
    "while [1,2,3]:\n",
    "    print(\".\", end=\"\")\n",
    "    time.sleep(0.5)\n",
    "    \n",
    "print(\"Other code\")"
   ]
  },
  {
   "cell_type": "code",
   "execution_count": null,
   "id": "0430282b-43e0-417a-947d-25b1884e112c",
   "metadata": {},
   "outputs": [],
   "source": [
    "while 0:\n",
    "    print(\".\", end=\"\")\n",
    "    time.sleep(0.5)\n",
    "    \n",
    "print(\"Other code\")"
   ]
  },
  {
   "cell_type": "code",
   "execution_count": null,
   "id": "3b868207-4c8e-4768-9b19-3cade12fbb50",
   "metadata": {
    "tags": []
   },
   "outputs": [],
   "source": [
    "while None:\n",
    "    print(\".\", end=\"\")\n",
    "    time.sleep(0.5)\n",
    "    \n",
    "print(\"Other code\")"
   ]
  },
  {
   "cell_type": "code",
   "execution_count": null,
   "id": "c02cade7-ea8d-4b31-aa2e-f68e23abf5c5",
   "metadata": {},
   "outputs": [],
   "source": []
  }
 ],
 "metadata": {
  "kernelspec": {
   "display_name": "Python 3 (ipykernel)",
   "language": "python",
   "name": "python3"
  },
  "language_info": {
   "codemirror_mode": {
    "name": "ipython",
    "version": 3
   },
   "file_extension": ".py",
   "mimetype": "text/x-python",
   "name": "python",
   "nbconvert_exporter": "python",
   "pygments_lexer": "ipython3",
   "version": "3.11.5"
  }
 },
 "nbformat": 4,
 "nbformat_minor": 5
}
