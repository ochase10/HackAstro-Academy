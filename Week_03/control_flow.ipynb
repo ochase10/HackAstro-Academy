{
 "cells": [
  {
   "cell_type": "markdown",
   "id": "ff209e66-45b4-443d-991a-027dcbb88c47",
   "metadata": {
    "jp-MarkdownHeadingCollapsed": true,
    "tags": []
   },
   "source": [
    "# If Statements\n",
    "\n",
    "If statements are a powerful tool in programming because they allow your program to decide what to do \"on-the-fly\". That way, your program can handle a variety of situations."
   ]
  },
  {
   "cell_type": "markdown",
   "id": "944b199a",
   "metadata": {},
   "source": [
    "Let's start with a basic example. Suppose you're a teacher and you want to process percentage grades. You might start with a student's score as a variable like so:"
   ]
  },
  {
   "cell_type": "code",
   "execution_count": null,
   "id": "c89c3ac6-09ab-4a13-aeb7-b5b68548dfdf",
   "metadata": {},
   "outputs": [],
   "source": [
    "score = 87"
   ]
  },
  {
   "cell_type": "markdown",
   "id": "b073aa95",
   "metadata": {},
   "source": [
    "Now, let's use an if statement to determine whether the student passed."
   ]
  },
  {
   "cell_type": "code",
   "execution_count": null,
   "id": "6aac9425-2f5b-4024-be2e-f1b999c8f1b2",
   "metadata": {},
   "outputs": [],
   "source": [
    "if score > 60:\n",
    "    print(\"Passed\")"
   ]
  },
  {
   "cell_type": "markdown",
   "id": "df1506e9",
   "metadata": {},
   "source": [
    "Try changing the value of score and re-running the if statement cell to see what happens."
   ]
  },
  {
   "cell_type": "markdown",
   "id": "3de903d5",
   "metadata": {},
   "source": [
    "## How do if statements work?\n",
    "\n",
    "Let's break down what happens when your program encounters an if statement. First, it sees the keyword 'if' which is a protected word in Python: you can't use that word as a variable. Following the 'if' keyword, Python looks for a *boolean* statement. We talked about boolean variables in the lesson on data types. A boolean statement is any statement that *evaluates* to True or False. Evaluation is the process of \"solving\" an expression to it's final value. Imagine someone told you they had 2+2 oranges. You would probably interpret that as them having 4 oranges, rather than storing that information as 2+2. You have evaluated their statement. Now suppose you must flag anyone who has more than 3 oranges. If the person said they had 2+2 oranges, you would first determine that the total is 4, then you would determine *if* 4 exceeds the limit. Python evaluates expression in much the same way. So when Python encounters an 'if' block, it trys to evalute the expression after the 'if' keyword down to a boolean value. A statement that evaluates to a boolean is a boolean statement. If the boolean statement following the 'if' keyword evaluates to True, Python proceeds to process the indented block of code after the ':'. Otherwise, it skips to the next non-indented line. \n",
    "\n",
    "There are a number of simple functions built into Python with which you can construct basic boolean statements. For numerical comparisons, you can use '>', '<', '>=', '<=', '==', and '!='. Note that '==' is very different than '=' in Python! One checks whether the left and right are the same, and the other sets the left to the value on the right. '!=' is a programming way of writing 'not equal'. \n",
    "\n",
    "Note that if Python expects to see a boolean value and sees an integer, it will not throw an error. Any non-zero integer will be interpreted as True, while 0 will be interpreted as False. In fact, any non-empty/zero data will be interpreted as True, while empty/zero data will be interpreted as False. This is not behavior to lean on, however, as this can change the datatype of the output and cause unexpected behavior later on in the program. Let's see a few boolean expression in action."
   ]
  },
  {
   "cell_type": "code",
   "execution_count": null,
   "id": "b37fa8b6",
   "metadata": {},
   "outputs": [
    {
     "name": "stdout",
     "output_type": "stream",
     "text": [
      "\n",
      " True \n",
      " False \n",
      " False \n",
      " True \n",
      " True \n",
      "\n"
     ]
    }
   ],
   "source": [
    "print('\\n',\n",
    "1 > 0, \"\\n\",\n",
    "1 < 1, \"\\n\",\n",
    "1 <= 0, \"\\n\",\n",
    "1 != 0, \"\\n\",\n",
    "1 == 1, \"\\n\"\n",
    ")"
   ]
  },
  {
   "cell_type": "markdown",
   "id": "519f0e3a",
   "metadata": {},
   "source": [
    "Feel free to try some other comparisons. You can do them outside of a print statement so long as you only do them 1 at a time."
   ]
  },
  {
   "cell_type": "markdown",
   "id": "653f72a6",
   "metadata": {},
   "source": [
    "## Boolean Operations\n",
    "\n",
    "Boolean operations are functions that take boolean inputs and produce boolean output. These are foundation to computer science all the way to the hardware level, and they are also very functional in our day-to-day programming.\n",
    "\n",
    "The main boolean *operators* you will use are 'not', 'and', and 'or'. These functions do pretty much exactly what you'd think. 'not' simply returns the opposite of the input. 'and' returns True if and only if both inputs are True, otherwise, it returns False. 'or' returns True if either of the inputs are True, otherwise it returns False. There are numerous other operators like XOR, NOR, etc., but we'll leave those for you to investigate on your own. Any boolean operator you want can be created as a combination of 'not', 'and', and 'or'. Computer scientists will visualize the operation of a boolean operator via a *truth table*. These simply show the output for all 4 possible input states (all boolean operations except 'not' take 2 boolean inputs so 2x2 is 4 possibilities). Try filling out the truth tables below for 'and' and 'or'.\n",
    "\n",
    "AND\n",
    "A   |   B   | result\n",
    "True  |  True  | ?\n",
    "True  |  False  | ?\n",
    "False  |  True  | ?\n",
    "False |  False  | ?\n",
    "\n",
    "OR\n",
    "A   |   B   | result\n",
    "True  |  True  | ?\n",
    "True  |  False  | ?\n",
    "False  |  True  | ?\n",
    "False |  False  | ?\n",
    "\n",
    "\n",
    "\n",
    "Now let's see them in action."
   ]
  },
  {
   "cell_type": "code",
   "execution_count": 7,
   "id": "c89f1000",
   "metadata": {},
   "outputs": [
    {
     "name": "stdout",
     "output_type": "stream",
     "text": [
      "False \n",
      " False \n",
      " False \n",
      " False\n",
      "\n",
      "\n",
      "\n",
      "False \n",
      " 1 \n",
      " 0 \n",
      " False \n",
      " False\n"
     ]
    }
   ],
   "source": [
    "print(\n",
    "    not True, '\\n',\n",
    "    True and False, '\\n',\n",
    "    False or False, '\\n',\n",
    "    True and False\n",
    ")\n",
    "\n",
    "print('\\n\\n')\n",
    "\n",
    "#Remember, Python will interpret integers as True, but the output data might not be a boolean\n",
    "print(\n",
    "    1 and False, '\\n',\n",
    "    1 or 2, '\\n',\n",
    "    0 and False, '\\n',\n",
    "    10 and False, '\\n',\n",
    "    not 1\n",
    ")"
   ]
  },
  {
   "cell_type": "markdown",
   "id": "7573f435",
   "metadata": {},
   "source": [
    "Remember, Python will try to evaluate all expression down to a single value. That means we can replace the True/False values in the above expressions with *more expressions*! We just have to make sure our replacements also evaluate to True/False (or we know how to handle the behavior of non-boolean values). This means we can chain as many boolean operations together as we want. But be careful, it can get complicated really fast!\n",
    "\n",
    "Also keep in mind that Python's boolean order of operations might not be what you expect. Parentheses are your friends!\n",
    "In Python, order of operations is left to right, with 'not' having the highest priority, followed by 'and', and followed lastly by 'or'. \n",
    "\n",
    "Let's give it a try."
   ]
  },
  {
   "cell_type": "code",
   "execution_count": null,
   "id": "d865efa0",
   "metadata": {},
   "outputs": [],
   "source": [
    "print(\n",
    "    1 > 2 or True, '\\n',\n",
    "    99 != 5 and 4 > 0, '\\n',\n",
    "    1 > 3 and 5 < 6 or 13 == 13 and not 12 < 10, '\\n',\n",
    "    1 > 3 and 5 < 6 or 13 == 13 and (not 12 < 10), '\\n',\n",
    "    1 > 3 and (5 < 6 or 13 == 13) and (not 12 < 10), '\\n',\n",
    "    (1 > 3) and (5 < 6) or (13 == 13) and not (12 < 10)\n",
    ")"
   ]
  },
  {
   "cell_type": "markdown",
   "id": "97dc782c",
   "metadata": {},
   "source": [
    "## If-else\n",
    "\n",
    "So far, we've only seen if statements. There are 2 other keywords we can use with 'if': 'else' and 'elif'. These keywords must be paired with an 'if' block and will themselves create an indented block of code which will or will not be evaluated based on the conditions of the program.\n",
    "\n",
    "'else' works like you would expect, it catches anything that doesn't satisfy the 'if' statement. Note that 'else' should never be given an expression to evaluate. It is basically an 'if' on the 'not' of the preceeding 'if' statement.\n",
    "\n",
    "Let's look at the score example again."
   ]
  },
  {
   "cell_type": "code",
   "execution_count": null,
   "id": "72fb99b8",
   "metadata": {},
   "outputs": [],
   "source": [
    "score = 54\n",
    "\n",
    "if score > 60:\n",
    "    print(\"Passed\")\n",
    "else:\n",
    "    print(\"Failed\")"
   ]
  },
  {
   "cell_type": "code",
   "execution_count": null,
   "id": "347943f4",
   "metadata": {},
   "outputs": [],
   "source": [
    "#Note that we need 'else' since this doesn't produce good output:\n",
    "\n",
    "score = 81\n",
    "\n",
    "if score > 60:\n",
    "    print(\"Passed\")\n",
    "\n",
    "print(\"Failed\")"
   ]
  },
  {
   "cell_type": "markdown",
   "id": "eb6b415e-f136-47d3-bc02-9f8b3700eda7",
   "metadata": {
    "jp-MarkdownHeadingCollapsed": true,
    "tags": []
   },
   "source": [
    "## Else-if\n",
    "\n",
    "Now let's consider the situation where we want to do full letter grades rather than just pass/fail. We can accomplish this using just if statements, or with if and else statements."
   ]
  },
  {
   "cell_type": "code",
   "execution_count": null,
   "id": "47fe0226-fcb5-43c1-bbf1-76841aa44301",
   "metadata": {},
   "outputs": [],
   "source": [
    "score = 88\n",
    "\n",
    "#only if statements\n",
    "if score > 90:\n",
    "    print(\"A\")\n",
    "if score > 80 and score < 90:\n",
    "    print(\"B\")\n",
    "if score > 70 and score < 80:\n",
    "    print(\"C\")\n",
    "if score > 60 and score < 70:\n",
    "    print(\"D\")\n",
    "if score < 60:\n",
    "    print(\"F\")\n",
    "\n",
    "#if statements with 1 else\n",
    "if score > 90:\n",
    "    print(\"A\")\n",
    "if score > 80 and score < 90:\n",
    "    print(\"B\")\n",
    "if score > 70 and score < 80:\n",
    "    print(\"C\")\n",
    "if score > 60 and score < 70:\n",
    "    print(\"D\")\n",
    "else:\n",
    "    print(\"F\")\n",
    "\n",
    "#nested ifs and elses\n",
    "if score > 90:\n",
    "    print(\"A\")\n",
    "else:\n",
    "    if score > 80 and score < 90:\n",
    "        print(\"B\")\n",
    "    else:\n",
    "        if score > 70 and score < 80:\n",
    "            print(\"C\")\n",
    "        else:\n",
    "            if score > 60 and score < 70:\n",
    "                print(\"D\")\n",
    "            else:\n",
    "                if score < 60:\n",
    "                    print(\"F\")\n",
    "\n",
    "#note that we don't need the second comparison anymore\n",
    "if score > 90:\n",
    "    print(\"A\")\n",
    "else:\n",
    "    if score > 80:\n",
    "        print(\"B\")\n",
    "    else:\n",
    "        if score > 70:\n",
    "            print(\"C\")\n",
    "        else:\n",
    "            if score > 60:\n",
    "                print(\"D\")\n",
    "            else:\n",
    "                print(\"F\")"
   ]
  },
  {
   "cell_type": "markdown",
   "id": "e88d76d2",
   "metadata": {},
   "source": [
    "Notice how we nested the 'if's and 'else's in the last two? Can you explain how the evaluation of those differs from the others? Notice they all have the same output, but they don't all get there in the same way. Why can we remove the second condition in the nested approach? What would happen without the second condition if it wasn't nested?"
   ]
  },
  {
   "cell_type": "code",
   "execution_count": null,
   "id": "0bf3a9d1",
   "metadata": {},
   "outputs": [],
   "source": [
    "#what will happen here?\n",
    "score = 78\n",
    "\n",
    "if score > 90:\n",
    "    print(\"A\")\n",
    "if score > 80:\n",
    "    print(\"B\")\n",
    "if score > 70:\n",
    "    print(\"C\")\n",
    "if score > 60:\n",
    "    print(\"D\")\n",
    "if score < 60:\n",
    "    print(\"F\")"
   ]
  },
  {
   "cell_type": "markdown",
   "id": "a7fa845c",
   "metadata": {},
   "source": [
    "It should be clear that our last implementation is the most efficient. It has to do the least comparisons. However, it's really ugly, annoying to write, and hard to read. Luckily, Python gives us a way to get the same functionality while being much more readable using the 'elif' keyword. Unlike 'else', 'elif' will always take an expression. It will only be evaluated in the case that no higher, connected 'if' or 'elif' block has been evaluted, i.e. everything above it was False. \n",
    "\n",
    "Note that a series of 'elif's can be followed by a final 'else'.\n",
    "\n",
    "Let's see the grading one more time using 'elif'."
   ]
  },
  {
   "cell_type": "code",
   "execution_count": null,
   "id": "bc5a3a46",
   "metadata": {},
   "outputs": [],
   "source": [
    "#what will happen here?\n",
    "score = 78\n",
    "\n",
    "if score > 90:\n",
    "    print(\"A\")\n",
    "elif score > 80:\n",
    "    print(\"B\")\n",
    "elif score > 70:\n",
    "    print(\"C\")\n",
    "elif score > 60:\n",
    "    print(\"D\")\n",
    "else:\n",
    "    print(\"F\")"
   ]
  },
  {
   "cell_type": "markdown",
   "id": "4a53eddb-c8c8-45c1-9819-bf539f1a7eb7",
   "metadata": {
    "jp-MarkdownHeadingCollapsed": true,
    "tags": []
   },
   "source": [
    "# For Loops\n",
    "\n",
    "For loops are another import control structure in Python. Suppose you have a group of things and you want to perform the same operation on all of them. Let's consider an example where we are keeping track of inventory and we want to be able to see what the current stock is on all our products."
   ]
  },
  {
   "cell_type": "code",
   "execution_count": 9,
   "id": "4383e4d4",
   "metadata": {},
   "outputs": [
    {
     "name": "stdout",
     "output_type": "stream",
     "text": [
      "4\n",
      "8\n",
      "3\n",
      "5\n",
      "7\n"
     ]
    }
   ],
   "source": [
    "#Each variable stores how many of that product we have on hand\n",
    "apple = 4\n",
    "banana = 8\n",
    "carrot = 3\n",
    "donut = 5\n",
    "esparagus = 7\n",
    "\n",
    "#Let's print out all the values\n",
    "print(apple)\n",
    "print(banana)\n",
    "print(carrot)\n",
    "print(donut)\n",
    "print(esparagus)"
   ]
  },
  {
   "cell_type": "markdown",
   "id": "1e975cd4",
   "metadata": {},
   "source": [
    "That's a lot of lines! Imagine if we had 10 products, 50, or even 100. It would be really burdensome to write all those print statements. Let's use a 'for' loop to make it easier. A 'for' statement needs 2 things: something to call each temporary item and a group of items. It will go through the whole group of items and run the indented block of code on all of them using the temporary name. Let's see how it works."
   ]
  },
  {
   "cell_type": "code",
   "execution_count": null,
   "id": "a6a6729c",
   "metadata": {},
   "outputs": [],
   "source": [
    "for product in [apple, banana, carrot, donut, esparagus]:\n",
    "    print(product, end='\\n')"
   ]
  },
  {
   "cell_type": "markdown",
   "id": "1bdcdb38",
   "metadata": {},
   "source": [
    "Some of you may be thinking that this isn't useful because the same thing can be accomplished using just one print line."
   ]
  },
  {
   "cell_type": "code",
   "execution_count": null,
   "id": "df4e4fbe",
   "metadata": {},
   "outputs": [],
   "source": [
    "print(apple, '\\n', banana, '\\n', carrot, '\\n', donut, '\\n', esparagus)"
   ]
  },
  {
   "cell_type": "markdown",
   "id": "ac86ebd2",
   "metadata": {},
   "source": [
    "But now let's say someone comes in and buys 1 of every product. We now need to subtract 1 from all of them."
   ]
  },
  {
   "cell_type": "code",
   "execution_count": null,
   "id": "e83093c3",
   "metadata": {},
   "outputs": [
    {
     "name": "stdout",
     "output_type": "stream",
     "text": [
      "4\n",
      "8\n",
      "3\n",
      "5\n",
      "7\n"
     ]
    }
   ],
   "source": [
    "for product in [apple, banana, carrot, donut, esparagus]:\n",
    "    product = product - 1\n",
    "    print(product)"
   ]
  },
  {
   "cell_type": "markdown",
   "id": "492773a0",
   "metadata": {},
   "source": [
    "Perfect, now let's look at our product variables to make sure they changed."
   ]
  },
  {
   "cell_type": "code",
   "execution_count": null,
   "id": "0db5652c",
   "metadata": {},
   "outputs": [],
   "source": [
    "for product in [apple, banana, carrot, donut, esparagus]:\n",
    "    print(product, end='\\n')"
   ]
  },
  {
   "cell_type": "markdown",
   "id": "2f012deb",
   "metadata": {},
   "source": [
    "Huh? Why aren't we seeing the same values from before?\n",
    "\n",
    "This is the result of pass-by-value. In Python (and most languages), simple data types like ints and floats are passed to loops and functions by copying their value to a temporary variable. So when we change the temporary variable, we don't change the original variable. Other data types are pass-by-reference. That means that when they are given as input to a loop or function Python actually gives the memory location of the object, not a copy of it. So if we change the data in that memory location, we actually change the original variable! This is very important functionality to consider when writing your programs. You don't want to overwrite necessary data or fail to save results from lengthy calculations.\n",
    "\n",
    "Let's see an example where a for loop is much more appropriate. For loops are great for working with lists, for example, since we often want to do the same operation to every value in a list. Consider a list of scores on a test."
   ]
  },
  {
   "cell_type": "code",
   "execution_count": 11,
   "id": "777379af-b9ad-4372-99c4-a32df0dd8cf1",
   "metadata": {
    "tags": []
   },
   "outputs": [],
   "source": [
    "scores = [90, 93, 71, 48, 82, 87, 21, 74, 91, 62, 47, 85]"
   ]
  },
  {
   "cell_type": "markdown",
   "id": "e16f46df",
   "metadata": {},
   "source": [
    "For loops make it easy to print every value."
   ]
  },
  {
   "cell_type": "code",
   "execution_count": null,
   "id": "5154fad9-5ec7-41ff-94ed-741e36247946",
   "metadata": {},
   "outputs": [],
   "source": [
    "for s in scores:\n",
    "    print(s)"
   ]
  },
  {
   "cell_type": "markdown",
   "id": "73830094",
   "metadata": {},
   "source": [
    "We can even use if-else statements to process each value differently."
   ]
  },
  {
   "cell_type": "code",
   "execution_count": null,
   "id": "7aabd154-59dc-4a65-a5fe-9d07d33be7fc",
   "metadata": {},
   "outputs": [],
   "source": [
    "for s in scores:\n",
    "    if s > 60:\n",
    "        print(\"Pass\")\n",
    "    else:\n",
    "        print(\"Fail\")"
   ]
  },
  {
   "cell_type": "markdown",
   "id": "639f89db",
   "metadata": {},
   "source": [
    "Now let's say we want to apply a curve and give everyone 5 bonus points."
   ]
  },
  {
   "cell_type": "code",
   "execution_count": 12,
   "id": "e57f79ae-0971-45b2-9725-053511064dac",
   "metadata": {},
   "outputs": [
    {
     "name": "stdout",
     "output_type": "stream",
     "text": [
      "[90, 93, 71, 48, 82, 87, 21, 74, 91, 62, 47, 85]\n"
     ]
    }
   ],
   "source": [
    "for s in scores:\n",
    "    s += 5\n",
    "\n",
    "print(scores)"
   ]
  },
  {
   "cell_type": "markdown",
   "id": "a8e9bc09",
   "metadata": {},
   "source": [
    "Notice that the scores didn't change permanently again. This is because the temporary variable is still just an int coming from a list. One way to work around this is to use indicies and edit the list directly. We can loop over the index values instead of the list values and then call them up using their index. That way, we are editing the actual list values."
   ]
  },
  {
   "cell_type": "code",
   "execution_count": 14,
   "id": "c23a2081-d337-46bd-adf0-6cef60d50db6",
   "metadata": {},
   "outputs": [
    {
     "name": "stdout",
     "output_type": "stream",
     "text": [
      "[95, 98, 76, 53, 87, 92, 26, 79, 96, 67, 52, 90]\n"
     ]
    }
   ],
   "source": [
    "for i in range(len(scores)):\n",
    "    scores[i] += 5\n",
    "\n",
    "print(scores)"
   ]
  },
  {
   "cell_type": "markdown",
   "id": "78f78e61",
   "metadata": {},
   "source": [
    "An important note is that we used the range() function in combination with the len() function. This is very common since the len() function won't work on it's own in a for loop statement. For loops require a group of items. 1 number is not a group of items. Even though it makes sense to you that 'for i in 10' means 'for each value between 1 and 10', the computer doesn't see it that way. The range() function takes our integer length and forms the group of numbers from 0 up to (and not including) the number we input. Let's see that to let it sink in."
   ]
  },
  {
   "cell_type": "code",
   "execution_count": null,
   "id": "d5d376f0",
   "metadata": {},
   "outputs": [],
   "source": [
    "#Notice that range(10) does not include 10!\n",
    "print(list(range(10)))\n",
    "\n",
    "#We can also pass 2 arguments to range() to change its functionality\n",
    "print(list(range(2,10)))"
   ]
  },
  {
   "cell_type": "markdown",
   "id": "c295a2ee",
   "metadata": {},
   "source": [
    "This behavior might seem strange, but it is designed to work with Python's 0-indexing. So a list with 10 items is indexed 0 to 9, and trying to access 10 would throw an out-of-bounds error."
   ]
  },
  {
   "cell_type": "markdown",
   "id": "085e4b33-af54-4a2e-9259-22c9abd127bf",
   "metadata": {
    "jp-MarkdownHeadingCollapsed": true,
    "tags": []
   },
   "source": [
    "# While Loops\n",
    "\n",
    "While loops are a lot like for loops. They also run the same block of code repeatedly. However, rather than using each item in a group of items, while loops are simply repeated if statements. When the 'while' keyword is reached, the following expression is evaluated. If True, the block is run. Otherwise, it is skipped. If the block is run, when it gets to the end, the program is redirected back to the 'while' keyword, whose expression is evaluated once again. This happens until the expression evaluates to False. \n",
    "\n",
    "Note that for loops will always terminate, but this is not true of while loops. It is very easy to create an infinite loop using 'while', and if you ever find your code running for far longer than it should, you probably have it stuck in one. \n",
    "\n",
    "Let's redo what we did with for loops using a while loop. Notice what's different about this block than the for block."
   ]
  },
  {
   "cell_type": "code",
   "execution_count": null,
   "id": "067fbaa2-0dba-404a-8ffd-498093fd4579",
   "metadata": {},
   "outputs": [],
   "source": [
    "i = 0 # we need to make our own index variable\n",
    "while i < len(scores): # we can use the len() function directly\n",
    "    if (scores[i] > 60):\n",
    "        print(\"Pass\")\n",
    "    else:\n",
    "        print(\"Fail\")\n",
    "    i+=1 # we have to increment the variable ourselves\n",
    "    # this is the easiest was to end up in an infinite loop"
   ]
  },
  {
   "cell_type": "markdown",
   "id": "45a009de",
   "metadata": {},
   "source": [
    "Notice how we used '>' instead of '>='. This is important because it satisfies Python's 0-indexing. If we used >=, then the final index would be equal to the length, which will always be out-of-bounds and cause your code to fail. Watch what happens when we make that change."
   ]
  },
  {
   "cell_type": "code",
   "execution_count": null,
   "id": "a2062f7e-cdaa-450b-b173-7b4ceb2dae0a",
   "metadata": {},
   "outputs": [],
   "source": [
    "i = 0\n",
    "while i <= len(scores):\n",
    "    if (scores[i] > 60):\n",
    "        print(\"Pass\")\n",
    "    else:\n",
    "        print(\"Fail\")\n",
    "    i+=1"
   ]
  },
  {
   "cell_type": "markdown",
   "id": "758eb011-0cce-46e9-9382-df5cebda3f9a",
   "metadata": {
    "jp-MarkdownHeadingCollapsed": true,
    "tags": []
   },
   "source": [
    "Remember, while loops are just evaluating boolean expressions. So, anything that Python can interpret as True will cause it to enter the block."
   ]
  },
  {
   "cell_type": "code",
   "execution_count": null,
   "id": "e7a98ba4-7aed-4b9c-96fb-0b293498b8ac",
   "metadata": {
    "tags": []
   },
   "outputs": [],
   "source": [
    "import time"
   ]
  },
  {
   "cell_type": "code",
   "execution_count": null,
   "id": "a08d7daa-5d83-4e71-afb2-ff76d5d80565",
   "metadata": {},
   "outputs": [],
   "source": [
    "while 1:\n",
    "    print(\".\", end=\"\")\n",
    "    time.sleep(0.5)\n",
    "    \n",
    "print(\"Other code\")"
   ]
  },
  {
   "cell_type": "code",
   "execution_count": null,
   "id": "e7fe6876-1419-40fa-9f65-f99c52e96ac0",
   "metadata": {
    "tags": []
   },
   "outputs": [],
   "source": [
    "while [1,2,3]:\n",
    "    print(\".\", end=\"\")\n",
    "    time.sleep(0.5)\n",
    "    \n",
    "print(\"Other code\")"
   ]
  },
  {
   "cell_type": "code",
   "execution_count": null,
   "id": "0430282b-43e0-417a-947d-25b1884e112c",
   "metadata": {},
   "outputs": [],
   "source": [
    "while 0:\n",
    "    print(\".\", end=\"\")\n",
    "    time.sleep(0.5)\n",
    "    \n",
    "print(\"Other code\")"
   ]
  },
  {
   "cell_type": "code",
   "execution_count": null,
   "id": "3b868207-4c8e-4768-9b19-3cade12fbb50",
   "metadata": {
    "tags": []
   },
   "outputs": [],
   "source": [
    "while None:\n",
    "    print(\".\", end=\"\")\n",
    "    time.sleep(0.5)\n",
    "    \n",
    "print(\"Other code\")"
   ]
  }
 ],
 "metadata": {
  "kernelspec": {
   "display_name": "base",
   "language": "python",
   "name": "python3"
  },
  "language_info": {
   "codemirror_mode": {
    "name": "ipython",
    "version": 3
   },
   "file_extension": ".py",
   "mimetype": "text/x-python",
   "name": "python",
   "nbconvert_exporter": "python",
   "pygments_lexer": "ipython3",
   "version": "3.11.5"
  }
 },
 "nbformat": 4,
 "nbformat_minor": 5
}
