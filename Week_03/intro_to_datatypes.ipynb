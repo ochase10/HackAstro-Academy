{
 "cells": [
  {
   "cell_type": "markdown",
   "id": "95cc9b48",
   "metadata": {},
   "source": [
    "# Intro to Python DataTypes\n",
    "\n",
    "In this notebook we will cover the different python datatypes. This notebook is designed to be followed through by running all the cells and by the end of this notebook we hope that you learn the following objectives:\n",
    "\n",
    "- Learn what are the different Python DataTypes\n",
    "- Learn all the different operations you can do to the different DataTypes\n",
    "- Learn how to use Python Indexing"
   ]
  },
  {
   "cell_type": "markdown",
   "id": "23bfa7e9",
   "metadata": {},
   "source": [
    "# 1. Python Datatypes\n",
    "\n",
    "To start our python journey we will go over 4 important datatypes:\n",
    "\n",
    "1. Numbers\n",
    "    - int\n",
    "    - float\n",
    "2. Boolean\n",
    "    - True\n",
    "    - False\n",
    "3. Text\n",
    "4. Containers\n",
    "    - List\n",
    "    - Tuple\n",
    "    - Sets\n",
    "    - Dictionary"
   ]
  },
  {
   "cell_type": "markdown",
   "id": "9c43a0bb",
   "metadata": {},
   "source": [
    "## 1.1 Numbers\n",
    "\n",
    "The main thing that differentiates an int from a float is the use of a decimal. If a number is written and it has a decimal Python will interpret that as a float and not an int."
   ]
  },
  {
   "cell_type": "code",
   "execution_count": null,
   "id": "a67b6ef6",
   "metadata": {},
   "outputs": [],
   "source": [
    "int_number1 = 12\n",
    "int_number2 = 987369019\n",
    "int_number3 = 234212\n",
    "int_number4 = -34834"
   ]
  },
  {
   "cell_type": "code",
   "execution_count": null,
   "id": "7bc4277e",
   "metadata": {},
   "outputs": [],
   "source": [
    "float_number1 = 12.0\n",
    "float_number2 = 98736.9019\n",
    "float_number3 = 234.212\n",
    "float_number4 = -348.34"
   ]
  },
  {
   "cell_type": "markdown",
   "id": "d1f6f80d",
   "metadata": {},
   "source": [
    "All Mathematical operations can be applied to datatypes that are int or floats"
   ]
  },
  {
   "cell_type": "code",
   "execution_count": null,
   "id": "3b7c40e8",
   "metadata": {},
   "outputs": [],
   "source": [
    "int_sum = int_number1 + int_number2 + int_number3 + int_number4\n",
    "int_product = int_number1 * int_number2 * int_number3 * int_number4\n",
    "int_division = int_number2 / int_number1\n",
    "int_floor_division = int_number2 // int_number1\n",
    "int_exponent = int_number1 ** 3\n",
    "int_modulus = int_number2 % int_number1\n",
    "\n",
    "print('Summation is:', int_sum)\n",
    "print('Product is: ', int_product)\n",
    "print('Division is: ', int_division)\n",
    "print('Floor Division is: ', int_floor_division)\n",
    "print('Exponent is: ', int_exponent)\n",
    "print('Modulus is: ', int_modulus)"
   ]
  },
  {
   "cell_type": "markdown",
   "id": "56197af4",
   "metadata": {},
   "source": [
    "## 1.2 Booleans and Conditional Statement\n",
    "\n",
    "Booleans is a fancy word for meaning True or False and the way you get these values is by using Conditional Statements. Conditional Statements are a fancy way for simply saying comparing two expression and after evaluating the expression we keep whether the expression is True or False. Let us see some examples of using Booleans and Conditional Statements below."
   ]
  },
  {
   "cell_type": "code",
   "execution_count": null,
   "id": "442a0275",
   "metadata": {},
   "outputs": [],
   "source": [
    "#We can directly assign the boolean to a variable\n",
    "true_var = True\n",
    "false_var = False"
   ]
  },
  {
   "cell_type": "code",
   "execution_count": null,
   "id": "a83bc090",
   "metadata": {},
   "outputs": [],
   "source": [
    "print(int_number1 > int_number2)  #False\n",
    "print(float_number2 != int_number2) #True\n",
    "print(float_number3 <= int_number3) #True\n",
    "print(int_number4 < float_number4)  #False\n",
    "print(int_number1 == int_number1) #True"
   ]
  },
  {
   "cell_type": "code",
   "execution_count": null,
   "id": "ed92d5aa",
   "metadata": {},
   "outputs": [],
   "source": [
    "# we can store the expression result in a variable\n",
    "\n",
    "expression1_var = (int_number1 + float_number1) > (int_number2 + float_number2)\n",
    "expression2_var = (int_number3 + float_number3) < (int_number4 + float_number4)\n",
    "expression3_var = int_number1 == float_number1\n",
    "expression4_var = (int_number2 + float_number2) != (int_number4 + float_number4)\n",
    "\n",
    "complicated_expression = (int_number1 < int_number2) | ((float_number3 > int_number4) & (float_number1 == int_number1))"
   ]
  },
  {
   "cell_type": "markdown",
   "id": "91d97805",
   "metadata": {},
   "source": [
    "## 1.3 Text and Text Methods\n",
    "\n",
    "The next data type we will cover is text datatype and knowing how to work with text and some useful python functions will greatly help your programming. Let us see what we can do with text data."
   ]
  },
  {
   "cell_type": "code",
   "execution_count": null,
   "id": "0d9c0a3b",
   "metadata": {},
   "outputs": [],
   "source": [
    "hello = 'Hello' \n",
    "world = \"World\"\n",
    "\n",
    "print(hello + world)"
   ]
  },
  {
   "cell_type": "markdown",
   "id": "2f76f4b6",
   "metadata": {},
   "source": [
    "You may have noticed when we do the above that the output is HelloWorld how do we add a space in the output? We got a couple of options."
   ]
  },
  {
   "cell_type": "code",
   "execution_count": null,
   "id": "c20f9013",
   "metadata": {},
   "outputs": [],
   "source": [
    "print('Hello' + ' ' + 'World')"
   ]
  },
  {
   "cell_type": "code",
   "execution_count": null,
   "id": "6af58105",
   "metadata": {},
   "outputs": [],
   "source": [
    "#We can repeat strings using the * operator because multiplication is quick addition\n",
    "#Hello*4 is the same as Hello+Hello+Hello+Hello\n",
    "print('Hello' * 4)"
   ]
  },
  {
   "cell_type": "markdown",
   "id": "2e662dff",
   "metadata": {},
   "source": [
    "# Some useful string methods"
   ]
  },
  {
   "cell_type": "code",
   "execution_count": null,
   "id": "2c65a61e",
   "metadata": {},
   "outputs": [],
   "source": [
    "string1 = 'hello world'\n",
    "\n",
    "#The .upper() function makes every letter uppercased\n",
    "upper_string = string1.upper()\n",
    "print(upper_string)\n",
    "\n",
    "#The .lower() function makes every letter lowercased\n",
    "lower_string = upper_string.lower()\n",
    "print(lower_string)"
   ]
  },
  {
   "cell_type": "code",
   "execution_count": null,
   "id": "b1b7e9a7",
   "metadata": {},
   "outputs": [],
   "source": [
    "#replace method\n",
    "############\n",
    "#the .replace() method swaps any pattern into something different. If the pattern doesn't exist, nothing happens.\n",
    "#Note that it changes all occurances of the pattern, not just the first.\n",
    "\n",
    "replace_world = string1.replace('world', 'universe')\n",
    "print(replace_world)\n",
    "\n",
    "replace_world = string1.replace('hello', 'cool')\n",
    "print(replace_world)"
   ]
  },
  {
   "cell_type": "code",
   "execution_count": null,
   "id": "c3ea6615",
   "metadata": {},
   "outputs": [],
   "source": [
    "#split method\n",
    "#############\n",
    "#.split() is a very useful string method that allows you to break up a string into chunks using any \n",
    "# character as a delimiter\n",
    "\n",
    "long_sentence = 'This is a long sentence that we will split into words'\n",
    "split_sentence = long_sentence.split()\n",
    "print(split_sentence)\n",
    "\n",
    "file_path = 'C:/Users/username/Documents/Python/Week_03/intro_to_datatypes.py'\n",
    "split_path = file_path.split('/')\n",
    "print(split_path)\n",
    "\n",
    "split_path_underscore = file_path.split('_')\n",
    "print(split_path_underscore)\n"
   ]
  },
  {
   "cell_type": "code",
   "execution_count": null,
   "id": "885ed96a",
   "metadata": {},
   "outputs": [],
   "source": [
    "#The psudo-inverse of .split() is .join()\n",
    "#Note that .join is operating on the delimiter not the string itself\n",
    "print('/'.join(split_path))\n",
    "print('**'.join(split_path))"
   ]
  },
  {
   "cell_type": "markdown",
   "id": "7065f4e9",
   "metadata": {},
   "source": [
    "### f-strings\n",
    "\n",
    "f-strings (formatted string literals) are a concise and readable way to embed variables or expressions directly inside strings. Introduced in Python 3.6, they’re written by prefixing a string with f or F and placing expressions inside {} braces."
   ]
  },
  {
   "cell_type": "code",
   "execution_count": null,
   "id": "4aca1632",
   "metadata": {},
   "outputs": [],
   "source": [
    "fstring1 = f'I was born in {1995}'\n",
    "\n",
    "mass = 10\n",
    "fstring2 = f'The mass of the object is log10({mass})'\n",
    "\n",
    "long_decimal = 3.14159265358979323846264338\n",
    "\n",
    "#The :.2f is telling the f string round the number to 2 decimal places\n",
    "fstring3 = f'The value of pi is {long_decimal}'\n",
    "fstring4 = f'The value of pi is {long_decimal:.2f}'\n",
    "fstring5 = f'The value of pi is {long_decimal:.8f}'\n",
    "\n",
    "#The :.2e is telling the f-string round the number to 2 decimal places and return the number\n",
    "#in exponential notation\n",
    "exponential = 2.8763546382e30\n",
    "fstring6 = f'The value of the exponential is {exponential:.2e}'\n",
    "fstring7 = f'The value of the exponential is {exponential:.4e}'\n"
   ]
  },
  {
   "cell_type": "markdown",
   "id": "4eef29a9",
   "metadata": {},
   "source": [
    "# 1.4 Containers"
   ]
  },
  {
   "cell_type": "markdown",
   "id": "ba5cc2e2",
   "metadata": {},
   "source": [
    "## Lists\n",
    "\n",
    "A list is an ordered, mutable collection of items. Lists can hold elements of any type — numbers, strings, objects, or even other lists. They’re written using square brackets [], with items separated by commas."
   ]
  },
  {
   "cell_type": "code",
   "execution_count": null,
   "id": "8e03eb47",
   "metadata": {},
   "outputs": [],
   "source": [
    "#Lists can hold a variety of data types, even other containers\n",
    "#Lists keep the order that you created them in\n",
    "#Can access data using the index \n",
    "#Can also change the values if needed\n",
    "\n",
    "first_list = [12, 34, 'String Here', True, False, 3.14159]"
   ]
  },
  {
   "cell_type": "code",
   "execution_count": null,
   "id": "f5705b39",
   "metadata": {},
   "outputs": [],
   "source": [
    "#nested List\n",
    "nested_list = [[1, 2, 3, 4, 5], [6, 7, 8, 9, 10], True, False, 'Another String']"
   ]
  },
  {
   "cell_type": "markdown",
   "id": "0bc22b90",
   "metadata": {},
   "source": [
    "### Indexing in Python\n",
    "\n",
    "Indexing lets you access individual elements of sequences such as lists, tuples, strings, and other iterable objects by their position. Python uses zero-based indexing, meaning the first element is at index 0."
   ]
  },
  {
   "cell_type": "code",
   "execution_count": null,
   "id": "18ea9f7e",
   "metadata": {},
   "outputs": [],
   "source": [
    "print(first_list[0]) #Grabs the first data entry 12\n",
    "\n",
    "print(first_list[2]) #Grabs the 3rd data entry \"String Here\"\n",
    "\n",
    "#changes first entry in first_list from 12 to 100\n",
    "first_list[0] = 100\n",
    "\n",
    "#you can also change mutliple entries in one line using slicing\n",
    "\n",
    "#changes 2nd - 4th item in list to 567\n",
    "first_list[1:4] = 567\n",
    "\n",
    "#negative Indexing\n",
    "last_item = first_list[-1]\n",
    "print(last_item)\n",
    "\n",
    "second_to_last = first_list[-2]\n",
    "print(second_to_last)\n",
    "\n",
    "last_4_values = first_list[-4:]\n",
    "print(last_4_values)\n",
    "\n",
    "every_other_value = first_list[::2]\n",
    "print(every_other_value)"
   ]
  },
  {
   "cell_type": "markdown",
   "id": "d9d4b596",
   "metadata": {},
   "source": [
    "## Tuples\n",
    "\n",
    "A tuple is an ordered, immutable collection of items. Tuples are similar to lists, but once created, their elements cannot be changed (no adding, removing, or modifying). They’re written using parentheses () with items separated by commas.\n",
    "\n",
    "Tuples are just used as loose data collections in Python.\n",
    "\n",
    "They won't seem useful now, but their role will become more apparent later."
   ]
  },
  {
   "cell_type": "code",
   "execution_count": null,
   "id": "3fa32530",
   "metadata": {},
   "outputs": [],
   "source": [
    "# Very similar to lists, but used much differently\n",
    "# Access data with slicing or unpacking\n",
    "# Immutable, meaning once you make them you cannot change them\n",
    "\n",
    "first_tuple = (1, 2, 3, 4, 5, [3, 2, 4, 5], True, False, 3.454, (1, 4, True, 'String'))"
   ]
  },
  {
   "cell_type": "code",
   "execution_count": null,
   "id": "5eca434d",
   "metadata": {},
   "outputs": [],
   "source": [
    "# What do you think will happen when we run this cell?\n",
    "\n",
    "first_tuple[5] = 100\n",
    "first_tuple[-4] = [1, 2, 3, 4, 5]"
   ]
  },
  {
   "cell_type": "code",
   "execution_count": null,
   "id": "ff4a8b80",
   "metadata": {},
   "outputs": [],
   "source": [
    "# Tuples allow us to do funny things like this\n",
    "a, b = 1, 2"
   ]
  },
  {
   "cell_type": "markdown",
   "id": "a1b32b51",
   "metadata": {},
   "source": [
    "# Dictionary\n",
    "\n",
    "A dictionary is an unordered, mutable collection of key–value pairs. Each key maps to a value, allowing fast lookups. Dictionaries are written using curly braces {}, with keys and values separated by colons."
   ]
  },
  {
   "cell_type": "code",
   "execution_count": null,
   "id": "aceca102",
   "metadata": {},
   "outputs": [],
   "source": [
    "# There is one item associated with every key; however, that item could be an iterable\n",
    "# Keys can be (almost) anything but are generally strings\n",
    "# No particular order\n",
    "# Values can change and keys can be deleted or added in-place\n",
    "\n",
    "grocery_dictionary = {'Eggs': 12, 'Milk': 2, 'Cereal': 1, 'Apples': 4, 'Ice-Cream': 1}\n",
    "\n",
    "# Accessing items in the grocery_list requires the key, in this case Eggs, Milk, Cereal, Apples, or Ice-Cream\n",
    "\n",
    "print(grocery_dictionary['Eggs'])\n",
    "\n",
    "print(grocery_dictionary['Milk'])\n",
    "\n",
    "# We can edit values in-place\n",
    "grocery_dictionary['Eggs'] = 2"
   ]
  },
  {
   "cell_type": "code",
   "execution_count": null,
   "id": "0fe7b0dc",
   "metadata": {},
   "outputs": [
    {
     "name": "stdout",
     "output_type": "stream",
     "text": [
      "{'Mass': [8.4, 10.3, 11.1, 7.5, 8.7], 'Velocity': [3.4, 4.5, 5.6, 6.7, 7.8], 'Acceleration': [9.8, 8.7, 7.6, 6.5, 5.4], 'Galaxy_Type': ['Spiral', 'Elliptical', 'Irregular', 'Spiral', 'Elliptical'], 'Massive': [True, False, True, True, False]}\n"
     ]
    }
   ],
   "source": [
    "# Here is a standard dictionary\n",
    "general_dictionary = {'Mass': [8.4, 10.3, 11.1, 7.5, 8.7], \n",
    "                      'Type': ['Spiral', 'Elliptical', 'Irregular', 'Spiral', 'Elliptical']}\n",
    "\n",
    "print(general_dictionary)"
   ]
  },
  {
   "cell_type": "code",
   "execution_count": 4,
   "id": "9976fc85",
   "metadata": {},
   "outputs": [
    {
     "name": "stdout",
     "output_type": "stream",
     "text": [
      "{'Mass': [8.4, 10.3, 11.1, 7.5, 8.7], 'Velocity': [3.4, 4.5, 5.6, 6.7, 7.8], 'Acceleration': [9.8, 8.7, 7.6, 6.5, 5.4], 'Galaxy_Type': ['Spiral', 'Elliptical', 'Irregular', 'Spiral', 'Elliptical'], 'Massive': [True, False, True, True, False], 'new': 10, 'old': 100}\n"
     ]
    }
   ],
   "source": [
    "# Notice we can add keys in place\n",
    "\n",
    "general_dictionary['new'] = 10\n",
    "general_dictionary['old'] = 100\n",
    "\n",
    "print(general_dictionary)"
   ]
  },
  {
   "cell_type": "code",
   "execution_count": 5,
   "id": "f2245102",
   "metadata": {},
   "outputs": [
    {
     "name": "stdout",
     "output_type": "stream",
     "text": [
      "100\n",
      "{'Mass': [8.4, 10.3, 11.1, 7.5, 8.7], 'Velocity': [3.4, 4.5, 5.6, 6.7, 7.8], 'Acceleration': [9.8, 8.7, 7.6, 6.5, 5.4], 'Galaxy_Type': ['Spiral', 'Elliptical', 'Irregular', 'Spiral', 'Elliptical'], 'Massive': [True, False, True, True, False]}\n"
     ]
    }
   ],
   "source": [
    "# There are a couple ways to delete keys\n",
    "\n",
    "# del is a keyword used to remove objects from memory, widely applicable in Python\n",
    "del general_dictionary['new']\n",
    "\n",
    "# We can also remove a key (in place) while returning its associated value\n",
    "value = general_dictionary.pop('old')\n",
    "print(value)\n",
    "\n",
    "print(general_dictionary)"
   ]
  },
  {
   "cell_type": "code",
   "execution_count": 9,
   "id": "d7b8048f",
   "metadata": {},
   "outputs": [
    {
     "name": "stdout",
     "output_type": "stream",
     "text": [
      "20 hello hello\n",
      "{'Mass': [8.4, 10.3, 11.1, 7.5, 8.7], 'Velocity': [3.4, 4.5, 5.6, 6.7, 7.8], 'Acceleration': [9.8, 8.7, 7.6, 6.5, 5.4], 'Galaxy_Type': ['Spiral', 'Elliptical', 'Irregular', 'Spiral', 'Elliptical'], 'Massive': [True, False, True, True, False], 'new': 'Value', 20: 'hello', (1, 2, 3): \"I'm allowed!\"}\n",
      "I'm allowed!\n",
      "{'Mass': [8.4, 10.3, 11.1, 7.5, 8.7], 'Velocity': [3.4, 4.5, 5.6, 6.7, 7.8], 'Acceleration': [9.8, 8.7, 7.6, 6.5, 5.4], 'Galaxy_Type': ['Spiral', 'Elliptical', 'Irregular', 'Spiral', 'Elliptical'], 'Massive': [True, False, True, True, False], 'new': 'Value', 20: 'hello', (1, 2, 3): \"I'm allowed!\", True: {7: 70}}\n"
     ]
    }
   ],
   "source": [
    "# Remember keys can be anything\n",
    "\n",
    "a = 20\n",
    "\n",
    "general_dictionary[a] = 'hello'\n",
    "\n",
    "print(a, general_dictionary[a], general_dictionary[20])\n",
    "\n",
    "imatuple = (1,2,3)\n",
    "\n",
    "general_dictionary[imatuple] = \"I'm allowed!\"\n",
    "\n",
    "print(general_dictionary)\n",
    "print(general_dictionary[(1,2,3)])\n",
    "\n",
    "imadict = {7 : 70}\n",
    "\n",
    "general_dictionary[True] = imadict\n",
    "\n",
    "print(general_dictionary)"
   ]
  },
  {
   "cell_type": "code",
   "execution_count": null,
   "id": "84be1c5d",
   "metadata": {},
   "outputs": [],
   "source": [
    "# Note that dictionaries cannot be keys in other dictionaries\n",
    "\n",
    "general_dictionary[imadict] = [1,2,3]"
   ]
  },
  {
   "cell_type": "markdown",
   "id": "d2e2738e",
   "metadata": {},
   "source": [
    "## Reference vs Value"
   ]
  },
  {
   "cell_type": "code",
   "execution_count": null,
   "id": "6063a8fd",
   "metadata": {},
   "outputs": [
    {
     "name": "stdout",
     "output_type": "stream",
     "text": [
      "{'Mass': [8.4, 10.3, 11.1, 7.5, 8.7], 'Velocity': [3.4, 4.5, 5.6, 6.7, 7.8], 'Acceleration': [9.8, 8.7, 7.6, 6.5, 5.4], 'Galaxy_Type': ['Spiral', 'Elliptical', 'Irregular', 'Spiral', 'Elliptical'], 'Massive': [True, False, True, True, False]}\n",
      "{'Mass': [8.4, 10.3, 11.1, 7.5, 8.7], 'Velocity': [3.4, 4.5, 5.6, 6.7, 7.8], 'Acceleration': [9.8, 8.7, 7.6, 6.5, 5.4], 'Galaxy_Type': ['Spiral', 'Elliptical', 'Irregular', 'Spiral', 'Elliptical'], 'Massive': [True, False, True, True, False], 'new': 'Value'}\n"
     ]
    }
   ],
   "source": [
    "# What will happen here?\n",
    "\n",
    "print(general_dictionary)\n",
    "\n",
    "new_dict = general_dictionary\n",
    "\n",
    "print(new_dict)\n",
    "\n",
    "new_dict['new'] = 'Value'\n",
    "\n",
    "print(general_dictionary)"
   ]
  },
  {
   "cell_type": "markdown",
   "id": "e3fc12ee",
   "metadata": {},
   "source": [
    "Were you surprised by that result? It happened because dictionaries are pass-by-reference (as opposed to pass-by-value). That means that when we do a basic variable assignment, unlike for basic data like ints, we don't make a copy in memory, we just make a pointer to the memory location and assign it to our new variable. So when we modify the \"new\" dictionary, we modify the old one! This happens with other datatypes, too! Try it out with lists, for example."
   ]
  },
  {
   "cell_type": "code",
   "execution_count": null,
   "id": "01f9bcd5",
   "metadata": {},
   "outputs": [],
   "source": [
    "# Play around with reference vs value assignment\n"
   ]
  }
 ],
 "metadata": {
  "kernelspec": {
   "display_name": "base",
   "language": "python",
   "name": "python3"
  },
  "language_info": {
   "codemirror_mode": {
    "name": "ipython",
    "version": 3
   },
   "file_extension": ".py",
   "mimetype": "text/x-python",
   "name": "python",
   "nbconvert_exporter": "python",
   "pygments_lexer": "ipython3",
   "version": "3.11.5"
  }
 },
 "nbformat": 4,
 "nbformat_minor": 5
}
