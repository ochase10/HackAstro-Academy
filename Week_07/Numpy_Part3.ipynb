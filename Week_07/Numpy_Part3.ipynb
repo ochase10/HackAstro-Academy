{
 "cells": [
  {
   "cell_type": "markdown",
   "metadata": {},
   "source": [
    "# Introduction to 2D and ND Arrays in NumPy\n",
    "\n",
    "### ND Arrays\n",
    "An ND array (N-dimensional array) is a generalization the NumPy array class that supports any number of dimensions. (Technically 1D arrays are a specific instance of ND arrays)\n",
    "\n",
    "NumPy provides a wide range of functions to manipulate and operate on these arrays, making it a fundamental tool for scientific computing in Python."
   ]
  },
  {
   "cell_type": "code",
   "execution_count": null,
   "metadata": {},
   "outputs": [],
   "source": [
    "#recall how we import a package and assign it an alias\n",
    "import numpy as np"
   ]
  },
  {
   "cell_type": "code",
   "execution_count": null,
   "metadata": {},
   "outputs": [],
   "source": [
    "# Creating a 2D array from a list of lists\n",
    "array_2d = np.array([[1, 2, 3], [4, 5, 6]])\n",
    "print(f'array: {array_2d}\\nshape: {array_2d.shape}')\n",
    "\n",
    "\n",
    "# Creating a 3D array (an array of 2D arrays)\n",
    "array_3d = np.array([[[1, 2], [3, 4]], [[5, 6], [7, 8]]])\n",
    "print(f'array: {array_3d}\\nshape: {array_3d.shape}')"
   ]
  },
  {
   "cell_type": "markdown",
   "metadata": {},
   "source": [
    "Remember that Numpy arrays are size immutable--you can't change how big they are. That means there's no append()-like function for arrays. There is a function for joining 2 arrays, numpy.concatenate. Take a minute to research concatenate and see if it could replace the role of append().\n",
    "\n",
    "Since we don't often hard code our data in advance like the above cell and we appending new elements isn't straightforward, we usually initialize our arrays with 0s or 1s and systematically change the elements to match what we want. "
   ]
  },
  {
   "cell_type": "code",
   "execution_count": null,
   "metadata": {},
   "outputs": [],
   "source": [
    "arr = np.zeros(10)\n",
    "print(arr.shape)\n",
    "\n",
    "arr = np.zeros((10,10))\n",
    "print(arr.shape)\n",
    "\n",
    "arr = np.zeros((10,10,2))\n",
    "print(arr.shape)"
   ]
  },
  {
   "cell_type": "markdown",
   "metadata": {},
   "source": [
    "How do we access the elements of a multi-dimensional array?"
   ]
  },
  {
   "cell_type": "code",
   "execution_count": null,
   "metadata": {},
   "outputs": [],
   "source": [
    "arr = np.reshape(np.arange(100), (10,10))\n",
    "\n",
    "lis = []\n",
    "sub_lis = []\n",
    "for i in range(100):\n",
    "    sub_lis.append(i)\n",
    "    if len(sub_lis) == 10:\n",
    "        lis.append(sub_lis)\n",
    "        sub_lis = []\n",
    "        \n",
    "\n",
    "print(arr, lis)"
   ]
  },
  {
   "cell_type": "code",
   "execution_count": null,
   "metadata": {},
   "outputs": [],
   "source": [
    "# We've seen how to access elements of lists of lists\n",
    "# When we subset the list, we get a list object, which we can then subset again\n",
    "\n",
    "print(lis[0][0], lis[8][3])"
   ]
  },
  {
   "cell_type": "code",
   "execution_count": null,
   "metadata": {},
   "outputs": [],
   "source": [
    "# Does the same thing work for numpy arrays?\n",
    "\n",
    "print(arr[0][0], arr[8][3])\n",
    "\n",
    "# Why or why not?"
   ]
  },
  {
   "cell_type": "code",
   "execution_count": null,
   "metadata": {},
   "outputs": [],
   "source": [
    "# This syntax can be cumbersome for large arrays, so there's a better way\n",
    "\n",
    "print(arr[0,0])"
   ]
  },
  {
   "cell_type": "code",
   "execution_count": null,
   "metadata": {},
   "outputs": [],
   "source": [
    "# We can also access whole rows using the special character `:`\n",
    "\n",
    "print(arr[0,:])"
   ]
  },
  {
   "cell_type": "code",
   "execution_count": null,
   "metadata": {},
   "outputs": [],
   "source": [
    "# But can't I just get the first row like I would for a list? Let's see\n",
    "\n",
    "print(arr[0])"
   ]
  },
  {
   "cell_type": "code",
   "execution_count": null,
   "metadata": {},
   "outputs": [],
   "source": [
    "# So what does `:` bring to the table? Well, what if we want the first column?\n",
    "\n",
    "print(arr[:,0])"
   ]
  },
  {
   "cell_type": "code",
   "execution_count": null,
   "metadata": {},
   "outputs": [],
   "source": [
    "# We can also use `:` to get \"slices\" of the array\n",
    "\n",
    "print(arr[0, 2:5])\n",
    "print(arr[4:6, 1:6])\n",
    "print(arr[:5, 1:2])\n",
    "print(arr[5:, :4])\n",
    "print(arr[:, :-1])\n",
    "\n",
    "# Note that slicing also works for lists\n",
    "\n",
    "print(lis[0][2:5])"
   ]
  },
  {
   "cell_type": "code",
   "execution_count": null,
   "metadata": {},
   "outputs": [],
   "source": []
  }
 ],
 "metadata": {
  "kernelspec": {
   "display_name": "base",
   "language": "python",
   "name": "python3"
  },
  "language_info": {
   "codemirror_mode": {
    "name": "ipython",
    "version": 3
   },
   "file_extension": ".py",
   "mimetype": "text/x-python",
   "name": "python",
   "nbconvert_exporter": "python",
   "pygments_lexer": "ipython3",
   "version": "3.11.5"
  }
 },
 "nbformat": 4,
 "nbformat_minor": 2
}
