{
 "cells": [
  {
   "cell_type": "markdown",
   "metadata": {},
   "source": [
    "# Introduction to 2D and ND Arrays in NumPy\n",
    "\n",
    "### ND Arrays\n",
    "An ND array (N-dimensional array) is a generalization the NumPy array class that supports any number of dimensions. (Technically 1D arrays are a specific instance of ND arrays)\n",
    "\n",
    "NumPy provides a wide range of functions to manipulate and operate on these arrays, making it a fundamental tool for scientific computing in Python."
   ]
  },
  {
   "cell_type": "code",
   "execution_count": null,
   "metadata": {},
   "outputs": [],
   "source": [
    "#recall how we import a package and assign it an alias\n",
    "import numpy as np"
   ]
  },
  {
   "cell_type": "markdown",
   "metadata": {},
   "source": [
    "# Structure of a 2D Array\n",
    "\n",
    "A 2D array is like a table of numbers with rows and columns — similar to a spreadsheet or a matrix in math.\n",
    "Each element is accessed using two indices: one for the row and one for the column.\n",
    "\n",
    "We’ll use NumPy, a powerful Python library for working with numerical data efficiently."
   ]
  },
  {
   "cell_type": "code",
   "execution_count": null,
   "metadata": {},
   "outputs": [],
   "source": [
    "# Creating a 2D array from a list of lists\n",
    "array_2d = np.array([[1, 2, 3], [4, 5, 6]])\n",
    "print(f'array: {array_2d}\\nshape: {array_2d.shape}')\n",
    "\n",
    "\n",
    "# Creating a 3D array (an array of 2D arrays)\n",
    "array_3d = np.array([[[1, 2], [3, 4]], [[5, 6], [7, 8]]])\n",
    "print(f'array: {array_3d}\\nshape: {array_3d.shape}')"
   ]
  },
  {
   "cell_type": "markdown",
   "metadata": {},
   "source": [
    "Remember that Numpy arrays are size immutable--you can't change how big they are. That means there's no append()-like function for arrays. There is a function for joining 2 arrays, numpy.concatenate. Take a minute to research concatenate and see if it could replace the role of append().\n",
    "\n",
    "Since we don't often hard code our data in advance like the above cell and we appending new elements isn't straightforward, we usually initialize our arrays with 0s or 1s and systematically change the elements to match what we want. "
   ]
  },
  {
   "cell_type": "code",
   "execution_count": null,
   "metadata": {},
   "outputs": [],
   "source": [
    "arr = np.zeros(10)\n",
    "print(arr.shape)\n",
    "\n",
    "arr = np.zeros((10,10))\n",
    "print(arr.shape)\n",
    "\n",
    "arr = np.zeros((10,10,2))\n",
    "print(arr.shape)"
   ]
  },
  {
   "cell_type": "markdown",
   "metadata": {},
   "source": [
    "How do we access the elements of a multi-dimensional array?"
   ]
  },
  {
   "cell_type": "code",
   "execution_count": null,
   "metadata": {},
   "outputs": [],
   "source": [
    "arr = np.reshape(np.arange(100), (10,10))\n",
    "\n",
    "lis = []\n",
    "sub_lis = []\n",
    "for i in range(100):\n",
    "    sub_lis.append(i)\n",
    "    if len(sub_lis) == 10:\n",
    "        lis.append(sub_lis)\n",
    "        sub_lis = []\n",
    "        \n",
    "\n",
    "print(arr, lis)"
   ]
  },
  {
   "cell_type": "code",
   "execution_count": null,
   "metadata": {},
   "outputs": [],
   "source": [
    "# We've seen how to access elements of lists of lists\n",
    "# When we subset the list, we get a list object, which we can then subset again\n",
    "\n",
    "print(lis[0][0], lis[8][3])"
   ]
  },
  {
   "cell_type": "code",
   "execution_count": null,
   "metadata": {},
   "outputs": [],
   "source": [
    "# Does the same thing work for numpy arrays?\n",
    "\n",
    "print(arr[0][0], arr[8][3])\n",
    "\n",
    "# Why or why not?"
   ]
  },
  {
   "cell_type": "code",
   "execution_count": null,
   "metadata": {},
   "outputs": [],
   "source": [
    "# This syntax can be cumbersome for large arrays, so there's a better way\n",
    "\n",
    "print(arr[0,0])"
   ]
  },
  {
   "cell_type": "code",
   "execution_count": null,
   "metadata": {},
   "outputs": [],
   "source": [
    "# We can also access whole rows using the special character `:`\n",
    "\n",
    "print(arr[0,:])"
   ]
  },
  {
   "cell_type": "code",
   "execution_count": null,
   "metadata": {},
   "outputs": [],
   "source": [
    "# But can't I just get the first row like I would for a list? Let's see\n",
    "\n",
    "print(arr[0])"
   ]
  },
  {
   "cell_type": "code",
   "execution_count": null,
   "metadata": {},
   "outputs": [],
   "source": [
    "# So what does `:` bring to the table? Well, what if we want the first column?\n",
    "\n",
    "print(arr[:,0])"
   ]
  },
  {
   "cell_type": "code",
   "execution_count": null,
   "metadata": {},
   "outputs": [],
   "source": [
    "# We can also use `:` to get \"slices\" of the array\n",
    "\n",
    "print(arr[0, 2:5])\n",
    "print(arr[4:6, 1:6])\n",
    "print(arr[:5, 1:2])\n",
    "print(arr[5:, :4])\n",
    "print(arr[:, :-1])\n",
    "\n",
    "# Note that slicing also works for lists\n",
    "\n",
    "print(lis[0][2:5])"
   ]
  },
  {
   "cell_type": "markdown",
   "metadata": {},
   "source": [
    "# Math Operations\n",
    "\n",
    "One of the most powerful features of NumPy is that it lets you perform mathematical operations directly on arrays — no need to loop through elements one by one. These operations are fast, concise, and work on scalars, 1D arrays, and 2D arrays alike."
   ]
  },
  {
   "cell_type": "code",
   "execution_count": null,
   "metadata": {},
   "outputs": [],
   "source": [
    "#Defining a 2D array to show the math operations on 2D Arrays\n",
    "\n",
    "A = np.array([\n",
    "    [1, 2, 3, 4],\n",
    "    [5, 6, 7, 8],\n",
    "    [9, 10, 11, 12]\n",
    "])"
   ]
  },
  {
   "cell_type": "markdown",
   "metadata": {},
   "source": [
    "## Scalars\n",
    "When you add, subtract, multiply, or divide a NumPy array by a single number (a scalar), the operation is applied to every element in the array. "
   ]
  },
  {
   "cell_type": "code",
   "execution_count": null,
   "metadata": {},
   "outputs": [],
   "source": [
    "print(A + 10)  # Add 10 to every element\n",
    "print(A * 2)   # Multiply every element by 2\n",
    "print(A / 2)   # Divide every element by 2\n",
    "print(A ** 2)  # Square each element"
   ]
  },
  {
   "cell_type": "markdown",
   "metadata": {},
   "source": [
    "## Element-wise Operations Between Arrays\n",
    "\n",
    "You can also perform math between two arrays of the same shape, and NumPy will apply the operation element by element. \n",
    "\n",
    "NOTE: Both arrays must have compatible shapes for this to work. If they match exactly, it’s straightforward. If not, NumPy may try to use broadcasting rules (see below).\n"
   ]
  },
  {
   "cell_type": "code",
   "execution_count": null,
   "metadata": {},
   "outputs": [],
   "source": [
    "B = np.array([\n",
    "    [10, 20, 30],\n",
    "    [40, 50, 60]\n",
    "])\n",
    "\n",
    "\n",
    "print(A + B)   # Element-wise addition\n",
    "print(B - A)   # Element-wise subtraction\n",
    "print(A * B)   # Element-wise multiplication\n",
    "print(B / A)   # Element-wise division"
   ]
  },
  {
   "cell_type": "markdown",
   "metadata": {},
   "source": [
    "## Broadcasting with 1D and 2D Arrays\n",
    "\n",
    "Broadcasting allows operations between arrays of different shapes as long as one dimension is compatible (e.g., 1D can match 2D row-wise or column-wise)."
   ]
  },
  {
   "cell_type": "code",
   "execution_count": null,
   "metadata": {},
   "outputs": [],
   "source": [
    "row = np.array([1, 2, 3])  # shape (3,)\n",
    "col = np.array([[1], [2]]) # shape (2,1)\n",
    "\n",
    "# Broadcasting row over 2D array\n",
    "print(A + row)\n",
    "\n",
    "# Broadcasting column over 2D array\n",
    "print(A + col)"
   ]
  },
  {
   "cell_type": "markdown",
   "metadata": {},
   "source": [
    "You can also specify an axis to compute along rows or columns:"
   ]
  },
  {
   "cell_type": "code",
   "execution_count": null,
   "metadata": {},
   "outputs": [],
   "source": [
    "print(np.sum(A, axis=0))  # Sum down each column\n",
    "print(np.sum(A, axis=1))  # Sum across each row"
   ]
  }
 ],
 "metadata": {
  "kernelspec": {
   "display_name": "base",
   "language": "python",
   "name": "python3"
  },
  "language_info": {
   "codemirror_mode": {
    "name": "ipython",
    "version": 3
   },
   "file_extension": ".py",
   "mimetype": "text/x-python",
   "name": "python",
   "nbconvert_exporter": "python",
   "pygments_lexer": "ipython3",
   "version": "3.11.9"
  }
 },
 "nbformat": 4,
 "nbformat_minor": 2
}
