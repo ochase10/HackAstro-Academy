{
 "cells": [
  {
   "cell_type": "code",
   "execution_count": null,
   "metadata": {},
   "outputs": [],
   "source": [
    "import numpy as np\n",
    "#now we're going to import matplotlib.pyplot\n",
    "import matplotlib.pyplot as plt"
   ]
  },
  {
   "cell_type": "markdown",
   "metadata": {},
   "source": [
    "# Challenge\n",
    "\n",
    "To test your understanding of arrays and plotting, try computing and visualizing the value of $\\pi$.\n",
    "\n",
    "One of the most straightforward ways to compute $\\pi$ is by calculating the ratio of the area of a square and it's inscribed circle. If the square is side length 2, then it's area is 4. It's inscribed circle has radius 1 and has area $\\pi$. If we place a bunch of points inside the square randomly and then check how many fall inside the circle, we can estimate the fraction of the square's area that is covered by the circle. Specifically, we can write the fraction of points that fall inside the circle as\n",
    "\n",
    "$$ f = \\frac{\\text{Area of Circle}}{\\text{Area of Square}} = \\frac{\\pi r^2}{(2r)^2}$$\n",
    "\n",
    "Plugging in our known areas and solving for pi gives: \n",
    "\n",
    "$$ \\pi = 4f $$\n",
    "\n",
    "\n",
    "\n",
    "Your task is to compute $\\pi$ using Numpy and plot your resulting random points using Pyplot. The code to create random numbers and plot a square and circle is provided for you."
   ]
  },
  {
   "cell_type": "code",
   "execution_count": null,
   "metadata": {},
   "outputs": [],
   "source": [
    "# This creates a random number generator\n",
    "seed = 1234\n",
    "rng = np.random.default_rng(seed)\n",
    "\n",
    "# You can generate random numbers using the random() function\n",
    "# If you give no arguments, the number will fall in [0,1) uniformly\n",
    "random_number = rng.random()\n",
    "#print(random_number)\n",
    "\n",
    "# You can create an array of random numbers using random() as well\n",
    "random_array = rng.random((10,10))\n",
    "#print(random_array)\n",
    "\n",
    "\n",
    "# If you want a different range than [0,1), you can either multiply and add like \n",
    "\n",
    "random_number = 10 * rng.random() + 10\n",
    "#print(random_number)\n",
    "\n",
    "# or you can use the uniform() function\n",
    "\n",
    "random_number = rng.uniform(10, 20)\n",
    "#print(random_number)"
   ]
  },
  {
   "cell_type": "code",
   "execution_count": null,
   "metadata": {},
   "outputs": [],
   "source": [
    "plt.figure(figsize=(7,7))\n",
    "\n",
    "#define circle x and y\n",
    "circx = np.linspace(-1,1,100)\n",
    "circy = np.sqrt(1 - circx**2)\n",
    "\n",
    "#plot the circle \n",
    "plt.plot(circx, circy, c='k', alpha=0.7)\n",
    "plt.plot(circx, -circy, c='k', alpha=0.7)\n",
    "\n",
    "#plot the 4 sides of a square\n",
    "plt.plot([-1, 1], [-1, -1], c='k', lw = 2) #bottom\n",
    "plt.plot([-1, 1], [1, 1], c='k', lw = 2) #top\n",
    "plt.plot([-1, -1], [-1, 1], c='k', lw = 2) #left\n",
    "plt.plot([1, 1], [-1, 1], c='k', lw = 2) #right\n",
    "\n",
    "plt.show()"
   ]
  },
  {
   "cell_type": "markdown",
   "metadata": {},
   "source": [
    "# Example Solution"
   ]
  },
  {
   "cell_type": "code",
   "execution_count": null,
   "metadata": {},
   "outputs": [],
   "source": [
    "#generate the random points\n",
    "N = 100000\n",
    "random_x = rng.uniform(-1, 1, N)\n",
    "random_y = rng.uniform(-1, 1, N)\n",
    "\n",
    "#compute the distance from the origin\n",
    "distance = np.sqrt(random_x**2 + random_y**2)\n",
    "\n",
    "#check if the distance is less than 1\n",
    "#Note this returns a boolean array of True and False\n",
    "inside = distance <= 1\n",
    "\n",
    "#count how many points are inside the circle\n",
    "#Note that True is 1 and False is 0\n",
    "frac_inside = np.sum(inside) / N\n",
    "\n",
    "#multiply by 4 to get an approximation of pi\n",
    "pi = frac_inside * 4\n",
    "\n",
    "print(f'Approximation of pi: {pi}')"
   ]
  },
  {
   "cell_type": "code",
   "execution_count": null,
   "metadata": {},
   "outputs": [],
   "source": [
    "#computing the percent error\n",
    "percent_error = 100 * (pi - np.pi) / np.pi\n",
    "print(f'Percent error: {percent_error:.2f}%')"
   ]
  },
  {
   "cell_type": "code",
   "execution_count": null,
   "metadata": {},
   "outputs": [],
   "source": [
    "plt.figure(figsize=(7,7))\n",
    "\n",
    "#define circle x and y\n",
    "circx = np.linspace(-1,1,100)\n",
    "circy = np.sqrt(1 - circx**2)\n",
    "\n",
    "#New line of code\n",
    "plt.scatter(random_x, random_y, c = inside, cmap = 'coolwarm', s = 1, marker = ',', )\n",
    "\n",
    "#plot the circle \n",
    "plt.plot(circx, circy, c='k', alpha=0.7)\n",
    "plt.plot(circx, -circy, c='k', alpha=0.7)\n",
    "\n",
    "#plot the 4 sides of a square\n",
    "plt.plot([-1, 1], [-1, -1], c='k', lw = 2) #bottom\n",
    "plt.plot([-1, 1], [1, 1], c='k', lw = 2) #top\n",
    "plt.plot([-1, -1], [-1, 1], c='k', lw = 2) #left\n",
    "plt.plot([1, 1], [-1, 1], c='k', lw = 2) #right\n",
    "#plt.colorbar()\n",
    "\n",
    "plt.show()"
   ]
  },
  {
   "cell_type": "code",
   "execution_count": null,
   "metadata": {},
   "outputs": [],
   "source": [
    "def estimation_of_pi(N):\n",
    "\n",
    "    ''' \n",
    "    Function to compute the approximation of pi using the Monte Carlo method.\n",
    "\n",
    "    Inputs:\n",
    "    N (int): Number of random points to generate\n",
    "\n",
    "    Outputs:\n",
    "    pi (float): Approximation of pi\n",
    "\n",
    "    '''\n",
    "\n",
    "    random_x = rng.uniform(-1, 1, N)\n",
    "    random_y = rng.uniform(-1, 1, N)\n",
    "\n",
    "    distance = np.sqrt(random_x**2 + random_y**2)\n",
    "    inside = distance <= 1\n",
    "    frac_inside = np.sum(inside) / N\n",
    "    pi = frac_inside * 4\n",
    "    \n",
    "    return pi"
   ]
  },
  {
   "cell_type": "code",
   "execution_count": null,
   "metadata": {},
   "outputs": [],
   "source": [
    "#Generating a list of N values\n",
    "N_list = [100, 1000, 10000, 100000, 1000000, 10000000]\n",
    "\n",
    "#Computing the percent error of pi for each N value\n",
    "error_list = []\n",
    "pi_list = []\n",
    "for i in N_list:\n",
    "    pi = estimation_of_pi(i)\n",
    "    pi_list.append(pi)\n",
    "    percent_error = 100 * np.abs(pi - np.pi) / np.pi\n",
    "    error_list.append(percent_error)"
   ]
  },
  {
   "cell_type": "code",
   "execution_count": null,
   "metadata": {},
   "outputs": [],
   "source": [
    "plt.figure(figsize=(7,7))\n",
    "plt.plot(N_list, pi_list, 'o-')\n",
    "plt.xscale('log')\n",
    "plt.yscale('log')\n",
    "plt.xlabel('Number of points', fontsize = 15)\n",
    "plt.ylabel('percent error of pi', fontsize = 15)\n",
    "plt.show()"
   ]
  },
  {
   "cell_type": "markdown",
   "metadata": {},
   "source": [
    "# Object Oriented Plotting\n",
    "\n",
    "Object-oriented plotting using ax objects in Matplotlib is a powerful way to create and customize plots. This approach provides more control over the plot elements and is useful for creating complex visualizations.\n",
    "\n",
    "Step-by-Step Plan:\n",
    "\n",
    "1. Import Matplotlib and Create a Figure and Axes Object: Use plt.subplots() to create a figure and one or more axes objects.\n",
    "2. Plot Data Using Axes Methods: Use methods of the ax object to plot data.\n",
    "3. Customize the Plot: Customize the plot by setting titles, labels, and other properties using the ax object methods.\n",
    "4. Show the Plot: Use plt.show() to display the plot.\n",
    "\n",
    "\n",
    "Usefulness of Object-Oriented Plotting:\n",
    "\n",
    "- Fine-Grained Control: Allows precise control over each plot element (e.g., titles, labels, legends).\n",
    "- Multiple Plots: Easily create and manage multiple subplots within a single figure.\n",
    "- Reusability: Methods and properties of ax objects can be reused and modified independently.\n",
    "- Complex Layouts: Facilitates the creation of complex layouts and customizations.\n",
    "- This approach is particularly useful for creating professional and publication-quality plots."
   ]
  },
  {
   "cell_type": "code",
   "execution_count": null,
   "metadata": {},
   "outputs": [],
   "source": [
    "x = np.linspace(-10, 10, 1000)\n",
    "y = x**2\n",
    "y2 = x**3\n",
    "\n",
    "fig, ax = plt.subplots()\n",
    "#fig1, ax1 = plt.subplots()\n",
    "ax.plot(x, y, label = r'y = $x^2$')\n",
    "ax.plot(x, y2, label = r'y = $x^3$')\n",
    "ax.set_xlabel('x')\n",
    "ax.set_ylabel('y')\n",
    "ax.set_title('Functions')\n",
    "ax.legend()\n",
    "#fig.savefig()\n",
    "#plt.show()\n",
    "plt.show()"
   ]
  },
  {
   "cell_type": "markdown",
   "metadata": {},
   "source": [
    "# Matplotlib Subplots\n",
    "\n",
    "`matplotlib` is a powerful plotting library for Python. One of its useful features is the ability to create subplots, which allows you to display multiple plots in a single figure.\n",
    "\n",
    "## Creating Subplots\n",
    "\n",
    "You can create subplots using the `plt.subplots()` function. This function returns a figure object and an array of axes objects. The basic syntax is seen below:"
   ]
  },
  {
   "cell_type": "code",
   "execution_count": null,
   "metadata": {},
   "outputs": [],
   "source": [
    "x = np.linspace(-10, 10, 1000)\n",
    "\n",
    "y = x**2\n",
    "y2 = x**3\n",
    "y3 = np.sin(x)\n",
    "y4 = np.cos(x)\n",
    "y5 = np.exp(x)\n",
    "y6 = np.log(x)"
   ]
  },
  {
   "cell_type": "code",
   "execution_count": null,
   "metadata": {},
   "outputs": [],
   "source": [
    "fig, axes = plt.subplots(2, 3, figsize = (15, 10), constrained_layout = True)\n",
    "axes.set_title('Title')"
   ]
  },
  {
   "cell_type": "code",
   "execution_count": null,
   "metadata": {},
   "outputs": [],
   "source": [
    "ax1 = axes[0, 0]\n",
    "ax2 = axes[0, 1]"
   ]
  },
  {
   "cell_type": "code",
   "execution_count": null,
   "metadata": {},
   "outputs": [],
   "source": [
    "fig, axes = plt.subplots(2, 3, figsize = (15, 10), constrained_layout = True)\n",
    "\n",
    "axes[0, 0].plot(x, y)\n",
    "axes[0, 0].set_title(r'$y = x^2$')\n",
    "\n",
    "axes[0, 1].plot(x, y2)\n",
    "axes[0, 1].set_title(r'$y = x^3$')\n",
    "\n",
    "axes[0, 2].plot(x, y3)\n",
    "axes[0, 2].set_title(r'$y = \\sin(x)$')\n",
    "\n",
    "axes[1, 0].plot(x, y4)\n",
    "axes[1, 0].set_title(r'$y = \\cos(x)$')\n",
    "\n",
    "axes[1, 1].plot(x, y5)\n",
    "axes[1, 1].set_title(r'$y = \\exp(x)$')\n",
    "\n",
    "axes[1, 2].plot(x, y6)\n",
    "axes[1, 2].set_title(r'$y = \\log(x)$')\n",
    "\n",
    "plt.show()\n"
   ]
  },
  {
   "cell_type": "markdown",
   "metadata": {},
   "source": [
    "# Exercise \n",
    "\n",
    "Your objective is to make some subplots that has 2 rows and 2 columns and we ask the following to be displayed in each plot:\n",
    "\n",
    "1. Upper Left:  Plot up the equation: y = 2*x+9 and y = -2x and make sure to label each line accordingly\n",
    "2. Upper Right: Plot up sin(x) and -sin(x), make sure label each line accordingly\n",
    "3. Lower Left:  Plot up $\\sqrt{3x^2 - 2x + 7}$\n",
    "4. Lower Right  Plot up the equation of a gaussian with $\\mu$ = 3 and $\\sigma$ = 5\n",
    "\n",
    "Recall equation of a gaussian is:\n",
    "\n",
    "Gaussian = $\\frac{1}{\\sigma \\sqrt(2 \\pi)} e^{- \\frac{(x - \\mu)^2}{2 \\sigma^2}}$\n",
    "\n",
    "For these plots use an x-array that ranges form 0-10 and for the gaussian use an x-array that ranges from -10 - 15"
   ]
  },
  {
   "cell_type": "code",
   "execution_count": null,
   "metadata": {},
   "outputs": [],
   "source": [
    "#Your code here"
   ]
  },
  {
   "cell_type": "markdown",
   "metadata": {},
   "source": [
    "# Histograms\n",
    "\n",
    "Histograms are really good at taking your data and seeing how much of your data falls in discrete bins. This is usefull if you ran a model and are checking the posterior distributions or if want to see where your sample falls in redshift space. Histograms are a really useful way to learn more about your data. \n",
    "\n",
    "Note: Every plotting function has a default behavior and it is useful to check the documentation for what the default behavior is. What is the default bins used by plt.hist()?"
   ]
  },
  {
   "cell_type": "code",
   "execution_count": null,
   "metadata": {},
   "outputs": [],
   "source": [
    "gauss = np.random.normal(loc = 4, scale = 2, size = 1000000)\n",
    "\n",
    "plt.figure(figsize = (10, 6))\n",
    "plt.hist(gauss, color = 'purple', bins = 30)\n",
    "plt.axvline(4, linestyle = '-', color = 'red')\n",
    "plt.axvline(2, linestyle = '--', color = 'black')\n",
    "plt.axvline(6, linestyle = '--', color = 'black')\n",
    "plt.xlabel('X-Data', fontsize = 15)\n",
    "plt.ylabel('Counts', fontsize = 15)\n",
    "\n",
    "plt.show()"
   ]
  },
  {
   "cell_type": "code",
   "execution_count": null,
   "metadata": {},
   "outputs": [],
   "source": [
    "gauss1 = np.random.normal(loc = 2, scale = 5, size = 10000)\n",
    "gauss2 = np.random.normal(loc = -2, scale = 5, size = 10000)\n",
    "\n",
    "plt.figure(figsize = (10, 6))\n",
    "plt.hist(gauss1, color = 'purple', bins = 25, histtype='stepfilled')\n",
    "plt.hist(gauss2, color = 'red', bins = 25, histtype='stepfilled', alpha = 0.5)\n",
    "plt.xlabel('X-Data', fontsize = 15)\n",
    "plt.ylabel('Counts', fontsize = 15)\n",
    "\n",
    "plt.show()"
   ]
  },
  {
   "cell_type": "code",
   "execution_count": null,
   "metadata": {},
   "outputs": [],
   "source": [
    "exp = np.random.exponential(scale = 10, size = 10000)\n",
    "\n",
    "plt.figure(figsize = (10, 6))\n",
    "plt.hist(exp, color = 'purple', bins = 50)\n",
    "plt.xlabel('X-Data', fontsize = 15)\n",
    "plt.ylabel('Counts', fontsize = 15)\n",
    "\n",
    "plt.show()"
   ]
  },
  {
   "cell_type": "code",
   "execution_count": null,
   "metadata": {},
   "outputs": [],
   "source": [
    "exp = np.random.exponential(scale = 10, size = 10000)\n",
    "\n",
    "fig, ax = plt.subplots(figsize = (10, 6))\n",
    "ax.hist(exp, color = 'purple', bins = 25)\n",
    "ax.set_xlabel('X-Data', fontsize = 15)\n",
    "ax.set_ylabel('Counts', fontsize = 15)\n",
    "\n",
    "plt.show()"
   ]
  },
  {
   "cell_type": "markdown",
   "metadata": {},
   "source": [
    "# Exercise: \n",
    "\n",
    "Pick a probability distribution that you either worked with before or have heard about in class and try to plot a histogram of the probability distribution. Try this for a variety of bins what do you notice when the number of bins increases?\n",
    "\n",
    "Example Distributions in numpy:\n",
    "\n",
    "- uniform\n",
    "- normal\n",
    "- binomial\n",
    "- poisson\n",
    "- exponential\n",
    "- gamma\n",
    "- beta\n",
    "- chisquare\n",
    "- standard_t\n",
    "- logistic\n"
   ]
  },
  {
   "cell_type": "code",
   "execution_count": null,
   "metadata": {},
   "outputs": [],
   "source": [
    "# Code here\n",
    "\n"
   ]
  },
  {
   "cell_type": "markdown",
   "metadata": {},
   "source": [
    "# 2D Plotting using plt.imshow\n",
    "\n",
    "While plt.plot and plt.scatter are great for visualizing data points and lines, sometimes we want to visualize an entire 2D array of values — like an image, a heatmap, or scientific measurements over a grid.\n",
    "\n",
    "The function plt.imshow allows us to display 2D data as an image. Each value in the array corresponds to a pixel, and its color represents its magnitude."
   ]
  },
  {
   "cell_type": "code",
   "execution_count": null,
   "metadata": {},
   "outputs": [],
   "source": [
    "# Generate a 2D Gaussian distribution\n",
    "x = np.linspace(-2, 2, 100)\n",
    "y = np.linspace(-2, 2, 100)\n",
    "X, Y = np.meshgrid(x, y)\n",
    "Z = np.exp(-(X**2 + Y**2))\n",
    "\n",
    "# Plot using imshow\n",
    "plt.imshow(Z, extent=[-2, 2, -2, 2], origin='lower', cmap='inferno')\n",
    "plt.colorbar(label=\"Intensity\")\n",
    "plt.title(\"2D Gaussian Distribution\")\n",
    "plt.show()\n"
   ]
  },
  {
   "cell_type": "code",
   "execution_count": null,
   "metadata": {},
   "outputs": [],
   "source": [
    "#To see a list of all the available colormaps you can use in plt.imshow you can run the following\n",
    "#cell\n",
    "plt.colormaps()"
   ]
  },
  {
   "cell_type": "code",
   "execution_count": null,
   "metadata": {},
   "outputs": [],
   "source": [
    "# Generate a gradient matrix\n",
    "data = np.linspace(-10, 10, 200).reshape(20, 10)\n",
    "\n",
    "# Plot with custom colormap and aspect ratio\n",
    "plt.imshow(data, cmap='plasma', aspect='auto', vmin=-5, vmax=5)\n",
    "plt.colorbar()\n",
    "plt.title(\"Custom Colormap with Aspect Auto\")\n",
    "plt.show()\n"
   ]
  },
  {
   "cell_type": "markdown",
   "metadata": {},
   "source": [
    "# Contour Plots\n",
    "\n",
    "A contour plot is a way to visualize 2D data (like a surface) using lines or filled regions that connect points of equal value.\n",
    "\n",
    "Think of it like looking at a topographic map — each contour line represents a specific “height” or value in your data."
   ]
  },
  {
   "cell_type": "code",
   "execution_count": null,
   "metadata": {},
   "outputs": [],
   "source": [
    "# Define grid\n",
    "x = np.linspace(-3, 3, 100)\n",
    "y = np.linspace(-3, 3, 100)\n",
    "X, Y = np.meshgrid(x, y)\n",
    "\n",
    "# Define 2D Gaussian function\n",
    "mu_x, mu_y = 0, 0  # Mean\n",
    "sigma_x, sigma_y = 1, 1  # Standard deviations\n",
    "Z = (1 / (2 * np.pi * sigma_x * sigma_y)) * np.exp(\n",
    "    -((X - mu_x) ** 2 / (2 * sigma_x ** 2) + (Y - mu_y) ** 2 / (2 * sigma_y ** 2))\n",
    ")\n",
    "\n",
    "# Plot filled contour\n",
    "plt.figure(figsize=(6, 5))\n",
    "contour = plt.contourf(X, Y, Z, levels=50, cmap='inferno')\n",
    "plt.colorbar(label=\"Probability Density\")\n",
    "plt.title(\"2D Gaussian Distribution Contours\")\n",
    "plt.xlabel(\"X-axis\")\n",
    "plt.ylabel(\"Y-axis\")\n",
    "plt.show()\n"
   ]
  },
  {
   "cell_type": "code",
   "execution_count": null,
   "metadata": {},
   "outputs": [],
   "source": [
    "plt.figure(figsize=(6, 5))\n",
    "contour_filled = plt.contourf(X, Y, Z, levels=20, cmap='coolwarm')\n",
    "contour_lines = plt.contour(X, Y, Z, levels=10, colors='black', linewidths=0.8)\n",
    "plt.clabel(contour_lines, inline=True, fontsize=8)  # Add labels to contours\n",
    "plt.colorbar(contour_filled, label=\"Probability Density\")\n",
    "plt.title(\"Gaussian Contour with Lines\")\n",
    "plt.xlabel(\"X-axis\")\n",
    "plt.ylabel(\"Y-axis\")\n",
    "plt.show()\n"
   ]
  },
  {
   "cell_type": "code",
   "execution_count": null,
   "metadata": {},
   "outputs": [],
   "source": []
  }
 ],
 "metadata": {
  "kernelspec": {
   "display_name": "research",
   "language": "python",
   "name": "python3"
  },
  "language_info": {
   "codemirror_mode": {
    "name": "ipython",
    "version": 3
   },
   "file_extension": ".py",
   "mimetype": "text/x-python",
   "name": "python",
   "nbconvert_exporter": "python",
   "pygments_lexer": "ipython3",
   "version": "3.12.2"
  }
 },
 "nbformat": 4,
 "nbformat_minor": 4
}
