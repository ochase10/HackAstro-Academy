{
 "cells": [
  {
   "cell_type": "markdown",
   "id": "cfa9e971",
   "metadata": {},
   "source": [
    "This notebook will give you a chance to practice your new NumPy and Matplotlib skills through structured examples. We've covered a lot in the last few weeks, so don't be afraid to reference older notebooks or look things up if you don't remember. In fact, we're at a point where it becomes hard to teach Python in a general way. NumPy has hundreds of functions with seemingly endless use cases. Matplotlib is customizable beyond your wildest dreams. And those are only 2 packages. For any given problem you work with, you'll likely need to learn new packages and functions. With that in mind, there will be things in this notebook that are best done via functions we have not explicitly covered. You are going to need to use the resources at your disposal--us instructors, the internet, even AI--to work out solutions."
   ]
  },
  {
   "cell_type": "markdown",
   "id": "f5832e7c",
   "metadata": {},
   "source": [
    "## Exercise 1 -- Integration\n",
    "\n",
    "This one is pretty simple. Your goal is to write a code that can take the integral of a function. You can either give it a function explicitly or in the form of an array of x and y values. In either case, you should write code to integrate using rectangles and trapezoids. Remember, an integral is just an area under a curve, so you all you need to do is compute a total area given some complicated boundary. \n",
    "\n",
    "This can be done with regular Python loops or with NumPy vectorization. I recommend you try the NumPy way, but the full loop version might help you along if you're stuck because you'll have to write out all the nuts and bolts yourself. \n",
    "\n",
    "You can either check your results against analytical integrals you can do by hand or using scipy.integrate.quad."
   ]
  },
  {
   "cell_type": "code",
   "execution_count": null,
   "id": "ae276e1c",
   "metadata": {},
   "outputs": [],
   "source": [
    "## Let's set up our imports ##\n",
    "\n",
    "\n",
    "## We can put our integration code inside a function so we can easily call it ##\n",
    "## Let's start with rectangular integration ##\n",
    "## Set up your function here ##\n",
    "\n",
    "#### What should the inputs to the function be? \n",
    "#### What is it going to return?\n",
    "\n",
    "#### Remind yourself how rectangular integration works #####\n",
    "#### To compute the area under the curve, we divide the interval into many small pieces.\n",
    "#### We can then use the width of the pieces and their height to get a bunch of small\n",
    "#### areas. When we add up those pieces, we should get the total area, i.e. the integral.\n",
    "\n",
    "#### So our answer should look something like repeated addition.\n",
    "#### Try starting with just 1 sub-interval (the whole interval).\n",
    "#### Write out the code to compute the area of a rectangle with the full interval width\n",
    "#### and a height defined by some point on the curve, could be the beginning, end, or \n",
    "#### middle of the interval, for example.\n",
    "\n",
    "#### Now try to do the same thing but with smaller intervals and adding up the results. \n",
    "\n",
    "\n",
    "\n",
    "## Once you have your function worked out, don't forget to return the answer.\n",
    "\n",
    "\n",
    "\n",
    "## Now set up another function for trapezoidal integration.\n",
    "## This is different because now instead of approximating the function as constant,\n",
    "## i.e. flat, across our small sub-intervals, we'll approximate it with a line\n",
    "## with some slope. "
   ]
  },
  {
   "cell_type": "code",
   "execution_count": null,
   "id": "1c8bfc57",
   "metadata": {},
   "outputs": [],
   "source": [
    "## Now test your functions! ##\n",
    "## Which is more accurate for a given number of sub-intervals? ##"
   ]
  },
  {
   "cell_type": "markdown",
   "id": "e089e266",
   "metadata": {},
   "source": [
    "## Exercise 2 -- Generating Random Samples\n",
    "\n",
    "We've seen how to get random numbers already. But so far, we've only been able to sample numbers uniformly. That is, we've only done sampling where all numbers are equally likely to be chosen. But this is rarely realistic. In fact, many real random processes tend to follow a Gaussian distribution. Your goal is to create a sample that is distributed as a Gaussian. \n",
    "\n",
    "Let's talk about the algorithm first. Recall that the Gaussian distribution is expressed as \n",
    "\n",
    "$$ G(x) = \\frac{1}{\\sqrt{2 \\pi \\sigma^2}} e^{\\frac{(x - \\mu)^2}{2 \\sigma^2}} $$\n",
    "\n",
    "Let's start by just plotting this function to remember what it looks like."
   ]
  },
  {
   "cell_type": "code",
   "execution_count": null,
   "id": "51829a56",
   "metadata": {},
   "outputs": [],
   "source": [
    "## Make sure pyplot is imported\n",
    "\n",
    "# Remember we need to give Pyplot x and y values. \n",
    "# How do we make x?\n",
    "x = \n",
    "\n",
    "# How do we make y if we want y to be G(x) above\n",
    "# Keep in mind that G(x) has two free parameters!\n",
    "g = \n",
    "\n",
    "# Use a simple plot function to visualize the distribution\n",
    "\n",
    "\n",
    "plt.show()"
   ]
  },
  {
   "cell_type": "code",
   "execution_count": null,
   "id": "73e93028",
   "metadata": {},
   "outputs": [],
   "source": [
    "# Now trying showing distributions with different parameters on the same plot to see what the\n",
    "# parameters control. \n",
    "\n",
    "plt.show()\n",
    "\n",
    "### If you want a little something extra, check that G(x) is properly \n",
    "### normalized using your integration function from Exercise 1"
   ]
  },
  {
   "cell_type": "markdown",
   "id": "0c171e14",
   "metadata": {},
   "source": [
    "Now let's just generate random numbers like we have before. Generate 1000 random numbers and plot their distribution. You can use whatever interval you like."
   ]
  },
  {
   "cell_type": "code",
   "execution_count": null,
   "id": "60518de0",
   "metadata": {},
   "outputs": [],
   "source": [
    "# Generate the random numbers. Let's use numpy.random for this.\n",
    "# What goes in the parentheses?\n",
    "uniform = np.random.random(...)\n",
    "\n",
    "# Now plot the distribution\n",
    "# Wait, how do we plot a distribution?\n",
    "# Does it work if we just give Pyplot the numbers we just generated?\n",
    "plt.plot(...)\n",
    "plt.show()\n"
   ]
  },
  {
   "cell_type": "code",
   "execution_count": null,
   "id": "0d15630e",
   "metadata": {},
   "outputs": [],
   "source": [
    "# If not, are the numbers we generated the x or the y?\n",
    "# Well, a distribution is just a fancy histogram, right?\n",
    "# So, let's use a histogram. Pyplot actually has a histogram \n",
    "# function built in so let's start there.\n",
    "# Check out the docs to see how to use it.\n",
    "\n",
    "plt.hist(...)\n",
    "\n",
    "plt.show()"
   ]
  },
  {
   "cell_type": "markdown",
   "id": "4e509f39",
   "metadata": {},
   "source": [
    "You should see that you indeed created a flat distribution.\n",
    "Now how can we make a Gaussian?\n",
    "\n",
    "Let's do it 3 ways.\n",
    "\n",
    "First, we'll use a simple geometric technqiue. "
   ]
  }
 ],
 "metadata": {
  "language_info": {
   "name": "python"
  }
 },
 "nbformat": 4,
 "nbformat_minor": 5
}
