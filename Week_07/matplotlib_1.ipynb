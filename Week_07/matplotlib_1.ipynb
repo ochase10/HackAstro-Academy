{
 "cells": [
  {
   "cell_type": "markdown",
   "metadata": {},
   "source": [
    "# Introduction to Plotting in Python\n",
    "\n",
    "So far we have seen the power of numpy and making our own functions to carry out calculations. One of the ways that we make sure the calculations are correct is by checking the numeric output. Another way is by plotting up numbers and seeing if they make sense. This can be as simple as checking the trend in a dataset, plotting up a model and see how the model compares with the data. There are a lot of ways to plot in Python each of which showcases a unique aspect of the data. We will go over some of the most common plotting functions using matplotlib."
   ]
  },
  {
   "cell_type": "markdown",
   "metadata": {},
   "source": [
    "## Matplotlib\n",
    "The package that we will use for plotting is the matplotlib package. Below we will go over how to import it into our python script and how to use it."
   ]
  },
  {
   "cell_type": "code",
   "execution_count": null,
   "metadata": {},
   "outputs": [],
   "source": [
    "import numpy as np\n",
    "\n",
    "#now we're going to import matplotlib.pyplot\n",
    "\n",
    "import matplotlib.pyplot as pl"
   ]
  },
  {
   "cell_type": "markdown",
   "metadata": {},
   "source": [
    "## matplotlib styles\n",
    "\n",
    "Matplotlib comes with a default style which we define below using the pl.style.use() function. You can look here for a variety of other styles [Here](https://matplotlib.org/stable/gallery/style_sheets/style_sheets_reference.html)."
   ]
  },
  {
   "cell_type": "code",
   "execution_count": null,
   "metadata": {},
   "outputs": [],
   "source": [
    "pl.style.use('default')"
   ]
  },
  {
   "cell_type": "code",
   "execution_count": null,
   "metadata": {},
   "outputs": [],
   "source": [
    "####\n",
    "#Here we are making a function about a parabola note the use of the fixed parameters in the\n",
    "#function call but recall that a and b can be overwritten when you call the function\n",
    "\n",
    "\n",
    "def parabola(x, a=3, b=4):\n",
    "    '''\n",
    "    Function for a parabola\n",
    "    '''\n",
    "    return a*x**2 + b"
   ]
  },
  {
   "cell_type": "markdown",
   "metadata": {},
   "source": [
    "# Linear Plot\n",
    "\n",
    "When working with data, it’s often helpful to visualize it instead of just printing numbers to the screen. One of the most common ways to make plots in Python is by using the plot function from Matplotlib.\n",
    "\n",
    "The basic idea is simple:\n",
    "\n",
    "You give plt.plot two lists or arrays of numbers: one for the x-axis and one for the y-axis."
   ]
  },
  {
   "cell_type": "code",
   "execution_count": null,
   "metadata": {},
   "outputs": [],
   "source": [
    "#We generate a 1D array from 0 - 50\n",
    "x = np.arange(50)\n",
    "\n",
    "pl.plot(x, parabola(x))\n",
    "pl.show()"
   ]
  },
  {
   "cell_type": "code",
   "execution_count": null,
   "metadata": {},
   "outputs": [],
   "source": [
    "# What happens if I don't use pl.show()?\n",
    "\n",
    "pl.plot(x, parabola(x))"
   ]
  },
  {
   "cell_type": "code",
   "execution_count": null,
   "metadata": {},
   "outputs": [],
   "source": [
    "pl.plot(x, parabola(x))\n",
    "pl.plot(x, parabola(x, a=-1, b=1000))\n",
    "pl.show()"
   ]
  },
  {
   "cell_type": "markdown",
   "metadata": {},
   "source": [
    "# Scatter Plot\n",
    "\n",
    "A scatter plot is a great way to visualize the relationship between two variables.\n",
    "Unlike a line plot, scatter plots don’t connect the points — they just show where each data point falls on the graph.\n",
    "\n",
    "This is especially useful when your data doesn’t naturally follow a line or when you want to see patterns, clusters, or outliers.\n",
    "\n",
    "- plt.scatter(x, y) plots each pair (x[i], y[i]) as a single point.\n",
    "\n",
    "- The x-axis and y-axis are labeled to make the plot easier to read.\n",
    "\n",
    "- plt.show() displays the plot in the notebook."
   ]
  },
  {
   "cell_type": "code",
   "execution_count": null,
   "metadata": {},
   "outputs": [],
   "source": [
    "pl.scatter(x, parabola(x))\n",
    "pl.show()"
   ]
  },
  {
   "cell_type": "markdown",
   "metadata": {},
   "source": [
    "You can change *anything* about a pyplot. Check out the pyplot docs at https://matplotlib.org/stable/api/_as_gen/matplotlib.pyplot.plot.html and change at least one thing about the above plot."
   ]
  },
  {
   "cell_type": "code",
   "execution_count": null,
   "metadata": {},
   "outputs": [],
   "source": [
    "# Edit the plot call below to make the plot look somehow different than it does above\n",
    "\n",
    "pl.plot(x, parabola(x))\n",
    "pl.show()"
   ]
  },
  {
   "cell_type": "markdown",
   "metadata": {},
   "source": [
    "Some edits can't be made within the plot call. Generally, we have to change aspects of the figure itself in separate calls."
   ]
  },
  {
   "cell_type": "code",
   "execution_count": null,
   "metadata": {},
   "outputs": [],
   "source": [
    "pl.plot(x, parabola(x))\n",
    "\n",
    "pl.xlim(10, 30)\n",
    "\n",
    "pl.title(\"Parabola\")\n",
    "\n",
    "pl.xlabel(\"x\")\n",
    "pl.ylabel(\"y\")\n",
    "\n",
    "pl.show()"
   ]
  },
  {
   "cell_type": "markdown",
   "metadata": {},
   "source": [
    "# Challenge\n",
    "\n",
    "To test your understanding of arrays and plotting, try computing and visualizing the value of $\\pi$.\n",
    "\n",
    "One of the most straightforward ways to compute $\\pi$ is by calculating the ratio of the area of a square and it's inscribed circle. If the square is side length 2, then it's area is 4. It's inscribed circle has radius 1 and has area $\\pi$. If we place a bunch of points inside the square randomly and then check how many fall inside the circle, we can estimate the fraction of the square's area that is covered by the circle. Specifically, we can write the fraction of points that fall inside the circle as\n",
    "\n",
    "$$ f = \\frac{\\text{Area of Circle}}{\\text{Area of Square}} = \\frac{\\pi r^2}{(2r)^2}$$\n",
    "\n",
    "Plugging in our known areas and solving for pi gives: \n",
    "\n",
    "$$ \\pi = 4f $$\n",
    "\n",
    "\n",
    "\n",
    "Your task is to compute $\\pi$ using Numpy and plot your resulting random points using Pyplot. The code to create random numbers and plot a square and circle is provided for you."
   ]
  },
  {
   "cell_type": "code",
   "execution_count": null,
   "metadata": {},
   "outputs": [],
   "source": [
    "# This creates a random number generator\n",
    "seed = 1234\n",
    "rng = np.random.default_rng(seed)\n",
    "\n",
    "# You can generate random numbers using the random() function\n",
    "# If you give no arguments, the number will fall in [0,1) uniformly\n",
    "random_number = rng.random()\n",
    "print(random_number)\n",
    "\n",
    "# You can create an array of random numbers using random() as well\n",
    "random_array = rng.random((10,10))\n",
    "print(random_array)\n",
    "\n",
    "\n",
    "# If you want a different range than [0,1), you can either multiply and add like \n",
    "\n",
    "random_number = 10 * rng.random() + 10\n",
    "print(random_number)\n",
    "\n",
    "# or you can use the uniform() function\n",
    "\n",
    "random_number = rng.uniform(10, 20)\n",
    "print(random_number)"
   ]
  },
  {
   "cell_type": "code",
   "execution_count": null,
   "metadata": {},
   "outputs": [],
   "source": [
    "pl.figure(figsize=(7,7))\n",
    "\n",
    "#define circle x and y\n",
    "circx = np.linspace(-1,1,100)\n",
    "circy = np.sqrt(1 - circx**2)\n",
    "\n",
    "#plot the circle \n",
    "pl.plot(circx, circy, c='k', alpha=0.7)\n",
    "pl.plot(circx, -circy, c='k', alpha=0.7)\n",
    "\n",
    "#plot the 4 sides of a square\n",
    "pl.plot([-1, 1], [-1, -1], c='k', lw = 2) #bottom\n",
    "pl.plot([-1, 1], [1, 1], c='k', lw = 2) #top\n",
    "pl.plot([-1, -1], [-1, 1], c='k', lw = 2) #left\n",
    "pl.plot([1, 1], [-1, 1], c='k', lw = 2) #right\n",
    "\n",
    "pl.show()"
   ]
  },
  {
   "cell_type": "code",
   "execution_count": null,
   "metadata": {},
   "outputs": [],
   "source": []
  }
 ],
 "metadata": {
  "kernelspec": {
   "display_name": "base",
   "language": "python",
   "name": "python3"
  },
  "language_info": {
   "codemirror_mode": {
    "name": "ipython",
    "version": 3
   },
   "file_extension": ".py",
   "mimetype": "text/x-python",
   "name": "python",
   "nbconvert_exporter": "python",
   "pygments_lexer": "ipython3",
   "version": "3.11.5"
  }
 },
 "nbformat": 4,
 "nbformat_minor": 2
}
