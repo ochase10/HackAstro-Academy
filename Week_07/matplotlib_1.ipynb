{
 "cells": [
  {
   "cell_type": "markdown",
   "metadata": {},
   "source": [
    "# Introduction to Plotting in Python\n",
    "\n",
    "So far we have seen the power of numpy and making our own functions to carry out calculations. One of the ways that we make sure the calculations are correct is by checking the numeric output. Another way is by plotting up numbers and seeing if they make sense. This can be as simple as checking the trend in a dataset, plotting up a model and see how the model compares with the data. There are a lot of ways to plot in Python each of which showcases a unique aspect of the data. We will go over some of the most common plotting functions using matplotlib."
   ]
  },
  {
   "cell_type": "markdown",
   "metadata": {},
   "source": [
    "## Matplotlib\n",
    "The package that we will use for plotting is the matplotlib package. Below we will go over how to import it into our python script and how to use it."
   ]
  },
  {
   "cell_type": "code",
   "execution_count": null,
   "metadata": {},
   "outputs": [],
   "source": [
    "import numpy as np\n",
    "\n",
    "#now we're going to import matplotlib.pyplot\n",
    "\n",
    "import matplotlib.pyplot as pl"
   ]
  },
  {
   "cell_type": "markdown",
   "metadata": {},
   "source": [
    "## matplotlib styles\n",
    "\n",
    "Matplotlib comes with a default style which we define below using the pl.style.use() function. You can look here for a variety of other styles [Here](https://matplotlib.org/stable/gallery/style_sheets/style_sheets_reference.html)."
   ]
  },
  {
   "cell_type": "code",
   "execution_count": null,
   "metadata": {},
   "outputs": [],
   "source": [
    "pl.style.use('default')"
   ]
  },
  {
   "cell_type": "code",
   "execution_count": null,
   "metadata": {},
   "outputs": [],
   "source": [
    "####\n",
    "#Here we are making a function about a parabola note the use of the fixed parameters in the\n",
    "#function call but recall that a and b can be overwritten when you call the function\n",
    "\n",
    "\n",
    "def parabola(x, a=3, b=4):\n",
    "    '''\n",
    "    Function for a parabola\n",
    "    '''\n",
    "    return a*x**2 + b"
   ]
  },
  {
   "cell_type": "markdown",
   "metadata": {},
   "source": [
    "# Linear Plot\n",
    "\n",
    "When working with data, it’s often helpful to visualize it instead of just printing numbers to the screen. One of the most common ways to make plots in Python is by using the plot function from Matplotlib.\n",
    "\n",
    "The basic idea is simple:\n",
    "\n",
    "You give plt.plot two lists or arrays of numbers: one for the x-axis and one for the y-axis."
   ]
  },
  {
   "cell_type": "code",
   "execution_count": null,
   "metadata": {},
   "outputs": [],
   "source": [
    "#We generate a 1D array from 0 - 50\n",
    "x = np.arange(50)\n",
    "\n",
    "pl.plot(x, parabola(x))\n",
    "pl.show()"
   ]
  },
  {
   "cell_type": "code",
   "execution_count": null,
   "metadata": {},
   "outputs": [],
   "source": [
    "# What happens if I don't use pl.show()?\n",
    "\n",
    "pl.plot(x, parabola(x))"
   ]
  },
  {
   "cell_type": "code",
   "execution_count": null,
   "metadata": {},
   "outputs": [],
   "source": [
    "pl.plot(x, parabola(x))\n",
    "pl.plot(x, parabola(x, a=-1, b=1000))\n",
    "pl.show()"
   ]
  },
  {
   "cell_type": "markdown",
   "metadata": {},
   "source": [
    "# Scatter Plot\n",
    "\n",
    "A scatter plot is a great way to visualize the relationship between two variables.\n",
    "Unlike a line plot, scatter plots don’t connect the points — they just show where each data point falls on the graph.\n",
    "\n",
    "This is especially useful when your data doesn’t naturally follow a line or when you want to see patterns, clusters, or outliers.\n",
    "\n",
    "- plt.scatter(x, y) plots each pair (x[i], y[i]) as a single point.\n",
    "\n",
    "- The x-axis and y-axis are labeled to make the plot easier to read.\n",
    "\n",
    "- plt.show() displays the plot in the notebook."
   ]
  },
  {
   "cell_type": "code",
   "execution_count": null,
   "metadata": {},
   "outputs": [],
   "source": [
    "pl.scatter(x, parabola(x))\n",
    "pl.show()"
   ]
  },
  {
   "cell_type": "markdown",
   "metadata": {},
   "source": [
    "You can change *anything* about a pyplot. Check out the pyplot docs at https://matplotlib.org/stable/api/_as_gen/matplotlib.pyplot.plot.html and change at least one thing about the above plot."
   ]
  },
  {
   "cell_type": "code",
   "execution_count": null,
   "metadata": {},
   "outputs": [],
   "source": [
    "# Edit the plot call below to make the plot look somehow different than it does above\n",
    "\n",
    "pl.plot(x, parabola(x))\n",
    "pl.show()"
   ]
  },
  {
   "cell_type": "markdown",
   "metadata": {},
   "source": [
    "Some edits can't be made within the plot call. Generally, we have to change aspects of the figure itself in separate calls."
   ]
  },
  {
   "cell_type": "code",
   "execution_count": null,
   "metadata": {},
   "outputs": [],
   "source": [
    "pl.plot(x, parabola(x))\n",
    "\n",
    "pl.xlim(10, 30)\n",
    "\n",
    "pl.title(\"Parabola\")\n",
    "\n",
    "pl.xlabel(\"x\")\n",
    "pl.ylabel(\"y\")\n",
    "\n",
    "pl.show()"
   ]
  },
  {
   "cell_type": "code",
   "execution_count": null,
   "metadata": {},
   "outputs": [],
   "source": []
  }
 ],
 "metadata": {
  "kernelspec": {
   "display_name": "Python 3",
   "language": "python",
   "name": "python3"
  },
  "language_info": {
   "codemirror_mode": {
    "name": "ipython",
    "version": 3
   },
   "file_extension": ".py",
   "mimetype": "text/x-python",
   "name": "python",
   "nbconvert_exporter": "python",
   "pygments_lexer": "ipython3",
   "version": "3.11.5"
  }
 },
 "nbformat": 4,
 "nbformat_minor": 2
}
